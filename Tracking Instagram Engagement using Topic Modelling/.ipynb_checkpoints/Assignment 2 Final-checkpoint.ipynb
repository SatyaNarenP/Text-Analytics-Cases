{
 "cells": [
  {
   "cell_type": "markdown",
   "metadata": {},
   "source": [
    "Team Members: <br>\n",
    "1) Neha Anna John: na25753<br>\n",
    "2) Rawini Dias: rwd635<br>\n",
    "3) Christopher Henson: cgh966<br>\n",
    "4) Sadhana Koneni: sk44735<br>\n",
    "5) Satya Pachigolla: sp46958<br>"
   ]
  },
  {
   "cell_type": "code",
   "execution_count": 0,
   "metadata": {
    "colab": {
     "base_uri": "https://localhost:8080/",
     "height": 124
    },
    "colab_type": "code",
    "id": "5O43DPbpAPrf",
    "outputId": "83b69bac-9774-4a49-8458-9df87b0be9a0"
   },
   "outputs": [
    {
     "name": "stdout",
     "output_type": "stream",
     "text": [
      "Go to this URL in a browser: https://accounts.google.com/o/oauth2/auth?client_id=947318989803-6bn6qk8qdgf4n4g3pfee6491hc0brc4i.apps.googleusercontent.com&redirect_uri=urn%3aietf%3awg%3aoauth%3a2.0%3aoob&response_type=code&scope=email%20https%3a%2f%2fwww.googleapis.com%2fauth%2fdocs.test%20https%3a%2f%2fwww.googleapis.com%2fauth%2fdrive%20https%3a%2f%2fwww.googleapis.com%2fauth%2fdrive.photos.readonly%20https%3a%2f%2fwww.googleapis.com%2fauth%2fpeopleapi.readonly\n",
      "\n",
      "Enter your authorization code:\n",
      "··········\n",
      "Mounted at /content/gdrive\n"
     ]
    }
   ],
   "source": [
    "from google.colab import drive\n",
    "drive.mount('/content/gdrive')"
   ]
  },
  {
   "cell_type": "markdown",
   "metadata": {},
   "source": [
    "## Task A"
   ]
  },
  {
   "cell_type": "code",
   "execution_count": 0,
   "metadata": {
    "colab": {},
    "colab_type": "code",
    "id": "5mndbekzuKlh"
   },
   "outputs": [],
   "source": [
    "import warnings\n",
    "warnings.filterwarnings(\"ignore\")"
   ]
  },
  {
   "cell_type": "code",
   "execution_count": 0,
   "metadata": {
    "colab": {},
    "colab_type": "code",
    "id": "6ZmZdlo-Ai4r"
   },
   "outputs": [],
   "source": [
    "import pickle\n",
    "import pandas as pd\n",
    "import numpy as np\n",
    "\n",
    "post_df = pickle.load( open( \"/content/gdrive/My Drive/Colab Notebooks/labels_instagram_posts_13Nov.p\", \"rb\" ) )"
   ]
  },
  {
   "cell_type": "code",
   "execution_count": 6,
   "metadata": {
    "colab": {
     "base_uri": "https://localhost:8080/",
     "height": 35
    },
    "colab_type": "code",
    "id": "WEUIob8eBXkG",
    "outputId": "aa9ad63c-b744-4544-af0a-27d318aa8de1"
   },
   "outputs": [
    {
     "data": {
      "text/plain": [
       "(472, 6)"
      ]
     },
     "execution_count": 6,
     "metadata": {
      "tags": []
     },
     "output_type": "execute_result"
    }
   ],
   "source": [
    "post_df.shape"
   ]
  },
  {
   "cell_type": "code",
   "execution_count": 7,
   "metadata": {
    "colab": {
     "base_uri": "https://localhost:8080/",
     "height": 306
    },
    "colab_type": "code",
    "id": "PB_l-xIMB_au",
    "outputId": "6c729e8f-c8ea-4e03-947d-68dfb167788e"
   },
   "outputs": [
    {
     "data": {
      "text/html": [
       "<div>\n",
       "<style scoped>\n",
       "    .dataframe tbody tr th:only-of-type {\n",
       "        vertical-align: middle;\n",
       "    }\n",
       "\n",
       "    .dataframe tbody tr th {\n",
       "        vertical-align: top;\n",
       "    }\n",
       "\n",
       "    .dataframe thead th {\n",
       "        text-align: right;\n",
       "    }\n",
       "</style>\n",
       "<table border=\"1\" class=\"dataframe\">\n",
       "  <thead>\n",
       "    <tr style=\"text-align: right;\">\n",
       "      <th></th>\n",
       "      <th>Unnamed: 0</th>\n",
       "      <th>post_url</th>\n",
       "      <th>num_likes</th>\n",
       "      <th>num_comments</th>\n",
       "      <th>caption</th>\n",
       "      <th>labels</th>\n",
       "    </tr>\n",
       "  </thead>\n",
       "  <tbody>\n",
       "    <tr>\n",
       "      <th>0</th>\n",
       "      <td>0</td>\n",
       "      <td>https://scontent-sea1-1.cdninstagram.com/vp/8e...</td>\n",
       "      <td>455787</td>\n",
       "      <td>1234</td>\n",
       "      <td>Photo by Jimmy Chin @jimmychin | Half Dome aft...</td>\n",
       "      <td>[Mountainous landforms, Mountain, White, Black...</td>\n",
       "    </tr>\n",
       "    <tr>\n",
       "      <th>1</th>\n",
       "      <td>1</td>\n",
       "      <td>https://scontent-sea1-1.cdninstagram.com/vp/51...</td>\n",
       "      <td>246999</td>\n",
       "      <td>941</td>\n",
       "      <td>Photos by Ian Teh @iantehphotography | I’m on ...</td>\n",
       "      <td>[Motor vehicle, Vehicle, Mode of transport, Au...</td>\n",
       "    </tr>\n",
       "    <tr>\n",
       "      <th>2</th>\n",
       "      <td>2</td>\n",
       "      <td>https://scontent-sea1-1.cdninstagram.com/vp/21...</td>\n",
       "      <td>610340</td>\n",
       "      <td>3481</td>\n",
       "      <td>Photo by Thomas Peschak @thomaspeschak | The m...</td>\n",
       "      <td>[Green sea turtle, Turtle, Sea turtle, Reptile...</td>\n",
       "    </tr>\n",
       "    <tr>\n",
       "      <th>3</th>\n",
       "      <td>3</td>\n",
       "      <td>https://scontent-sea1-1.cdninstagram.com/vp/78...</td>\n",
       "      <td>160973</td>\n",
       "      <td>492</td>\n",
       "      <td>Photo by Katie Orlinsky @katieorlinsky | Olga ...</td>\n",
       "      <td>[Temple, Cuisine]</td>\n",
       "    </tr>\n",
       "    <tr>\n",
       "      <th>4</th>\n",
       "      <td>4</td>\n",
       "      <td>https://scontent-sea1-1.cdninstagram.com/vp/03...</td>\n",
       "      <td>185601</td>\n",
       "      <td>730</td>\n",
       "      <td>Photo by Tasneem Alsultan @TasneemAlsultan | \"...</td>\n",
       "      <td>[Tree, Palm tree, Arecales, Woody plant, Plant...</td>\n",
       "    </tr>\n",
       "  </tbody>\n",
       "</table>\n",
       "</div>"
      ],
      "text/plain": [
       "   Unnamed: 0  ...                                             labels\n",
       "0           0  ...  [Mountainous landforms, Mountain, White, Black...\n",
       "1           1  ...  [Motor vehicle, Vehicle, Mode of transport, Au...\n",
       "2           2  ...  [Green sea turtle, Turtle, Sea turtle, Reptile...\n",
       "3           3  ...                                  [Temple, Cuisine]\n",
       "4           4  ...  [Tree, Palm tree, Arecales, Woody plant, Plant...\n",
       "\n",
       "[5 rows x 6 columns]"
      ]
     },
     "execution_count": 7,
     "metadata": {
      "tags": []
     },
     "output_type": "execute_result"
    }
   ],
   "source": [
    "post_df.head()"
   ]
  },
  {
   "cell_type": "code",
   "execution_count": 0,
   "metadata": {
    "colab": {},
    "colab_type": "code",
    "id": "lTufhvdACDyd"
   },
   "outputs": [],
   "source": [
    "post_df['num_likes'] = post_df.num_likes.map(lambda x: float(x)/post_df.num_likes.max())\n",
    "post_df['num_comments'] = post_df.num_comments.map(lambda x: float(x)/post_df.num_comments.max())"
   ]
  },
  {
   "cell_type": "code",
   "execution_count": 0,
   "metadata": {
    "colab": {},
    "colab_type": "code",
    "id": "F4IRgZQcCX6v"
   },
   "outputs": [],
   "source": [
    "post_df['engagement'] = 0.4*post_df['num_likes']+0.6*post_df['num_comments']"
   ]
  },
  {
   "cell_type": "code",
   "execution_count": 0,
   "metadata": {
    "colab": {},
    "colab_type": "code",
    "id": "Jo_jAaQzHYag"
   },
   "outputs": [],
   "source": [
    "post_df['e_lev'] = post_df.engagement.map(lambda x: 1 if x > post_df.engagement.median() else 0)"
   ]
  },
  {
   "cell_type": "code",
   "execution_count": 0,
   "metadata": {
    "colab": {},
    "colab_type": "code",
    "id": "M1m_UHHZH3rf"
   },
   "outputs": [],
   "source": [
    "post_df['caption'] = post_df.caption.map(lambda x: x.lower())"
   ]
  },
  {
   "cell_type": "code",
   "execution_count": 0,
   "metadata": {
    "colab": {},
    "colab_type": "code",
    "id": "2V9AcPH_wmLI"
   },
   "outputs": [],
   "source": [
    "post_df['labels'] = post_df.labels.map(lambda x: [i.lower() for i in x])"
   ]
  },
  {
   "cell_type": "markdown",
   "metadata": {},
   "source": [
    "# Task B\n",
    "\n",
    "Conclusion: Our best accuracy (81%) was given by regression on just the TF-IDF scores for the captions. Using both the labels and captions (with TF-IDF) actually reduced our accuracy. We can conclude that this additional information introduced either collinearity or noise that reduced accuracy. "
   ]
  },
  {
   "cell_type": "markdown",
   "metadata": {
    "colab_type": "text",
    "id": "xYsGNlfgvbJl"
   },
   "source": [
    "# Labels"
   ]
  },
  {
   "cell_type": "code",
   "execution_count": 0,
   "metadata": {
    "colab": {},
    "colab_type": "code",
    "id": "UbcYd7LUJrdj"
   },
   "outputs": [],
   "source": [
    "reg_df = post_df[['labels','e_lev']]"
   ]
  },
  {
   "cell_type": "code",
   "execution_count": 14,
   "metadata": {
    "colab": {
     "base_uri": "https://localhost:8080/",
     "height": 202
    },
    "colab_type": "code",
    "id": "VHbt4ajKux5V",
    "outputId": "d437bd26-54fb-4c49-98b3-fb9cf83c00ef"
   },
   "outputs": [
    {
     "data": {
      "text/html": [
       "<div>\n",
       "<style scoped>\n",
       "    .dataframe tbody tr th:only-of-type {\n",
       "        vertical-align: middle;\n",
       "    }\n",
       "\n",
       "    .dataframe tbody tr th {\n",
       "        vertical-align: top;\n",
       "    }\n",
       "\n",
       "    .dataframe thead th {\n",
       "        text-align: right;\n",
       "    }\n",
       "</style>\n",
       "<table border=\"1\" class=\"dataframe\">\n",
       "  <thead>\n",
       "    <tr style=\"text-align: right;\">\n",
       "      <th></th>\n",
       "      <th>labels</th>\n",
       "      <th>e_lev</th>\n",
       "    </tr>\n",
       "  </thead>\n",
       "  <tbody>\n",
       "    <tr>\n",
       "      <th>0</th>\n",
       "      <td>[mountainous landforms, mountain, white, black...</td>\n",
       "      <td>1</td>\n",
       "    </tr>\n",
       "    <tr>\n",
       "      <th>1</th>\n",
       "      <td>[motor vehicle, vehicle, mode of transport, au...</td>\n",
       "      <td>0</td>\n",
       "    </tr>\n",
       "    <tr>\n",
       "      <th>2</th>\n",
       "      <td>[green sea turtle, turtle, sea turtle, reptile...</td>\n",
       "      <td>1</td>\n",
       "    </tr>\n",
       "    <tr>\n",
       "      <th>3</th>\n",
       "      <td>[temple, cuisine]</td>\n",
       "      <td>0</td>\n",
       "    </tr>\n",
       "    <tr>\n",
       "      <th>4</th>\n",
       "      <td>[tree, palm tree, arecales, woody plant, plant...</td>\n",
       "      <td>0</td>\n",
       "    </tr>\n",
       "  </tbody>\n",
       "</table>\n",
       "</div>"
      ],
      "text/plain": [
       "                                              labels  e_lev\n",
       "0  [mountainous landforms, mountain, white, black...      1\n",
       "1  [motor vehicle, vehicle, mode of transport, au...      0\n",
       "2  [green sea turtle, turtle, sea turtle, reptile...      1\n",
       "3                                  [temple, cuisine]      0\n",
       "4  [tree, palm tree, arecales, woody plant, plant...      0"
      ]
     },
     "execution_count": 14,
     "metadata": {
      "tags": []
     },
     "output_type": "execute_result"
    }
   ],
   "source": [
    "reg_df.head()"
   ]
  },
  {
   "cell_type": "code",
   "execution_count": 0,
   "metadata": {
    "colab": {},
    "colab_type": "code",
    "id": "twmSud-6TG8_"
   },
   "outputs": [],
   "source": [
    "labels = list(set([i for l in post_df.labels for i in l]))"
   ]
  },
  {
   "cell_type": "code",
   "execution_count": 0,
   "metadata": {
    "colab": {},
    "colab_type": "code",
    "id": "KQLJSFltp4bZ"
   },
   "outputs": [],
   "source": [
    "for l in labels:\n",
    "  reg_df[l] = reg_df.labels.map(lambda x: 1 if l in x else 0) "
   ]
  },
  {
   "cell_type": "code",
   "execution_count": 17,
   "metadata": {
    "colab": {
     "base_uri": "https://localhost:8080/",
     "height": 35
    },
    "colab_type": "code",
    "id": "6wPU-diIq8UK",
    "outputId": "926637aa-3217-4af7-f21a-d7b25e478869"
   },
   "outputs": [
    {
     "data": {
      "text/plain": [
       "0.7157894736842105"
      ]
     },
     "execution_count": 17,
     "metadata": {
      "tags": []
     },
     "output_type": "execute_result"
    }
   ],
   "source": [
    "from sklearn.model_selection import train_test_split\n",
    "from sklearn.metrics import roc_curve, roc_auc_score, f1_score, accuracy_score\n",
    "from sklearn.linear_model import LogisticRegression\n",
    "\n",
    "X = reg_df.drop(columns=['e_lev','labels'])\n",
    "Y = reg_df['e_lev']\n",
    "\n",
    "X_train, X_test, y_train, y_test = train_test_split(X,Y,test_size = 0.20, random_state=11)\n",
    "log_reg = LogisticRegression(random_state = 20,class_weight = 'balanced')\n",
    "log_reg.fit(X_train, y_train)\n",
    "y_pred = log_reg.predict(X_test)\n",
    "accuracy_score(y_test, y_pred)"
   ]
  },
  {
   "cell_type": "markdown",
   "metadata": {
    "colab_type": "text",
    "id": "0CpUcypswHhx"
   },
   "source": [
    "# Labels tf-idf"
   ]
  },
  {
   "cell_type": "code",
   "execution_count": 18,
   "metadata": {
    "colab": {
     "base_uri": "https://localhost:8080/",
     "height": 87
    },
    "colab_type": "code",
    "id": "dYPmaoFhpWzz",
    "outputId": "727090a1-b02d-4598-a0c5-de6cbc2f56ea"
   },
   "outputs": [
    {
     "name": "stdout",
     "output_type": "stream",
     "text": [
      "[nltk_data] Downloading package wordnet to /root/nltk_data...\n",
      "[nltk_data]   Unzipping corpora/wordnet.zip.\n",
      "[nltk_data] Downloading package punkt to /root/nltk_data...\n",
      "[nltk_data]   Unzipping tokenizers/punkt.zip.\n"
     ]
    }
   ],
   "source": [
    "from sklearn.feature_extraction.text import TfidfTransformer\n",
    "from sklearn.feature_extraction.text import CountVectorizer,TfidfVectorizer\n",
    "import nltk\n",
    "from nltk import word_tokenize\n",
    "from nltk.stem import WordNetLemmatizer\n",
    "nltk.download('wordnet')\n",
    "nltk.download('punkt')\n",
    "\n",
    "\n",
    "import scipy\n",
    "from scipy import sparse"
   ]
  },
  {
   "cell_type": "code",
   "execution_count": 0,
   "metadata": {
    "colab": {},
    "colab_type": "code",
    "id": "4DitQe4VwG-s"
   },
   "outputs": [],
   "source": [
    "reg_tfidf = post_df[['labels','e_lev']]\n",
    "\n",
    "reg_tfidf['labels_join'] = reg_tfidf.labels.map(lambda x: ' '.join(x))"
   ]
  },
  {
   "cell_type": "code",
   "execution_count": 0,
   "metadata": {
    "colab": {},
    "colab_type": "code",
    "id": "5nzsNb7NsCXz"
   },
   "outputs": [],
   "source": [
    "X = reg_tfidf.drop(columns=['e_lev'])\n",
    "Y = reg_tfidf['e_lev']\n",
    "\n",
    "X_train, X_test, y_train, y_test = train_test_split(X,Y,test_size = 0.20, random_state=11)\n",
    "log_reg = LogisticRegression(random_state = 20,class_weight = 'balanced')\n"
   ]
  },
  {
   "cell_type": "code",
   "execution_count": 0,
   "metadata": {
    "colab": {},
    "colab_type": "code",
    "id": "ZPUbp4bVqs0r"
   },
   "outputs": [],
   "source": [
    "tf_idf = TfidfVectorizer(max_features=300, analyzer='word', stop_words='english', dtype=np.float32, ngram_range=(1,3))\n",
    "\n",
    "tr = tf_idf.fit_transform(X_train['labels_join'])\n",
    "ts = tf_idf.transform(X_test['labels_join'])"
   ]
  },
  {
   "cell_type": "code",
   "execution_count": 22,
   "metadata": {
    "colab": {
     "base_uri": "https://localhost:8080/",
     "height": 35
    },
    "colab_type": "code",
    "id": "ZaK4u1DbvZON",
    "outputId": "8188f69a-3ecd-4a40-b9a8-7a4ea84a7357"
   },
   "outputs": [
    {
     "data": {
      "text/plain": [
       "0.7263157894736842"
      ]
     },
     "execution_count": 22,
     "metadata": {
      "tags": []
     },
     "output_type": "execute_result"
    }
   ],
   "source": [
    "log_reg.fit(tr, y_train)\n",
    "y_pred = log_reg.predict(ts)\n",
    "accuracy_score(y_test, y_pred)"
   ]
  },
  {
   "cell_type": "markdown",
   "metadata": {
    "colab_type": "text",
    "id": "mMcpa5x9vk2J"
   },
   "source": [
    "# Captions tf-idf"
   ]
  },
  {
   "cell_type": "code",
   "execution_count": 0,
   "metadata": {
    "colab": {},
    "colab_type": "code",
    "id": "YVKJLN-2ucWm"
   },
   "outputs": [],
   "source": [
    "reg_cap_tfidf = post_df[['caption','e_lev']]\n",
    "\n",
    "X = reg_cap_tfidf.drop(columns=['e_lev'])\n",
    "Y = reg_cap_tfidf['e_lev']\n",
    "\n",
    "X_train, X_test, y_train, y_test = train_test_split(X,Y,test_size = 0.20, random_state=11)\n",
    "log_reg = LogisticRegression(random_state = 20,class_weight = 'balanced')"
   ]
  },
  {
   "cell_type": "code",
   "execution_count": 0,
   "metadata": {
    "colab": {},
    "colab_type": "code",
    "id": "YGMmafKnucUc"
   },
   "outputs": [],
   "source": [
    "tf_idf = TfidfVectorizer(max_features=3000, analyzer='word', stop_words= 'english', ngram_range=(1,3), dtype=np.float32)\n",
    "\n",
    "tr = tf_idf.fit_transform(X_train['caption'])\n",
    "ts = tf_idf.transform(X_test['caption'])"
   ]
  },
  {
   "cell_type": "code",
   "execution_count": 25,
   "metadata": {
    "colab": {
     "base_uri": "https://localhost:8080/",
     "height": 35
    },
    "colab_type": "code",
    "id": "AbDdJwmwucQr",
    "outputId": "0eaf5070-e6d8-4ecd-e035-66b79d670ecc"
   },
   "outputs": [
    {
     "data": {
      "text/plain": [
       "0.7684210526315789"
      ]
     },
     "execution_count": 25,
     "metadata": {
      "tags": []
     },
     "output_type": "execute_result"
    }
   ],
   "source": [
    "log_reg.fit(tr, y_train)\n",
    "y_pred = log_reg.predict(ts)\n",
    "accuracy_score(y_test, y_pred)"
   ]
  },
  {
   "cell_type": "markdown",
   "metadata": {
    "colab_type": "text",
    "id": "oMceT1xa0PYB"
   },
   "source": [
    "# Captions lemmatize tf-idf"
   ]
  },
  {
   "cell_type": "code",
   "execution_count": 0,
   "metadata": {
    "colab": {},
    "colab_type": "code",
    "id": "4AgYKmn6IfN_"
   },
   "outputs": [],
   "source": [
    "# https://www.machinelearningplus.com/nlp/lemmatization-examples-python/\n",
    "import spacy\n",
    "\n",
    "# Initialize spacy 'en' model, keeping only tagger component needed for lemmatization\n",
    "nlp = spacy.load('en', disable=['parser', 'ner'])\n"
   ]
  },
  {
   "cell_type": "code",
   "execution_count": 0,
   "metadata": {
    "colab": {},
    "colab_type": "code",
    "id": "V0wu6G_-z7Uz"
   },
   "outputs": [],
   "source": [
    "reg_cap_tfidf = post_df[['caption','e_lev']]\n",
    "\n",
    "X = reg_cap_tfidf.drop(columns=['e_lev'])\n",
    "Y = reg_cap_tfidf['e_lev']\n",
    "\n",
    "X_train, X_test, y_train, y_test = train_test_split(X,Y,test_size = 0.20, random_state=11)\n",
    "log_reg = LogisticRegression(random_state = 20,class_weight = 'balanced')"
   ]
  },
  {
   "cell_type": "code",
   "execution_count": 0,
   "metadata": {
    "colab": {},
    "colab_type": "code",
    "id": "RLyjcBR0ucIW"
   },
   "outputs": [],
   "source": [
    "lemmatizer = WordNetLemmatizer()\n",
    "\n",
    "# Tokenize and Lemmatize list of words and join\n",
    "lemmatized_tr = X_train.caption.map(lambda x: ' '.join([token.lemma_ for token in nlp(x)]))\n",
    "lemmatized_ts = X_test.caption.map(lambda x: ' '.join([token.lemma_ for token in nlp(x)]))"
   ]
  },
  {
   "cell_type": "code",
   "execution_count": 0,
   "metadata": {
    "colab": {},
    "colab_type": "code",
    "id": "2GLI7vzY0rG7"
   },
   "outputs": [],
   "source": [
    "tf_idf = TfidfVectorizer(max_features=3000, analyzer='word', stop_words= 'english', ngram_range=(1,3), dtype=np.float32)\n",
    "\n",
    "tr = tf_idf.fit_transform(lemmatized_tr)\n",
    "ts = tf_idf.transform(lemmatized_ts)"
   ]
  },
  {
   "cell_type": "code",
   "execution_count": 30,
   "metadata": {
    "colab": {
     "base_uri": "https://localhost:8080/",
     "height": 35
    },
    "colab_type": "code",
    "id": "3lOM-K4V0v6K",
    "outputId": "73057a02-da0d-4adf-b8b7-c6356646b1c5"
   },
   "outputs": [
    {
     "data": {
      "text/plain": [
       "0.8105263157894737"
      ]
     },
     "execution_count": 30,
     "metadata": {
      "tags": []
     },
     "output_type": "execute_result"
    }
   ],
   "source": [
    "log_reg.fit(tr, y_train)\n",
    "y_pred = log_reg.predict(ts)\n",
    "accuracy_score(y_test, y_pred)"
   ]
  },
  {
   "cell_type": "markdown",
   "metadata": {
    "colab_type": "text",
    "id": "QvvXMCd7m1Nh"
   },
   "source": [
    "# Captions and Labels tf-idf"
   ]
  },
  {
   "cell_type": "code",
   "execution_count": 0,
   "metadata": {
    "colab": {},
    "colab_type": "code",
    "id": "Po1mAtzem0Lb"
   },
   "outputs": [],
   "source": [
    "reg_all_tfidf = post_df[['labels', 'caption', 'e_lev']]\n",
    "\n",
    "reg_all_tfidf['labels_join'] = reg_all_tfidf.labels.map(lambda x: ' '.join(x))\n",
    "\n",
    "\n",
    "X = reg_all_tfidf.drop(columns=['e_lev'])\n",
    "Y = reg_all_tfidf['e_lev']\n",
    "\n",
    "X_train, X_test, y_train, y_test = train_test_split(X,Y,test_size = 0.20, random_state=11)\n",
    "log_reg = LogisticRegression(random_state = 20,class_weight = 'balanced')"
   ]
  },
  {
   "cell_type": "code",
   "execution_count": 0,
   "metadata": {
    "colab": {},
    "colab_type": "code",
    "id": "VnaiSY7TFkiB"
   },
   "outputs": [],
   "source": [
    "lemmatizer = WordNetLemmatizer()\n",
    "\n",
    "# Tokenize and Lemmatize list of words and join\n",
    "lemmatized_tr = X_train.caption.map(lambda x: ' '.join([token.lemma_ for token in nlp(x)]))\n",
    "lemmatized_ts = X_test.caption.map(lambda x: ' '.join([token.lemma_ for token in nlp(x)]))"
   ]
  },
  {
   "cell_type": "code",
   "execution_count": 0,
   "metadata": {
    "colab": {},
    "colab_type": "code",
    "id": "ONfZavwrLyWg"
   },
   "outputs": [],
   "source": [
    "tf_idf = TfidfVectorizer(max_features=3000, analyzer='word', stop_words= 'english', dtype=np.float32,  ngram_range=(1,3))\n",
    "\n",
    "tr = tf_idf.fit_transform(lemmatized_tr)\n",
    "ts = tf_idf.transform(lemmatized_ts)"
   ]
  },
  {
   "cell_type": "code",
   "execution_count": 0,
   "metadata": {
    "colab": {},
    "colab_type": "code",
    "id": "NJdUb119NVBA"
   },
   "outputs": [],
   "source": [
    "tf_idf_l = TfidfVectorizer(max_features=300, analyzer='word', stop_words= 'english', dtype=np.float32, ngram_range=(1,3))\n",
    "\n",
    "tr_l = tf_idf_l.fit_transform(X_train['labels_join']) #lemmatized_tr_l)#\n",
    "ts_l = tf_idf_l.transform(X_test['labels_join']) #lemmatized_ts_l)"
   ]
  },
  {
   "cell_type": "code",
   "execution_count": 0,
   "metadata": {
    "colab": {},
    "colab_type": "code",
    "id": "hH2sv8rvNepo"
   },
   "outputs": [],
   "source": [
    "train = sparse.hstack([tr,tr_l])\n",
    "test = sparse.hstack([ts,ts_l])"
   ]
  },
  {
   "cell_type": "code",
   "execution_count": 36,
   "metadata": {
    "colab": {
     "base_uri": "https://localhost:8080/",
     "height": 35
    },
    "colab_type": "code",
    "id": "F917BRfFL0yc",
    "outputId": "dd31b116-2102-4cc9-9e6c-6ac4c1a480f3"
   },
   "outputs": [
    {
     "data": {
      "text/plain": [
       "0.7684210526315789"
      ]
     },
     "execution_count": 36,
     "metadata": {
      "tags": []
     },
     "output_type": "execute_result"
    }
   ],
   "source": [
    "log_reg.fit(train, y_train)\n",
    "y_pred = log_reg.predict(test)\n",
    "accuracy_score(y_test, y_pred)"
   ]
  },
  {
   "cell_type": "markdown",
   "metadata": {},
   "source": [
    "# Task C"
   ]
  },
  {
   "cell_type": "markdown",
   "metadata": {
    "colab_type": "text",
    "id": "5MF9RzKZPYfH"
   },
   "source": [
    "## Topic Modeling"
   ]
  },
  {
   "cell_type": "code",
   "execution_count": 37,
   "metadata": {
    "colab": {
     "base_uri": "https://localhost:8080/",
     "height": 306
    },
    "colab_type": "code",
    "id": "CWc3W80ejT6d",
    "outputId": "b159050f-001f-4489-be3e-2bd8fa11b5a1"
   },
   "outputs": [
    {
     "data": {
      "text/html": [
       "<div>\n",
       "<style scoped>\n",
       "    .dataframe tbody tr th:only-of-type {\n",
       "        vertical-align: middle;\n",
       "    }\n",
       "\n",
       "    .dataframe tbody tr th {\n",
       "        vertical-align: top;\n",
       "    }\n",
       "\n",
       "    .dataframe thead th {\n",
       "        text-align: right;\n",
       "    }\n",
       "</style>\n",
       "<table border=\"1\" class=\"dataframe\">\n",
       "  <thead>\n",
       "    <tr style=\"text-align: right;\">\n",
       "      <th></th>\n",
       "      <th>Unnamed: 0</th>\n",
       "      <th>post_url</th>\n",
       "      <th>num_likes</th>\n",
       "      <th>num_comments</th>\n",
       "      <th>caption</th>\n",
       "      <th>labels</th>\n",
       "      <th>engagement</th>\n",
       "      <th>e_lev</th>\n",
       "    </tr>\n",
       "  </thead>\n",
       "  <tbody>\n",
       "    <tr>\n",
       "      <th>0</th>\n",
       "      <td>0</td>\n",
       "      <td>https://scontent-sea1-1.cdninstagram.com/vp/8e...</td>\n",
       "      <td>0.281916</td>\n",
       "      <td>0.094770</td>\n",
       "      <td>photo by jimmy chin @jimmychin | half dome aft...</td>\n",
       "      <td>[mountainous landforms, mountain, white, black...</td>\n",
       "      <td>0.169628</td>\n",
       "      <td>1</td>\n",
       "    </tr>\n",
       "    <tr>\n",
       "      <th>1</th>\n",
       "      <td>1</td>\n",
       "      <td>https://scontent-sea1-1.cdninstagram.com/vp/51...</td>\n",
       "      <td>0.152775</td>\n",
       "      <td>0.072268</td>\n",
       "      <td>photos by ian teh @iantehphotography | i’m on ...</td>\n",
       "      <td>[motor vehicle, vehicle, mode of transport, au...</td>\n",
       "      <td>0.104471</td>\n",
       "      <td>0</td>\n",
       "    </tr>\n",
       "    <tr>\n",
       "      <th>2</th>\n",
       "      <td>2</td>\n",
       "      <td>https://scontent-sea1-1.cdninstagram.com/vp/21...</td>\n",
       "      <td>0.377510</td>\n",
       "      <td>0.267337</td>\n",
       "      <td>photo by thomas peschak @thomaspeschak | the m...</td>\n",
       "      <td>[green sea turtle, turtle, sea turtle, reptile...</td>\n",
       "      <td>0.311407</td>\n",
       "      <td>1</td>\n",
       "    </tr>\n",
       "    <tr>\n",
       "      <th>3</th>\n",
       "      <td>3</td>\n",
       "      <td>https://scontent-sea1-1.cdninstagram.com/vp/78...</td>\n",
       "      <td>0.099566</td>\n",
       "      <td>0.037785</td>\n",
       "      <td>photo by katie orlinsky @katieorlinsky | olga ...</td>\n",
       "      <td>[temple, cuisine]</td>\n",
       "      <td>0.062497</td>\n",
       "      <td>0</td>\n",
       "    </tr>\n",
       "    <tr>\n",
       "      <th>4</th>\n",
       "      <td>4</td>\n",
       "      <td>https://scontent-sea1-1.cdninstagram.com/vp/03...</td>\n",
       "      <td>0.114799</td>\n",
       "      <td>0.056063</td>\n",
       "      <td>photo by tasneem alsultan @tasneemalsultan | \"...</td>\n",
       "      <td>[tree, palm tree, arecales, woody plant, plant...</td>\n",
       "      <td>0.079557</td>\n",
       "      <td>0</td>\n",
       "    </tr>\n",
       "  </tbody>\n",
       "</table>\n",
       "</div>"
      ],
      "text/plain": [
       "   Unnamed: 0  ... e_lev\n",
       "0           0  ...     1\n",
       "1           1  ...     0\n",
       "2           2  ...     1\n",
       "3           3  ...     0\n",
       "4           4  ...     0\n",
       "\n",
       "[5 rows x 8 columns]"
      ]
     },
     "execution_count": 37,
     "metadata": {
      "tags": []
     },
     "output_type": "execute_result"
    }
   ],
   "source": [
    "post_df.head(5)"
   ]
  },
  {
   "cell_type": "code",
   "execution_count": 0,
   "metadata": {
    "colab": {},
    "colab_type": "code",
    "id": "ma-drgOIiQIF"
   },
   "outputs": [],
   "source": [
    "import gensim\n",
    "from gensim.utils import simple_preprocess\n",
    "from gensim.test.utils import common_corpus, common_dictionary\n"
   ]
  },
  {
   "cell_type": "code",
   "execution_count": 0,
   "metadata": {
    "colab": {},
    "colab_type": "code",
    "id": "OrO8hdydjygf"
   },
   "outputs": [],
   "source": [
    "# https://towardsdatascience.com/topic-modeling-and-latent-dirichlet-allocation-in-python-9bf156893c24\n",
    "dictionary = gensim.corpora.Dictionary(post_df.labels)\n",
    "\n",
    "dictionary.filter_extremes(no_below=1, no_above=0.5) #, keep_n=100000)"
   ]
  },
  {
   "cell_type": "code",
   "execution_count": 0,
   "metadata": {
    "colab": {},
    "colab_type": "code",
    "id": "oEvIUvIDjAhj"
   },
   "outputs": [],
   "source": [
    "bow_corpus = [dictionary.doc2bow(label) for label in post_df.labels]"
   ]
  },
  {
   "cell_type": "code",
   "execution_count": 0,
   "metadata": {
    "colab": {},
    "colab_type": "code",
    "id": "8CCvSM8giP7k"
   },
   "outputs": [],
   "source": [
    "lda_model = gensim.models.LdaMulticore(bow_corpus, num_topics=6, id2word=dictionary, passes=2, workers=2, chunksize=100, random_state=1000)"
   ]
  },
  {
   "cell_type": "code",
   "execution_count": 0,
   "metadata": {
    "colab": {},
    "colab_type": "code",
    "id": "A1hm9CHolUFH"
   },
   "outputs": [],
   "source": [
    "import pprint\n",
    "pp = pprint.PrettyPrinter(indent=4)"
   ]
  },
  {
   "cell_type": "code",
   "execution_count": 131,
   "metadata": {
    "colab": {
     "base_uri": "https://localhost:8080/",
     "height": 468
    },
    "colab_type": "code",
    "id": "XdCRKx7dkNiA",
    "outputId": "2ce5c34f-f3a1-42ca-d224-682a0502d953"
   },
   "outputs": [
    {
     "name": "stdout",
     "output_type": "stream",
     "text": [
      "[   (   0,\n",
      "        '0.040*\"adaptation\" + 0.032*\"photography\" + 0.023*\"people\" + '\n",
      "        '0.020*\"human\" + 0.019*\"smile\" + 0.015*\"event\" + 0.014*\"tree\" + '\n",
      "        '0.013*\"crowd\" + 0.011*\"grassland\" + 0.011*\"community\"'),\n",
      "    (   1,\n",
      "        '0.023*\"wildlife\" + 0.018*\"vertebrate\" + 0.017*\"sky\" + 0.015*\"water\" + '\n",
      "        '0.013*\"plant\" + 0.013*\"grass\" + 0.012*\"terrestrial animal\" + '\n",
      "        '0.011*\"tree\" + 0.011*\"organism\" + 0.011*\"green\"'),\n",
      "    (   2,\n",
      "        '0.045*\"sky\" + 0.026*\"water\" + 0.022*\"cloud\" + 0.021*\"tree\" + '\n",
      "        '0.017*\"natural landscape\" + 0.016*\"ocean\" + 0.016*\"nature\" + '\n",
      "        '0.016*\"sea\" + 0.014*\"wildlife\" + 0.014*\"blue\"'),\n",
      "    (   3,\n",
      "        '0.029*\"sky\" + 0.018*\"architecture\" + 0.014*\"photography\" + '\n",
      "        '0.014*\"geological phenomenon\" + 0.013*\"mountain\" + 0.011*\"adaptation\" '\n",
      "        '+ 0.011*\"building\" + 0.011*\"night\" + 0.011*\"mountain range\" + '\n",
      "        '0.010*\"recreation\"'),\n",
      "    (   4,\n",
      "        '0.022*\"photography\" + 0.020*\"rock\" + 0.019*\"landscape\" + '\n",
      "        '0.015*\"geology\" + 0.014*\"sky\" + 0.013*\"formation\" + 0.012*\"room\" + '\n",
      "        '0.012*\"vertebrate\" + 0.012*\"ancient history\" + 0.012*\"fish\"'),\n",
      "    (   5,\n",
      "        '0.025*\"fish\" + 0.022*\"underwater\" + 0.019*\"marine biology\" + '\n",
      "        '0.017*\"sky\" + 0.014*\"cartilaginous fish\" + 0.012*\"shark\" + '\n",
      "        '0.012*\"great white shark\" + 0.012*\"water\" + 0.011*\"reptile\" + '\n",
      "        '0.010*\"art\"')]\n"
     ]
    }
   ],
   "source": [
    "pp.pprint(lda_model.print_topics())"
   ]
  },
  {
   "cell_type": "markdown",
   "metadata": {
    "colab_type": "text",
    "id": "NnH3_xnYnYgh"
   },
   "source": [
    "# Topic Descriptions\n",
    "Topic 0: Community <br>\n",
    "Topic 1: Wildlife <br>\n",
    "Topic 2: Nature <br>\n",
    "Topic 3: Photography <br>\n",
    "Topic 4: Landscape <br>\n",
    "Topic 5: Marine <br>"
   ]
  },
  {
   "cell_type": "code",
   "execution_count": 0,
   "metadata": {
    "colab": {},
    "colab_type": "code",
    "id": "UV6ggdzzkNXI"
   },
   "outputs": [],
   "source": [
    "post_topics = post_df.copy(deep=True)\n",
    "\n",
    "post_topics['topic_0'] = 0.0\n",
    "post_topics['topic_1'] = 0.0\n",
    "post_topics['topic_2'] = 0.0\n",
    "post_topics['topic_3'] = 0.0\n",
    "post_topics['topic_4'] = 0.0\n",
    "post_topics['topic_5'] = 0.0"
   ]
  },
  {
   "cell_type": "code",
   "execution_count": 0,
   "metadata": {
    "colab": {},
    "colab_type": "code",
    "id": "0diJk3a9kNM9"
   },
   "outputs": [],
   "source": [
    "for index, row in post_topics.iterrows():\n",
    "    bow = dictionary.doc2bow(row['labels'])\n",
    "    t = lda_model.get_document_topics(bow)\n",
    "    post_topics['topic_0'].loc[index] = t[0][1]\n",
    "    post_topics['topic_1'].loc[index] = t[1][1]\n",
    "    post_topics['topic_2'].loc[index] = t[2][1]\n",
    "    post_topics['topic_3'].loc[index] = t[3][1]\n",
    "    post_topics['topic_4'].loc[index] = t[4][1]\n",
    "    post_topics['topic_5'].loc[index] = t[5][1]"
   ]
  },
  {
   "cell_type": "code",
   "execution_count": 134,
   "metadata": {
    "colab": {
     "base_uri": "https://localhost:8080/",
     "height": 386
    },
    "colab_type": "code",
    "id": "lMzJCTNBkNB9",
    "outputId": "81e15eae-3dc4-406d-f5d9-21adcf4148a5"
   },
   "outputs": [
    {
     "data": {
      "text/html": [
       "<div>\n",
       "<style scoped>\n",
       "    .dataframe tbody tr th:only-of-type {\n",
       "        vertical-align: middle;\n",
       "    }\n",
       "\n",
       "    .dataframe tbody tr th {\n",
       "        vertical-align: top;\n",
       "    }\n",
       "\n",
       "    .dataframe thead th {\n",
       "        text-align: right;\n",
       "    }\n",
       "</style>\n",
       "<table border=\"1\" class=\"dataframe\">\n",
       "  <thead>\n",
       "    <tr style=\"text-align: right;\">\n",
       "      <th></th>\n",
       "      <th>Unnamed: 0</th>\n",
       "      <th>post_url</th>\n",
       "      <th>num_likes</th>\n",
       "      <th>num_comments</th>\n",
       "      <th>caption</th>\n",
       "      <th>labels</th>\n",
       "      <th>engagement</th>\n",
       "      <th>e_lev</th>\n",
       "      <th>topic_0</th>\n",
       "      <th>topic_1</th>\n",
       "      <th>topic_2</th>\n",
       "      <th>topic_3</th>\n",
       "      <th>topic_4</th>\n",
       "      <th>topic_5</th>\n",
       "    </tr>\n",
       "  </thead>\n",
       "  <tbody>\n",
       "    <tr>\n",
       "      <th>0</th>\n",
       "      <td>0</td>\n",
       "      <td>https://scontent-sea1-1.cdninstagram.com/vp/8e...</td>\n",
       "      <td>0.281916</td>\n",
       "      <td>0.094770</td>\n",
       "      <td>photo by jimmy chin @jimmychin | half dome aft...</td>\n",
       "      <td>[mountainous landforms, mountain, white, black...</td>\n",
       "      <td>0.169628</td>\n",
       "      <td>1</td>\n",
       "      <td>0.015168</td>\n",
       "      <td>0.015195</td>\n",
       "      <td>0.923985</td>\n",
       "      <td>0.015293</td>\n",
       "      <td>0.015163</td>\n",
       "      <td>0.015196</td>\n",
       "    </tr>\n",
       "    <tr>\n",
       "      <th>1</th>\n",
       "      <td>1</td>\n",
       "      <td>https://scontent-sea1-1.cdninstagram.com/vp/51...</td>\n",
       "      <td>0.152775</td>\n",
       "      <td>0.072268</td>\n",
       "      <td>photos by ian teh @iantehphotography | i’m on ...</td>\n",
       "      <td>[motor vehicle, vehicle, mode of transport, au...</td>\n",
       "      <td>0.104471</td>\n",
       "      <td>0</td>\n",
       "      <td>0.016722</td>\n",
       "      <td>0.016740</td>\n",
       "      <td>0.016880</td>\n",
       "      <td>0.016830</td>\n",
       "      <td>0.916153</td>\n",
       "      <td>0.016676</td>\n",
       "    </tr>\n",
       "    <tr>\n",
       "      <th>2</th>\n",
       "      <td>2</td>\n",
       "      <td>https://scontent-sea1-1.cdninstagram.com/vp/21...</td>\n",
       "      <td>0.377510</td>\n",
       "      <td>0.267337</td>\n",
       "      <td>photo by thomas peschak @thomaspeschak | the m...</td>\n",
       "      <td>[green sea turtle, turtle, sea turtle, reptile...</td>\n",
       "      <td>0.311407</td>\n",
       "      <td>1</td>\n",
       "      <td>0.015282</td>\n",
       "      <td>0.015198</td>\n",
       "      <td>0.015187</td>\n",
       "      <td>0.015213</td>\n",
       "      <td>0.015205</td>\n",
       "      <td>0.923914</td>\n",
       "    </tr>\n",
       "  </tbody>\n",
       "</table>\n",
       "</div>"
      ],
      "text/plain": [
       "   Unnamed: 0  ...   topic_5\n",
       "0           0  ...  0.015196\n",
       "1           1  ...  0.016676\n",
       "2           2  ...  0.923914\n",
       "\n",
       "[3 rows x 14 columns]"
      ]
     },
     "execution_count": 134,
     "metadata": {
      "tags": []
     },
     "output_type": "execute_result"
    }
   ],
   "source": [
    "post_topics.head(3)"
   ]
  },
  {
   "cell_type": "code",
   "execution_count": 0,
   "metadata": {
    "colab": {},
    "colab_type": "code",
    "id": "142KrZSZq9ut"
   },
   "outputs": [],
   "source": [
    "labels = list(set([i for l in post_df.labels for i in l]))\n",
    "\n",
    "word_loadings = pd.DataFrame(labels, columns=['word'])\n",
    "word_loadings['topic_0'] = 0.0\n",
    "word_loadings['topic_1'] = 0.0\n",
    "word_loadings['topic_2'] = 0.0\n",
    "word_loadings['topic_3'] = 0.0\n",
    "word_loadings['topic_4'] = 0.0\n",
    "word_loadings['topic_5'] = 0.0"
   ]
  },
  {
   "cell_type": "code",
   "execution_count": 0,
   "metadata": {
    "colab": {},
    "colab_type": "code",
    "id": "zSacfGaQq-KR"
   },
   "outputs": [],
   "source": [
    "for index, row in word_loadings.iterrows():\n",
    "  try:\n",
    "    w = lda_model.get_term_topics(row['word'], minimum_probability=0.000001)\n",
    "    word_loadings['topic_0'].loc[index]  = w[0][1]\n",
    "    word_loadings['topic_1'].loc[index]  = w[1][1]\n",
    "    word_loadings['topic_2'].loc[index]  = w[2][1]\n",
    "    word_loadings['topic_3'].loc[index]  = w[3][1]\n",
    "    word_loadings['topic_4'].loc[index]  = w[4][1]\n",
    "    word_loadings['topic_5'].loc[index]  = w[5][1]\n",
    "  except:\n",
    "    pass"
   ]
  },
  {
   "cell_type": "code",
   "execution_count": 139,
   "metadata": {
    "colab": {
     "base_uri": "https://localhost:8080/",
     "height": 202
    },
    "colab_type": "code",
    "id": "3J0wZ-V0zJ_J",
    "outputId": "e9819b43-3978-4e45-a59a-5b1f16ae67e2"
   },
   "outputs": [
    {
     "data": {
      "text/html": [
       "<div>\n",
       "<style scoped>\n",
       "    .dataframe tbody tr th:only-of-type {\n",
       "        vertical-align: middle;\n",
       "    }\n",
       "\n",
       "    .dataframe tbody tr th {\n",
       "        vertical-align: top;\n",
       "    }\n",
       "\n",
       "    .dataframe thead th {\n",
       "        text-align: right;\n",
       "    }\n",
       "</style>\n",
       "<table border=\"1\" class=\"dataframe\">\n",
       "  <thead>\n",
       "    <tr style=\"text-align: right;\">\n",
       "      <th></th>\n",
       "      <th>word</th>\n",
       "      <th>topic_0</th>\n",
       "      <th>topic_1</th>\n",
       "      <th>topic_2</th>\n",
       "      <th>topic_3</th>\n",
       "      <th>topic_4</th>\n",
       "      <th>topic_5</th>\n",
       "    </tr>\n",
       "  </thead>\n",
       "  <tbody>\n",
       "    <tr>\n",
       "      <th>0</th>\n",
       "      <td>visual arts</td>\n",
       "      <td>0.000003</td>\n",
       "      <td>0.000003</td>\n",
       "      <td>0.000001</td>\n",
       "      <td>0.000003</td>\n",
       "      <td>0.000752</td>\n",
       "      <td>0.003611</td>\n",
       "    </tr>\n",
       "    <tr>\n",
       "      <th>1</th>\n",
       "      <td>squeezebox</td>\n",
       "      <td>0.000003</td>\n",
       "      <td>0.000003</td>\n",
       "      <td>0.000001</td>\n",
       "      <td>0.000548</td>\n",
       "      <td>0.000002</td>\n",
       "      <td>0.000002</td>\n",
       "    </tr>\n",
       "    <tr>\n",
       "      <th>2</th>\n",
       "      <td>free solo climbing</td>\n",
       "      <td>0.000003</td>\n",
       "      <td>0.000492</td>\n",
       "      <td>0.000001</td>\n",
       "      <td>0.000003</td>\n",
       "      <td>0.000002</td>\n",
       "      <td>0.000002</td>\n",
       "    </tr>\n",
       "    <tr>\n",
       "      <th>3</th>\n",
       "      <td>holy places</td>\n",
       "      <td>0.000003</td>\n",
       "      <td>0.000003</td>\n",
       "      <td>0.000001</td>\n",
       "      <td>0.000003</td>\n",
       "      <td>0.001463</td>\n",
       "      <td>0.000002</td>\n",
       "    </tr>\n",
       "    <tr>\n",
       "      <th>4</th>\n",
       "      <td>arctic</td>\n",
       "      <td>0.004423</td>\n",
       "      <td>0.001452</td>\n",
       "      <td>0.002863</td>\n",
       "      <td>0.000003</td>\n",
       "      <td>0.000002</td>\n",
       "      <td>0.000002</td>\n",
       "    </tr>\n",
       "  </tbody>\n",
       "</table>\n",
       "</div>"
      ],
      "text/plain": [
       "                 word   topic_0   topic_1  ...   topic_3   topic_4   topic_5\n",
       "0         visual arts  0.000003  0.000003  ...  0.000003  0.000752  0.003611\n",
       "1          squeezebox  0.000003  0.000003  ...  0.000548  0.000002  0.000002\n",
       "2  free solo climbing  0.000003  0.000492  ...  0.000003  0.000002  0.000002\n",
       "3         holy places  0.000003  0.000003  ...  0.000003  0.001463  0.000002\n",
       "4              arctic  0.004423  0.001452  ...  0.000003  0.000002  0.000002\n",
       "\n",
       "[5 rows x 7 columns]"
      ]
     },
     "execution_count": 139,
     "metadata": {
      "tags": []
     },
     "output_type": "execute_result"
    }
   ],
   "source": [
    "word_loadings.head(5)"
   ]
  },
  {
   "cell_type": "markdown",
   "metadata": {
    "colab_type": "text",
    "id": "8bzbvReL4znJ"
   },
   "source": [
    "# Quartiles"
   ]
  },
  {
   "cell_type": "code",
   "execution_count": 0,
   "metadata": {
    "colab": {},
    "colab_type": "code",
    "id": "xfv4fef23xTS"
   },
   "outputs": [],
   "source": [
    "post_topics['quartile'] = pd.qcut(post_topics['engagement'], 4, labels=False)"
   ]
  },
  {
   "cell_type": "code",
   "execution_count": 141,
   "metadata": {
    "colab": {
     "base_uri": "https://localhost:8080/",
     "height": 303
    },
    "colab_type": "code",
    "id": "VJfOz4bK4Ufi",
    "outputId": "228b2fc6-9236-4407-e0c2-13876f93978f"
   },
   "outputs": [
    {
     "data": {
      "text/html": [
       "<div>\n",
       "<style scoped>\n",
       "    .dataframe tbody tr th:only-of-type {\n",
       "        vertical-align: middle;\n",
       "    }\n",
       "\n",
       "    .dataframe tbody tr th {\n",
       "        vertical-align: top;\n",
       "    }\n",
       "\n",
       "    .dataframe thead th {\n",
       "        text-align: right;\n",
       "    }\n",
       "</style>\n",
       "<table border=\"1\" class=\"dataframe\">\n",
       "  <thead>\n",
       "    <tr style=\"text-align: right;\">\n",
       "      <th></th>\n",
       "      <th>Unnamed: 0</th>\n",
       "      <th>post_url</th>\n",
       "      <th>num_likes</th>\n",
       "      <th>num_comments</th>\n",
       "      <th>caption</th>\n",
       "      <th>labels</th>\n",
       "      <th>engagement</th>\n",
       "      <th>e_lev</th>\n",
       "      <th>topic_0</th>\n",
       "      <th>topic_1</th>\n",
       "      <th>topic_2</th>\n",
       "      <th>topic_3</th>\n",
       "      <th>topic_4</th>\n",
       "      <th>topic_5</th>\n",
       "      <th>quartile</th>\n",
       "    </tr>\n",
       "  </thead>\n",
       "  <tbody>\n",
       "    <tr>\n",
       "      <th>0</th>\n",
       "      <td>0</td>\n",
       "      <td>https://scontent-sea1-1.cdninstagram.com/vp/8e...</td>\n",
       "      <td>0.281916</td>\n",
       "      <td>0.094770</td>\n",
       "      <td>photo by jimmy chin @jimmychin | half dome aft...</td>\n",
       "      <td>[mountainous landforms, mountain, white, black...</td>\n",
       "      <td>0.169628</td>\n",
       "      <td>1</td>\n",
       "      <td>0.015168</td>\n",
       "      <td>0.015195</td>\n",
       "      <td>0.923985</td>\n",
       "      <td>0.015293</td>\n",
       "      <td>0.015163</td>\n",
       "      <td>0.015196</td>\n",
       "      <td>2</td>\n",
       "    </tr>\n",
       "    <tr>\n",
       "      <th>1</th>\n",
       "      <td>1</td>\n",
       "      <td>https://scontent-sea1-1.cdninstagram.com/vp/51...</td>\n",
       "      <td>0.152775</td>\n",
       "      <td>0.072268</td>\n",
       "      <td>photos by ian teh @iantehphotography | i’m on ...</td>\n",
       "      <td>[motor vehicle, vehicle, mode of transport, au...</td>\n",
       "      <td>0.104471</td>\n",
       "      <td>0</td>\n",
       "      <td>0.016722</td>\n",
       "      <td>0.016740</td>\n",
       "      <td>0.016880</td>\n",
       "      <td>0.016830</td>\n",
       "      <td>0.916153</td>\n",
       "      <td>0.016676</td>\n",
       "      <td>1</td>\n",
       "    </tr>\n",
       "  </tbody>\n",
       "</table>\n",
       "</div>"
      ],
      "text/plain": [
       "   Unnamed: 0  ... quartile\n",
       "0           0  ...        2\n",
       "1           1  ...        1\n",
       "\n",
       "[2 rows x 15 columns]"
      ]
     },
     "execution_count": 141,
     "metadata": {
      "tags": []
     },
     "output_type": "execute_result"
    }
   ],
   "source": [
    "post_topics.head(2)"
   ]
  },
  {
   "cell_type": "code",
   "execution_count": 142,
   "metadata": {
    "colab": {
     "base_uri": "https://localhost:8080/",
     "height": 202
    },
    "colab_type": "code",
    "id": "kdKJnNrT3xQp",
    "outputId": "e6137530-52eb-4e20-f7e8-1d89d2f90fdb"
   },
   "outputs": [
    {
     "data": {
      "text/html": [
       "<div>\n",
       "<style scoped>\n",
       "    .dataframe tbody tr th:only-of-type {\n",
       "        vertical-align: middle;\n",
       "    }\n",
       "\n",
       "    .dataframe tbody tr th {\n",
       "        vertical-align: top;\n",
       "    }\n",
       "\n",
       "    .dataframe thead th {\n",
       "        text-align: right;\n",
       "    }\n",
       "</style>\n",
       "<table border=\"1\" class=\"dataframe\">\n",
       "  <thead>\n",
       "    <tr style=\"text-align: right;\">\n",
       "      <th></th>\n",
       "      <th>topic_0</th>\n",
       "      <th>topic_1</th>\n",
       "      <th>topic_2</th>\n",
       "      <th>topic_3</th>\n",
       "      <th>topic_4</th>\n",
       "      <th>topic_5</th>\n",
       "    </tr>\n",
       "    <tr>\n",
       "      <th>quartile</th>\n",
       "      <th></th>\n",
       "      <th></th>\n",
       "      <th></th>\n",
       "      <th></th>\n",
       "      <th></th>\n",
       "      <th></th>\n",
       "    </tr>\n",
       "  </thead>\n",
       "  <tbody>\n",
       "    <tr>\n",
       "      <th>0</th>\n",
       "      <td>0.210167</td>\n",
       "      <td>0.104536</td>\n",
       "      <td>0.234577</td>\n",
       "      <td>0.165356</td>\n",
       "      <td>0.177029</td>\n",
       "      <td>0.108335</td>\n",
       "    </tr>\n",
       "    <tr>\n",
       "      <th>1</th>\n",
       "      <td>0.173747</td>\n",
       "      <td>0.115998</td>\n",
       "      <td>0.336027</td>\n",
       "      <td>0.101710</td>\n",
       "      <td>0.138241</td>\n",
       "      <td>0.134278</td>\n",
       "    </tr>\n",
       "    <tr>\n",
       "      <th>2</th>\n",
       "      <td>0.107306</td>\n",
       "      <td>0.141037</td>\n",
       "      <td>0.381435</td>\n",
       "      <td>0.094611</td>\n",
       "      <td>0.123409</td>\n",
       "      <td>0.152202</td>\n",
       "    </tr>\n",
       "    <tr>\n",
       "      <th>3</th>\n",
       "      <td>0.099517</td>\n",
       "      <td>0.155606</td>\n",
       "      <td>0.365873</td>\n",
       "      <td>0.123437</td>\n",
       "      <td>0.123828</td>\n",
       "      <td>0.131738</td>\n",
       "    </tr>\n",
       "  </tbody>\n",
       "</table>\n",
       "</div>"
      ],
      "text/plain": [
       "           topic_0   topic_1   topic_2   topic_3   topic_4   topic_5\n",
       "quartile                                                            \n",
       "0         0.210167  0.104536  0.234577  0.165356  0.177029  0.108335\n",
       "1         0.173747  0.115998  0.336027  0.101710  0.138241  0.134278\n",
       "2         0.107306  0.141037  0.381435  0.094611  0.123409  0.152202\n",
       "3         0.099517  0.155606  0.365873  0.123437  0.123828  0.131738"
      ]
     },
     "execution_count": 142,
     "metadata": {
      "tags": []
     },
     "output_type": "execute_result"
    }
   ],
   "source": [
    "post_topics.groupby('quartile')[['topic_0','topic_1','topic_2','topic_3','topic_4','topic_5']].mean()"
   ]
  },
  {
   "cell_type": "markdown",
   "metadata": {
    "colab_type": "text",
    "id": "KJl4D0LzH-ck"
   },
   "source": [
    "## Writing to CSV"
   ]
  },
  {
   "cell_type": "code",
   "execution_count": 0,
   "metadata": {
    "colab": {},
    "colab_type": "code",
    "id": "6PMKQ-YBH--f"
   },
   "outputs": [],
   "source": [
    "post_topics.to_csv('image_topic_weights.csv', index=False)\n",
    "word_loadings.to_csv('word_loadings.csv', index=False)"
   ]
  },
  {
   "cell_type": "markdown",
   "metadata": {},
   "source": [
    "# Task D"
   ]
  },
  {
   "cell_type": "markdown",
   "metadata": {
    "colab_type": "text",
    "id": "3YreNinTDCxG"
   },
   "source": [
    "# Conclusion and Recommendations\n",
    "\n",
    "Images of 'Nature' are associated with the highest engagement scores. The second hgihest engagement scores are associated with 'Wildlife' images. The images belonging to topic 'Community' have the lowest engagement scores. \n",
    "\n",
    "Natgeo can increase engagement by posting more pictures of nature and wildlife. While we havent analyzed interaction between topics, it could be that images related to people tend to decrease engagement.\n",
    "\n",
    "Topic 0: Community <br>\n",
    "Topic 1: Wildlife <br>\n",
    "Topic 2: Nature <br>\n",
    "Topic 3: Photography <br>\n",
    "Topic 4: Landscape <br>\n",
    "Topic 5: Marine <br>"
   ]
  },
  {
   "cell_type": "markdown",
   "metadata": {
    "colab_type": "text",
    "id": "1CtT-ZLm5TZI"
   },
   "source": [
    "# Visualization"
   ]
  },
  {
   "cell_type": "code",
   "execution_count": 143,
   "metadata": {
    "colab": {
     "base_uri": "https://localhost:8080/",
     "height": 575
    },
    "colab_type": "code",
    "id": "MgUY4EB-qpFZ",
    "outputId": "3d0640d7-8506-4420-c55a-38ade80ce9f9"
   },
   "outputs": [
    {
     "name": "stdout",
     "output_type": "stream",
     "text": [
      "Collecting pyLDAvis\n",
      "\u001b[?25l  Downloading https://files.pythonhosted.org/packages/a5/3a/af82e070a8a96e13217c8f362f9a73e82d61ac8fff3a2561946a97f96266/pyLDAvis-2.1.2.tar.gz (1.6MB)\n",
      "\r",
      "\u001b[K     |▏                               | 10kB 13.9MB/s eta 0:00:01\r",
      "\u001b[K     |▍                               | 20kB 3.1MB/s eta 0:00:01\r",
      "\u001b[K     |▋                               | 30kB 4.4MB/s eta 0:00:01\r",
      "\u001b[K     |▉                               | 40kB 2.9MB/s eta 0:00:01\r",
      "\u001b[K     |█                               | 51kB 3.5MB/s eta 0:00:01\r",
      "\u001b[K     |█▏                              | 61kB 4.2MB/s eta 0:00:01\r",
      "\u001b[K     |█▍                              | 71kB 4.8MB/s eta 0:00:01\r",
      "\u001b[K     |█▋                              | 81kB 5.4MB/s eta 0:00:01\r",
      "\u001b[K     |█▉                              | 92kB 6.0MB/s eta 0:00:01\r",
      "\u001b[K     |██                              | 102kB 4.7MB/s eta 0:00:01\r",
      "\u001b[K     |██▎                             | 112kB 4.7MB/s eta 0:00:01\r",
      "\u001b[K     |██▍                             | 122kB 4.7MB/s eta 0:00:01\r",
      "\u001b[K     |██▋                             | 133kB 4.7MB/s eta 0:00:01\r",
      "\u001b[K     |██▉                             | 143kB 4.7MB/s eta 0:00:01\r",
      "\u001b[K     |███                             | 153kB 4.7MB/s eta 0:00:01\r",
      "\u001b[K     |███▎                            | 163kB 4.7MB/s eta 0:00:01\r",
      "\u001b[K     |███▌                            | 174kB 4.7MB/s eta 0:00:01\r",
      "\u001b[K     |███▋                            | 184kB 4.7MB/s eta 0:00:01\r",
      "\u001b[K     |███▉                            | 194kB 4.7MB/s eta 0:00:01\r",
      "\u001b[K     |████                            | 204kB 4.7MB/s eta 0:00:01\r",
      "\u001b[K     |████▎                           | 215kB 4.7MB/s eta 0:00:01\r",
      "\u001b[K     |████▌                           | 225kB 4.7MB/s eta 0:00:01\r",
      "\u001b[K     |████▊                           | 235kB 4.7MB/s eta 0:00:01\r",
      "\u001b[K     |████▉                           | 245kB 4.7MB/s eta 0:00:01\r",
      "\u001b[K     |█████                           | 256kB 4.7MB/s eta 0:00:01\r",
      "\u001b[K     |█████▎                          | 266kB 4.7MB/s eta 0:00:01\r",
      "\u001b[K     |█████▌                          | 276kB 4.7MB/s eta 0:00:01\r",
      "\u001b[K     |█████▊                          | 286kB 4.7MB/s eta 0:00:01\r",
      "\u001b[K     |█████▉                          | 296kB 4.7MB/s eta 0:00:01\r",
      "\u001b[K     |██████                          | 307kB 4.7MB/s eta 0:00:01\r",
      "\u001b[K     |██████▎                         | 317kB 4.7MB/s eta 0:00:01\r",
      "\u001b[K     |██████▌                         | 327kB 4.7MB/s eta 0:00:01\r",
      "\u001b[K     |██████▊                         | 337kB 4.7MB/s eta 0:00:01\r",
      "\u001b[K     |███████                         | 348kB 4.7MB/s eta 0:00:01\r",
      "\u001b[K     |███████                         | 358kB 4.7MB/s eta 0:00:01\r",
      "\u001b[K     |███████▎                        | 368kB 4.7MB/s eta 0:00:01\r",
      "\u001b[K     |███████▌                        | 378kB 4.7MB/s eta 0:00:01\r",
      "\u001b[K     |███████▊                        | 389kB 4.7MB/s eta 0:00:01\r",
      "\u001b[K     |████████                        | 399kB 4.7MB/s eta 0:00:01\r",
      "\u001b[K     |████████▏                       | 409kB 4.7MB/s eta 0:00:01\r",
      "\u001b[K     |████████▎                       | 419kB 4.7MB/s eta 0:00:01\r",
      "\u001b[K     |████████▌                       | 430kB 4.7MB/s eta 0:00:01\r",
      "\u001b[K     |████████▊                       | 440kB 4.7MB/s eta 0:00:01\r",
      "\u001b[K     |█████████                       | 450kB 4.7MB/s eta 0:00:01\r",
      "\u001b[K     |█████████▏                      | 460kB 4.7MB/s eta 0:00:01\r",
      "\u001b[K     |█████████▍                      | 471kB 4.7MB/s eta 0:00:01\r",
      "\u001b[K     |█████████▌                      | 481kB 4.7MB/s eta 0:00:01\r",
      "\u001b[K     |█████████▊                      | 491kB 4.7MB/s eta 0:00:01\r",
      "\u001b[K     |██████████                      | 501kB 4.7MB/s eta 0:00:01\r",
      "\u001b[K     |██████████▏                     | 512kB 4.7MB/s eta 0:00:01\r",
      "\u001b[K     |██████████▍                     | 522kB 4.7MB/s eta 0:00:01\r",
      "\u001b[K     |██████████▋                     | 532kB 4.7MB/s eta 0:00:01\r",
      "\u001b[K     |██████████▊                     | 542kB 4.7MB/s eta 0:00:01\r",
      "\u001b[K     |███████████                     | 552kB 4.7MB/s eta 0:00:01\r",
      "\u001b[K     |███████████▏                    | 563kB 4.7MB/s eta 0:00:01\r",
      "\u001b[K     |███████████▍                    | 573kB 4.7MB/s eta 0:00:01\r",
      "\u001b[K     |███████████▋                    | 583kB 4.7MB/s eta 0:00:01\r",
      "\u001b[K     |███████████▊                    | 593kB 4.7MB/s eta 0:00:01\r",
      "\u001b[K     |████████████                    | 604kB 4.7MB/s eta 0:00:01\r",
      "\u001b[K     |████████████▏                   | 614kB 4.7MB/s eta 0:00:01\r",
      "\u001b[K     |████████████▍                   | 624kB 4.7MB/s eta 0:00:01\r",
      "\u001b[K     |████████████▋                   | 634kB 4.7MB/s eta 0:00:01\r",
      "\u001b[K     |████████████▉                   | 645kB 4.7MB/s eta 0:00:01\r",
      "\u001b[K     |█████████████                   | 655kB 4.7MB/s eta 0:00:01\r",
      "\u001b[K     |█████████████▏                  | 665kB 4.7MB/s eta 0:00:01\r",
      "\u001b[K     |█████████████▍                  | 675kB 4.7MB/s eta 0:00:01\r",
      "\u001b[K     |█████████████▋                  | 686kB 4.7MB/s eta 0:00:01\r",
      "\u001b[K     |█████████████▉                  | 696kB 4.7MB/s eta 0:00:01\r",
      "\u001b[K     |██████████████                  | 706kB 4.7MB/s eta 0:00:01\r",
      "\u001b[K     |██████████████▏                 | 716kB 4.7MB/s eta 0:00:01\r",
      "\u001b[K     |██████████████▍                 | 727kB 4.7MB/s eta 0:00:01\r",
      "\u001b[K     |██████████████▋                 | 737kB 4.7MB/s eta 0:00:01\r",
      "\u001b[K     |██████████████▉                 | 747kB 4.7MB/s eta 0:00:01\r",
      "\u001b[K     |███████████████                 | 757kB 4.7MB/s eta 0:00:01\r",
      "\u001b[K     |███████████████▎                | 768kB 4.7MB/s eta 0:00:01\r",
      "\u001b[K     |███████████████▍                | 778kB 4.7MB/s eta 0:00:01\r",
      "\u001b[K     |███████████████▋                | 788kB 4.7MB/s eta 0:00:01\r",
      "\u001b[K     |███████████████▉                | 798kB 4.7MB/s eta 0:00:01\r",
      "\u001b[K     |████████████████                | 808kB 4.7MB/s eta 0:00:01\r",
      "\u001b[K     |████████████████▎               | 819kB 4.7MB/s eta 0:00:01\r",
      "\u001b[K     |████████████████▌               | 829kB 4.7MB/s eta 0:00:01\r",
      "\u001b[K     |████████████████▋               | 839kB 4.7MB/s eta 0:00:01\r",
      "\u001b[K     |████████████████▉               | 849kB 4.7MB/s eta 0:00:01\r",
      "\u001b[K     |█████████████████               | 860kB 4.7MB/s eta 0:00:01\r",
      "\u001b[K     |█████████████████▎              | 870kB 4.7MB/s eta 0:00:01\r",
      "\u001b[K     |█████████████████▌              | 880kB 4.7MB/s eta 0:00:01\r",
      "\u001b[K     |█████████████████▋              | 890kB 4.7MB/s eta 0:00:01\r",
      "\u001b[K     |█████████████████▉              | 901kB 4.7MB/s eta 0:00:01\r",
      "\u001b[K     |██████████████████              | 911kB 4.7MB/s eta 0:00:01\r",
      "\u001b[K     |██████████████████▎             | 921kB 4.7MB/s eta 0:00:01\r",
      "\u001b[K     |██████████████████▌             | 931kB 4.7MB/s eta 0:00:01\r",
      "\u001b[K     |██████████████████▊             | 942kB 4.7MB/s eta 0:00:01\r",
      "\u001b[K     |██████████████████▉             | 952kB 4.7MB/s eta 0:00:01\r",
      "\u001b[K     |███████████████████             | 962kB 4.7MB/s eta 0:00:01\r",
      "\u001b[K     |███████████████████▎            | 972kB 4.7MB/s eta 0:00:01\r",
      "\u001b[K     |███████████████████▌            | 983kB 4.7MB/s eta 0:00:01\r",
      "\u001b[K     |███████████████████▊            | 993kB 4.7MB/s eta 0:00:01\r",
      "\u001b[K     |████████████████████            | 1.0MB 4.7MB/s eta 0:00:01\r",
      "\u001b[K     |████████████████████            | 1.0MB 4.7MB/s eta 0:00:01\r",
      "\u001b[K     |████████████████████▎           | 1.0MB 4.7MB/s eta 0:00:01\r",
      "\u001b[K     |████████████████████▌           | 1.0MB 4.7MB/s eta 0:00:01\r",
      "\u001b[K     |████████████████████▊           | 1.0MB 4.7MB/s eta 0:00:01\r",
      "\u001b[K     |█████████████████████           | 1.1MB 4.7MB/s eta 0:00:01\r",
      "\u001b[K     |█████████████████████▏          | 1.1MB 4.7MB/s eta 0:00:01\r",
      "\u001b[K     |█████████████████████▎          | 1.1MB 4.7MB/s eta 0:00:01\r",
      "\u001b[K     |█████████████████████▌          | 1.1MB 4.7MB/s eta 0:00:01\r",
      "\u001b[K     |█████████████████████▊          | 1.1MB 4.7MB/s eta 0:00:01\r",
      "\u001b[K     |██████████████████████          | 1.1MB 4.7MB/s eta 0:00:01\r",
      "\u001b[K     |██████████████████████▏         | 1.1MB 4.7MB/s eta 0:00:01\r",
      "\u001b[K     |██████████████████████▍         | 1.1MB 4.7MB/s eta 0:00:01\r",
      "\u001b[K     |██████████████████████▌         | 1.1MB 4.7MB/s eta 0:00:01\r",
      "\u001b[K     |██████████████████████▊         | 1.1MB 4.7MB/s eta 0:00:01\r",
      "\u001b[K     |███████████████████████         | 1.2MB 4.7MB/s eta 0:00:01\r",
      "\u001b[K     |███████████████████████▏        | 1.2MB 4.7MB/s eta 0:00:01\r",
      "\u001b[K     |███████████████████████▍        | 1.2MB 4.7MB/s eta 0:00:01\r",
      "\u001b[K     |███████████████████████▌        | 1.2MB 4.7MB/s eta 0:00:01\r",
      "\u001b[K     |███████████████████████▊        | 1.2MB 4.7MB/s eta 0:00:01\r",
      "\u001b[K     |████████████████████████        | 1.2MB 4.7MB/s eta 0:00:01\r",
      "\u001b[K     |████████████████████████▏       | 1.2MB 4.7MB/s eta 0:00:01\r",
      "\u001b[K     |████████████████████████▍       | 1.2MB 4.7MB/s eta 0:00:01\r",
      "\u001b[K     |████████████████████████▋       | 1.2MB 4.7MB/s eta 0:00:01\r",
      "\u001b[K     |████████████████████████▊       | 1.2MB 4.7MB/s eta 0:00:01\r",
      "\u001b[K     |█████████████████████████       | 1.3MB 4.7MB/s eta 0:00:01\r",
      "\u001b[K     |█████████████████████████▏      | 1.3MB 4.7MB/s eta 0:00:01\r",
      "\u001b[K     |█████████████████████████▍      | 1.3MB 4.7MB/s eta 0:00:01\r",
      "\u001b[K     |█████████████████████████▋      | 1.3MB 4.7MB/s eta 0:00:01\r",
      "\u001b[K     |█████████████████████████▉      | 1.3MB 4.7MB/s eta 0:00:01\r",
      "\u001b[K     |██████████████████████████      | 1.3MB 4.7MB/s eta 0:00:01\r",
      "\u001b[K     |██████████████████████████▏     | 1.3MB 4.7MB/s eta 0:00:01\r",
      "\u001b[K     |██████████████████████████▍     | 1.3MB 4.7MB/s eta 0:00:01\r",
      "\u001b[K     |██████████████████████████▋     | 1.3MB 4.7MB/s eta 0:00:01\r",
      "\u001b[K     |██████████████████████████▉     | 1.4MB 4.7MB/s eta 0:00:01\r",
      "\u001b[K     |███████████████████████████     | 1.4MB 4.7MB/s eta 0:00:01\r",
      "\u001b[K     |███████████████████████████▏    | 1.4MB 4.7MB/s eta 0:00:01\r",
      "\u001b[K     |███████████████████████████▍    | 1.4MB 4.7MB/s eta 0:00:01\r",
      "\u001b[K     |███████████████████████████▋    | 1.4MB 4.7MB/s eta 0:00:01\r",
      "\u001b[K     |███████████████████████████▉    | 1.4MB 4.7MB/s eta 0:00:01\r",
      "\u001b[K     |████████████████████████████    | 1.4MB 4.7MB/s eta 0:00:01\r",
      "\u001b[K     |████████████████████████████▏   | 1.4MB 4.7MB/s eta 0:00:01\r",
      "\u001b[K     |████████████████████████████▍   | 1.4MB 4.7MB/s eta 0:00:01\r",
      "\u001b[K     |████████████████████████████▋   | 1.4MB 4.7MB/s eta 0:00:01\r",
      "\u001b[K     |████████████████████████████▉   | 1.5MB 4.7MB/s eta 0:00:01\r",
      "\u001b[K     |█████████████████████████████   | 1.5MB 4.7MB/s eta 0:00:01\r",
      "\u001b[K     |█████████████████████████████▎  | 1.5MB 4.7MB/s eta 0:00:01\r",
      "\u001b[K     |█████████████████████████████▍  | 1.5MB 4.7MB/s eta 0:00:01\r",
      "\u001b[K     |█████████████████████████████▋  | 1.5MB 4.7MB/s eta 0:00:01\r",
      "\u001b[K     |█████████████████████████████▉  | 1.5MB 4.7MB/s eta 0:00:01\r",
      "\u001b[K     |██████████████████████████████  | 1.5MB 4.7MB/s eta 0:00:01\r",
      "\u001b[K     |██████████████████████████████▎ | 1.5MB 4.7MB/s eta 0:00:01\r",
      "\u001b[K     |██████████████████████████████▌ | 1.5MB 4.7MB/s eta 0:00:01\r",
      "\u001b[K     |██████████████████████████████▋ | 1.5MB 4.7MB/s eta 0:00:01\r",
      "\u001b[K     |██████████████████████████████▉ | 1.6MB 4.7MB/s eta 0:00:01\r",
      "\u001b[K     |███████████████████████████████ | 1.6MB 4.7MB/s eta 0:00:01\r",
      "\u001b[K     |███████████████████████████████▎| 1.6MB 4.7MB/s eta 0:00:01\r",
      "\u001b[K     |███████████████████████████████▌| 1.6MB 4.7MB/s eta 0:00:01\r",
      "\u001b[K     |███████████████████████████████▊| 1.6MB 4.7MB/s eta 0:00:01\r",
      "\u001b[K     |███████████████████████████████▉| 1.6MB 4.7MB/s eta 0:00:01\r",
      "\u001b[K     |████████████████████████████████| 1.6MB 4.7MB/s \n",
      "\u001b[?25hRequirement already satisfied: wheel>=0.23.0 in /usr/local/lib/python3.6/dist-packages (from pyLDAvis) (0.33.6)\n",
      "Requirement already satisfied: numpy>=1.9.2 in /usr/local/lib/python3.6/dist-packages (from pyLDAvis) (1.17.4)\n",
      "Requirement already satisfied: scipy>=0.18.0 in /usr/local/lib/python3.6/dist-packages (from pyLDAvis) (1.3.2)\n",
      "Requirement already satisfied: pandas>=0.17.0 in /usr/local/lib/python3.6/dist-packages (from pyLDAvis) (0.25.3)\n",
      "Requirement already satisfied: joblib>=0.8.4 in /usr/local/lib/python3.6/dist-packages (from pyLDAvis) (0.14.0)\n",
      "Requirement already satisfied: jinja2>=2.7.2 in /usr/local/lib/python3.6/dist-packages (from pyLDAvis) (2.10.3)\n",
      "Requirement already satisfied: numexpr in /usr/local/lib/python3.6/dist-packages (from pyLDAvis) (2.7.0)\n",
      "Requirement already satisfied: pytest in /usr/local/lib/python3.6/dist-packages (from pyLDAvis) (3.6.4)\n",
      "Requirement already satisfied: future in /usr/local/lib/python3.6/dist-packages (from pyLDAvis) (0.16.0)\n",
      "Collecting funcy\n",
      "  Downloading https://files.pythonhosted.org/packages/eb/3a/fc8323f913e8a9c6f33f7203547f8a2171223da5ed965f2541dafb10aa09/funcy-1.13-py2.py3-none-any.whl\n",
      "Requirement already satisfied: python-dateutil>=2.6.1 in /usr/local/lib/python3.6/dist-packages (from pandas>=0.17.0->pyLDAvis) (2.6.1)\n",
      "Requirement already satisfied: pytz>=2017.2 in /usr/local/lib/python3.6/dist-packages (from pandas>=0.17.0->pyLDAvis) (2018.9)\n",
      "Requirement already satisfied: MarkupSafe>=0.23 in /usr/local/lib/python3.6/dist-packages (from jinja2>=2.7.2->pyLDAvis) (1.1.1)\n",
      "Requirement already satisfied: six>=1.10.0 in /usr/local/lib/python3.6/dist-packages (from pytest->pyLDAvis) (1.12.0)\n",
      "Requirement already satisfied: attrs>=17.4.0 in /usr/local/lib/python3.6/dist-packages (from pytest->pyLDAvis) (19.3.0)\n",
      "Requirement already satisfied: atomicwrites>=1.0 in /usr/local/lib/python3.6/dist-packages (from pytest->pyLDAvis) (1.3.0)\n",
      "Requirement already satisfied: py>=1.5.0 in /usr/local/lib/python3.6/dist-packages (from pytest->pyLDAvis) (1.8.0)\n",
      "Requirement already satisfied: setuptools in /usr/local/lib/python3.6/dist-packages (from pytest->pyLDAvis) (41.6.0)\n",
      "Requirement already satisfied: pluggy<0.8,>=0.5 in /usr/local/lib/python3.6/dist-packages (from pytest->pyLDAvis) (0.7.1)\n",
      "Requirement already satisfied: more-itertools>=4.0.0 in /usr/local/lib/python3.6/dist-packages (from pytest->pyLDAvis) (7.2.0)\n",
      "Building wheels for collected packages: pyLDAvis\n",
      "  Building wheel for pyLDAvis (setup.py) ... \u001b[?25l\u001b[?25hdone\n",
      "  Created wheel for pyLDAvis: filename=pyLDAvis-2.1.2-py2.py3-none-any.whl size=97711 sha256=5b2c4e47b95e048edec2fbeea6f079f57a388012d1edbb8ac8ade1b04b07b41f\n",
      "  Stored in directory: /root/.cache/pip/wheels/98/71/24/513a99e58bb6b8465bae4d2d5e9dba8f0bef8179e3051ac414\n",
      "Successfully built pyLDAvis\n",
      "Installing collected packages: funcy, pyLDAvis\n",
      "Successfully installed funcy-1.13 pyLDAvis-2.1.2\n"
     ]
    }
   ],
   "source": [
    "pip install pyLDAvis"
   ]
  },
  {
   "cell_type": "code",
   "execution_count": 144,
   "metadata": {
    "colab": {
     "base_uri": "https://localhost:8080/",
     "height": 881
    },
    "colab_type": "code",
    "id": "HZX1PeHSqfYB",
    "outputId": "5b7ac39f-f16e-48db-d1a0-02b390aaf1b1"
   },
   "outputs": [
    {
     "data": {
      "text/html": [
       "\n",
       "<link rel=\"stylesheet\" type=\"text/css\" href=\"https://cdn.rawgit.com/bmabey/pyLDAvis/files/ldavis.v1.0.0.css\">\n",
       "\n",
       "\n",
       "<div id=\"ldavis_el1231398974867861365987436395\"></div>\n",
       "<script type=\"text/javascript\">\n",
       "\n",
       "var ldavis_el1231398974867861365987436395_data = {\"mdsDat\": {\"x\": [0.029511497358006452, 0.09588516290059368, -0.009590066464648904, 0.08535874366866616, -0.13665002252022954, -0.06451531494238771], \"y\": [-0.13758009810593738, 0.11362364815623337, -0.011828507931995224, -0.0009335459657897584, 0.06237595588381213, -0.025657452036323167], \"topics\": [1, 2, 3, 4, 5, 6], \"cluster\": [1, 1, 1, 1, 1, 1], \"Freq\": [34.85861587524414, 13.787217140197754, 13.618925094604492, 12.912284851074219, 12.708349227905273, 12.11461067199707]}, \"tinfo\": {\"Category\": [\"Default\", \"Default\", \"Default\", \"Default\", \"Default\", \"Default\", \"Default\", \"Default\", \"Default\", \"Default\", \"Default\", \"Default\", \"Default\", \"Default\", \"Default\", \"Default\", \"Default\", \"Default\", \"Default\", \"Default\", \"Default\", \"Default\", \"Default\", \"Default\", \"Default\", \"Default\", \"Default\", \"Default\", \"Default\", \"Default\", \"Topic1\", \"Topic1\", \"Topic1\", \"Topic1\", \"Topic1\", \"Topic1\", \"Topic1\", \"Topic1\", \"Topic1\", \"Topic1\", \"Topic1\", \"Topic1\", \"Topic1\", \"Topic1\", \"Topic1\", \"Topic1\", \"Topic1\", \"Topic1\", \"Topic1\", \"Topic1\", \"Topic1\", \"Topic1\", \"Topic1\", \"Topic1\", \"Topic1\", \"Topic1\", \"Topic1\", \"Topic1\", \"Topic1\", \"Topic1\", \"Topic1\", \"Topic1\", \"Topic1\", \"Topic1\", \"Topic1\", \"Topic1\", \"Topic1\", \"Topic1\", \"Topic1\", \"Topic1\", \"Topic1\", \"Topic1\", \"Topic1\", \"Topic1\", \"Topic1\", \"Topic1\", \"Topic1\", \"Topic1\", \"Topic1\", \"Topic1\", \"Topic1\", \"Topic1\", \"Topic1\", \"Topic1\", \"Topic1\", \"Topic1\", \"Topic1\", \"Topic1\", \"Topic1\", \"Topic1\", \"Topic1\", \"Topic1\", \"Topic1\", \"Topic2\", \"Topic2\", \"Topic2\", \"Topic2\", \"Topic2\", \"Topic2\", \"Topic2\", \"Topic2\", \"Topic2\", \"Topic2\", \"Topic2\", \"Topic2\", \"Topic2\", \"Topic2\", \"Topic2\", \"Topic2\", \"Topic2\", \"Topic2\", \"Topic2\", \"Topic2\", \"Topic2\", \"Topic2\", \"Topic2\", \"Topic2\", \"Topic2\", \"Topic2\", \"Topic2\", \"Topic2\", \"Topic2\", \"Topic2\", \"Topic2\", \"Topic2\", \"Topic2\", \"Topic2\", \"Topic2\", \"Topic2\", \"Topic2\", \"Topic2\", \"Topic2\", \"Topic2\", \"Topic2\", \"Topic2\", \"Topic2\", \"Topic2\", \"Topic2\", \"Topic2\", \"Topic2\", \"Topic2\", \"Topic2\", \"Topic2\", \"Topic2\", \"Topic2\", \"Topic2\", \"Topic3\", \"Topic3\", \"Topic3\", \"Topic3\", \"Topic3\", \"Topic3\", \"Topic3\", \"Topic3\", \"Topic3\", \"Topic3\", \"Topic3\", \"Topic3\", \"Topic3\", \"Topic3\", \"Topic3\", \"Topic3\", \"Topic3\", \"Topic3\", \"Topic3\", \"Topic3\", \"Topic3\", \"Topic3\", \"Topic3\", \"Topic3\", \"Topic3\", \"Topic3\", \"Topic3\", \"Topic3\", \"Topic3\", \"Topic3\", \"Topic3\", \"Topic3\", \"Topic3\", \"Topic3\", \"Topic3\", \"Topic3\", \"Topic3\", \"Topic3\", \"Topic3\", \"Topic3\", \"Topic3\", \"Topic3\", \"Topic3\", \"Topic3\", \"Topic3\", \"Topic3\", \"Topic3\", \"Topic3\", \"Topic3\", \"Topic3\", \"Topic3\", \"Topic3\", \"Topic3\", \"Topic3\", \"Topic3\", \"Topic3\", \"Topic3\", \"Topic3\", \"Topic4\", \"Topic4\", \"Topic4\", \"Topic4\", \"Topic4\", \"Topic4\", \"Topic4\", \"Topic4\", \"Topic4\", \"Topic4\", \"Topic4\", \"Topic4\", \"Topic4\", \"Topic4\", \"Topic4\", \"Topic4\", \"Topic4\", \"Topic4\", \"Topic4\", \"Topic4\", \"Topic4\", \"Topic4\", \"Topic4\", \"Topic4\", \"Topic4\", \"Topic4\", \"Topic4\", \"Topic4\", \"Topic4\", \"Topic4\", \"Topic4\", \"Topic4\", \"Topic4\", \"Topic4\", \"Topic4\", \"Topic4\", \"Topic4\", \"Topic4\", \"Topic4\", \"Topic4\", \"Topic4\", \"Topic4\", \"Topic4\", \"Topic4\", \"Topic4\", \"Topic4\", \"Topic4\", \"Topic4\", \"Topic4\", \"Topic4\", \"Topic4\", \"Topic4\", \"Topic4\", \"Topic4\", \"Topic4\", \"Topic4\", \"Topic4\", \"Topic5\", \"Topic5\", \"Topic5\", \"Topic5\", \"Topic5\", \"Topic5\", \"Topic5\", \"Topic5\", \"Topic5\", \"Topic5\", \"Topic5\", \"Topic5\", \"Topic5\", \"Topic5\", \"Topic5\", \"Topic5\", \"Topic5\", \"Topic5\", \"Topic5\", \"Topic5\", \"Topic5\", \"Topic5\", \"Topic5\", \"Topic5\", \"Topic5\", \"Topic5\", \"Topic5\", \"Topic5\", \"Topic5\", \"Topic5\", \"Topic5\", \"Topic5\", \"Topic5\", \"Topic5\", \"Topic5\", \"Topic5\", \"Topic5\", \"Topic5\", \"Topic5\", \"Topic5\", \"Topic5\", \"Topic5\", \"Topic5\", \"Topic5\", \"Topic5\", \"Topic5\", \"Topic5\", \"Topic5\", \"Topic5\", \"Topic5\", \"Topic5\", \"Topic5\", \"Topic5\", \"Topic5\", \"Topic5\", \"Topic5\", \"Topic5\", \"Topic5\", \"Topic5\", \"Topic5\", \"Topic6\", \"Topic6\", \"Topic6\", \"Topic6\", \"Topic6\", \"Topic6\", \"Topic6\", \"Topic6\", \"Topic6\", \"Topic6\", \"Topic6\", \"Topic6\", \"Topic6\", \"Topic6\", \"Topic6\", \"Topic6\", \"Topic6\", \"Topic6\", \"Topic6\", \"Topic6\", \"Topic6\", \"Topic6\", \"Topic6\", \"Topic6\", \"Topic6\", \"Topic6\", \"Topic6\", \"Topic6\", \"Topic6\", \"Topic6\", \"Topic6\", \"Topic6\", \"Topic6\", \"Topic6\", \"Topic6\", \"Topic6\", \"Topic6\", \"Topic6\", \"Topic6\", \"Topic6\", \"Topic6\", \"Topic6\", \"Topic6\", \"Topic6\", \"Topic6\", \"Topic6\", \"Topic6\", \"Topic6\", \"Topic6\", \"Topic6\", \"Topic6\", \"Topic6\", \"Topic6\", \"Topic6\", \"Topic6\", \"Topic6\", \"Topic6\"], \"Freq\": [46.0, 27.0, 24.0, 21.0, 22.0, 61.0, 17.0, 16.0, 22.0, 8.0, 11.0, 23.0, 22.0, 28.0, 7.0, 7.0, 10.0, 7.0, 17.0, 19.0, 10.0, 8.0, 11.0, 22.0, 32.0, 14.0, 35.0, 8.0, 8.0, 8.0, 6.518802642822266, 10.162942886352539, 4.87979793548584, 4.809303283691406, 10.844264030456543, 4.150400161743164, 5.148150444030762, 6.269021987915039, 3.7891736030578613, 5.89152193069458, 18.375547409057617, 3.7705769538879395, 15.710444450378418, 3.177417039871216, 13.97944450378418, 3.9521586894989014, 3.967618227005005, 3.551591396331787, 3.6822545528411865, 9.060197830200195, 2.511430501937866, 2.5114285945892334, 2.51141357421875, 2.5114071369171143, 2.511402130126953, 2.5113987922668457, 2.5113914012908936, 2.5113909244537354, 2.511375904083252, 2.5113725662231445, 23.305328369140625, 3.8156375885009766, 24.177751541137695, 8.107463836669922, 24.956995010375977, 19.07149314880371, 6.632634162902832, 33.04689407348633, 19.927087783813477, 5.533455848693848, 66.41136932373047, 38.134944915771484, 22.888160705566406, 18.391357421875, 30.208337783813477, 19.184675216674805, 14.344099044799805, 9.882112503051758, 9.283243179321289, 15.131830215454102, 16.15789222717285, 9.22105884552002, 12.047733306884766, 8.216409683227539, 10.860000610351562, 20.69588279724121, 14.625869750976562, 16.0548095703125, 13.186288833618164, 11.611659049987793, 13.076929092407227, 13.215253829956055, 10.028874397277832, 5.0160698890686035, 4.970536231994629, 2.7060928344726562, 2.7060930728912354, 2.7027485370635986, 2.702704668045044, 2.6894466876983643, 2.688751459121704, 3.150681495666504, 4.517909526824951, 4.909658908843994, 4.237334251403809, 5.725420951843262, 2.1127965450286865, 4.6374192237854, 3.884937047958374, 7.696918964385986, 2.728712558746338, 6.018521785736084, 1.416408658027649, 1.416373372077942, 2.1480751037597656, 2.14836049079895, 1.2160062789916992, 2.1849632263183594, 4.801357269287109, 1.5625630617141724, 1.5953683853149414, 1.5950658321380615, 13.297962188720703, 10.751167297363281, 6.582013130187988, 2.7058193683624268, 23.188278198242188, 11.337292671203613, 2.7057080268859863, 6.50234317779541, 18.30976676940918, 8.646437644958496, 6.653957843780518, 3.4377810955047607, 8.240022659301758, 4.926558017730713, 6.041830539703369, 4.851742267608643, 5.551654815673828, 4.2901530265808105, 5.019540786743164, 3.3593733310699463, 5.616053104400635, 5.80318546295166, 4.466716766357422, 4.816701412200928, 6.762935161590576, 4.466799259185791, 3.371029853820801, 4.582291126251221, 3.763683795928955, 2.7499516010284424, 2.2988953590393066, 2.2988831996917725, 2.2988715171813965, 2.298872232437134, 2.2988457679748535, 2.298830270767212, 2.298818349838257, 2.2988154888153076, 2.2987940311431885, 2.2987797260284424, 2.2987253665924072, 2.2987210750579834, 2.275735378265381, 3.473129987716675, 8.408853530883789, 3.5403189659118652, 2.24528169631958, 7.505756378173828, 1.6422885656356812, 2.2983407974243164, 1.2033013105392456, 1.2032827138900757, 2.298619031906128, 1.0329020023345947, 3.358665704727173, 5.649559020996094, 2.998448371887207, 11.468512535095215, 5.70658540725708, 10.904304504394531, 7.172361373901367, 12.594842910766602, 4.433298587799072, 3.6189181804656982, 6.753177165985107, 5.8335981369018555, 5.657243251800537, 7.041230201721191, 6.659414291381836, 5.412911891937256, 2.9204084873199463, 6.526768684387207, 4.743319034576416, 4.749331474304199, 8.022937774658203, 3.997164487838745, 4.453085899353027, 4.251227855682373, 4.580426216125488, 4.350834369659424, 3.8057568073272705, 3.7758209705352783, 2.839938163757324, 2.3740851879119873, 2.3740761280059814, 2.3740670680999756, 2.3740618228912354, 2.3740460872650146, 2.3740453720092773, 2.3740320205688477, 2.374023199081421, 2.3740103244781494, 2.37399959564209, 2.373997449874878, 2.373987913131714, 2.3737778663635254, 2.9035305976867676, 2.6922292709350586, 2.679048776626587, 2.674394369125366, 2.668879508972168, 2.6605021953582764, 2.656757354736328, 2.6519691944122314, 2.6419267654418945, 2.641733169555664, 3.481100559234619, 2.3730106353759766, 4.830909729003906, 2.373417615890503, 3.919123411178589, 1.2426329851150513, 4.818787574768066, 5.077712059020996, 7.018823623657227, 12.634230613708496, 4.240192890167236, 9.54174518585205, 5.479814052581787, 3.7738940715789795, 5.775017261505127, 7.02623987197876, 5.32600212097168, 6.573171138763428, 8.337814331054688, 5.575808048248291, 3.157430410385132, 5.640030860900879, 9.130614280700684, 6.027096271514893, 3.8854875564575195, 6.162358283996582, 5.068906307220459, 4.880167484283447, 5.351158142089844, 4.951091289520264, 3.6104238033294678, 3.799395799636841, 3.025642156600952, 6.6171345710754395, 6.616356372833252, 7.3385491371154785, 3.2899482250213623, 3.2895798683166504, 4.806151866912842, 4.374495506286621, 2.2658236026763916, 2.26578950881958, 4.600351333618164, 4.600041389465332, 1.8942536115646362, 1.894248366355896, 1.8942408561706543, 1.8942393064498901, 1.8942322731018066, 1.8942307233810425, 1.894227385520935, 1.894226312637329, 1.8942232131958008, 1.894218921661377, 1.8942087888717651, 1.8942033052444458, 1.8942028284072876, 1.8941985368728638, 1.894195795059204, 1.8941689729690552, 1.8941559791564941, 1.89414644241333, 1.8941267728805542, 3.58126163482666, 5.859630107879639, 13.201294898986816, 11.631776809692383, 4.564256191253662, 10.009727478027344, 2.3382179737091064, 2.3381502628326416, 5.521490097045898, 3.944348096847534, 2.284154176712036, 2.246983528137207, 2.637176752090454, 2.637155294418335, 3.4188072681427, 2.158407211303711, 9.311640739440918, 5.393247127532959, 6.612386703491211, 5.171519756317139, 3.853652000427246, 3.875732660293579, 4.823668479919434, 3.881801128387451, 4.273438453674316, 2.6391091346740723, 2.969632863998413, 3.150491237640381, 3.125756025314331, 3.1709744930267334, 3.1496994495391846, 3.1495282649993896, 2.479647159576416, 2.4796302318573, 2.4796228408813477, 2.4796180725097656, 2.479614019393921, 2.479586601257324, 4.199986934661865, 2.121676206588745, 1.9680306911468506, 5.025099754333496, 1.7364729642868042, 5.714817047119141, 2.5199451446533203, 2.4783549308776855, 2.4792206287384033, 3.479280710220337, 1.4212738275527954, 1.9682636260986328, 2.818039894104004, 2.4797821044921875, 1.1141369342803955, 1.2315233945846558, 2.2089271545410156, 2.479337692260742, 2.479022979736328, 2.4792962074279785, 2.4795095920562744, 2.818126916885376, 9.275578498840332, 2.8241677284240723, 2.752984046936035, 7.3588457107543945, 5.423124313354492, 3.452355146408081, 3.1495862007141113, 14.765743255615234, 5.277876853942871, 6.823412895202637, 5.612922668457031, 7.389665126800537, 5.193799018859863, 5.775157451629639, 4.400326728820801, 4.804569721221924, 4.79146146774292, 5.06947135925293, 4.033779144287109, 3.7003395557403564, 3.0888588428497314, 3.522536039352417, 3.148904323577881, 3.8554704189300537, 3.360464334487915, 3.1506099700927734, 3.2140963077545166], \"Term\": [\"adaptation\", \"fish\", \"underwater\", \"people\", \"marine biology\", \"photography\", \"smile\", \"architecture\", \"human\", \"cartilaginous fish\", \"geology\", \"event\", \"geological phenomenon\", \"rock\", \"shark\", \"great white shark\", \"crowd\", \"ancient history\", \"grassland\", \"grass\", \"community\", \"reptile\", \"formation\", \"room\", \"mountain\", \"mountain range\", \"landscape\", \"building\", \"snow\", \"skin\", \"monochrome photography\", \"forest\", \"woodland\", \"small to medium-sized cats\", \"sporting group\", \"body of water\", \"beach\", \"calm\", \"cougar\", \"jungle\", \"carnivore\", \"puma\", \"horizon\", \"erg\", \"canidae\", \"monochrome\", \"dune\", \"sahara\", \"old-growth forest\", \"dog breed\", \"open water swimming\", \"kudu\", \"singing sand\", \"oryx\", \"hairfinned silverfish\", \"deep sea fish\", \"cow-goat family\", \"ad\\u00e3\\u00a9lie penguin\", \"temperate broadleaf and mixed forest\", \"tower\", \"nature\", \"aeolian landform\", \"ocean\", \"dog\", \"natural landscape\", \"natural environment\", \"lighting\", \"cloud\", \"blue\", \"sunset\", \"sky\", \"water\", \"sea\", \"night\", \"tree\", \"mountain\", \"atmospheric phenomenon\", \"morning\", \"photograph\", \"mountainous landforms\", \"mammal\", \"felidae\", \"atmosphere\", \"black-and-white\", \"light\", \"wildlife\", \"fun\", \"vertebrate\", \"terrestrial animal\", \"wilderness\", \"organism\", \"photography\", \"plant\", \"wrinkle\", \"nose\", \"rope\", \"pelican\", \"austrian pinscher\", \"rare breed (dog)\", \"bull shark\", \"requiem shark\", \"eye\", \"pollution\", \"hair\", \"head\", \"tribe\", \"youth\", \"face\", \"long hair\", \"crowd\", \"chin\", \"skin\", \"cheek\", \"dance\", \"joint\", \"shoulder\", \"forehead\", \"hairstyle\", \"soil\", \"blond\", \"litter\", \"scrap\", \"people\", \"smile\", \"community\", \"ciconiiformes\", \"adaptation\", \"human\", \"stork\", \"leisure\", \"photography\", \"event\", \"grassland\", \"seabird\", \"tree\", \"child\", \"plant\", \"grass\", \"landscape\", \"bird\", \"fun\", \"sitting\", \"wildlife\", \"sky\", \"blue\", \"cloud\", \"ancient history\", \"tilapia\", \"screenshot\", \"historic site\", \"wadi\", \"coral reef fish\", \"party\", \"snares penguin\", \"net\", \"digital compositing\", \"rite\", \"marriage\", \"bed sheet\", \"king penguin\", \"bedroom\", \"bed\", \"environmental art\", \"labyrinth\", \"history\", \"ruins\", \"geology\", \"plain\", \"cave\", \"formation\", \"agriculture\", \"circle\", \"holy places\", \"flamingo\", \"shadow\", \"unesco world heritage site\", \"ceremony\", \"field\", \"world\", \"rock\", \"temple\", \"landscape\", \"room\", \"photography\", \"tradition\", \"happy\", \"fish\", \"geological phenomenon\", \"tourism\", \"vertebrate\", \"organism\", \"underwater\", \"feather\", \"cloud\", \"marine biology\", \"event\", \"sky\", \"bird\", \"fun\", \"mammal\", \"tree\", \"wildlife\", \"sea\", \"adaptation\", \"stage\", \"manatee\", \"horse grooming\", \"sea cows\", \"dugong\", \"giraffidae\", \"giraffe\", \"heater\", \"dairy cow\", \"stable\", \"pony\", \"costume design\", \"drama\", \"tent\", \"freezing\", \"army\", \"military organization\", \"military\", \"soldier\", \"military uniform\", \"infantry\", \"military camouflage\", \"marines\", \"troop\", \"formal wear\", \"font\", \"branch\", \"still life photography\", \"grass family\", \"bird of prey\", \"snow\", \"winter\", \"grass\", \"wildlife\", \"marine mammal\", \"vertebrate\", \"snout\", \"performance\", \"green\", \"plant\", \"grassland\", \"terrestrial animal\", \"water\", \"event\", \"livestock\", \"mammal\", \"sky\", \"organism\", \"nature reserve\", \"tree\", \"fun\", \"rock\", \"photography\", \"adaptation\", \"horse\", \"wilderness\", \"black-and-white\", \"shark\", \"great white shark\", \"cartilaginous fish\", \"lamniformes\", \"lamnidae\", \"tiger shark\", \"olive ridley sea turtle\", \"burmese python\", \"python\", \"green sea turtle\", \"sea turtle\", \"service\", \"wrasses\", \"python family\", \"clinic\", \"honeymoon\", \"patient\", \"hospital bed\", \"hospital\", \"birth\", \"romance\", \"operating theater\", \"dressmaker\", \"knitting\", \"parrotfish\", \"tropics\", \"hognose snake\", \"electronic device\", \"display device\", \"visual effect lighting\", \"turtle\", \"reptile\", \"fish\", \"underwater\", \"stock photography\", \"marine biology\", \"loggerhead sea turtle\", \"hawksbill sea turtle\", \"art\", \"lady\", \"interaction\", \"visual arts\", \"snake\", \"scaled reptile\", \"dress\", \"kemp's ridley sea turtle\", \"sky\", \"sea\", \"water\", \"organism\", \"smile\", \"mountainous landforms\", \"photography\", \"mountain\", \"wildlife\", \"games\", \"wave\", \"human\", \"geological phenomenon\", \"adaptation\", \"gesture\", \"macro photography\", \"old world flycatcher\", \"stallion\", \"songbird\", \"bluebird\", \"perching bird\", \"swallow\", \"alps\", \"facade\", \"ar\\u00eate\", \"house\", \"property\", \"building\", \"massif\", \"meteorological phenomenon\", \"arm\", \"pink\", \"real estate\", \"elapidae\", \"orange\", \"mare\", \"industry\", \"ceiling\", \"home\", \"beard\", \"flesh\", \"facial hair\", \"tail\", \"urban area\", \"architecture\", \"road\", \"landmark\", \"geological phenomenon\", \"mountain range\", \"aerial photography\", \"working animal\", \"sky\", \"recreation\", \"mountain\", \"night\", \"photography\", \"mountainous landforms\", \"adaptation\", \"room\", \"landscape\", \"organism\", \"wildlife\", \"tourism\", \"light\", \"ridge\", \"grass\", \"beak\", \"water\", \"human\", \"horse\", \"wilderness\"], \"Total\": [46.0, 27.0, 24.0, 21.0, 22.0, 61.0, 17.0, 16.0, 22.0, 8.0, 11.0, 23.0, 22.0, 28.0, 7.0, 7.0, 10.0, 7.0, 17.0, 19.0, 10.0, 8.0, 11.0, 22.0, 32.0, 14.0, 35.0, 8.0, 8.0, 8.0, 7.189168453216553, 11.462064743041992, 5.549256801605225, 5.554725646972656, 12.557181358337402, 4.820566654205322, 6.006421089172363, 7.355742931365967, 4.544628620147705, 7.066411018371582, 22.043956756591797, 4.546024322509766, 19.022109985351562, 3.8584961891174316, 17.00669288635254, 4.80972146987915, 4.842137813568115, 4.34141206741333, 4.525392055511475, 11.421147346496582, 3.180677652359009, 3.180675506591797, 3.1806743144989014, 3.180673122406006, 3.180673837661743, 3.180675506591797, 3.180673599243164, 3.1806743144989014, 3.1806716918945312, 3.1806724071502686, 29.824113845825195, 4.833436965942383, 31.396974563598633, 10.407205581665039, 34.65583419799805, 26.929494857788086, 8.85891056060791, 48.97218704223633, 29.627975463867188, 7.494974613189697, 113.44548034667969, 62.989471435546875, 36.95002746582031, 28.7740535736084, 52.39891052246094, 32.6203727722168, 23.027603149414062, 14.678096771240234, 13.791694641113281, 25.848819732666016, 29.43328285217285, 13.866260528564453, 20.23117446899414, 11.976521492004395, 18.5233097076416, 52.63990783691406, 31.369421005249023, 39.980838775634766, 28.28738784790039, 22.4112548828125, 35.88176727294922, 61.684356689453125, 28.37101936340332, 5.871639728546143, 5.8577117919921875, 3.3642942905426025, 3.364295721054077, 3.36405611038208, 3.364051342010498, 3.3593008518218994, 3.359102249145508, 4.037084102630615, 5.813929557800293, 6.390897750854492, 5.523468017578125, 7.556446552276611, 2.8019633293151855, 6.155574798583984, 5.212011337280273, 10.441441535949707, 3.7706615924835205, 8.599299430847168, 2.074753999710083, 2.074742555618286, 3.178257465362549, 3.1933562755584717, 1.8743938207626343, 3.4275927543640137, 7.644429683685303, 2.490433692932129, 2.552933692932129, 2.5528976917266846, 21.346111297607422, 17.322734832763672, 10.954307556152344, 4.497753143310547, 46.80636215209961, 22.6629695892334, 4.497754096984863, 14.446949005126953, 61.684356689453125, 23.827938079833984, 17.541278839111328, 6.88543701171875, 52.39891052246094, 16.774669647216797, 28.37101936340332, 19.355716705322266, 35.08332824707031, 16.16672134399414, 31.369421005249023, 7.428709983825684, 52.63990783691406, 113.44548034667969, 29.627975463867188, 48.97218704223633, 7.7686004638671875, 5.1483893394470215, 4.052953243255615, 5.601471424102783, 4.681878566741943, 3.4314894676208496, 2.9802350997924805, 2.9802353382110596, 2.9802370071411133, 2.980238914489746, 2.980236530303955, 2.980238199234009, 2.9802379608154297, 2.980239152908325, 2.980238676071167, 2.9802427291870117, 2.980242967605591, 2.9802422523498535, 2.9574928283691406, 4.531646251678467, 11.076709747314453, 4.706737518310547, 3.2934353351593018, 11.110798835754395, 2.4741616249084473, 3.4669909477233887, 1.8847851753234863, 1.8847864866256714, 3.6505556106567383, 1.7145873308181763, 5.648285388946533, 10.244388580322266, 5.25926399230957, 28.9821834564209, 12.804987907409668, 35.08332824707031, 22.342029571533203, 61.684356689453125, 10.587303161621094, 7.447459697723389, 27.375215530395508, 22.72196388244629, 21.22845458984375, 39.980838775634766, 35.88176727294922, 24.00193977355957, 5.38832426071167, 48.97218704223633, 22.73921012878418, 23.827938079833984, 113.44548034667969, 16.16672134399414, 31.369421005249023, 29.43328285217285, 52.39891052246094, 52.63990783691406, 36.95002746582031, 46.80636215209961, 3.5171401500701904, 3.0511367321014404, 3.051135778427124, 3.0511369705200195, 3.051135778427124, 3.051135540008545, 3.0511364936828613, 3.0511350631713867, 3.051133871078491, 3.0511393547058105, 3.051136016845703, 3.0511369705200195, 3.0511372089385986, 3.051138162612915, 3.811471700668335, 3.654041051864624, 3.64865779876709, 3.646794080734253, 3.644576072692871, 3.64115571975708, 3.639674186706543, 3.637707233428955, 3.6336750984191895, 3.633605480194092, 4.890460968017578, 3.4228386878967285, 7.163114547729492, 3.544100761413574, 5.995223522186279, 1.9198548793792725, 8.140589714050293, 8.669013023376465, 19.355716705322266, 52.63990783691406, 8.671576499938965, 39.980838775634766, 14.876392364501953, 7.519345283508301, 17.428937911987305, 28.37101936340332, 17.541278839111328, 28.28738784790039, 62.989471435546875, 23.827938079833984, 6.030539035797119, 29.43328285217285, 113.44548034667969, 35.88176727294922, 11.881678581237793, 52.39891052246094, 31.369421005249023, 28.9821834564209, 61.684356689453125, 46.80636215209961, 12.743584632873535, 22.4112548828125, 11.976521492004395, 7.673087120056152, 7.673407554626465, 8.608259201049805, 3.994680166244507, 3.9947972297668457, 5.897036552429199, 5.631642818450928, 2.970550060272217, 2.9705634117126465, 6.051308631896973, 6.051394939422607, 2.598651170730591, 2.5986533164978027, 2.598655939102173, 2.5986568927764893, 2.598658561706543, 2.5986595153808594, 2.5986618995666504, 2.598661422729492, 2.5986616611480713, 2.598663330078125, 2.5986664295196533, 2.598665952682495, 2.598667621612549, 2.598668336868286, 2.59867000579834, 2.5986812114715576, 2.5986835956573486, 2.5986859798431396, 2.5986926555633545, 5.001443386077881, 8.948792457580566, 27.375215530395508, 24.00193977355957, 7.612617492675781, 22.73921012878418, 3.4385013580322266, 3.4385221004486084, 12.450896263122559, 8.575536727905273, 3.628628969192505, 3.596038818359375, 5.1698503494262695, 5.169846534729004, 9.065292358398438, 3.4913978576660156, 113.44548034667969, 36.95002746582031, 62.989471435546875, 35.88176727294922, 17.322734832763672, 25.848819732666016, 61.684356689453125, 32.6203727722168, 52.63990783691406, 6.1971940994262695, 11.798216819763184, 22.6629695892334, 22.72196388244629, 46.80636215209961, 3.8209636211395264, 3.820991039276123, 3.1506905555725098, 3.1506919860839844, 3.150691032409668, 3.1506924629211426, 3.1506905555725098, 3.1506900787353516, 5.484894275665283, 2.8159358501434326, 2.639394760131836, 6.862590789794922, 2.4602088928222656, 8.109975814819336, 3.6073904037475586, 3.662724256515503, 3.6818816661834717, 5.193222999572754, 2.1581552028656006, 3.011359691619873, 4.318181991577148, 3.8273138999938965, 1.785508155822754, 1.97515070438385, 3.6260592937469482, 4.155668258666992, 4.155177116394043, 4.155665397644043, 4.322471618652344, 4.979457855224609, 16.569400787353516, 5.1324462890625, 5.074727535247803, 22.72196388244629, 14.695618629455566, 7.379763603210449, 6.48866081237793, 113.44548034667969, 17.142091751098633, 32.6203727722168, 28.7740535736084, 61.684356689453125, 25.848819732666016, 46.80636215209961, 22.342029571533203, 35.08332824707031, 35.88176727294922, 52.63990783691406, 21.22845458984375, 18.5233097076416, 9.493617057800293, 19.355716705322266, 12.602668762207031, 62.989471435546875, 22.6629695892334, 12.743584632873535, 22.4112548828125], \"loglift\": [30.0, 29.0, 28.0, 27.0, 26.0, 25.0, 24.0, 23.0, 22.0, 21.0, 20.0, 19.0, 18.0, 17.0, 16.0, 15.0, 14.0, 13.0, 12.0, 11.0, 10.0, 9.0, 8.0, 7.0, 6.0, 5.0, 4.0, 3.0, 2.0, 1.0, 0.9559999704360962, 0.9336000084877014, 0.9253000020980835, 0.9097999930381775, 0.9071999788284302, 0.90420001745224, 0.8996999859809875, 0.8939999938011169, 0.8720999956130981, 0.871999979019165, 0.8719000220298767, 0.8668000102043152, 0.8626000285148621, 0.8597000241279602, 0.8579000234603882, 0.8575000166893005, 0.8547000288963318, 0.8531000018119812, 0.8476999998092651, 0.8223000168800354, 0.8176000118255615, 0.8176000118255615, 0.8176000118255615, 0.8176000118255615, 0.8176000118255615, 0.8176000118255615, 0.8176000118255615, 0.8176000118255615, 0.8176000118255615, 0.8176000118255615, 0.807200014591217, 0.8173999786376953, 0.7925999760627747, 0.8041999936103821, 0.725600004196167, 0.7088000178337097, 0.7644000053405762, 0.6604999899864197, 0.6571999788284302, 0.7504000067710876, 0.5184000134468079, 0.5519999861717224, 0.5748999714851379, 0.6062999963760376, 0.5030999779701233, 0.5230000019073486, 0.5805000066757202, 0.6582000255584717, 0.6579999923706055, 0.5184000134468079, 0.45419999957084656, 0.6459000110626221, 0.5354999899864197, 0.6771000027656555, 0.5199000239372253, 0.12030000239610672, 0.290800005197525, 0.14149999618530273, 0.2906000018119812, 0.39629998803138733, 0.04450000077486038, -0.4867999851703644, 0.014000000432133675, 1.8238999843597412, 1.817199945449829, 1.763700008392334, 1.763700008392334, 1.7625999450683594, 1.7625000476837158, 1.7589999437332153, 1.7588000297546387, 1.7335000038146973, 1.729200005531311, 1.7178000211715698, 1.7164000272750854, 1.7038999795913696, 1.6991000175476074, 1.698199987411499, 1.687600016593933, 1.6764999628067017, 1.6579999923706055, 1.6246000528335571, 1.5996999740600586, 1.5996999740600586, 1.5896999835968018, 1.5851000547409058, 1.548699975013733, 1.5312000513076782, 1.5162999629974365, 1.5153000354766846, 1.511299967765808, 1.5111000537872314, 1.5082000494003296, 1.5044000148773193, 1.472000002861023, 1.4732999801635742, 1.279099941253662, 1.2888000011444092, 1.4731999635696411, 1.1830999851226807, 0.7667999863624573, 0.9677000045776367, 1.0120999813079834, 1.2868000268936157, 0.1315000057220459, 0.7562000155448914, 0.43479999899864197, 0.5978000164031982, 0.13779999315738678, 0.6547999978065491, 0.14890000224113464, 1.1878000497817993, -0.2563999891281128, -0.9915000200271606, 0.08940000087022781, -0.3377000093460083, 1.8551000356674194, 1.851699948310852, 1.809499979019165, 1.7928999662399292, 1.7754000425338745, 1.7723000049591064, 1.7340999841690063, 1.7340999841690063, 1.7340999841690063, 1.7340999841690063, 1.7340999841690063, 1.7340999841690063, 1.7340999841690063, 1.7340999841690063, 1.7340999841690063, 1.7340999841690063, 1.7340999841690063, 1.7340999841690063, 1.7316999435424805, 1.7276999950408936, 1.7181999683380127, 1.708899974822998, 1.6105999946594238, 1.6015000343322754, 1.583899974822998, 1.5825999975204468, 1.5449999570846558, 1.5448999404907227, 1.5311000347137451, 1.486899971961975, 1.4738999605178833, 1.3985999822616577, 1.4318000078201294, 1.06659996509552, 1.1855000257492065, 0.8251000046730042, 0.8575000166893005, 0.4050000011920929, 1.1232000589370728, 1.2719999551773071, 0.5940999984741211, 0.6340000033378601, 0.6712999939918518, 0.257099986076355, 0.3095000088214874, 0.5044000148773193, 1.3811999559402466, -0.02160000056028366, 0.42640000581741333, 0.38089999556541443, -0.6553000211715698, 0.5963000059127808, 0.04149999842047691, 0.058800000697374344, -0.44339999556541443, -0.49939998984336853, -0.2793000042438507, -0.5236999988555908, 1.8330999612808228, 1.7961000204086304, 1.7961000204086304, 1.7961000204086304, 1.7961000204086304, 1.7961000204086304, 1.7961000204086304, 1.7961000204086304, 1.7961000204086304, 1.7961000204086304, 1.7961000204086304, 1.7961000204086304, 1.7960000038146973, 1.7960000038146973, 1.774899959564209, 1.7415000200271606, 1.7381000518798828, 1.736899971961975, 1.7353999614715576, 1.733199954032898, 1.732200026512146, 1.7309000492095947, 1.7282999753952026, 1.7281999588012695, 1.7071000337600708, 1.6806999444961548, 1.6531000137329102, 1.6460000276565552, 1.621899962425232, 1.6119999885559082, 1.5226999521255493, 1.5120999813079834, 1.0326000452041626, 0.6198999881744385, 1.3315000534057617, 0.614300012588501, 1.04830002784729, 1.3575999736785889, 0.9423999786376953, 0.6513000130653381, 0.8550000190734863, 0.5875999927520752, 0.024800000712275505, 0.5946000218391418, 1.399899959564209, 0.39480000734329224, -0.47269999980926514, 0.2630000114440918, 0.9291999936103821, -0.0934000015258789, 0.22429999709129333, 0.265500009059906, -0.3977000117301941, -0.19939999282360077, 0.7857999801635742, 0.27230000495910645, 0.6711999773979187, 1.9148999452590942, 1.9147000312805176, 1.9033000469207764, 1.8688000440597534, 1.8687000274658203, 1.8583999872207642, 1.8102999925613403, 1.792099952697754, 1.792099952697754, 1.7888000011444092, 1.788699984550476, 1.7467000484466553, 1.7467000484466553, 1.7467000484466553, 1.7467000484466553, 1.7467000484466553, 1.7467000484466553, 1.7467000484466553, 1.7467000484466553, 1.7467000484466553, 1.7467000484466553, 1.7467000484466553, 1.7467000484466553, 1.7467000484466553, 1.7467000484466553, 1.7467000484466553, 1.7467000484466553, 1.7467000484466553, 1.7467000484466553, 1.7467000484466553, 1.7288999557495117, 1.6395000219345093, 1.3336000442504883, 1.3385000228881836, 1.5513999462127686, 1.242400050163269, 1.677299976348877, 1.6771999597549438, 1.2497999668121338, 1.2862999439239502, 1.600100040435791, 1.5927000045776367, 1.389799952507019, 1.389799952507019, 1.0877000093460083, 1.5820000171661377, -0.43709999322891235, 0.13850000500679016, -0.19110000133514404, 0.1257999986410141, 0.5598999857902527, 0.16539999842643738, -0.48559999465942383, -0.065700002014637, -0.4481000006198883, 1.2093000411987305, 0.6833999752998352, 0.08969999849796295, 0.07930000126361847, -0.6291000247001648, 1.9176000356674194, 1.9175000190734863, 1.8712999820709229, 1.8711999654769897, 1.8711999654769897, 1.8711999654769897, 1.8711999654769897, 1.8711999654769897, 1.8437999486923218, 1.8277000188827515, 1.817199945449829, 1.7991000413894653, 1.7624000310897827, 1.760699987411499, 1.7519999742507935, 1.7201000452041626, 1.7152999639511108, 1.7101999521255493, 1.6930999755859375, 1.6855000257492065, 1.684000015258789, 1.676800012588501, 1.6390999555587769, 1.6383999586105347, 1.6151000261306763, 1.5943000316619873, 1.5943000316619873, 1.5943000316619873, 1.5549999475479126, 1.5414999723434448, 1.5305999517440796, 1.5133999586105347, 1.4991999864578247, 0.983299970626831, 1.1138999462127686, 1.351099967956543, 1.3880000114440918, 0.07169999927282333, 0.932699978351593, 0.5461999773979187, 0.4763999879360199, -0.01119999960064888, 0.5059999823570251, 0.018300000578165054, 0.4860000014305115, 0.1225999966263771, 0.09740000218153, -0.22949999570846558, 0.45010000467300415, 0.5001999735832214, 0.9879000186920166, 0.40700000524520874, 0.7239000201225281, -0.682699978351593, 0.2020999938249588, 0.7132999897003174, 0.16869999468326569], \"logprob\": [30.0, 29.0, 28.0, 27.0, 26.0, 25.0, 24.0, 23.0, 22.0, 21.0, 20.0, 19.0, 18.0, 17.0, 16.0, 15.0, 14.0, 13.0, 12.0, 11.0, 10.0, 9.0, 8.0, 7.0, 6.0, 5.0, 4.0, 3.0, 2.0, 1.0, -5.417600154876709, -4.973499774932861, -5.707200050354004, -5.721700191497803, -4.908699989318848, -5.869100093841553, -5.65369987487793, -5.456699848175049, -5.960100173950195, -5.518799781799316, -4.38129997253418, -5.965099811553955, -4.538000106811523, -6.136199951171875, -4.654699802398682, -5.918000221252441, -5.914100170135498, -6.024899959564209, -5.988800048828125, -5.088399887084961, -6.371399879455566, -6.371399879455566, -6.371500015258789, -6.371500015258789, -6.371500015258789, -6.371500015258789, -6.371500015258789, -6.371500015258789, -6.371500015258789, -6.371500015258789, -4.143599987030029, -5.953199863433838, -4.106900215148926, -5.19950008392334, -4.075099945068359, -4.344099998474121, -5.400300025939941, -3.7943999767303467, -4.30019998550415, -5.581500053405762, -3.096400022506714, -3.65120005607605, -4.1616997718811035, -4.38040018081665, -3.884200096130371, -4.338200092315674, -4.629000186920166, -5.0015997886657715, -5.0640997886657715, -4.575500011444092, -4.509900093078613, -5.070799827575684, -4.803400039672852, -5.186200141906738, -4.907199859619141, -4.262400150299072, -4.609499931335449, -4.516300201416016, -4.713099956512451, -4.8403000831604, -4.721399784088135, -4.710899829864502, -4.986800193786621, -4.752099990844727, -4.761199951171875, -5.369200229644775, -5.369200229644775, -5.370500087738037, -5.370500087738037, -5.375400066375732, -5.375699996948242, -5.217100143432617, -4.8566999435424805, -4.773499965667725, -4.92080020904541, -4.619800090789795, -5.616700172424316, -4.830599784851074, -5.007599830627441, -4.32390022277832, -5.360899925231934, -4.569900035858154, -6.016600131988525, -6.016600131988525, -5.600200176239014, -5.599999904632568, -6.1691999435424805, -5.583099842071533, -4.79580020904541, -5.918399810791016, -5.897600173950195, -5.897799968719482, -3.777100086212158, -3.9897000789642334, -4.480400085449219, -5.36929988861084, -3.221100091934204, -3.9365999698638916, -5.3694000244140625, -4.492599964141846, -3.4572999477386475, -4.207600116729736, -4.4695000648498535, -5.129899978637695, -4.25570011138916, -4.770100116729736, -4.565999984741211, -4.785399913787842, -4.650599956512451, -4.908400058746338, -4.751399993896484, -5.1529998779296875, -4.639100074768066, -4.606299877166748, -4.868100166320801, -4.792600154876709, -4.440999984741211, -4.855800151824951, -5.137199878692627, -4.8302998542785645, -5.027100086212158, -5.34089994430542, -5.519999980926514, -5.519999980926514, -5.519999980926514, -5.519999980926514, -5.520100116729736, -5.520100116729736, -5.520100116729736, -5.520100116729736, -5.520100116729736, -5.520100116729736, -5.520100116729736, -5.520100116729736, -5.530200004577637, -5.107399940490723, -4.223199844360352, -5.088200092315674, -5.543600082397461, -4.3368000984191895, -5.856400012969971, -5.520299911499023, -6.167399883270264, -6.167399883270264, -5.520100116729736, -6.320099830627441, -5.140900135040283, -4.6209001541137695, -5.25439977645874, -3.912899971008301, -4.610799789428711, -3.9632999897003174, -4.382199764251709, -3.819200038909912, -4.86329984664917, -5.066299915313721, -4.442399978637695, -4.588799953460693, -4.619500160217285, -4.400700092315674, -4.456399917602539, -4.663700103759766, -5.280700206756592, -4.476500034332275, -4.7957000732421875, -4.79449987411499, -4.270199775695801, -4.966899871826172, -4.85890007019043, -4.905200004577637, -4.830699920654297, -4.8821001052856445, -5.015900135040283, -5.023799896240234, -5.25540018081665, -5.434599876403809, -5.434599876403809, -5.434599876403809, -5.434599876403809, -5.434599876403809, -5.434599876403809, -5.434599876403809, -5.434599876403809, -5.434599876403809, -5.434599876403809, -5.434599876403809, -5.434599876403809, -5.434700012207031, -5.2332000732421875, -5.308800220489502, -5.313700199127197, -5.315499782562256, -5.317500114440918, -5.320700168609619, -5.3221001625061035, -5.32390022277832, -5.327700138092041, -5.327700138092041, -5.051799774169922, -5.434999942779541, -4.724100112915039, -5.434800148010254, -4.933300018310547, -6.081900119781494, -4.7266998291015625, -4.674300193786621, -4.350599765777588, -3.7627999782562256, -4.854599952697754, -4.043499946594238, -4.598100185394287, -4.971099853515625, -4.545599937438965, -4.3495001792907715, -4.6265997886657715, -4.416200160980225, -4.178400039672852, -4.580699920654297, -5.149400234222412, -4.569300174713135, -4.087500095367432, -4.502900123596191, -4.94189977645874, -4.4807000160217285, -4.67609977722168, -4.714000225067139, -4.6219000816345215, -4.6996002197265625, -5.015399932861328, -4.964300155639648, -5.1921000480651855, -4.393599987030029, -4.393700122833252, -4.29010009765625, -5.092400074005127, -5.09250020980835, -4.713399887084961, -4.807499885559082, -5.4653000831604, -5.4653000831604, -4.7571001052856445, -4.757199764251709, -5.644400119781494, -5.644400119781494, -5.644400119781494, -5.644400119781494, -5.644400119781494, -5.644400119781494, -5.644400119781494, -5.644400119781494, -5.644400119781494, -5.644400119781494, -5.644499778747559, -5.644499778747559, -5.644499778747559, -5.644499778747559, -5.644499778747559, -5.644499778747559, -5.644499778747559, -5.644499778747559, -5.644499778747559, -5.007500171661377, -4.515200138092041, -3.702899932861328, -3.8294999599456787, -4.764999866485596, -3.9797000885009766, -5.433899879455566, -5.433899879455566, -4.5746002197265625, -4.910999774932861, -5.457300186157227, -5.473700046539307, -5.313499927520752, -5.313600063323975, -5.053999900817871, -5.513899803161621, -4.052000045776367, -4.598100185394287, -4.3942999839782715, -4.640100002288818, -4.934199810028076, -4.928500175476074, -4.709700107574463, -4.927000045776367, -4.8308000564575195, -5.31279993057251, -5.194799900054932, -5.135700225830078, -5.143599987030029, -5.129199981689453, -5.088099956512451, -5.088200092315674, -5.327300071716309, -5.327300071716309, -5.327300071716309, -5.327300071716309, -5.327300071716309, -5.327300071716309, -4.800300121307373, -5.4832000732421875, -5.5584001541137695, -4.620999813079834, -5.683599948883057, -4.492300033569336, -5.311200141906738, -5.3277997970581055, -5.327499866485596, -4.98859977722168, -5.883900165557861, -5.558300018310547, -5.199399948120117, -5.327199935913086, -6.127299785614014, -6.027200222015381, -5.44290018081665, -5.327400207519531, -5.327499866485596, -5.327400207519531, -5.327300071716309, -5.1992998123168945, -4.007999897003174, -5.197199821472168, -5.222700119018555, -4.239500045776367, -4.5447001457214355, -4.996399879455566, -5.088099956512451, -3.543100118637085, -4.571899890899658, -4.315000057220459, -4.510300159454346, -4.235300064086914, -4.587900161743164, -4.481800079345703, -4.753699779510498, -4.665800094604492, -4.668600082397461, -4.612199783325195, -4.840700149536133, -4.927000045776367, -5.107600212097168, -4.976200103759766, -5.088399887084961, -4.885900020599365, -5.0233001708984375, -5.087800025939941, -5.06790018081665]}, \"token.table\": {\"Topic\": [1, 2, 3, 4, 5, 6, 1, 1, 3, 5, 6, 3, 6, 3, 1, 3, 4, 5, 6, 2, 6, 4, 1, 2, 3, 4, 5, 6, 1, 2, 3, 4, 5, 6, 1, 2, 3, 4, 5, 6, 2, 1, 2, 3, 4, 5, 6, 1, 5, 6, 3, 3, 3, 1, 2, 3, 4, 5, 6, 4, 5, 1, 4, 2, 1, 2, 3, 5, 6, 6, 1, 1, 4, 6, 5, 6, 2, 5, 1, 1, 2, 4, 5, 1, 2, 3, 5, 2, 3, 6, 2, 3, 6, 2, 1, 2, 3, 4, 5, 2, 2, 3, 5, 3, 6, 5, 1, 2, 3, 4, 6, 1, 2, 3, 4, 1, 1, 1, 2, 3, 4, 4, 2, 1, 3, 5, 1, 2, 4, 1, 2, 4, 4, 2, 3, 4, 5, 5, 4, 1, 6, 5, 3, 1, 1, 2, 3, 4, 6, 2, 6, 2, 5, 1, 5, 6, 1, 3, 4, 1, 3, 4, 1, 3, 4, 1, 3, 5, 3, 2, 4, 6, 4, 2, 1, 2, 4, 1, 3, 4, 5, 4, 1, 2, 3, 4, 5, 6, 1, 5, 6, 1, 3, 4, 5, 6, 3, 5, 6, 6, 4, 4, 1, 2, 4, 5, 6, 2, 3, 4, 1, 2, 3, 4, 2, 5, 1, 2, 4, 5, 5, 6, 2, 5, 1, 1, 2, 2, 3, 5, 6, 5, 2, 4, 3, 3, 5, 3, 1, 6, 5, 1, 3, 4, 5, 1, 2, 3, 4, 5, 6, 4, 5, 5, 1, 6, 1, 2, 3, 5, 6, 6, 4, 5, 6, 2, 1, 5, 6, 3, 5, 1, 3, 2, 4, 5, 5, 5, 4, 5, 6, 1, 2, 3, 4, 5, 6, 1, 2, 3, 4, 6, 1, 4, 5, 6, 1, 6, 2, 4, 5, 6, 5, 1, 2, 6, 1, 2, 3, 4, 6, 4, 1, 6, 1, 3, 4, 5, 1, 2, 4, 5, 4, 3, 6, 5, 6, 4, 4, 4, 4, 1, 1, 1, 2, 3, 4, 1, 3, 4, 5, 6, 1, 4, 5, 6, 1, 3, 4, 5, 6, 1, 2, 3, 4, 1, 2, 3, 4, 5, 6, 1, 2, 3, 4, 5, 1, 2, 4, 3, 1, 3, 4, 5, 6, 2, 1, 2, 3, 4, 5, 6, 6, 1, 5, 6, 1, 5, 1, 6, 1, 3, 4, 5, 6, 1, 5, 3, 5, 2, 1, 2, 3, 5, 6, 6, 1, 2, 3, 4, 1, 2, 5, 1, 2, 3, 4, 5, 6, 1, 6, 3, 1, 2, 3, 4, 5, 6, 1, 2, 4, 6, 1, 5, 5, 2, 6, 1, 2, 3, 4, 6, 5, 6, 2, 1, 6, 3, 1, 5, 6, 1, 2, 3, 4, 5, 6, 5, 1, 3, 5, 6, 2, 3, 6, 1, 5, 6, 2, 3, 1, 2, 3, 4, 5, 6, 4, 5, 6, 2, 3, 5, 3, 6, 2, 5, 2, 1, 1, 2, 3, 5, 6, 1, 2, 5, 1, 2, 3, 4, 5, 6, 1, 1, 2, 5, 6, 5, 6, 3, 1, 2, 3, 4, 4, 5, 1, 2, 3, 4, 6, 1, 2, 4, 4, 6, 1, 4, 1, 3, 4, 5, 2, 3, 5, 1, 3, 6, 6, 1, 6, 1, 1, 2, 3, 5, 6, 4, 1, 2, 3, 4, 6, 2, 5, 3, 1, 2, 3, 4, 5, 6, 1, 2, 3, 5, 6, 1, 2, 3, 4, 5, 6, 2, 5, 4, 5, 5, 6, 1, 3, 4, 5, 3, 1, 2, 5, 6, 1, 2, 3, 4, 5, 6, 3, 5, 5, 3, 1, 2, 3, 4, 5, 6, 1, 4, 5, 1, 2, 3, 4, 5, 6, 1, 2, 3, 4, 5, 6, 1, 2, 4, 5, 1, 2, 4, 6, 1, 3, 5, 2, 2], \"Freq\": [0.12818770110607147, 0.49138620495796204, 0.08545846492052078, 0.10682308673858643, 0.06409385055303574, 0.12818770110607147, 0.9431962370872498, 0.8275684714317322, 0.2710113823413849, 0.13550569117069244, 0.4065170884132385, 0.8083546161651611, 0.7292757034301758, 0.9010632038116455, 0.12070442736148834, 0.18105663359165192, 0.06035221368074417, 0.06035221368074417, 0.5431699156761169, 0.27160024642944336, 0.5432004928588867, 0.8210088610649109, 0.24094651639461517, 0.160631000995636, 0.080315500497818, 0.080315500497818, 0.48189303278923035, 0.7577494978904724, 0.5931439995765686, 0.04942866787314415, 0.0988573357462883, 0.04942866787314415, 0.04942866787314415, 0.0988573357462883, 0.6079660058021545, 0.04342614486813545, 0.04342614486813545, 0.13027842342853546, 0.0868522897362709, 0.0868522897362709, 0.8917806148529053, 0.8324424624443054, 0.23804481327533722, 0.23804481327533722, 0.15869654715061188, 0.07934827357530594, 0.23804481327533722, 0.24063518643379211, 0.24063518643379211, 0.48127037286758423, 0.6710862517356873, 0.6710873246192932, 0.6710872054100037, 0.12371092289686203, 0.24742184579372406, 0.24742184579372406, 0.12371092289686203, 0.061855461448431015, 0.18556638062000275, 0.5208727121353149, 0.7696269154548645, 0.6679735779762268, 0.25049009919166565, 0.803072988986969, 0.675037682056427, 0.13500753045082092, 0.03375188261270523, 0.06750376522541046, 0.06750376522541046, 0.6347810626029968, 0.8297779560089111, 0.13960407674312592, 0.6980203986167908, 0.13960407674312592, 0.12330493330955505, 0.7398295998573303, 0.8930429816246033, 0.6732760071754456, 0.815689206123352, 0.823205292224884, 0.05880038067698479, 0.05880038067698479, 0.05880038067698479, 0.8165503144264221, 0.045363906770944595, 0.09072781354188919, 0.8131725192070007, 0.30363431572914124, 0.6072686314582825, 0.5062904953956604, 0.17704488337039948, 0.5311346650123596, 0.17704488337039948, 0.48198485374450684, 0.29806846380233765, 0.29806846380233765, 0.05961369350552559, 0.11922738701105118, 0.11922738701105118, 0.7956163287162781, 0.6669996976852417, 0.22233323752880096, 0.22233323752880096, 0.5768691301345825, 0.28843456506729126, 0.7696283459663391, 0.6738518476486206, 0.10209877043962479, 0.1429382711648941, 0.040839508175849915, 0.06125926226377487, 0.27386486530303955, 0.6390179991722107, 0.874255895614624, 0.6554933786392212, 0.8801599144935608, 0.9431964159011841, 0.09577221423387527, 0.7661777138710022, 0.09577221423387527, 0.09577221423387527, 0.6554940342903137, 0.48198750615119934, 0.9431958794593811, 0.6710871458053589, 0.7696197032928467, 0.7686981558799744, 0.0960872694849968, 0.0960872694849968, 0.788011908531189, 0.0875568762421608, 0.0875568762421608, 0.6554933190345764, 0.22062167525291443, 0.11031083762645721, 0.33093252778053284, 0.33093252778053284, 0.7696256637573242, 0.6554936170578003, 0.826081395149231, 0.6641517877578735, 0.769620418548584, 0.6710862517356873, 0.7775049805641174, 0.12590262293815613, 0.3777078688144684, 0.20983770489692688, 0.25180524587631226, 0.08393508195877075, 0.7431105971336365, 0.7102434635162354, 0.8122718334197998, 0.16245436668395996, 0.24063535034656525, 0.24063535034656525, 0.4812707006931305, 0.18558645248413086, 0.5567593574523926, 0.18558645248413086, 0.6490574479103088, 0.21635249257087708, 0.07211750000715256, 0.2928432524204254, 0.5856865048408508, 0.09761441498994827, 0.25570574402809143, 0.25570574402809143, 0.4748820960521698, 0.5305640697479248, 0.24066363275051117, 0.24066363275051117, 0.48132726550102234, 0.5843103528022766, 0.5335057973861694, 0.8724431395530701, 0.20447969436645508, 0.6134390830993652, 0.09000252932310104, 0.7200202345848083, 0.09000252932310104, 0.09000252932310104, 0.7870975136756897, 0.4781726896762848, 0.1593908965587616, 0.12751270830631256, 0.1593908965587616, 0.03187817707657814, 0.03187817707657814, 0.48409005999565125, 0.48409005999565125, 0.16136334836483002, 0.22005140781402588, 0.26406168937683105, 0.044010281562805176, 0.13203084468841553, 0.30807197093963623, 0.722236156463623, 0.09027951955795288, 0.09027951955795288, 0.7851422429084778, 0.655493438243866, 0.6554936766624451, 0.1549929678440094, 0.258321613073349, 0.3616502583026886, 0.0516643226146698, 0.2066572904586792, 0.16679945588111877, 0.16679945588111877, 0.6671978235244751, 0.17102515697479248, 0.3990586996078491, 0.11401677131652832, 0.2850419282913208, 0.130320206284523, 0.9122413992881775, 0.45900672674179077, 0.057375840842723846, 0.3442550599575043, 0.11475168168544769, 0.8262675404548645, 0.16525350511074066, 0.782362699508667, 0.15647253394126892, 0.9431963562965393, 0.2917499542236328, 0.5834999084472656, 0.1342739760875702, 0.5370959043502808, 0.2685479521751404, 0.1342739760875702, 0.5816452503204346, 0.7241827249526978, 0.6554937362670898, 0.8926225900650024, 0.6762484908103943, 0.7696211338043213, 0.5305644273757935, 0.2757814824581146, 0.5515629649162292, 0.7696278691291809, 0.8411264419555664, 0.1051408052444458, 0.0525704026222229, 0.0525704026222229, 0.0784708559513092, 0.1569417119026184, 0.0784708559513092, 0.3138834238052368, 0.1569417119026184, 0.2354125678539276, 0.6554936170578003, 0.7696269750595093, 0.7696268558502197, 0.1457175612449646, 0.728587806224823, 0.13237452507019043, 0.48537328839302063, 0.08824969083070755, 0.13237452507019043, 0.13237452507019043, 0.5600646734237671, 0.8242496252059937, 0.5511723756790161, 0.27558618783950806, 0.6292756199836731, 0.8490872979164124, 0.5728364586830139, 0.28641822934150696, 0.6710870862007141, 0.769625186920166, 0.9431958794593811, 0.6710863709449768, 0.34983232617378235, 0.11661078035831451, 0.46644312143325806, 0.7509768009185791, 0.7509987950325012, 0.1970549076795578, 0.1970549076795578, 0.591164767742157, 0.25653210282325745, 0.17102140188217163, 0.3135392367839813, 0.05700713396072388, 0.05700713396072388, 0.1425178349018097, 0.3460938334465027, 0.48453137278556824, 0.06921876966953278, 0.06921876966953278, 0.06921876966953278, 0.5938463807106018, 0.05398603156208992, 0.16195809841156006, 0.21594412624835968, 0.7901648879051208, 0.22576139867305756, 0.7834124565124512, 0.497467964887619, 0.16582265496253967, 0.16582265496253967, 0.5816487669944763, 0.1918645054101944, 0.7674580216407776, 0.7851366400718689, 0.5436022877693176, 0.10192543268203735, 0.1359005719423294, 0.2038508653640747, 0.03397514298558235, 0.6554933786392212, 0.2612798511981964, 0.5225597023963928, 0.3078383207321167, 0.2198844999074936, 0.04397690296173096, 0.4397689998149872, 0.2306385636329651, 0.11531928181648254, 0.4612771272659302, 0.11531928181648254, 0.8256103992462158, 0.6710873246192932, 0.8316261172294617, 0.27302083373069763, 0.5460416674613953, 0.8226403594017029, 0.8246952891349792, 0.8222201466560364, 0.8239142298698425, 0.8316490054130554, 0.9736869931221008, 0.6812872290611267, 0.06812872737646103, 0.06812872737646103, 0.13625745475292206, 0.5824580788612366, 0.030655689537525177, 0.030655689537525177, 0.12262275815010071, 0.21458981931209564, 0.5443799495697021, 0.06804749369621277, 0.06804749369621277, 0.34023746848106384, 0.5802972912788391, 0.03868648409843445, 0.03868648409843445, 0.1547459363937378, 0.19343243539333344, 0.7055460810661316, 0.14853602647781372, 0.03713400661945343, 0.1114020124077797, 0.721379280090332, 0.05771034210920334, 0.05771034210920334, 0.05771034210920334, 0.05771034210920334, 0.05771034210920334, 0.7711880207061768, 0.033529914915561676, 0.033529914915561676, 0.033529914915561676, 0.06705982983112335, 0.5891423225402832, 0.08416318893432617, 0.3366527557373047, 0.6710875630378723, 0.6255635619163513, 0.03475353121757507, 0.03475353121757507, 0.10426059365272522, 0.20852118730545044, 0.8535756468772888, 0.764404833316803, 0.03185020387172699, 0.03185020387172699, 0.06370040774345398, 0.03185020387172699, 0.06370040774345398, 0.6347814798355103, 0.8839012980461121, 0.7102723121643066, 0.17756807804107666, 0.9431952238082886, 0.7696255445480347, 0.23157893121242523, 0.6947368383407593, 0.3623009920120239, 0.19508515298366547, 0.16721583902835846, 0.13934653997421265, 0.13934653997421265, 0.9431965947151184, 0.7696249485015869, 0.6710879802703857, 0.769627571105957, 0.8917170763015747, 0.14054082334041595, 0.6090102195739746, 0.14054082334041595, 0.09369388222694397, 0.046846941113471985, 0.6347814798355103, 0.132990300655365, 0.26598060131073, 0.132990300655365, 0.53196120262146, 0.65256667137146, 0.07250740379095078, 0.21752221882343292, 0.21075035631656647, 0.29180818796157837, 0.21075035631656647, 0.0810578316450119, 0.0810578316450119, 0.11348096281290054, 0.1925586462020874, 0.5776759386062622, 0.8498455882072449, 0.35247236490249634, 0.2114834189414978, 0.07049447298049927, 0.24673065543174744, 0.07049447298049927, 0.07049447298049927, 0.1720007061958313, 0.8600035309791565, 0.6554935574531555, 0.8129391074180603, 0.879889726638794, 0.673272967338562, 0.769628643989563, 0.8917818665504456, 0.46335870027542114, 0.35001564025878906, 0.058335937559604645, 0.17500782012939453, 0.058335937559604645, 0.2916796803474426, 0.6704815030097961, 0.22349384427070618, 0.8930957913398743, 0.5266696810722351, 0.3160018026828766, 0.6710876822471619, 0.19483886659145355, 0.19483886659145355, 0.5845165848731995, 0.24152769148349762, 0.03450395539402962, 0.3795435130596161, 0.17251978814601898, 0.06900791078805923, 0.06900791078805923, 0.7696264386177063, 0.313310831785202, 0.313310831785202, 0.13427607715129852, 0.1790347695350647, 0.8917174935340881, 0.6620110869407654, 0.22067035734653473, 0.9213592410087585, 0.5802879929542542, 0.38685867190361023, 0.7834234833717346, 0.7402009963989258, 0.6224623322486877, 0.027063580229878426, 0.1082543209195137, 0.05412716045975685, 0.13531789183616638, 0.05412716045975685, 0.6554933786392212, 0.8262557983398438, 0.16525115072727203, 0.43570220470428467, 0.43570220470428467, 0.7696300148963928, 0.5478618144989014, 0.2739309072494507, 0.13032564520835876, 0.912279486656189, 0.6263002753257751, 0.9431962370872498, 0.13461287319660187, 0.4038386344909668, 0.26922574639320374, 0.13461287319660187, 0.13461287319660187, 0.11628854274749756, 0.6977312564849854, 0.11628854274749756, 0.5817772746086121, 0.052888840436935425, 0.07051845639944077, 0.07933326065540314, 0.07933326065540314, 0.13222210109233856, 0.9001344442367554, 0.05772760510444641, 0.6350036859512329, 0.23091042041778564, 0.05772760510444641, 0.5802875757217407, 0.38685840368270874, 0.671087920665741, 0.33610299229621887, 0.13444119691848755, 0.13444119691848755, 0.33610299229621887, 0.6142061352729797, 0.36852365732192993, 0.13081420958042145, 0.654071033000946, 0.13081420958042145, 0.8231409788131714, 0.6347813606262207, 0.8759927749633789, 0.07963570207357407, 0.6554928421974182, 0.8529657125473022, 0.6347811818122864, 0.2821590304374695, 0.564318060874939, 0.13136085867881775, 0.13136085867881775, 0.13136085867881775, 0.6568043231964111, 0.6669995784759521, 0.22233319282531738, 0.22233319282531738, 0.8005363941192627, 0.13342273235321045, 0.13342273235321045, 0.6347815990447998, 0.2313491255044937, 0.4626982510089874, 0.9431970119476318, 0.2342837005853653, 0.15618912875652313, 0.4685674011707306, 0.07809456437826157, 0.07809456437826157, 0.6554930806159973, 0.4595687687397003, 0.07070288807153702, 0.10605432838201523, 0.24746011197566986, 0.07070288807153702, 0.1695767045021057, 0.8478835225105286, 0.7769420146942139, 0.23553292453289032, 0.14131975173950195, 0.2826395034790039, 0.09421317279338837, 0.14131975173950195, 0.18842634558677673, 0.9431967735290527, 0.1889055222272873, 0.3778110444545746, 0.1889055222272873, 0.1889055222272873, 0.57253098487854, 0.15267492830753326, 0.09542182832956314, 0.11450619995594025, 0.038168732076883316, 0.038168732076883316, 0.7940239906311035, 0.13233733177185059, 0.8256262540817261, 0.7696244716644287, 0.7997691035270691, 0.19994227588176727, 0.24997979402542114, 0.20831649005413055, 0.04166330024600029, 0.4999595880508423, 0.58323073387146, 0.20082508027553558, 0.20082508027553558, 0.20082508027553558, 0.6024752259254456, 0.40019169449806213, 0.05002396181225777, 0.17508387565612793, 0.25011980533599854, 0.0750359445810318, 0.0750359445810318, 0.27808377146720886, 0.5561675429344177, 0.7696177363395691, 0.854357898235321, 0.6032754182815552, 0.03175133839249611, 0.06350267678499222, 0.12700535356998444, 0.11112968623638153, 0.06350267678499222, 0.5933099985122681, 0.08475857228040695, 0.25427570939064026, 0.5354452729225159, 0.044620439410209656, 0.044620439410209656, 0.17848175764083862, 0.08924087882041931, 0.13386131823062897, 0.3989368677139282, 0.11398196220397949, 0.07598797231912613, 0.24696092307567596, 0.07598797231912613, 0.09498497098684311, 0.23070676624774933, 0.11535338312387466, 0.5767669081687927, 0.11535338312387466, 0.9010215401649475, 0.1541150063276291, 0.3082300126552582, 0.4623450040817261, 0.38028135895729065, 0.5704219937324524, 0.7696294188499451, 0.8515508770942688, 0.7137852311134338], \"Term\": [\"adaptation\", \"adaptation\", \"adaptation\", \"adaptation\", \"adaptation\", \"adaptation\", \"ad\\u00e3\\u00a9lie penguin\", \"aeolian landform\", \"aerial photography\", \"aerial photography\", \"aerial photography\", \"agriculture\", \"alps\", \"ancient history\", \"architecture\", \"architecture\", \"architecture\", \"architecture\", \"architecture\", \"arm\", \"arm\", \"army\", \"art\", \"art\", \"art\", \"art\", \"art\", \"ar\\u00eate\", \"atmosphere\", \"atmosphere\", \"atmosphere\", \"atmosphere\", \"atmosphere\", \"atmosphere\", \"atmospheric phenomenon\", \"atmospheric phenomenon\", \"atmospheric phenomenon\", \"atmospheric phenomenon\", \"atmospheric phenomenon\", \"atmospheric phenomenon\", \"austrian pinscher\", \"beach\", \"beak\", \"beak\", \"beak\", \"beak\", \"beak\", \"beard\", \"beard\", \"beard\", \"bed\", \"bed sheet\", \"bedroom\", \"bird\", \"bird\", \"bird\", \"bird\", \"bird\", \"bird\", \"bird of prey\", \"birth\", \"black-and-white\", \"black-and-white\", \"blond\", \"blue\", \"blue\", \"blue\", \"blue\", \"blue\", \"bluebird\", \"body of water\", \"branch\", \"branch\", \"branch\", \"building\", \"building\", \"bull shark\", \"burmese python\", \"calm\", \"canidae\", \"canidae\", \"canidae\", \"canidae\", \"carnivore\", \"carnivore\", \"carnivore\", \"cartilaginous fish\", \"cave\", \"cave\", \"ceiling\", \"ceremony\", \"ceremony\", \"ceremony\", \"cheek\", \"child\", \"child\", \"child\", \"child\", \"child\", \"chin\", \"ciconiiformes\", \"ciconiiformes\", \"ciconiiformes\", \"circle\", \"circle\", \"clinic\", \"cloud\", \"cloud\", \"cloud\", \"cloud\", \"cloud\", \"community\", \"community\", \"coral reef fish\", \"costume design\", \"cougar\", \"cow-goat family\", \"crowd\", \"crowd\", \"crowd\", \"crowd\", \"dairy cow\", \"dance\", \"deep sea fish\", \"digital compositing\", \"display device\", \"dog\", \"dog\", \"dog\", \"dog breed\", \"dog breed\", \"dog breed\", \"drama\", \"dress\", \"dress\", \"dress\", \"dress\", \"dressmaker\", \"dugong\", \"dune\", \"elapidae\", \"electronic device\", \"environmental art\", \"erg\", \"event\", \"event\", \"event\", \"event\", \"event\", \"eye\", \"facade\", \"face\", \"face\", \"facial hair\", \"facial hair\", \"facial hair\", \"feather\", \"feather\", \"feather\", \"felidae\", \"felidae\", \"felidae\", \"field\", \"field\", \"field\", \"fish\", \"fish\", \"fish\", \"flamingo\", \"flesh\", \"flesh\", \"flesh\", \"font\", \"forehead\", \"forest\", \"formal wear\", \"formal wear\", \"formation\", \"formation\", \"formation\", \"formation\", \"freezing\", \"fun\", \"fun\", \"fun\", \"fun\", \"fun\", \"fun\", \"games\", \"games\", \"games\", \"geological phenomenon\", \"geological phenomenon\", \"geological phenomenon\", \"geological phenomenon\", \"geological phenomenon\", \"geology\", \"geology\", \"geology\", \"gesture\", \"giraffe\", \"giraffidae\", \"grass\", \"grass\", \"grass\", \"grass\", \"grass\", \"grass family\", \"grass family\", \"grass family\", \"grassland\", \"grassland\", \"grassland\", \"grassland\", \"great white shark\", \"great white shark\", \"green\", \"green\", \"green\", \"green\", \"green sea turtle\", \"green sea turtle\", \"hair\", \"hair\", \"hairfinned silverfish\", \"hairstyle\", \"hairstyle\", \"happy\", \"happy\", \"happy\", \"happy\", \"hawksbill sea turtle\", \"head\", \"heater\", \"historic site\", \"history\", \"hognose snake\", \"holy places\", \"home\", \"home\", \"honeymoon\", \"horizon\", \"horizon\", \"horizon\", \"horizon\", \"horse\", \"horse\", \"horse\", \"horse\", \"horse\", \"horse\", \"horse grooming\", \"hospital\", \"hospital bed\", \"house\", \"house\", \"human\", \"human\", \"human\", \"human\", \"human\", \"industry\", \"infantry\", \"interaction\", \"interaction\", \"joint\", \"jungle\", \"kemp's ridley sea turtle\", \"kemp's ridley sea turtle\", \"king penguin\", \"knitting\", \"kudu\", \"labyrinth\", \"lady\", \"lady\", \"lady\", \"lamnidae\", \"lamniformes\", \"landmark\", \"landmark\", \"landmark\", \"landscape\", \"landscape\", \"landscape\", \"landscape\", \"landscape\", \"landscape\", \"leisure\", \"leisure\", \"leisure\", \"leisure\", \"leisure\", \"light\", \"light\", \"light\", \"light\", \"lighting\", \"lighting\", \"litter\", \"livestock\", \"livestock\", \"livestock\", \"loggerhead sea turtle\", \"long hair\", \"long hair\", \"macro photography\", \"mammal\", \"mammal\", \"mammal\", \"mammal\", \"mammal\", \"manatee\", \"mare\", \"mare\", \"marine biology\", \"marine biology\", \"marine biology\", \"marine biology\", \"marine mammal\", \"marine mammal\", \"marine mammal\", \"marine mammal\", \"marines\", \"marriage\", \"massif\", \"meteorological phenomenon\", \"meteorological phenomenon\", \"military\", \"military camouflage\", \"military organization\", \"military uniform\", \"monochrome\", \"monochrome photography\", \"morning\", \"morning\", \"morning\", \"morning\", \"mountain\", \"mountain\", \"mountain\", \"mountain\", \"mountain\", \"mountain range\", \"mountain range\", \"mountain range\", \"mountain range\", \"mountainous landforms\", \"mountainous landforms\", \"mountainous landforms\", \"mountainous landforms\", \"mountainous landforms\", \"natural environment\", \"natural environment\", \"natural environment\", \"natural environment\", \"natural landscape\", \"natural landscape\", \"natural landscape\", \"natural landscape\", \"natural landscape\", \"natural landscape\", \"nature\", \"nature\", \"nature\", \"nature\", \"nature\", \"nature reserve\", \"nature reserve\", \"nature reserve\", \"net\", \"night\", \"night\", \"night\", \"night\", \"night\", \"nose\", \"ocean\", \"ocean\", \"ocean\", \"ocean\", \"ocean\", \"ocean\", \"old world flycatcher\", \"old-growth forest\", \"olive ridley sea turtle\", \"olive ridley sea turtle\", \"open water swimming\", \"operating theater\", \"orange\", \"orange\", \"organism\", \"organism\", \"organism\", \"organism\", \"organism\", \"oryx\", \"parrotfish\", \"party\", \"patient\", \"pelican\", \"people\", \"people\", \"people\", \"people\", \"people\", \"perching bird\", \"performance\", \"performance\", \"performance\", \"performance\", \"photograph\", \"photograph\", \"photograph\", \"photography\", \"photography\", \"photography\", \"photography\", \"photography\", \"photography\", \"pink\", \"pink\", \"plain\", \"plant\", \"plant\", \"plant\", \"plant\", \"plant\", \"plant\", \"pollution\", \"pollution\", \"pony\", \"property\", \"puma\", \"python\", \"python family\", \"rare breed (dog)\", \"real estate\", \"recreation\", \"recreation\", \"recreation\", \"recreation\", \"recreation\", \"reptile\", \"reptile\", \"requiem shark\", \"ridge\", \"ridge\", \"rite\", \"road\", \"road\", \"road\", \"rock\", \"rock\", \"rock\", \"rock\", \"rock\", \"rock\", \"romance\", \"room\", \"room\", \"room\", \"room\", \"rope\", \"ruins\", \"ruins\", \"sahara\", \"scaled reptile\", \"scaled reptile\", \"scrap\", \"screenshot\", \"sea\", \"sea\", \"sea\", \"sea\", \"sea\", \"sea\", \"sea cows\", \"sea turtle\", \"sea turtle\", \"seabird\", \"seabird\", \"service\", \"shadow\", \"shadow\", \"shark\", \"shark\", \"shoulder\", \"singing sand\", \"sitting\", \"sitting\", \"sitting\", \"sitting\", \"sitting\", \"skin\", \"skin\", \"skin\", \"sky\", \"sky\", \"sky\", \"sky\", \"sky\", \"sky\", \"small to medium-sized cats\", \"smile\", \"smile\", \"smile\", \"smile\", \"snake\", \"snake\", \"snares penguin\", \"snout\", \"snout\", \"snout\", \"snout\", \"snow\", \"snow\", \"soil\", \"soil\", \"soil\", \"soldier\", \"songbird\", \"sporting group\", \"sporting group\", \"stable\", \"stage\", \"stallion\", \"still life photography\", \"still life photography\", \"stock photography\", \"stock photography\", \"stock photography\", \"stock photography\", \"stork\", \"stork\", \"stork\", \"sunset\", \"sunset\", \"sunset\", \"swallow\", \"tail\", \"tail\", \"temperate broadleaf and mixed forest\", \"temple\", \"temple\", \"temple\", \"temple\", \"temple\", \"tent\", \"terrestrial animal\", \"terrestrial animal\", \"terrestrial animal\", \"terrestrial animal\", \"terrestrial animal\", \"tiger shark\", \"tiger shark\", \"tilapia\", \"tourism\", \"tourism\", \"tourism\", \"tourism\", \"tourism\", \"tourism\", \"tower\", \"tradition\", \"tradition\", \"tradition\", \"tradition\", \"tree\", \"tree\", \"tree\", \"tree\", \"tree\", \"tree\", \"tribe\", \"tribe\", \"troop\", \"tropics\", \"turtle\", \"turtle\", \"underwater\", \"underwater\", \"underwater\", \"underwater\", \"unesco world heritage site\", \"urban area\", \"urban area\", \"urban area\", \"urban area\", \"vertebrate\", \"vertebrate\", \"vertebrate\", \"vertebrate\", \"vertebrate\", \"vertebrate\", \"visual arts\", \"visual arts\", \"visual effect lighting\", \"wadi\", \"water\", \"water\", \"water\", \"water\", \"water\", \"water\", \"wave\", \"wave\", \"wave\", \"wilderness\", \"wilderness\", \"wilderness\", \"wilderness\", \"wilderness\", \"wilderness\", \"wildlife\", \"wildlife\", \"wildlife\", \"wildlife\", \"wildlife\", \"wildlife\", \"winter\", \"winter\", \"winter\", \"winter\", \"woodland\", \"working animal\", \"working animal\", \"working animal\", \"world\", \"world\", \"wrasses\", \"wrinkle\", \"youth\"]}, \"R\": 30, \"lambda.step\": 0.01, \"plot.opts\": {\"xlab\": \"PC1\", \"ylab\": \"PC2\"}, \"topic.order\": [3, 1, 5, 2, 6, 4]};\n",
       "\n",
       "function LDAvis_load_lib(url, callback){\n",
       "  var s = document.createElement('script');\n",
       "  s.src = url;\n",
       "  s.async = true;\n",
       "  s.onreadystatechange = s.onload = callback;\n",
       "  s.onerror = function(){console.warn(\"failed to load library \" + url);};\n",
       "  document.getElementsByTagName(\"head\")[0].appendChild(s);\n",
       "}\n",
       "\n",
       "if(typeof(LDAvis) !== \"undefined\"){\n",
       "   // already loaded: just create the visualization\n",
       "   !function(LDAvis){\n",
       "       new LDAvis(\"#\" + \"ldavis_el1231398974867861365987436395\", ldavis_el1231398974867861365987436395_data);\n",
       "   }(LDAvis);\n",
       "}else if(typeof define === \"function\" && define.amd){\n",
       "   // require.js is available: use it to load d3/LDAvis\n",
       "   require.config({paths: {d3: \"https://cdnjs.cloudflare.com/ajax/libs/d3/3.5.5/d3.min\"}});\n",
       "   require([\"d3\"], function(d3){\n",
       "      window.d3 = d3;\n",
       "      LDAvis_load_lib(\"https://cdn.rawgit.com/bmabey/pyLDAvis/files/ldavis.v1.0.0.js\", function(){\n",
       "        new LDAvis(\"#\" + \"ldavis_el1231398974867861365987436395\", ldavis_el1231398974867861365987436395_data);\n",
       "      });\n",
       "    });\n",
       "}else{\n",
       "    // require.js not available: dynamically load d3 & LDAvis\n",
       "    LDAvis_load_lib(\"https://cdnjs.cloudflare.com/ajax/libs/d3/3.5.5/d3.min.js\", function(){\n",
       "         LDAvis_load_lib(\"https://cdn.rawgit.com/bmabey/pyLDAvis/files/ldavis.v1.0.0.js\", function(){\n",
       "                 new LDAvis(\"#\" + \"ldavis_el1231398974867861365987436395\", ldavis_el1231398974867861365987436395_data);\n",
       "            })\n",
       "         });\n",
       "}\n",
       "</script>"
      ],
      "text/plain": [
       "PreparedData(topic_coordinates=              x         y  topics  cluster       Freq\n",
       "topic                                                \n",
       "2      0.029511 -0.137580       1        1  34.858616\n",
       "0      0.095885  0.113624       2        1  13.787217\n",
       "4     -0.009590 -0.011829       3        1  13.618925\n",
       "1      0.085359 -0.000934       4        1  12.912285\n",
       "5     -0.136650  0.062376       5        1  12.708349\n",
       "3     -0.064515 -0.025657       6        1  12.114611, topic_info=    Category       Freq            Term      Total  loglift  logprob\n",
       "19   Default  46.000000      adaptation  46.000000  30.0000  30.0000\n",
       "251  Default  27.000000            fish  27.000000  29.0000  29.0000\n",
       "28   Default  24.000000      underwater  24.000000  28.0000  28.0000\n",
       "44   Default  21.000000          people  21.000000  27.0000  27.0000\n",
       "21   Default  22.000000  marine biology  22.000000  26.0000  26.0000\n",
       "..       ...        ...             ...        ...      ...      ...\n",
       "112   Topic6   3.148904            beak  12.602669   0.7239  -5.0884\n",
       "69    Topic6   3.855470           water  62.989471  -0.6827  -4.8859\n",
       "41    Topic6   3.360464           human  22.662970   0.2021  -5.0233\n",
       "319   Topic6   3.150610           horse  12.743585   0.7133  -5.0878\n",
       "70    Topic6   3.214096      wilderness  22.411255   0.1687  -5.0679\n",
       "\n",
       "[378 rows x 6 columns], token_table=      Topic      Freq        Term\n",
       "term                             \n",
       "19        1  0.128188  adaptation\n",
       "19        2  0.491386  adaptation\n",
       "19        3  0.085458  adaptation\n",
       "19        4  0.106823  adaptation\n",
       "19        5  0.064094  adaptation\n",
       "...     ...       ...         ...\n",
       "491       1  0.380281       world\n",
       "491       3  0.570422       world\n",
       "926       5  0.769629     wrasses\n",
       "281       2  0.851551     wrinkle\n",
       "336       2  0.713785       youth\n",
       "\n",
       "[632 rows x 3 columns], R=30, lambda_step=0.01, plot_opts={'xlab': 'PC1', 'ylab': 'PC2'}, topic_order=[3, 1, 5, 2, 6, 4])"
      ]
     },
     "execution_count": 144,
     "metadata": {
      "tags": []
     },
     "output_type": "execute_result"
    }
   ],
   "source": [
    "import pyLDAvis\n",
    "import pyLDAvis.gensim\n",
    "pyLDAvis.enable_notebook()\n",
    "vis = pyLDAvis.gensim.prepare(lda_model, bow_corpus, dictionary)\n",
    "vis"
   ]
  }
 ],
 "metadata": {
  "colab": {
   "collapsed_sections": [],
   "name": "text_analytics_hw2.ipynb",
   "provenance": []
  },
  "kernelspec": {
   "display_name": "Python 3",
   "language": "python",
   "name": "python3"
  },
  "language_info": {
   "codemirror_mode": {
    "name": "ipython",
    "version": 3
   },
   "file_extension": ".py",
   "mimetype": "text/x-python",
   "name": "python",
   "nbconvert_exporter": "python",
   "pygments_lexer": "ipython3",
   "version": "3.7.3"
  }
 },
 "nbformat": 4,
 "nbformat_minor": 1
}
