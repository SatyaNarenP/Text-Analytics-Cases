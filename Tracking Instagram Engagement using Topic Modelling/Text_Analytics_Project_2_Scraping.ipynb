{
  "nbformat": 4,
  "nbformat_minor": 0,
  "metadata": {
    "colab": {
      "name": "Text Analytics Project 2_Scraping.ipynb",
      "provenance": []
    },
    "kernelspec": {
      "name": "python3",
      "display_name": "Python 3"
    }
  },
  "cells": [
    {
      "cell_type": "code",
      "metadata": {
        "id": "fuIa-2gfLhqK",
        "colab_type": "code",
        "colab": {}
      },
      "source": [
        "!pip install selenium\n",
        "!apt install -yq chromium-chromedriver\n",
        "!cp /usr/lib/chromium-browser/chromedriver /usr/bin"
      ],
      "execution_count": 0,
      "outputs": []
    },
    {
      "cell_type": "code",
      "metadata": {
        "id": "BS5JYzroLi2c",
        "colab_type": "code",
        "colab": {}
      },
      "source": [
        "from selenium import webdriver\n",
        "import pandas as pd\n",
        "import sys\n",
        "sys.path.insert(0,'/usr/lib/chromium-browser/chromedriver')"
      ],
      "execution_count": 0,
      "outputs": []
    },
    {
      "cell_type": "code",
      "metadata": {
        "id": "pJ536rVrLmCP",
        "colab_type": "code",
        "colab": {}
      },
      "source": [
        "chrome_options = webdriver.ChromeOptions()\n",
        "chrome_options.add_argument('--headless')\n",
        "chrome_options.add_argument('--no-sandbox')\n",
        "chrome_options.add_argument('--disable-dev-shm-usage')"
      ],
      "execution_count": 0,
      "outputs": []
    },
    {
      "cell_type": "code",
      "metadata": {
        "id": "uakiIvPBLoJQ",
        "colab_type": "code",
        "colab": {}
      },
      "source": [
        "driver = webdriver.Chrome('chromedriver', options=chrome_options)\n",
        "driver.get('https://www.instagram.com/natgeo/?hl=en')\n",
        "\n",
        "import time\n",
        "from bs4 import BeautifulSoup\n",
        "import re\n",
        "\n",
        "\n",
        "links = []\n",
        "scripts = []\n",
        "\n",
        "while len(links) < 500:\n",
        "    # Scroll down to bottom\n",
        "    driver.execute_script(\"window.scrollTo(0, document.body.scrollHeight);\")\n",
        "\n",
        "    # Wait to load page\n",
        "    time.sleep(2)\n",
        "    \n",
        "    page_html = driver.page_source\n",
        "    data = BeautifulSoup(page_html, 'html.parser')\n",
        "    \n",
        "    body = data.find('body')\n",
        "    script = body.find('span')\n",
        "    \n",
        "    for link in script.findAll('a'):\n",
        "         if re.match(\"/p\", link.get('href')):\n",
        "            links.append(link.get('href').lstrip('/p/').rstrip('/'))\n",
        "            \n",
        "    links = list(dict.fromkeys(links))"
      ],
      "execution_count": 0,
      "outputs": []
    },
    {
      "cell_type": "code",
      "metadata": {
        "id": "Yvzp3TGrLq_n",
        "colab_type": "code",
        "colab": {}
      },
      "source": [
        "!pip install instaloader"
      ],
      "execution_count": 0,
      "outputs": []
    },
    {
      "cell_type": "code",
      "metadata": {
        "id": "RMDdedouLvNv",
        "colab_type": "code",
        "colab": {}
      },
      "source": [
        "import instaloader\n",
        "L = instaloader.Instaloader()\n",
        "\n",
        "posts = dict()\n",
        "\n",
        "for count, post in enumerate(links):\n",
        "    Post = instaloader.Post.from_shortcode(L.context, post)\n",
        "    \n",
        "    if not Post.is_video:\n",
        "        posts[count] = [Post._asdict()['display_url'], Post.caption, Post.comments, Post.likes]"
      ],
      "execution_count": 0,
      "outputs": []
    },
    {
      "cell_type": "code",
      "metadata": {
        "id": "50pbPkEQL0oD",
        "colab_type": "code",
        "colab": {}
      },
      "source": [
        "insta=pd.DataFrame.from_dict(posts, orient = 'index', columns = ['display_url', 'caption', 'comments', 'likes'])"
      ],
      "execution_count": 0,
      "outputs": []
    },
    {
      "cell_type": "code",
      "metadata": {
        "id": "uhtDPHvPL3Nt",
        "colab_type": "code",
        "colab": {}
      },
      "source": [
        "insta.to_csv('insta.csv')"
      ],
      "execution_count": 0,
      "outputs": []
    },
    {
      "cell_type": "code",
      "metadata": {
        "id": "j3MnsnUfEbrV",
        "colab_type": "code",
        "colab": {}
      },
      "source": [
        "import pandas as pd\n",
        "insta=pd.read_csv('insta.csv')"
      ],
      "execution_count": 0,
      "outputs": []
    },
    {
      "cell_type": "code",
      "metadata": {
        "id": "wrGuPGLhEt8u",
        "colab_type": "code",
        "outputId": "e284d8eb-717f-414d-80a6-113fdfe48d36",
        "colab": {
          "base_uri": "https://localhost:8080/",
          "height": 196
        }
      },
      "source": [
        "insta.head()"
      ],
      "execution_count": 0,
      "outputs": [
        {
          "output_type": "execute_result",
          "data": {
            "text/html": [
              "<div>\n",
              "<style scoped>\n",
              "    .dataframe tbody tr th:only-of-type {\n",
              "        vertical-align: middle;\n",
              "    }\n",
              "\n",
              "    .dataframe tbody tr th {\n",
              "        vertical-align: top;\n",
              "    }\n",
              "\n",
              "    .dataframe thead th {\n",
              "        text-align: right;\n",
              "    }\n",
              "</style>\n",
              "<table border=\"1\" class=\"dataframe\">\n",
              "  <thead>\n",
              "    <tr style=\"text-align: right;\">\n",
              "      <th></th>\n",
              "      <th>Unnamed: 0</th>\n",
              "      <th>display_url</th>\n",
              "      <th>caption</th>\n",
              "      <th>comments</th>\n",
              "      <th>likes</th>\n",
              "    </tr>\n",
              "  </thead>\n",
              "  <tbody>\n",
              "    <tr>\n",
              "      <th>0</th>\n",
              "      <td>0</td>\n",
              "      <td>https://scontent-hkg3-1.cdninstagram.com/vp/56...</td>\n",
              "      <td>Photo by @dina_litovsky | These are portraits ...</td>\n",
              "      <td>365</td>\n",
              "      <td>57910</td>\n",
              "    </tr>\n",
              "    <tr>\n",
              "      <th>1</th>\n",
              "      <td>1</td>\n",
              "      <td>https://scontent-hkg3-1.cdninstagram.com/vp/c3...</td>\n",
              "      <td>Photo by David Guttenfelder @dguttenfelder // ...</td>\n",
              "      <td>190</td>\n",
              "      <td>69265</td>\n",
              "    </tr>\n",
              "    <tr>\n",
              "      <th>2</th>\n",
              "      <td>2</td>\n",
              "      <td>https://scontent-hkg3-1.cdninstagram.com/vp/62...</td>\n",
              "      <td>Photo by @stevewinterphoto | Our new story, “T...</td>\n",
              "      <td>1482</td>\n",
              "      <td>421468</td>\n",
              "    </tr>\n",
              "    <tr>\n",
              "      <th>3</th>\n",
              "      <td>3</td>\n",
              "      <td>https://scontent-hkg3-1.cdninstagram.com/vp/cc...</td>\n",
              "      <td>Photo by @davidalanharvey | Outer Banks, North...</td>\n",
              "      <td>341</td>\n",
              "      <td>160309</td>\n",
              "    </tr>\n",
              "    <tr>\n",
              "      <th>4</th>\n",
              "      <td>4</td>\n",
              "      <td>https://scontent-hkg3-1.cdninstagram.com/vp/d0...</td>\n",
              "      <td>Photo by Jimmy Chin @jimmychin | Alpine dreams...</td>\n",
              "      <td>551</td>\n",
              "      <td>314242</td>\n",
              "    </tr>\n",
              "  </tbody>\n",
              "</table>\n",
              "</div>"
            ],
            "text/plain": [
              "   Unnamed: 0  ...   likes\n",
              "0           0  ...   57910\n",
              "1           1  ...   69265\n",
              "2           2  ...  421468\n",
              "3           3  ...  160309\n",
              "4           4  ...  314242\n",
              "\n",
              "[5 rows x 5 columns]"
            ]
          },
          "metadata": {
            "tags": []
          },
          "execution_count": 4
        }
      ]
    },
    {
      "cell_type": "code",
      "metadata": {
        "id": "LIT6kp-BNiH3",
        "colab_type": "code",
        "outputId": "ba753863-6bfe-419c-d2f4-e7107178ea2b",
        "colab": {
          "base_uri": "https://localhost:8080/",
          "height": 490
        }
      },
      "source": [
        "!pip install google-cloud-vision"
      ],
      "execution_count": 0,
      "outputs": [
        {
          "output_type": "stream",
          "text": [
            "Collecting google-cloud-vision\n",
            "\u001b[?25l  Downloading https://files.pythonhosted.org/packages/57/fd/c2ea7adfecf62a3020088ea6693ff5b3785245d0ee5a9bd032f983c79610/google_cloud_vision-0.40.0-py2.py3-none-any.whl (431kB)\n",
            "\r\u001b[K     |▊                               | 10kB 20.3MB/s eta 0:00:01\r\u001b[K     |█▌                              | 20kB 6.7MB/s eta 0:00:01\r\u001b[K     |██▎                             | 30kB 9.4MB/s eta 0:00:01\r\u001b[K     |███                             | 40kB 6.0MB/s eta 0:00:01\r\u001b[K     |███▉                            | 51kB 7.3MB/s eta 0:00:01\r\u001b[K     |████▋                           | 61kB 8.6MB/s eta 0:00:01\r\u001b[K     |█████▎                          | 71kB 9.8MB/s eta 0:00:01\r\u001b[K     |██████                          | 81kB 10.9MB/s eta 0:00:01\r\u001b[K     |██████▉                         | 92kB 12.0MB/s eta 0:00:01\r\u001b[K     |███████▋                        | 102kB 9.6MB/s eta 0:00:01\r\u001b[K     |████████▍                       | 112kB 9.6MB/s eta 0:00:01\r\u001b[K     |█████████▏                      | 122kB 9.6MB/s eta 0:00:01\r\u001b[K     |█████████▉                      | 133kB 9.6MB/s eta 0:00:01\r\u001b[K     |██████████▋                     | 143kB 9.6MB/s eta 0:00:01\r\u001b[K     |███████████▍                    | 153kB 9.6MB/s eta 0:00:01\r\u001b[K     |████████████▏                   | 163kB 9.6MB/s eta 0:00:01\r\u001b[K     |█████████████                   | 174kB 9.6MB/s eta 0:00:01\r\u001b[K     |█████████████▊                  | 184kB 9.6MB/s eta 0:00:01\r\u001b[K     |██████████████▍                 | 194kB 9.6MB/s eta 0:00:01\r\u001b[K     |███████████████▏                | 204kB 9.6MB/s eta 0:00:01\r\u001b[K     |████████████████                | 215kB 9.6MB/s eta 0:00:01\r\u001b[K     |████████████████▊               | 225kB 9.6MB/s eta 0:00:01\r\u001b[K     |█████████████████▌              | 235kB 9.6MB/s eta 0:00:01\r\u001b[K     |██████████████████▎             | 245kB 9.6MB/s eta 0:00:01\r\u001b[K     |███████████████████             | 256kB 9.6MB/s eta 0:00:01\r\u001b[K     |███████████████████▊            | 266kB 9.6MB/s eta 0:00:01\r\u001b[K     |████████████████████▌           | 276kB 9.6MB/s eta 0:00:01\r\u001b[K     |█████████████████████▎          | 286kB 9.6MB/s eta 0:00:01\r\u001b[K     |██████████████████████          | 296kB 9.6MB/s eta 0:00:01\r\u001b[K     |██████████████████████▉         | 307kB 9.6MB/s eta 0:00:01\r\u001b[K     |███████████████████████▌        | 317kB 9.6MB/s eta 0:00:01\r\u001b[K     |████████████████████████▎       | 327kB 9.6MB/s eta 0:00:01\r\u001b[K     |█████████████████████████       | 337kB 9.6MB/s eta 0:00:01\r\u001b[K     |█████████████████████████▉      | 348kB 9.6MB/s eta 0:00:01\r\u001b[K     |██████████████████████████▋     | 358kB 9.6MB/s eta 0:00:01\r\u001b[K     |███████████████████████████▍    | 368kB 9.6MB/s eta 0:00:01\r\u001b[K     |████████████████████████████▏   | 378kB 9.6MB/s eta 0:00:01\r\u001b[K     |████████████████████████████▉   | 389kB 9.6MB/s eta 0:00:01\r\u001b[K     |█████████████████████████████▋  | 399kB 9.6MB/s eta 0:00:01\r\u001b[K     |██████████████████████████████▍ | 409kB 9.6MB/s eta 0:00:01\r\u001b[K     |███████████████████████████████▏| 419kB 9.6MB/s eta 0:00:01\r\u001b[K     |████████████████████████████████| 430kB 9.6MB/s eta 0:00:01\r\u001b[K     |████████████████████████████████| 440kB 9.6MB/s \n",
            "\u001b[?25hRequirement already satisfied: google-api-core[grpc]<2.0.0dev,>=1.14.0 in /usr/local/lib/python3.6/dist-packages (from google-cloud-vision) (1.14.3)\n",
            "Requirement already satisfied: requests<3.0.0dev,>=2.18.0 in /usr/local/lib/python3.6/dist-packages (from google-api-core[grpc]<2.0.0dev,>=1.14.0->google-cloud-vision) (2.21.0)\n",
            "Requirement already satisfied: protobuf>=3.4.0 in /usr/local/lib/python3.6/dist-packages (from google-api-core[grpc]<2.0.0dev,>=1.14.0->google-cloud-vision) (3.10.0)\n",
            "Requirement already satisfied: setuptools>=34.0.0 in /usr/local/lib/python3.6/dist-packages (from google-api-core[grpc]<2.0.0dev,>=1.14.0->google-cloud-vision) (41.4.0)\n",
            "Requirement already satisfied: google-auth<2.0dev,>=0.4.0 in /usr/local/lib/python3.6/dist-packages (from google-api-core[grpc]<2.0.0dev,>=1.14.0->google-cloud-vision) (1.4.2)\n",
            "Requirement already satisfied: six>=1.10.0 in /usr/local/lib/python3.6/dist-packages (from google-api-core[grpc]<2.0.0dev,>=1.14.0->google-cloud-vision) (1.12.0)\n",
            "Requirement already satisfied: pytz in /usr/local/lib/python3.6/dist-packages (from google-api-core[grpc]<2.0.0dev,>=1.14.0->google-cloud-vision) (2018.9)\n",
            "Requirement already satisfied: googleapis-common-protos<2.0dev,>=1.6.0 in /usr/local/lib/python3.6/dist-packages (from google-api-core[grpc]<2.0.0dev,>=1.14.0->google-cloud-vision) (1.6.0)\n",
            "Requirement already satisfied: grpcio<2.0dev,>=1.8.2; extra == \"grpc\" in /usr/local/lib/python3.6/dist-packages (from google-api-core[grpc]<2.0.0dev,>=1.14.0->google-cloud-vision) (1.15.0)\n",
            "Requirement already satisfied: chardet<3.1.0,>=3.0.2 in /usr/local/lib/python3.6/dist-packages (from requests<3.0.0dev,>=2.18.0->google-api-core[grpc]<2.0.0dev,>=1.14.0->google-cloud-vision) (3.0.4)\n",
            "Requirement already satisfied: idna<2.9,>=2.5 in /usr/local/lib/python3.6/dist-packages (from requests<3.0.0dev,>=2.18.0->google-api-core[grpc]<2.0.0dev,>=1.14.0->google-cloud-vision) (2.8)\n",
            "Requirement already satisfied: urllib3<1.25,>=1.21.1 in /usr/local/lib/python3.6/dist-packages (from requests<3.0.0dev,>=2.18.0->google-api-core[grpc]<2.0.0dev,>=1.14.0->google-cloud-vision) (1.24.3)\n",
            "Requirement already satisfied: certifi>=2017.4.17 in /usr/local/lib/python3.6/dist-packages (from requests<3.0.0dev,>=2.18.0->google-api-core[grpc]<2.0.0dev,>=1.14.0->google-cloud-vision) (2019.9.11)\n",
            "Requirement already satisfied: pyasn1-modules>=0.2.1 in /usr/local/lib/python3.6/dist-packages (from google-auth<2.0dev,>=0.4.0->google-api-core[grpc]<2.0.0dev,>=1.14.0->google-cloud-vision) (0.2.7)\n",
            "Requirement already satisfied: rsa>=3.1.4 in /usr/local/lib/python3.6/dist-packages (from google-auth<2.0dev,>=0.4.0->google-api-core[grpc]<2.0.0dev,>=1.14.0->google-cloud-vision) (4.0)\n",
            "Requirement already satisfied: cachetools>=2.0.0 in /usr/local/lib/python3.6/dist-packages (from google-auth<2.0dev,>=0.4.0->google-api-core[grpc]<2.0.0dev,>=1.14.0->google-cloud-vision) (3.1.1)\n",
            "Requirement already satisfied: pyasn1<0.5.0,>=0.4.6 in /usr/local/lib/python3.6/dist-packages (from pyasn1-modules>=0.2.1->google-auth<2.0dev,>=0.4.0->google-api-core[grpc]<2.0.0dev,>=1.14.0->google-cloud-vision) (0.4.7)\n",
            "Installing collected packages: google-cloud-vision\n",
            "Successfully installed google-cloud-vision-0.40.0\n"
          ],
          "name": "stdout"
        },
        {
          "output_type": "display_data",
          "data": {
            "application/vnd.colab-display-data+json": {
              "pip_warning": {
                "packages": [
                  "google"
                ]
              }
            }
          },
          "metadata": {
            "tags": []
          }
        }
      ]
    },
    {
      "cell_type": "code",
      "metadata": {
        "id": "yc50BdwmO3S-",
        "colab_type": "code",
        "outputId": "3e8db372-e183-4c5d-b8fc-f948a2ddefbe",
        "colab": {
          "base_uri": "https://localhost:8080/",
          "height": 120
        }
      },
      "source": [
        "#Mounting google drive to access the csv files created\n",
        "from google.colab import drive\n",
        "#drive.mount('/content/drive')\n",
        "drive.mount(\"/content/drive\", force_remount=True)"
      ],
      "execution_count": 0,
      "outputs": [
        {
          "output_type": "stream",
          "text": [
            "Go to this URL in a browser: https://accounts.google.com/o/oauth2/auth?client_id=947318989803-6bn6qk8qdgf4n4g3pfee6491hc0brc4i.apps.googleusercontent.com&redirect_uri=urn%3aietf%3awg%3aoauth%3a2.0%3aoob&response_type=code&scope=email%20https%3a%2f%2fwww.googleapis.com%2fauth%2fdocs.test%20https%3a%2f%2fwww.googleapis.com%2fauth%2fdrive%20https%3a%2f%2fwww.googleapis.com%2fauth%2fdrive.photos.readonly%20https%3a%2f%2fwww.googleapis.com%2fauth%2fpeopleapi.readonly\n",
            "\n",
            "Enter your authorization code:\n",
            "··········\n",
            "Mounted at /content/drive\n"
          ],
          "name": "stdout"
        }
      ]
    },
    {
      "cell_type": "code",
      "metadata": {
        "id": "2rMvPRMwPlEP",
        "colab_type": "code",
        "outputId": "84b9921c-9411-4535-dcd5-e158ad752145",
        "colab": {
          "base_uri": "https://localhost:8080/",
          "height": 33
        }
      },
      "source": [
        "ls"
      ],
      "execution_count": 0,
      "outputs": [
        {
          "output_type": "stream",
          "text": [
            "\u001b[0m\u001b[01;34mdrive\u001b[0m/  insta.csv  \u001b[01;34msample_data\u001b[0m/\n"
          ],
          "name": "stdout"
        }
      ]
    },
    {
      "cell_type": "code",
      "metadata": {
        "id": "iXkCW2B9E-wv",
        "colab_type": "code",
        "colab": {}
      },
      "source": [
        "from google.cloud import vision\n",
        "import os\n",
        "\n",
        "os.environ[\"GOOGLE_APPLICATION_CREDENTIALS\"]=\"My First Project-a7873dcc698e.json\"\n",
        "client = vision.ImageAnnotatorClient()"
      ],
      "execution_count": 0,
      "outputs": []
    },
    {
      "cell_type": "code",
      "metadata": {
        "id": "ZB3E9I9HM-RB",
        "colab_type": "code",
        "colab": {}
      },
      "source": [
        "def get_labels(url):\n",
        "    response = client.annotate_image({\n",
        "      'image': {'source': {'image_uri': url}},\n",
        "      'features': [{'type': \"LABEL_DETECTION\"}],\n",
        "    })\n",
        "    \n",
        "    labels = [annotation.description for annotation in response.label_annotations]\n",
        "    \n",
        "    return labels"
      ],
      "execution_count": 0,
      "outputs": []
    },
    {
      "cell_type": "code",
      "metadata": {
        "id": "7BM_GqJLQqhD",
        "colab_type": "code",
        "colab": {}
      },
      "source": [
        "insta['labels'] = insta['display_url'].map(get_labels)"
      ],
      "execution_count": 0,
      "outputs": []
    },
    {
      "cell_type": "code",
      "metadata": {
        "id": "J5J4nRq8Qycu",
        "colab_type": "code",
        "outputId": "aae88cb0-6ab7-4d5f-b11e-4c0db29ddfb7",
        "colab": {
          "base_uri": "https://localhost:8080/",
          "height": 297
        }
      },
      "source": [
        "insta.head()"
      ],
      "execution_count": 0,
      "outputs": [
        {
          "output_type": "execute_result",
          "data": {
            "text/html": [
              "<div>\n",
              "<style scoped>\n",
              "    .dataframe tbody tr th:only-of-type {\n",
              "        vertical-align: middle;\n",
              "    }\n",
              "\n",
              "    .dataframe tbody tr th {\n",
              "        vertical-align: top;\n",
              "    }\n",
              "\n",
              "    .dataframe thead th {\n",
              "        text-align: right;\n",
              "    }\n",
              "</style>\n",
              "<table border=\"1\" class=\"dataframe\">\n",
              "  <thead>\n",
              "    <tr style=\"text-align: right;\">\n",
              "      <th></th>\n",
              "      <th>Unnamed: 0</th>\n",
              "      <th>display_url</th>\n",
              "      <th>caption</th>\n",
              "      <th>comments</th>\n",
              "      <th>likes</th>\n",
              "      <th>labels</th>\n",
              "    </tr>\n",
              "  </thead>\n",
              "  <tbody>\n",
              "    <tr>\n",
              "      <th>0</th>\n",
              "      <td>0</td>\n",
              "      <td>https://scontent-hkg3-1.cdninstagram.com/vp/56...</td>\n",
              "      <td>Photo by @dina_litovsky | These are portraits ...</td>\n",
              "      <td>365</td>\n",
              "      <td>57910</td>\n",
              "      <td>[Lady, Beauty, Lip, Fashion, Photo shoot, Arm,...</td>\n",
              "    </tr>\n",
              "    <tr>\n",
              "      <th>1</th>\n",
              "      <td>1</td>\n",
              "      <td>https://scontent-hkg3-1.cdninstagram.com/vp/c3...</td>\n",
              "      <td>Photo by David Guttenfelder @dguttenfelder // ...</td>\n",
              "      <td>190</td>\n",
              "      <td>69265</td>\n",
              "      <td>[Visual effect lighting, Technology, Display d...</td>\n",
              "    </tr>\n",
              "    <tr>\n",
              "      <th>2</th>\n",
              "      <td>2</td>\n",
              "      <td>https://scontent-hkg3-1.cdninstagram.com/vp/62...</td>\n",
              "      <td>Photo by @stevewinterphoto | Our new story, “T...</td>\n",
              "      <td>1482</td>\n",
              "      <td>421468</td>\n",
              "      <td>[Tiger, Wildlife, Vertebrate, Bengal tiger, Si...</td>\n",
              "    </tr>\n",
              "    <tr>\n",
              "      <th>3</th>\n",
              "      <td>3</td>\n",
              "      <td>https://scontent-hkg3-1.cdninstagram.com/vp/cc...</td>\n",
              "      <td>Photo by @davidalanharvey | Outer Banks, North...</td>\n",
              "      <td>341</td>\n",
              "      <td>160309</td>\n",
              "      <td>[Wave, Ocean, Surfing Equipment, Surfing, Sea,...</td>\n",
              "    </tr>\n",
              "    <tr>\n",
              "      <th>4</th>\n",
              "      <td>4</td>\n",
              "      <td>https://scontent-hkg3-1.cdninstagram.com/vp/d0...</td>\n",
              "      <td>Photo by Jimmy Chin @jimmychin | Alpine dreams...</td>\n",
              "      <td>551</td>\n",
              "      <td>314242</td>\n",
              "      <td>[Water, Nature, Black-and-white, Atmospheric p...</td>\n",
              "    </tr>\n",
              "  </tbody>\n",
              "</table>\n",
              "</div>"
            ],
            "text/plain": [
              "   Unnamed: 0  ...                                             labels\n",
              "0           0  ...  [Lady, Beauty, Lip, Fashion, Photo shoot, Arm,...\n",
              "1           1  ...  [Visual effect lighting, Technology, Display d...\n",
              "2           2  ...  [Tiger, Wildlife, Vertebrate, Bengal tiger, Si...\n",
              "3           3  ...  [Wave, Ocean, Surfing Equipment, Surfing, Sea,...\n",
              "4           4  ...  [Water, Nature, Black-and-white, Atmospheric p...\n",
              "\n",
              "[5 rows x 6 columns]"
            ]
          },
          "metadata": {
            "tags": []
          },
          "execution_count": 15
        }
      ]
    },
    {
      "cell_type": "code",
      "metadata": {
        "id": "hAevdgNFSxB4",
        "colab_type": "code",
        "colab": {}
      },
      "source": [
        "import pickle\n",
        "pickle.dump( insta, open( \"save.p\", \"wb\" ) )"
      ],
      "execution_count": 0,
      "outputs": []
    },
    {
      "cell_type": "code",
      "metadata": {
        "id": "cszvPg77S6HG",
        "colab_type": "code",
        "colab": {}
      },
      "source": [
        "insta.to_csv('insta.csv')"
      ],
      "execution_count": 0,
      "outputs": []
    }
  ]
}