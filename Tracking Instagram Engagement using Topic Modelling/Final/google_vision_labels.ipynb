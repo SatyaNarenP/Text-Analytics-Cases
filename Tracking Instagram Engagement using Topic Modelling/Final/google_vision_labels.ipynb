{
 "cells": [
  {
   "cell_type": "code",
   "execution_count": 0,
   "metadata": {
    "colab": {},
    "colab_type": "code",
    "id": "8rNN7WhKr--a"
   },
   "outputs": [],
   "source": [
    "import pandas as pd\n",
    "\n",
    "post_df = pd.read_csv('instagram_posts_13Nov.csv')"
   ]
  },
  {
   "cell_type": "code",
   "execution_count": 0,
   "metadata": {
    "colab": {
     "base_uri": "https://localhost:8080/",
     "height": 606
    },
    "colab_type": "code",
    "id": "MURkY1iIDSIv",
    "outputId": "38731c91-14e0-4075-c2fb-59338ccf4631"
   },
   "outputs": [
    {
     "data": {
      "text/html": [
       "<div>\n",
       "<style scoped>\n",
       "    .dataframe tbody tr th:only-of-type {\n",
       "        vertical-align: middle;\n",
       "    }\n",
       "\n",
       "    .dataframe tbody tr th {\n",
       "        vertical-align: top;\n",
       "    }\n",
       "\n",
       "    .dataframe thead th {\n",
       "        text-align: right;\n",
       "    }\n",
       "</style>\n",
       "<table border=\"1\" class=\"dataframe\">\n",
       "  <thead>\n",
       "    <tr style=\"text-align: right;\">\n",
       "      <th></th>\n",
       "      <th>Unnamed: 0</th>\n",
       "      <th>post_url</th>\n",
       "      <th>num_likes</th>\n",
       "      <th>num_comments</th>\n",
       "      <th>caption</th>\n",
       "      <th>labels</th>\n",
       "    </tr>\n",
       "  </thead>\n",
       "  <tbody>\n",
       "    <tr>\n",
       "      <th>0</th>\n",
       "      <td>0</td>\n",
       "      <td>https://scontent-sea1-1.cdninstagram.com/vp/8e...</td>\n",
       "      <td>455787</td>\n",
       "      <td>1234</td>\n",
       "      <td>Photo by Jimmy Chin @jimmychin | Half Dome aft...</td>\n",
       "      <td>[Mountainous landforms, Mountain, White, Black...</td>\n",
       "    </tr>\n",
       "    <tr>\n",
       "      <th>1</th>\n",
       "      <td>1</td>\n",
       "      <td>https://scontent-sea1-1.cdninstagram.com/vp/51...</td>\n",
       "      <td>246999</td>\n",
       "      <td>941</td>\n",
       "      <td>Photos by Ian Teh @iantehphotography | I’m on ...</td>\n",
       "      <td>[Motor vehicle, Vehicle, Mode of transport, Au...</td>\n",
       "    </tr>\n",
       "    <tr>\n",
       "      <th>2</th>\n",
       "      <td>2</td>\n",
       "      <td>https://scontent-sea1-1.cdninstagram.com/vp/21...</td>\n",
       "      <td>610340</td>\n",
       "      <td>3481</td>\n",
       "      <td>Photo by Thomas Peschak @thomaspeschak | The m...</td>\n",
       "      <td>[Green sea turtle, Turtle, Sea turtle, Reptile...</td>\n",
       "    </tr>\n",
       "    <tr>\n",
       "      <th>3</th>\n",
       "      <td>3</td>\n",
       "      <td>https://scontent-sea1-1.cdninstagram.com/vp/78...</td>\n",
       "      <td>160973</td>\n",
       "      <td>492</td>\n",
       "      <td>Photo by Katie Orlinsky @katieorlinsky | Olga ...</td>\n",
       "      <td>[Temple, Cuisine]</td>\n",
       "    </tr>\n",
       "    <tr>\n",
       "      <th>4</th>\n",
       "      <td>4</td>\n",
       "      <td>https://scontent-sea1-1.cdninstagram.com/vp/03...</td>\n",
       "      <td>185601</td>\n",
       "      <td>730</td>\n",
       "      <td>Photo by Tasneem Alsultan @TasneemAlsultan | \"...</td>\n",
       "      <td>[Tree, Palm tree, Arecales, Woody plant, Plant...</td>\n",
       "    </tr>\n",
       "    <tr>\n",
       "      <th>...</th>\n",
       "      <td>...</td>\n",
       "      <td>...</td>\n",
       "      <td>...</td>\n",
       "      <td>...</td>\n",
       "      <td>...</td>\n",
       "      <td>...</td>\n",
       "    </tr>\n",
       "    <tr>\n",
       "      <th>467</th>\n",
       "      <td>467</td>\n",
       "      <td>https://scontent-sea1-1.cdninstagram.com/vp/7c...</td>\n",
       "      <td>183983</td>\n",
       "      <td>377</td>\n",
       "      <td>Photo by Michael Christopher Brown @michaelchr...</td>\n",
       "      <td>[Sky, Night, Blue, Green, Light, Tree, Lightin...</td>\n",
       "    </tr>\n",
       "    <tr>\n",
       "      <th>468</th>\n",
       "      <td>468</td>\n",
       "      <td>https://scontent-sea1-1.cdninstagram.com/vp/17...</td>\n",
       "      <td>400250</td>\n",
       "      <td>852</td>\n",
       "      <td>Photo by Jimmy Chin @jimmychin | Conrad Anker ...</td>\n",
       "      <td>[Mountaineering, Mountaineer, Geological pheno...</td>\n",
       "    </tr>\n",
       "    <tr>\n",
       "      <th>469</th>\n",
       "      <td>469</td>\n",
       "      <td>https://scontent-sea1-1.cdninstagram.com/vp/35...</td>\n",
       "      <td>336764</td>\n",
       "      <td>3700</td>\n",
       "      <td>Photo by Jasper Doest @jasperdoest | White sto...</td>\n",
       "      <td>[Bird, Beak, Ciconiiformes, Stork, Pelican, Se...</td>\n",
       "    </tr>\n",
       "    <tr>\n",
       "      <th>470</th>\n",
       "      <td>470</td>\n",
       "      <td>https://scontent-sea1-1.cdninstagram.com/vp/9d...</td>\n",
       "      <td>401039</td>\n",
       "      <td>1231</td>\n",
       "      <td>Photo by Joel Sartore @joelsartore | A freshwa...</td>\n",
       "      <td>[Green sea turtle, Sky, Olive ridley sea turtl...</td>\n",
       "    </tr>\n",
       "    <tr>\n",
       "      <th>471</th>\n",
       "      <td>471</td>\n",
       "      <td>https://scontent-sea1-1.cdninstagram.com/vp/81...</td>\n",
       "      <td>255877</td>\n",
       "      <td>847</td>\n",
       "      <td>Photo by Ed Kashi @edkashi | A fish runner sto...</td>\n",
       "      <td>[Adaptation, Soil]</td>\n",
       "    </tr>\n",
       "  </tbody>\n",
       "</table>\n",
       "<p>472 rows × 6 columns</p>\n",
       "</div>"
      ],
      "text/plain": [
       "     Unnamed: 0  ...                                             labels\n",
       "0             0  ...  [Mountainous landforms, Mountain, White, Black...\n",
       "1             1  ...  [Motor vehicle, Vehicle, Mode of transport, Au...\n",
       "2             2  ...  [Green sea turtle, Turtle, Sea turtle, Reptile...\n",
       "3             3  ...                                  [Temple, Cuisine]\n",
       "4             4  ...  [Tree, Palm tree, Arecales, Woody plant, Plant...\n",
       "..          ...  ...                                                ...\n",
       "467         467  ...  [Sky, Night, Blue, Green, Light, Tree, Lightin...\n",
       "468         468  ...  [Mountaineering, Mountaineer, Geological pheno...\n",
       "469         469  ...  [Bird, Beak, Ciconiiformes, Stork, Pelican, Se...\n",
       "470         470  ...  [Green sea turtle, Sky, Olive ridley sea turtl...\n",
       "471         471  ...                                 [Adaptation, Soil]\n",
       "\n",
       "[472 rows x 6 columns]"
      ]
     },
     "execution_count": 19,
     "metadata": {
      "tags": []
     },
     "output_type": "execute_result"
    }
   ],
   "source": [
    "post_df"
   ]
  },
  {
   "cell_type": "code",
   "execution_count": 0,
   "metadata": {
    "colab": {
     "base_uri": "https://localhost:8080/",
     "height": 349
    },
    "colab_type": "code",
    "id": "EqpSTOSiG2Gy",
    "outputId": "8cd05624-af32-447e-afce-81811d5234d7"
   },
   "outputs": [
    {
     "name": "stdout",
     "output_type": "stream",
     "text": [
      "Requirement already satisfied: google-cloud-vision in /usr/local/lib/python3.6/dist-packages (0.40.0)\n",
      "Requirement already satisfied: google-api-core[grpc]<2.0.0dev,>=1.14.0 in /usr/local/lib/python3.6/dist-packages (from google-cloud-vision) (1.14.3)\n",
      "Requirement already satisfied: requests<3.0.0dev,>=2.18.0 in /usr/local/lib/python3.6/dist-packages (from google-api-core[grpc]<2.0.0dev,>=1.14.0->google-cloud-vision) (2.21.0)\n",
      "Requirement already satisfied: google-auth<2.0dev,>=0.4.0 in /usr/local/lib/python3.6/dist-packages (from google-api-core[grpc]<2.0.0dev,>=1.14.0->google-cloud-vision) (1.4.2)\n",
      "Requirement already satisfied: googleapis-common-protos<2.0dev,>=1.6.0 in /usr/local/lib/python3.6/dist-packages (from google-api-core[grpc]<2.0.0dev,>=1.14.0->google-cloud-vision) (1.6.0)\n",
      "Requirement already satisfied: setuptools>=34.0.0 in /usr/local/lib/python3.6/dist-packages (from google-api-core[grpc]<2.0.0dev,>=1.14.0->google-cloud-vision) (41.4.0)\n",
      "Requirement already satisfied: six>=1.10.0 in /usr/local/lib/python3.6/dist-packages (from google-api-core[grpc]<2.0.0dev,>=1.14.0->google-cloud-vision) (1.12.0)\n",
      "Requirement already satisfied: protobuf>=3.4.0 in /usr/local/lib/python3.6/dist-packages (from google-api-core[grpc]<2.0.0dev,>=1.14.0->google-cloud-vision) (3.10.0)\n",
      "Requirement already satisfied: pytz in /usr/local/lib/python3.6/dist-packages (from google-api-core[grpc]<2.0.0dev,>=1.14.0->google-cloud-vision) (2018.9)\n",
      "Requirement already satisfied: grpcio<2.0dev,>=1.8.2; extra == \"grpc\" in /usr/local/lib/python3.6/dist-packages (from google-api-core[grpc]<2.0.0dev,>=1.14.0->google-cloud-vision) (1.15.0)\n",
      "Requirement already satisfied: urllib3<1.25,>=1.21.1 in /usr/local/lib/python3.6/dist-packages (from requests<3.0.0dev,>=2.18.0->google-api-core[grpc]<2.0.0dev,>=1.14.0->google-cloud-vision) (1.24.3)\n",
      "Requirement already satisfied: chardet<3.1.0,>=3.0.2 in /usr/local/lib/python3.6/dist-packages (from requests<3.0.0dev,>=2.18.0->google-api-core[grpc]<2.0.0dev,>=1.14.0->google-cloud-vision) (3.0.4)\n",
      "Requirement already satisfied: certifi>=2017.4.17 in /usr/local/lib/python3.6/dist-packages (from requests<3.0.0dev,>=2.18.0->google-api-core[grpc]<2.0.0dev,>=1.14.0->google-cloud-vision) (2019.9.11)\n",
      "Requirement already satisfied: idna<2.9,>=2.5 in /usr/local/lib/python3.6/dist-packages (from requests<3.0.0dev,>=2.18.0->google-api-core[grpc]<2.0.0dev,>=1.14.0->google-cloud-vision) (2.8)\n",
      "Requirement already satisfied: rsa>=3.1.4 in /usr/local/lib/python3.6/dist-packages (from google-auth<2.0dev,>=0.4.0->google-api-core[grpc]<2.0.0dev,>=1.14.0->google-cloud-vision) (4.0)\n",
      "Requirement already satisfied: pyasn1-modules>=0.2.1 in /usr/local/lib/python3.6/dist-packages (from google-auth<2.0dev,>=0.4.0->google-api-core[grpc]<2.0.0dev,>=1.14.0->google-cloud-vision) (0.2.7)\n",
      "Requirement already satisfied: cachetools>=2.0.0 in /usr/local/lib/python3.6/dist-packages (from google-auth<2.0dev,>=0.4.0->google-api-core[grpc]<2.0.0dev,>=1.14.0->google-cloud-vision) (3.1.1)\n",
      "Requirement already satisfied: pyasn1>=0.1.3 in /usr/local/lib/python3.6/dist-packages (from rsa>=3.1.4->google-auth<2.0dev,>=0.4.0->google-api-core[grpc]<2.0.0dev,>=1.14.0->google-cloud-vision) (0.4.7)\n"
     ]
    }
   ],
   "source": [
    "pip install google-cloud-vision"
   ]
  },
  {
   "cell_type": "code",
   "execution_count": 0,
   "metadata": {
    "colab": {},
    "colab_type": "code",
    "id": "VYGQ2kVKDTHC"
   },
   "outputs": [],
   "source": [
    "from google.cloud import vision\n",
    "import os\n",
    "\n",
    "os.environ[\"GOOGLE_APPLICATION_CREDENTIALS\"]=\"My First Project-15c0385f8491.json\"\n",
    "client = vision.ImageAnnotatorClient()\n",
    "\n",
    "def get_labels(url):\n",
    "    response = client.annotate_image({\n",
    "      'image': {'source': {'image_uri': url}},\n",
    "      'features': [{'type': \"LABEL_DETECTION\"}],\n",
    "    })\n",
    "    \n",
    "    labels = [annotation.description for annotation in response.label_annotations]\n",
    "    \n",
    "    return labels\n",
    "\n",
    "post_df['labels'] = post_df['post_url'].map(get_labels)"
   ]
  },
  {
   "cell_type": "code",
   "execution_count": 0,
   "metadata": {
    "colab": {
     "base_uri": "https://localhost:8080/",
     "height": 35
    },
    "colab_type": "code",
    "id": "VGhgzyk1dTZF",
    "outputId": "905bb535-d664-49ee-c6d2-a1a8c1ade483"
   },
   "outputs": [
    {
     "data": {
      "text/plain": [
       "list"
      ]
     },
     "execution_count": 25,
     "metadata": {
      "tags": []
     },
     "output_type": "execute_result"
    }
   ],
   "source": [
    "type(post_df['labels'].iloc[0]) "
   ]
  },
  {
   "cell_type": "code",
   "execution_count": 0,
   "metadata": {
    "colab": {},
    "colab_type": "code",
    "id": "3jKfuWbbG78g"
   },
   "outputs": [],
   "source": [
    "import pickle\n",
    "\n",
    "pickle.dump( post_df, open( \"labels_instagram_posts_13Nov.p\", \"wb\" ) )"
   ]
  },
  {
   "cell_type": "code",
   "execution_count": 0,
   "metadata": {
    "colab": {},
    "colab_type": "code",
    "id": "tP1vbzW7IpRr"
   },
   "outputs": [],
   "source": [
    "labels = list(set([i.lower() for l in post_df.labels for i in l]))"
   ]
  },
  {
   "cell_type": "code",
   "execution_count": 0,
   "metadata": {
    "colab": {
     "base_uri": "https://localhost:8080/",
     "height": 35
    },
    "colab_type": "code",
    "id": "hBnbAUmSn558",
    "outputId": "8b00d368-ea2f-4a43-e08a-b84481081d82"
   },
   "outputs": [
    {
     "data": {
      "text/plain": [
       "list"
      ]
     },
     "execution_count": 33,
     "metadata": {
      "tags": []
     },
     "output_type": "execute_result"
    }
   ],
   "source": [
    "type(post_df['labels'][0])  "
   ]
  },
  {
   "cell_type": "code",
   "execution_count": 0,
   "metadata": {
    "colab": {},
    "colab_type": "code",
    "id": "CmZqaLWHn6sJ"
   },
   "outputs": [],
   "source": []
  }
 ],
 "metadata": {
  "colab": {
   "collapsed_sections": [],
   "name": "google_vision_labels",
   "provenance": []
  },
  "kernelspec": {
   "display_name": "Python 3",
   "language": "python",
   "name": "python3"
  },
  "language_info": {
   "codemirror_mode": {
    "name": "ipython",
    "version": 3
   },
   "file_extension": ".py",
   "mimetype": "text/x-python",
   "name": "python",
   "nbconvert_exporter": "python",
   "pygments_lexer": "ipython3",
   "version": "3.7.3"
  }
 },
 "nbformat": 4,
 "nbformat_minor": 1
}
