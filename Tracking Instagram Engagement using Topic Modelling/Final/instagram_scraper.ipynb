{
 "cells": [
  {
   "cell_type": "code",
   "execution_count": 0,
   "metadata": {
    "colab": {
     "base_uri": "https://localhost:8080/",
     "height": 852
    },
    "colab_type": "code",
    "id": "S8aITYNu8Z1J",
    "outputId": "e98e4111-4725-4d0b-cae9-d5c1c8bafcff"
   },
   "outputs": [
    {
     "name": "stdout",
     "output_type": "stream",
     "text": [
      "Collecting selenium\n",
      "\u001b[?25l  Downloading https://files.pythonhosted.org/packages/80/d6/4294f0b4bce4de0abf13e17190289f9d0613b0a44e5dd6a7f5ca98459853/selenium-3.141.0-py2.py3-none-any.whl (904kB)\n",
      "\r",
      "\u001b[K     |▍                               | 10kB 17.4MB/s eta 0:00:01\r",
      "\u001b[K     |▊                               | 20kB 3.3MB/s eta 0:00:01\r",
      "\u001b[K     |█                               | 30kB 4.7MB/s eta 0:00:01\r",
      "\u001b[K     |█▌                              | 40kB 3.1MB/s eta 0:00:01\r",
      "\u001b[K     |█▉                              | 51kB 3.7MB/s eta 0:00:01\r",
      "\u001b[K     |██▏                             | 61kB 4.4MB/s eta 0:00:01\r",
      "\u001b[K     |██▌                             | 71kB 5.1MB/s eta 0:00:01\r",
      "\u001b[K     |███                             | 81kB 5.7MB/s eta 0:00:01\r",
      "\u001b[K     |███▎                            | 92kB 6.3MB/s eta 0:00:01\r",
      "\u001b[K     |███▋                            | 102kB 5.0MB/s eta 0:00:01\r",
      "\u001b[K     |████                            | 112kB 5.0MB/s eta 0:00:01\r",
      "\u001b[K     |████▍                           | 122kB 5.0MB/s eta 0:00:01\r",
      "\u001b[K     |████▊                           | 133kB 5.0MB/s eta 0:00:01\r",
      "\u001b[K     |█████                           | 143kB 5.0MB/s eta 0:00:01\r",
      "\u001b[K     |█████▍                          | 153kB 5.0MB/s eta 0:00:01\r",
      "\u001b[K     |█████▉                          | 163kB 5.0MB/s eta 0:00:01\r",
      "\u001b[K     |██████▏                         | 174kB 5.0MB/s eta 0:00:01\r",
      "\u001b[K     |██████▌                         | 184kB 5.0MB/s eta 0:00:01\r",
      "\u001b[K     |██████▉                         | 194kB 5.0MB/s eta 0:00:01\r",
      "\u001b[K     |███████▎                        | 204kB 5.0MB/s eta 0:00:01\r",
      "\u001b[K     |███████▋                        | 215kB 5.0MB/s eta 0:00:01\r",
      "\u001b[K     |████████                        | 225kB 5.0MB/s eta 0:00:01\r",
      "\u001b[K     |████████▎                       | 235kB 5.0MB/s eta 0:00:01\r",
      "\u001b[K     |████████▊                       | 245kB 5.0MB/s eta 0:00:01\r",
      "\u001b[K     |█████████                       | 256kB 5.0MB/s eta 0:00:01\r",
      "\u001b[K     |█████████▍                      | 266kB 5.0MB/s eta 0:00:01\r",
      "\u001b[K     |█████████▉                      | 276kB 5.0MB/s eta 0:00:01\r",
      "\u001b[K     |██████████▏                     | 286kB 5.0MB/s eta 0:00:01\r",
      "\u001b[K     |██████████▌                     | 296kB 5.0MB/s eta 0:00:01\r",
      "\u001b[K     |██████████▉                     | 307kB 5.0MB/s eta 0:00:01\r",
      "\u001b[K     |███████████▎                    | 317kB 5.0MB/s eta 0:00:01\r",
      "\u001b[K     |███████████▋                    | 327kB 5.0MB/s eta 0:00:01\r",
      "\u001b[K     |████████████                    | 337kB 5.0MB/s eta 0:00:01\r",
      "\u001b[K     |████████████▎                   | 348kB 5.0MB/s eta 0:00:01\r",
      "\u001b[K     |████████████▊                   | 358kB 5.0MB/s eta 0:00:01\r",
      "\u001b[K     |█████████████                   | 368kB 5.0MB/s eta 0:00:01\r",
      "\u001b[K     |█████████████▍                  | 378kB 5.0MB/s eta 0:00:01\r",
      "\u001b[K     |█████████████▊                  | 389kB 5.0MB/s eta 0:00:01\r",
      "\u001b[K     |██████████████▏                 | 399kB 5.0MB/s eta 0:00:01\r",
      "\u001b[K     |██████████████▌                 | 409kB 5.0MB/s eta 0:00:01\r",
      "\u001b[K     |██████████████▉                 | 419kB 5.0MB/s eta 0:00:01\r",
      "\u001b[K     |███████████████▏                | 430kB 5.0MB/s eta 0:00:01\r",
      "\u001b[K     |███████████████▋                | 440kB 5.0MB/s eta 0:00:01\r",
      "\u001b[K     |████████████████                | 450kB 5.0MB/s eta 0:00:01\r",
      "\u001b[K     |████████████████▎               | 460kB 5.0MB/s eta 0:00:01\r",
      "\u001b[K     |████████████████▋               | 471kB 5.0MB/s eta 0:00:01\r",
      "\u001b[K     |█████████████████               | 481kB 5.0MB/s eta 0:00:01\r",
      "\u001b[K     |█████████████████▍              | 491kB 5.0MB/s eta 0:00:01\r",
      "\u001b[K     |█████████████████▊              | 501kB 5.0MB/s eta 0:00:01\r",
      "\u001b[K     |██████████████████▏             | 512kB 5.0MB/s eta 0:00:01\r",
      "\u001b[K     |██████████████████▌             | 522kB 5.0MB/s eta 0:00:01\r",
      "\u001b[K     |██████████████████▉             | 532kB 5.0MB/s eta 0:00:01\r",
      "\u001b[K     |███████████████████▏            | 542kB 5.0MB/s eta 0:00:01\r",
      "\u001b[K     |███████████████████▋            | 552kB 5.0MB/s eta 0:00:01\r",
      "\u001b[K     |████████████████████            | 563kB 5.0MB/s eta 0:00:01\r",
      "\u001b[K     |████████████████████▎           | 573kB 5.0MB/s eta 0:00:01\r",
      "\u001b[K     |████████████████████▋           | 583kB 5.0MB/s eta 0:00:01\r",
      "\u001b[K     |█████████████████████           | 593kB 5.0MB/s eta 0:00:01\r",
      "\u001b[K     |█████████████████████▍          | 604kB 5.0MB/s eta 0:00:01\r",
      "\u001b[K     |█████████████████████▊          | 614kB 5.0MB/s eta 0:00:01\r",
      "\u001b[K     |██████████████████████          | 624kB 5.0MB/s eta 0:00:01\r",
      "\u001b[K     |██████████████████████▌         | 634kB 5.0MB/s eta 0:00:01\r",
      "\u001b[K     |██████████████████████▉         | 645kB 5.0MB/s eta 0:00:01\r",
      "\u001b[K     |███████████████████████▏        | 655kB 5.0MB/s eta 0:00:01\r",
      "\u001b[K     |███████████████████████▌        | 665kB 5.0MB/s eta 0:00:01\r",
      "\u001b[K     |████████████████████████        | 675kB 5.0MB/s eta 0:00:01\r",
      "\u001b[K     |████████████████████████▎       | 686kB 5.0MB/s eta 0:00:01\r",
      "\u001b[K     |████████████████████████▋       | 696kB 5.0MB/s eta 0:00:01\r",
      "\u001b[K     |█████████████████████████       | 706kB 5.0MB/s eta 0:00:01\r",
      "\u001b[K     |█████████████████████████▍      | 716kB 5.0MB/s eta 0:00:01\r",
      "\u001b[K     |█████████████████████████▊      | 727kB 5.0MB/s eta 0:00:01\r",
      "\u001b[K     |██████████████████████████      | 737kB 5.0MB/s eta 0:00:01\r",
      "\u001b[K     |██████████████████████████▍     | 747kB 5.0MB/s eta 0:00:01\r",
      "\u001b[K     |██████████████████████████▉     | 757kB 5.0MB/s eta 0:00:01\r",
      "\u001b[K     |███████████████████████████▏    | 768kB 5.0MB/s eta 0:00:01\r",
      "\u001b[K     |███████████████████████████▌    | 778kB 5.0MB/s eta 0:00:01\r",
      "\u001b[K     |████████████████████████████    | 788kB 5.0MB/s eta 0:00:01\r",
      "\u001b[K     |████████████████████████████▎   | 798kB 5.0MB/s eta 0:00:01\r",
      "\u001b[K     |████████████████████████████▋   | 808kB 5.0MB/s eta 0:00:01\r",
      "\u001b[K     |█████████████████████████████   | 819kB 5.0MB/s eta 0:00:01\r",
      "\u001b[K     |█████████████████████████████▍  | 829kB 5.0MB/s eta 0:00:01\r",
      "\u001b[K     |█████████████████████████████▊  | 839kB 5.0MB/s eta 0:00:01\r",
      "\u001b[K     |██████████████████████████████  | 849kB 5.0MB/s eta 0:00:01\r",
      "\u001b[K     |██████████████████████████████▍ | 860kB 5.0MB/s eta 0:00:01\r",
      "\u001b[K     |██████████████████████████████▉ | 870kB 5.0MB/s eta 0:00:01\r",
      "\u001b[K     |███████████████████████████████▏| 880kB 5.0MB/s eta 0:00:01\r",
      "\u001b[K     |███████████████████████████████▌| 890kB 5.0MB/s eta 0:00:01\r",
      "\u001b[K     |███████████████████████████████▉| 901kB 5.0MB/s eta 0:00:01\r",
      "\u001b[K     |████████████████████████████████| 911kB 5.0MB/s \n",
      "\u001b[?25hRequirement already satisfied: urllib3 in /usr/local/lib/python3.6/dist-packages (from selenium) (1.24.3)\n",
      "Installing collected packages: selenium\n",
      "Successfully installed selenium-3.141.0\n",
      "Reading package lists...\n",
      "Building dependency tree...\n",
      "Reading state information...\n",
      "The following additional packages will be installed:\n",
      "  chromium-browser chromium-browser-l10n chromium-codecs-ffmpeg-extra\n",
      "Suggested packages:\n",
      "  webaccounts-chromium-extension unity-chromium-extension adobe-flashplugin\n",
      "The following NEW packages will be installed:\n",
      "  chromium-browser chromium-browser-l10n chromium-chromedriver\n",
      "  chromium-codecs-ffmpeg-extra\n",
      "0 upgraded, 4 newly installed, 0 to remove and 35 not upgraded.\n",
      "Need to get 71.9 MB of archives.\n",
      "After this operation, 257 MB of additional disk space will be used.\n",
      "Get:1 http://archive.ubuntu.com/ubuntu bionic-updates/universe amd64 chromium-codecs-ffmpeg-extra amd64 78.0.3904.70-0ubuntu0.18.04.2 [1,078 kB]\n",
      "Get:2 http://archive.ubuntu.com/ubuntu bionic-updates/universe amd64 chromium-browser amd64 78.0.3904.70-0ubuntu0.18.04.2 [63.3 MB]\n",
      "Get:3 http://archive.ubuntu.com/ubuntu bionic-updates/universe amd64 chromium-browser-l10n all 78.0.3904.70-0ubuntu0.18.04.2 [3,073 kB]\n",
      "Get:4 http://archive.ubuntu.com/ubuntu bionic-updates/universe amd64 chromium-chromedriver amd64 78.0.3904.70-0ubuntu0.18.04.2 [4,465 kB]\n",
      "Fetched 71.9 MB in 8s (8,514 kB/s)\n",
      "Selecting previously unselected package chromium-codecs-ffmpeg-extra.\n",
      "(Reading database ... 132684 files and directories currently installed.)\n",
      "Preparing to unpack .../chromium-codecs-ffmpeg-extra_78.0.3904.70-0ubuntu0.18.04.2_amd64.deb ...\n",
      "Unpacking chromium-codecs-ffmpeg-extra (78.0.3904.70-0ubuntu0.18.04.2) ...\n",
      "Selecting previously unselected package chromium-browser.\n",
      "Preparing to unpack .../chromium-browser_78.0.3904.70-0ubuntu0.18.04.2_amd64.deb ...\n",
      "Unpacking chromium-browser (78.0.3904.70-0ubuntu0.18.04.2) ...\n",
      "Selecting previously unselected package chromium-browser-l10n.\n",
      "Preparing to unpack .../chromium-browser-l10n_78.0.3904.70-0ubuntu0.18.04.2_all.deb ...\n",
      "Unpacking chromium-browser-l10n (78.0.3904.70-0ubuntu0.18.04.2) ...\n",
      "Selecting previously unselected package chromium-chromedriver.\n",
      "Preparing to unpack .../chromium-chromedriver_78.0.3904.70-0ubuntu0.18.04.2_amd64.deb ...\n",
      "Unpacking chromium-chromedriver (78.0.3904.70-0ubuntu0.18.04.2) ...\n",
      "Processing triggers for mime-support (3.60ubuntu1) ...\n",
      "Setting up chromium-codecs-ffmpeg-extra (78.0.3904.70-0ubuntu0.18.04.2) ...\n",
      "Processing triggers for man-db (2.8.3-2ubuntu0.1) ...\n",
      "Processing triggers for hicolor-icon-theme (0.17-2) ...\n",
      "Setting up chromium-browser (78.0.3904.70-0ubuntu0.18.04.2) ...\n",
      "update-alternatives: using /usr/bin/chromium-browser to provide /usr/bin/x-www-browser (x-www-browser) in auto mode\n",
      "update-alternatives: using /usr/bin/chromium-browser to provide /usr/bin/gnome-www-browser (gnome-www-browser) in auto mode\n",
      "Setting up chromium-chromedriver (78.0.3904.70-0ubuntu0.18.04.2) ...\n",
      "Setting up chromium-browser-l10n (78.0.3904.70-0ubuntu0.18.04.2) ...\n",
      "cp: '/usr/lib/chromium-browser/chromedriver' and '/usr/bin/chromedriver' are the same file\n"
     ]
    }
   ],
   "source": [
    "# Use this code if using Colab to run Selenium\n",
    "\n",
    "# Make sure to go to Runtime -> Change runtime type and select Python 3 as runtime type and GPU as hardware accelerator\n",
    "\n",
    "# !kill -9 -1 # Use this line to delete this VM and start a new one. \n",
    "# The above line deletes all files and folders from the current VM and allocates a new one.\n",
    "\n",
    "!pip install selenium\n",
    "# !apt-get -q update # to update ubuntu to correctly run apt install\n",
    "!apt install -yq chromium-chromedriver\n",
    "!cp /usr/lib/chromium-browser/chromedriver /usr/bin\n",
    "\n",
    "import sys\n",
    "sys.path.insert(0,'/usr/lib/chromium-browser/chromedriver')\n",
    "from selenium import webdriver\n",
    "chrome_options = webdriver.ChromeOptions()\n",
    "chrome_options.add_argument('--headless')\n",
    "chrome_options.add_argument('--no-sandbox')\n",
    "chrome_options.add_argument('--disable-dev-shm-usage')"
   ]
  },
  {
   "cell_type": "code",
   "execution_count": 0,
   "metadata": {
    "colab": {},
    "colab_type": "code",
    "id": "dOEhmdnC8OlW"
   },
   "outputs": [],
   "source": [
    "from bs4 import BeautifulSoup as bs\n",
    "import time\n",
    "import re\n",
    "from urllib.request import urlopen\n",
    "import json\n",
    "from pandas.io.json import json_normalize\n",
    "import pandas as pd, numpy as np"
   ]
  },
  {
   "cell_type": "code",
   "execution_count": 0,
   "metadata": {
    "colab": {},
    "colab_type": "code",
    "id": "49UrTMvP8hsN"
   },
   "outputs": [],
   "source": [
    "driver = webdriver.Chrome('chromedriver', options=chrome_options)\n",
    "driver.get('https://www.instagram.com/natgeo/?hl=en')\n",
    "Pagelength = driver.execute_script(\"window.scrollTo(0, document.body.scrollHeight);\")"
   ]
  },
  {
   "cell_type": "code",
   "execution_count": 0,
   "metadata": {
    "colab": {},
    "colab_type": "code",
    "id": "lArKQEEW98vG"
   },
   "outputs": [],
   "source": [
    "links = []\n",
    "\n",
    "while len(links)<500:\n",
    "\n",
    "  driver.execute_script(\"window.scrollTo(0, document.body.scrollHeight);\")\n",
    "  \n",
    "  time.sleep(2) \n",
    "  \n",
    "  source = driver.page_source\n",
    "  data=bs(source, 'html.parser')\n",
    "  \n",
    "  body = data.find('body')\n",
    "  script = body.find('span')\n",
    "  \n",
    "  for link in script.findAll('a'):\n",
    "    if re.match(\"/p\", link.get('href')):\n",
    "      links.append(link.get('href').lstrip('/p/').rstrip('/'))\n",
    "  links = list(set(links))\n"
   ]
  },
  {
   "cell_type": "code",
   "execution_count": 0,
   "metadata": {
    "colab": {
     "base_uri": "https://localhost:8080/",
     "height": 35
    },
    "colab_type": "code",
    "id": "LcPZ1JGuEPxQ",
    "outputId": "c6e6ad26-c96f-412e-f298-b6053e91d0d8"
   },
   "outputs": [
    {
     "data": {
      "text/plain": [
       "(504, 504)"
      ]
     },
     "execution_count": 7,
     "metadata": {
      "tags": []
     },
     "output_type": "execute_result"
    }
   ],
   "source": [
    "len(set(links)), len(links)"
   ]
  },
  {
   "cell_type": "code",
   "execution_count": 0,
   "metadata": {
    "colab": {
     "base_uri": "https://localhost:8080/",
     "height": 121
    },
    "colab_type": "code",
    "id": "kaxy5XUKJb6Q",
    "outputId": "ebaeb087-54f0-4d9f-eb0f-6e855a7d27f1"
   },
   "outputs": [
    {
     "name": "stdout",
     "output_type": "stream",
     "text": [
      "Requirement already satisfied: instaloader in /usr/local/lib/python3.6/dist-packages (4.2.10)\n",
      "Requirement already satisfied: requests>=2.4 in /usr/local/lib/python3.6/dist-packages (from instaloader) (2.21.0)\n",
      "Requirement already satisfied: urllib3<1.25,>=1.21.1 in /usr/local/lib/python3.6/dist-packages (from requests>=2.4->instaloader) (1.24.3)\n",
      "Requirement already satisfied: chardet<3.1.0,>=3.0.2 in /usr/local/lib/python3.6/dist-packages (from requests>=2.4->instaloader) (3.0.4)\n",
      "Requirement already satisfied: certifi>=2017.4.17 in /usr/local/lib/python3.6/dist-packages (from requests>=2.4->instaloader) (2019.9.11)\n",
      "Requirement already satisfied: idna<2.9,>=2.5 in /usr/local/lib/python3.6/dist-packages (from requests>=2.4->instaloader) (2.8)\n"
     ]
    }
   ],
   "source": [
    "!pip3 install instaloader"
   ]
  },
  {
   "cell_type": "code",
   "execution_count": 0,
   "metadata": {
    "colab": {},
    "colab_type": "code",
    "id": "wKsHotfzpKOU"
   },
   "outputs": [],
   "source": [
    "import instaloader\n",
    "from instaloader import Post\n",
    "L = instaloader.Instaloader()\n",
    "\n",
    "post_df = pd.DataFrame(columns=['post_url','num_likes','num_comments','caption'])\n",
    "\n",
    "for scode in links:\n",
    "  post = Post.from_shortcode(L.context, scode)\n",
    "  if not post.is_video:\n",
    "    post_df = post_df.append({'post_url': post.url, 'num_likes': post.likes, 'num_comments': post.comments, 'caption': post.caption}, ignore_index=True)\n"
   ]
  },
  {
   "cell_type": "code",
   "execution_count": 0,
   "metadata": {
    "colab": {
     "base_uri": "https://localhost:8080/",
     "height": 202
    },
    "colab_type": "code",
    "id": "AHWLcp2mkJzS",
    "outputId": "693cb9b6-af4c-4ddf-fcd4-61bf8766295f"
   },
   "outputs": [
    {
     "data": {
      "text/html": [
       "<div>\n",
       "<style scoped>\n",
       "    .dataframe tbody tr th:only-of-type {\n",
       "        vertical-align: middle;\n",
       "    }\n",
       "\n",
       "    .dataframe tbody tr th {\n",
       "        vertical-align: top;\n",
       "    }\n",
       "\n",
       "    .dataframe thead th {\n",
       "        text-align: right;\n",
       "    }\n",
       "</style>\n",
       "<table border=\"1\" class=\"dataframe\">\n",
       "  <thead>\n",
       "    <tr style=\"text-align: right;\">\n",
       "      <th></th>\n",
       "      <th>post_url</th>\n",
       "      <th>num_likes</th>\n",
       "      <th>num_comments</th>\n",
       "      <th>caption</th>\n",
       "    </tr>\n",
       "  </thead>\n",
       "  <tbody>\n",
       "    <tr>\n",
       "      <th>0</th>\n",
       "      <td>https://scontent-sea1-1.cdninstagram.com/vp/8e...</td>\n",
       "      <td>455787</td>\n",
       "      <td>1234</td>\n",
       "      <td>Photo by Jimmy Chin @jimmychin | Half Dome aft...</td>\n",
       "    </tr>\n",
       "    <tr>\n",
       "      <th>1</th>\n",
       "      <td>https://scontent-sea1-1.cdninstagram.com/vp/51...</td>\n",
       "      <td>246999</td>\n",
       "      <td>941</td>\n",
       "      <td>Photos by Ian Teh @iantehphotography | I’m on ...</td>\n",
       "    </tr>\n",
       "    <tr>\n",
       "      <th>2</th>\n",
       "      <td>https://scontent-sea1-1.cdninstagram.com/vp/21...</td>\n",
       "      <td>610340</td>\n",
       "      <td>3481</td>\n",
       "      <td>Photo by Thomas Peschak @thomaspeschak | The m...</td>\n",
       "    </tr>\n",
       "    <tr>\n",
       "      <th>3</th>\n",
       "      <td>https://scontent-sea1-1.cdninstagram.com/vp/78...</td>\n",
       "      <td>160973</td>\n",
       "      <td>492</td>\n",
       "      <td>Photo by Katie Orlinsky @katieorlinsky | Olga ...</td>\n",
       "    </tr>\n",
       "    <tr>\n",
       "      <th>4</th>\n",
       "      <td>https://scontent-sea1-1.cdninstagram.com/vp/03...</td>\n",
       "      <td>185601</td>\n",
       "      <td>730</td>\n",
       "      <td>Photo by Tasneem Alsultan @TasneemAlsultan | \"...</td>\n",
       "    </tr>\n",
       "  </tbody>\n",
       "</table>\n",
       "</div>"
      ],
      "text/plain": [
       "                                            post_url  ...                                            caption\n",
       "0  https://scontent-sea1-1.cdninstagram.com/vp/8e...  ...  Photo by Jimmy Chin @jimmychin | Half Dome aft...\n",
       "1  https://scontent-sea1-1.cdninstagram.com/vp/51...  ...  Photos by Ian Teh @iantehphotography | I’m on ...\n",
       "2  https://scontent-sea1-1.cdninstagram.com/vp/21...  ...  Photo by Thomas Peschak @thomaspeschak | The m...\n",
       "3  https://scontent-sea1-1.cdninstagram.com/vp/78...  ...  Photo by Katie Orlinsky @katieorlinsky | Olga ...\n",
       "4  https://scontent-sea1-1.cdninstagram.com/vp/03...  ...  Photo by Tasneem Alsultan @TasneemAlsultan | \"...\n",
       "\n",
       "[5 rows x 4 columns]"
      ]
     },
     "execution_count": 40,
     "metadata": {
      "tags": []
     },
     "output_type": "execute_result"
    }
   ],
   "source": [
    "post_df.head()"
   ]
  },
  {
   "cell_type": "code",
   "execution_count": 0,
   "metadata": {
    "colab": {
     "base_uri": "https://localhost:8080/",
     "height": 35
    },
    "colab_type": "code",
    "id": "FfO7WBdmkM6D",
    "outputId": "106ab0d9-71ce-4ddc-982f-a8081528d439"
   },
   "outputs": [
    {
     "data": {
      "text/plain": [
       "(472, 4)"
      ]
     },
     "execution_count": 41,
     "metadata": {
      "tags": []
     },
     "output_type": "execute_result"
    }
   ],
   "source": [
    "post_df.shape"
   ]
  },
  {
   "cell_type": "code",
   "execution_count": 0,
   "metadata": {
    "colab": {},
    "colab_type": "code",
    "id": "FLjAGGxsewVN"
   },
   "outputs": [],
   "source": [
    "post_df.to_csv('instagram_posts_13Nov.csv')"
   ]
  },
  {
   "cell_type": "code",
   "execution_count": 0,
   "metadata": {
    "colab": {},
    "colab_type": "code",
    "id": "EcKJGzw3qxQC"
   },
   "outputs": [],
   "source": []
  }
 ],
 "metadata": {
  "colab": {
   "collapsed_sections": [],
   "name": "instagram_scraper.ipynb",
   "provenance": []
  },
  "kernelspec": {
   "display_name": "Python 3",
   "language": "python",
   "name": "python3"
  },
  "language_info": {
   "codemirror_mode": {
    "name": "ipython",
    "version": 3
   },
   "file_extension": ".py",
   "mimetype": "text/x-python",
   "name": "python",
   "nbconvert_exporter": "python",
   "pygments_lexer": "ipython3",
   "version": "3.7.3"
  }
 },
 "nbformat": 4,
 "nbformat_minor": 1
}
