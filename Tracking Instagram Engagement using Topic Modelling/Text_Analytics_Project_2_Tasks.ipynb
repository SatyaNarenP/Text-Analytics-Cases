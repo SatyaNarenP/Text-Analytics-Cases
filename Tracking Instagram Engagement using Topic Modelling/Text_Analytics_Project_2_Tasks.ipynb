{
 "cells": [
  {
   "cell_type": "code",
   "execution_count": 0,
   "metadata": {
    "colab": {
     "base_uri": "https://localhost:8080/",
     "height": 33
    },
    "colab_type": "code",
    "id": "1BhD8P2JLEky",
    "outputId": "38496a72-201c-479e-9d0e-b36e9b794027"
   },
   "outputs": [
    {
     "name": "stdout",
     "output_type": "stream",
     "text": [
      "Mounted at /content/drive\n"
     ]
    }
   ],
   "source": [
    "#Mounting google drive to access the csv files created\n",
    "from google.colab import drive\n",
    "#drive.mount('/content/drive')\n",
    "drive.mount(\"/content/drive\", force_remount=True)\n",
    "import pandas as pd"
   ]
  },
  {
   "cell_type": "code",
   "execution_count": 0,
   "metadata": {
    "colab": {},
    "colab_type": "code",
    "id": "5T8SxUfGVWaF"
   },
   "outputs": [],
   "source": [
    "import pickle\n",
    "import pandas as pd\n",
    "import numpy as np\n",
    "\n",
    "post_info = pickle.load( open( \"/content/drive/My Drive/save.p\", \"rb\" ) )"
   ]
  },
  {
   "cell_type": "code",
   "execution_count": 0,
   "metadata": {
    "colab": {},
    "colab_type": "code",
    "id": "LecuFMIsMngZ"
   },
   "outputs": [],
   "source": [
    "post_info.drop(post_info.columns[0:1],axis=1,inplace=True)"
   ]
  },
  {
   "cell_type": "code",
   "execution_count": 0,
   "metadata": {
    "colab": {},
    "colab_type": "code",
    "id": "LcfSl3v8M4w3"
   },
   "outputs": [],
   "source": [
    "post_info['likes_normalized'] = post_info['likes']/post_info['likes'].max()\n",
    "post_info['comments_normalized'] = post_info['comments']/post_info['comments'].max()\n",
    "post_info['engagement_score'] = .4*post_info['likes_normalized']+.6*post_info['comments_normalized']"
   ]
  },
  {
   "cell_type": "code",
   "execution_count": 0,
   "metadata": {
    "colab": {},
    "colab_type": "code",
    "id": "l42izqmPOOJr"
   },
   "outputs": [],
   "source": [
    "engagement_median = post_info['engagement_score'].median()\n",
    "\n",
    "def binary_engage(score):\n",
    "    if score > engagement_median:\n",
    "        return 1\n",
    "    else:\n",
    "        return 0"
   ]
  },
  {
   "cell_type": "code",
   "execution_count": 0,
   "metadata": {
    "colab": {},
    "colab_type": "code",
    "id": "Xx1xzCjXOZOb"
   },
   "outputs": [],
   "source": [
    "post_info['engagement_binary'] = post_info['engagement_score'].map(binary_engage)"
   ]
  },
  {
   "cell_type": "code",
   "execution_count": 0,
   "metadata": {
    "colab": {
     "base_uri": "https://localhost:8080/",
     "height": 67
    },
    "colab_type": "code",
    "id": "G7_0ybmLPL8j",
    "outputId": "f99abe67-ebda-45fa-8ac1-0eefea0fb2b4"
   },
   "outputs": [
    {
     "data": {
      "text/plain": [
       "1    236\n",
       "0    236\n",
       "Name: engagement_binary, dtype: int64"
      ]
     },
     "execution_count": 191,
     "metadata": {
      "tags": []
     },
     "output_type": "execute_result"
    }
   ],
   "source": [
    "post_info.engagement_binary.value_counts()"
   ]
  },
  {
   "cell_type": "code",
   "execution_count": 0,
   "metadata": {
    "colab": {
     "base_uri": "https://localhost:8080/",
     "height": 137
    },
    "colab_type": "code",
    "id": "CPr2rQT0OfTk",
    "outputId": "03e786c3-13cb-4223-9d10-82db95f8aebc"
   },
   "outputs": [
    {
     "name": "stderr",
     "output_type": "stream",
     "text": [
      "/usr/local/lib/python3.6/dist-packages/ipykernel_launcher.py:4: SettingWithCopyWarning: \n",
      "A value is trying to be set on a copy of a slice from a DataFrame.\n",
      "Try using .loc[row_indexer,col_indexer] = value instead\n",
      "\n",
      "See the caveats in the documentation: http://pandas.pydata.org/pandas-docs/stable/user_guide/indexing.html#returning-a-view-versus-a-copy\n",
      "  after removing the cwd from sys.path.\n"
     ]
    }
   ],
   "source": [
    "regression = post_info[['labels', 'engagement_binary']]\n",
    "labels = list(set(post_info['labels'].sum()))\n",
    "for label in labels:\n",
    "    regression[label] = regression['labels'].apply(lambda x: 1 if label in x else 0 )"
   ]
  },
  {
   "cell_type": "code",
   "execution_count": 0,
   "metadata": {
    "colab": {
     "base_uri": "https://localhost:8080/",
     "height": 680
    },
    "colab_type": "code",
    "id": "ozJJnLquO7Xx",
    "outputId": "f24c9a2e-fc97-42df-be53-8a8351161ead"
   },
   "outputs": [
    {
     "data": {
      "text/html": [
       "<div>\n",
       "<style scoped>\n",
       "    .dataframe tbody tr th:only-of-type {\n",
       "        vertical-align: middle;\n",
       "    }\n",
       "\n",
       "    .dataframe tbody tr th {\n",
       "        vertical-align: top;\n",
       "    }\n",
       "\n",
       "    .dataframe thead th {\n",
       "        text-align: right;\n",
       "    }\n",
       "</style>\n",
       "<table border=\"1\" class=\"dataframe\">\n",
       "  <thead>\n",
       "    <tr style=\"text-align: right;\">\n",
       "      <th></th>\n",
       "      <th>labels</th>\n",
       "      <th>engagement_binary</th>\n",
       "      <th>World</th>\n",
       "      <th>Arch</th>\n",
       "      <th>Siberian tiger</th>\n",
       "      <th>Fisherman</th>\n",
       "      <th>Mist</th>\n",
       "      <th>Mouth</th>\n",
       "      <th>Maple leaf</th>\n",
       "      <th>Knee</th>\n",
       "      <th>Large-flowered cactus</th>\n",
       "      <th>Nature</th>\n",
       "      <th>Performance</th>\n",
       "      <th>Soldier</th>\n",
       "      <th>Bridge</th>\n",
       "      <th>Coyote</th>\n",
       "      <th>Basketball</th>\n",
       "      <th>Horse supplies</th>\n",
       "      <th>Photography</th>\n",
       "      <th>Shark</th>\n",
       "      <th>Perro de presa canario</th>\n",
       "      <th>Waste</th>\n",
       "      <th>Interaction</th>\n",
       "      <th>Rock</th>\n",
       "      <th>Hill</th>\n",
       "      <th>Flightless bird</th>\n",
       "      <th>Eyebrow</th>\n",
       "      <th>Cooling tower</th>\n",
       "      <th>Parrot</th>\n",
       "      <th>Fish</th>\n",
       "      <th>Cumulus</th>\n",
       "      <th>Amphibian</th>\n",
       "      <th>Sports</th>\n",
       "      <th>Companion dog</th>\n",
       "      <th>Humpback whale</th>\n",
       "      <th>Jungle</th>\n",
       "      <th>Fire</th>\n",
       "      <th>Giraffidae</th>\n",
       "      <th>Garmon</th>\n",
       "      <th>Castle</th>\n",
       "      <th>...</th>\n",
       "      <th>Stately home</th>\n",
       "      <th>Poison dart frog</th>\n",
       "      <th>Flare</th>\n",
       "      <th>Diatonic button accordion</th>\n",
       "      <th>Night</th>\n",
       "      <th>Space</th>\n",
       "      <th>Street football</th>\n",
       "      <th>Evening</th>\n",
       "      <th>Canidae</th>\n",
       "      <th>Hip</th>\n",
       "      <th>Accordionist</th>\n",
       "      <th>Lava cave</th>\n",
       "      <th>Hula hoop</th>\n",
       "      <th>Stratovolcano</th>\n",
       "      <th>Snapshot</th>\n",
       "      <th>Antler</th>\n",
       "      <th>Toad</th>\n",
       "      <th>Monochrome</th>\n",
       "      <th>Mountainous landforms</th>\n",
       "      <th>Bird of prey</th>\n",
       "      <th>Statue</th>\n",
       "      <th>Rare breed (dog)</th>\n",
       "      <th>Natural environment</th>\n",
       "      <th>Cycling</th>\n",
       "      <th>Wilderness</th>\n",
       "      <th>Mare</th>\n",
       "      <th>Dugong</th>\n",
       "      <th>Surfing</th>\n",
       "      <th>Python</th>\n",
       "      <th>History</th>\n",
       "      <th>Universe</th>\n",
       "      <th>Social work</th>\n",
       "      <th>Green</th>\n",
       "      <th>Joint</th>\n",
       "      <th>Rays and skates</th>\n",
       "      <th>Nebula</th>\n",
       "      <th>Academic dress</th>\n",
       "      <th>Pony</th>\n",
       "      <th>Leisure</th>\n",
       "      <th>Water bird</th>\n",
       "    </tr>\n",
       "  </thead>\n",
       "  <tbody>\n",
       "    <tr>\n",
       "      <th>0</th>\n",
       "      <td>[Lady, Beauty, Lip, Fashion, Photo shoot, Arm,...</td>\n",
       "      <td>0</td>\n",
       "      <td>0</td>\n",
       "      <td>0</td>\n",
       "      <td>0</td>\n",
       "      <td>0</td>\n",
       "      <td>0</td>\n",
       "      <td>0</td>\n",
       "      <td>0</td>\n",
       "      <td>0</td>\n",
       "      <td>0</td>\n",
       "      <td>0</td>\n",
       "      <td>0</td>\n",
       "      <td>0</td>\n",
       "      <td>0</td>\n",
       "      <td>0</td>\n",
       "      <td>0</td>\n",
       "      <td>0</td>\n",
       "      <td>1</td>\n",
       "      <td>0</td>\n",
       "      <td>0</td>\n",
       "      <td>0</td>\n",
       "      <td>0</td>\n",
       "      <td>0</td>\n",
       "      <td>0</td>\n",
       "      <td>0</td>\n",
       "      <td>0</td>\n",
       "      <td>0</td>\n",
       "      <td>0</td>\n",
       "      <td>0</td>\n",
       "      <td>0</td>\n",
       "      <td>0</td>\n",
       "      <td>0</td>\n",
       "      <td>0</td>\n",
       "      <td>0</td>\n",
       "      <td>0</td>\n",
       "      <td>0</td>\n",
       "      <td>0</td>\n",
       "      <td>0</td>\n",
       "      <td>0</td>\n",
       "      <td>...</td>\n",
       "      <td>0</td>\n",
       "      <td>0</td>\n",
       "      <td>0</td>\n",
       "      <td>0</td>\n",
       "      <td>0</td>\n",
       "      <td>0</td>\n",
       "      <td>0</td>\n",
       "      <td>0</td>\n",
       "      <td>0</td>\n",
       "      <td>0</td>\n",
       "      <td>0</td>\n",
       "      <td>0</td>\n",
       "      <td>0</td>\n",
       "      <td>0</td>\n",
       "      <td>0</td>\n",
       "      <td>0</td>\n",
       "      <td>0</td>\n",
       "      <td>0</td>\n",
       "      <td>0</td>\n",
       "      <td>0</td>\n",
       "      <td>0</td>\n",
       "      <td>0</td>\n",
       "      <td>0</td>\n",
       "      <td>0</td>\n",
       "      <td>0</td>\n",
       "      <td>0</td>\n",
       "      <td>0</td>\n",
       "      <td>0</td>\n",
       "      <td>0</td>\n",
       "      <td>0</td>\n",
       "      <td>0</td>\n",
       "      <td>0</td>\n",
       "      <td>0</td>\n",
       "      <td>0</td>\n",
       "      <td>0</td>\n",
       "      <td>0</td>\n",
       "      <td>0</td>\n",
       "      <td>0</td>\n",
       "      <td>0</td>\n",
       "      <td>0</td>\n",
       "    </tr>\n",
       "    <tr>\n",
       "      <th>1</th>\n",
       "      <td>[Visual effect lighting, Technology, Display d...</td>\n",
       "      <td>0</td>\n",
       "      <td>0</td>\n",
       "      <td>0</td>\n",
       "      <td>0</td>\n",
       "      <td>0</td>\n",
       "      <td>0</td>\n",
       "      <td>0</td>\n",
       "      <td>0</td>\n",
       "      <td>0</td>\n",
       "      <td>0</td>\n",
       "      <td>0</td>\n",
       "      <td>0</td>\n",
       "      <td>0</td>\n",
       "      <td>0</td>\n",
       "      <td>0</td>\n",
       "      <td>0</td>\n",
       "      <td>0</td>\n",
       "      <td>0</td>\n",
       "      <td>0</td>\n",
       "      <td>0</td>\n",
       "      <td>0</td>\n",
       "      <td>0</td>\n",
       "      <td>0</td>\n",
       "      <td>0</td>\n",
       "      <td>0</td>\n",
       "      <td>0</td>\n",
       "      <td>0</td>\n",
       "      <td>0</td>\n",
       "      <td>0</td>\n",
       "      <td>0</td>\n",
       "      <td>0</td>\n",
       "      <td>0</td>\n",
       "      <td>0</td>\n",
       "      <td>0</td>\n",
       "      <td>0</td>\n",
       "      <td>0</td>\n",
       "      <td>0</td>\n",
       "      <td>0</td>\n",
       "      <td>0</td>\n",
       "      <td>...</td>\n",
       "      <td>0</td>\n",
       "      <td>0</td>\n",
       "      <td>0</td>\n",
       "      <td>0</td>\n",
       "      <td>0</td>\n",
       "      <td>0</td>\n",
       "      <td>0</td>\n",
       "      <td>0</td>\n",
       "      <td>0</td>\n",
       "      <td>0</td>\n",
       "      <td>0</td>\n",
       "      <td>0</td>\n",
       "      <td>0</td>\n",
       "      <td>0</td>\n",
       "      <td>0</td>\n",
       "      <td>0</td>\n",
       "      <td>0</td>\n",
       "      <td>0</td>\n",
       "      <td>0</td>\n",
       "      <td>0</td>\n",
       "      <td>0</td>\n",
       "      <td>0</td>\n",
       "      <td>0</td>\n",
       "      <td>0</td>\n",
       "      <td>0</td>\n",
       "      <td>0</td>\n",
       "      <td>0</td>\n",
       "      <td>0</td>\n",
       "      <td>0</td>\n",
       "      <td>0</td>\n",
       "      <td>0</td>\n",
       "      <td>0</td>\n",
       "      <td>0</td>\n",
       "      <td>0</td>\n",
       "      <td>0</td>\n",
       "      <td>0</td>\n",
       "      <td>0</td>\n",
       "      <td>0</td>\n",
       "      <td>0</td>\n",
       "      <td>0</td>\n",
       "    </tr>\n",
       "    <tr>\n",
       "      <th>2</th>\n",
       "      <td>[Tiger, Wildlife, Vertebrate, Bengal tiger, Si...</td>\n",
       "      <td>1</td>\n",
       "      <td>0</td>\n",
       "      <td>0</td>\n",
       "      <td>1</td>\n",
       "      <td>0</td>\n",
       "      <td>0</td>\n",
       "      <td>0</td>\n",
       "      <td>0</td>\n",
       "      <td>0</td>\n",
       "      <td>0</td>\n",
       "      <td>0</td>\n",
       "      <td>0</td>\n",
       "      <td>0</td>\n",
       "      <td>0</td>\n",
       "      <td>0</td>\n",
       "      <td>0</td>\n",
       "      <td>0</td>\n",
       "      <td>0</td>\n",
       "      <td>0</td>\n",
       "      <td>0</td>\n",
       "      <td>0</td>\n",
       "      <td>0</td>\n",
       "      <td>0</td>\n",
       "      <td>0</td>\n",
       "      <td>0</td>\n",
       "      <td>0</td>\n",
       "      <td>0</td>\n",
       "      <td>0</td>\n",
       "      <td>0</td>\n",
       "      <td>0</td>\n",
       "      <td>0</td>\n",
       "      <td>0</td>\n",
       "      <td>0</td>\n",
       "      <td>0</td>\n",
       "      <td>0</td>\n",
       "      <td>0</td>\n",
       "      <td>0</td>\n",
       "      <td>0</td>\n",
       "      <td>0</td>\n",
       "      <td>...</td>\n",
       "      <td>0</td>\n",
       "      <td>0</td>\n",
       "      <td>0</td>\n",
       "      <td>0</td>\n",
       "      <td>0</td>\n",
       "      <td>0</td>\n",
       "      <td>0</td>\n",
       "      <td>0</td>\n",
       "      <td>0</td>\n",
       "      <td>0</td>\n",
       "      <td>0</td>\n",
       "      <td>0</td>\n",
       "      <td>0</td>\n",
       "      <td>0</td>\n",
       "      <td>0</td>\n",
       "      <td>0</td>\n",
       "      <td>0</td>\n",
       "      <td>0</td>\n",
       "      <td>0</td>\n",
       "      <td>0</td>\n",
       "      <td>0</td>\n",
       "      <td>0</td>\n",
       "      <td>0</td>\n",
       "      <td>0</td>\n",
       "      <td>0</td>\n",
       "      <td>0</td>\n",
       "      <td>0</td>\n",
       "      <td>0</td>\n",
       "      <td>0</td>\n",
       "      <td>0</td>\n",
       "      <td>0</td>\n",
       "      <td>0</td>\n",
       "      <td>0</td>\n",
       "      <td>0</td>\n",
       "      <td>0</td>\n",
       "      <td>0</td>\n",
       "      <td>0</td>\n",
       "      <td>0</td>\n",
       "      <td>0</td>\n",
       "      <td>0</td>\n",
       "    </tr>\n",
       "    <tr>\n",
       "      <th>3</th>\n",
       "      <td>[Wave, Ocean, Surfing Equipment, Surfing, Sea,...</td>\n",
       "      <td>0</td>\n",
       "      <td>0</td>\n",
       "      <td>0</td>\n",
       "      <td>0</td>\n",
       "      <td>0</td>\n",
       "      <td>0</td>\n",
       "      <td>0</td>\n",
       "      <td>0</td>\n",
       "      <td>0</td>\n",
       "      <td>0</td>\n",
       "      <td>0</td>\n",
       "      <td>0</td>\n",
       "      <td>0</td>\n",
       "      <td>0</td>\n",
       "      <td>0</td>\n",
       "      <td>0</td>\n",
       "      <td>0</td>\n",
       "      <td>0</td>\n",
       "      <td>0</td>\n",
       "      <td>0</td>\n",
       "      <td>0</td>\n",
       "      <td>0</td>\n",
       "      <td>0</td>\n",
       "      <td>0</td>\n",
       "      <td>0</td>\n",
       "      <td>0</td>\n",
       "      <td>0</td>\n",
       "      <td>0</td>\n",
       "      <td>0</td>\n",
       "      <td>0</td>\n",
       "      <td>0</td>\n",
       "      <td>0</td>\n",
       "      <td>0</td>\n",
       "      <td>0</td>\n",
       "      <td>0</td>\n",
       "      <td>0</td>\n",
       "      <td>0</td>\n",
       "      <td>0</td>\n",
       "      <td>0</td>\n",
       "      <td>...</td>\n",
       "      <td>0</td>\n",
       "      <td>0</td>\n",
       "      <td>0</td>\n",
       "      <td>0</td>\n",
       "      <td>0</td>\n",
       "      <td>0</td>\n",
       "      <td>0</td>\n",
       "      <td>0</td>\n",
       "      <td>0</td>\n",
       "      <td>0</td>\n",
       "      <td>0</td>\n",
       "      <td>0</td>\n",
       "      <td>0</td>\n",
       "      <td>0</td>\n",
       "      <td>0</td>\n",
       "      <td>0</td>\n",
       "      <td>0</td>\n",
       "      <td>0</td>\n",
       "      <td>0</td>\n",
       "      <td>0</td>\n",
       "      <td>0</td>\n",
       "      <td>0</td>\n",
       "      <td>0</td>\n",
       "      <td>0</td>\n",
       "      <td>0</td>\n",
       "      <td>0</td>\n",
       "      <td>0</td>\n",
       "      <td>1</td>\n",
       "      <td>0</td>\n",
       "      <td>0</td>\n",
       "      <td>0</td>\n",
       "      <td>0</td>\n",
       "      <td>0</td>\n",
       "      <td>0</td>\n",
       "      <td>0</td>\n",
       "      <td>0</td>\n",
       "      <td>0</td>\n",
       "      <td>0</td>\n",
       "      <td>0</td>\n",
       "      <td>0</td>\n",
       "    </tr>\n",
       "    <tr>\n",
       "      <th>4</th>\n",
       "      <td>[Water, Nature, Black-and-white, Atmospheric p...</td>\n",
       "      <td>0</td>\n",
       "      <td>0</td>\n",
       "      <td>0</td>\n",
       "      <td>0</td>\n",
       "      <td>0</td>\n",
       "      <td>0</td>\n",
       "      <td>0</td>\n",
       "      <td>0</td>\n",
       "      <td>0</td>\n",
       "      <td>0</td>\n",
       "      <td>1</td>\n",
       "      <td>0</td>\n",
       "      <td>0</td>\n",
       "      <td>0</td>\n",
       "      <td>0</td>\n",
       "      <td>0</td>\n",
       "      <td>0</td>\n",
       "      <td>0</td>\n",
       "      <td>0</td>\n",
       "      <td>0</td>\n",
       "      <td>0</td>\n",
       "      <td>0</td>\n",
       "      <td>1</td>\n",
       "      <td>0</td>\n",
       "      <td>0</td>\n",
       "      <td>0</td>\n",
       "      <td>0</td>\n",
       "      <td>0</td>\n",
       "      <td>0</td>\n",
       "      <td>0</td>\n",
       "      <td>0</td>\n",
       "      <td>0</td>\n",
       "      <td>0</td>\n",
       "      <td>0</td>\n",
       "      <td>0</td>\n",
       "      <td>0</td>\n",
       "      <td>0</td>\n",
       "      <td>0</td>\n",
       "      <td>0</td>\n",
       "      <td>...</td>\n",
       "      <td>0</td>\n",
       "      <td>0</td>\n",
       "      <td>0</td>\n",
       "      <td>0</td>\n",
       "      <td>0</td>\n",
       "      <td>0</td>\n",
       "      <td>0</td>\n",
       "      <td>0</td>\n",
       "      <td>0</td>\n",
       "      <td>0</td>\n",
       "      <td>0</td>\n",
       "      <td>0</td>\n",
       "      <td>0</td>\n",
       "      <td>0</td>\n",
       "      <td>0</td>\n",
       "      <td>0</td>\n",
       "      <td>0</td>\n",
       "      <td>1</td>\n",
       "      <td>0</td>\n",
       "      <td>0</td>\n",
       "      <td>0</td>\n",
       "      <td>0</td>\n",
       "      <td>0</td>\n",
       "      <td>0</td>\n",
       "      <td>0</td>\n",
       "      <td>0</td>\n",
       "      <td>0</td>\n",
       "      <td>0</td>\n",
       "      <td>0</td>\n",
       "      <td>0</td>\n",
       "      <td>0</td>\n",
       "      <td>0</td>\n",
       "      <td>0</td>\n",
       "      <td>0</td>\n",
       "      <td>0</td>\n",
       "      <td>0</td>\n",
       "      <td>0</td>\n",
       "      <td>0</td>\n",
       "      <td>0</td>\n",
       "      <td>0</td>\n",
       "    </tr>\n",
       "  </tbody>\n",
       "</table>\n",
       "<p>5 rows × 958 columns</p>\n",
       "</div>"
      ],
      "text/plain": [
       "                                              labels  ...  Water bird\n",
       "0  [Lady, Beauty, Lip, Fashion, Photo shoot, Arm,...  ...           0\n",
       "1  [Visual effect lighting, Technology, Display d...  ...           0\n",
       "2  [Tiger, Wildlife, Vertebrate, Bengal tiger, Si...  ...           0\n",
       "3  [Wave, Ocean, Surfing Equipment, Surfing, Sea,...  ...           0\n",
       "4  [Water, Nature, Black-and-white, Atmospheric p...  ...           0\n",
       "\n",
       "[5 rows x 958 columns]"
      ]
     },
     "execution_count": 193,
     "metadata": {
      "tags": []
     },
     "output_type": "execute_result"
    }
   ],
   "source": [
    "regression.head()"
   ]
  },
  {
   "cell_type": "code",
   "execution_count": 0,
   "metadata": {
    "colab": {
     "base_uri": "https://localhost:8080/",
     "height": 50
    },
    "colab_type": "code",
    "id": "Z3np-cboO9uV",
    "outputId": "773edc04-2134-40a7-96d3-3384355cb271"
   },
   "outputs": [
    {
     "name": "stdout",
     "output_type": "stream",
     "text": [
      "[nltk_data] Downloading package wordnet to /root/nltk_data...\n",
      "[nltk_data]   Package wordnet is already up-to-date!\n"
     ]
    }
   ],
   "source": [
    "from sklearn.feature_extraction.text import TfidfTransformer\n",
    "from sklearn.feature_extraction.text import CountVectorizer\n",
    "from nltk import word_tokenize\n",
    "from nltk.stem import WordNetLemmatizer\n",
    "import nltk\n",
    "import spacy\n",
    "\n",
    "nltk.download('wordnet')\n",
    "\n",
    "def getLemma(caption):\n",
    "  nlp = spacy.load('en', disable=['parser', 'ner'])\n",
    "  doc = nlp(caption)\n",
    "  return \" \".join([token.lemma_ for token in doc])"
   ]
  },
  {
   "cell_type": "code",
   "execution_count": 0,
   "metadata": {
    "colab": {},
    "colab_type": "code",
    "id": "fN6PJmGRd2R1"
   },
   "outputs": [],
   "source": [
    "post_info['caption_replaced']=post_info['caption'].map(getLemma)"
   ]
  },
  {
   "cell_type": "code",
   "execution_count": 0,
   "metadata": {
    "colab": {
     "base_uri": "https://localhost:8080/",
     "height": 50
    },
    "colab_type": "code",
    "id": "rg-3RLhgg4xe",
    "outputId": "b785cb93-e369-4a0c-82c8-66dfb7c5f320"
   },
   "outputs": [
    {
     "name": "stdout",
     "output_type": "stream",
     "text": [
      "[nltk_data] Downloading package punkt to /root/nltk_data...\n",
      "[nltk_data]   Package punkt is already up-to-date!\n"
     ]
    }
   ],
   "source": [
    "from nltk import word_tokenize\n",
    "nltk.download('punkt')\n",
    "post_info['tokenized_captions'] = post_info['caption_replaced'].map(lambda x: nltk.word_tokenize(x))"
   ]
  },
  {
   "cell_type": "code",
   "execution_count": 0,
   "metadata": {
    "colab": {},
    "colab_type": "code",
    "id": "QNsZT2_0iyur"
   },
   "outputs": [],
   "source": [
    "from sklearn.feature_extraction.text import CountVectorizer"
   ]
  },
  {
   "cell_type": "code",
   "execution_count": 0,
   "metadata": {
    "colab": {},
    "colab_type": "code",
    "id": "-UOlIUq9dMXw"
   },
   "outputs": [],
   "source": [
    "cv=CountVectorizer(stop_words='english', max_features=1250)\n",
    "word_count_vector=cv.fit_transform(post_info.caption_replaced.values)\n",
    "tfidf_transformer=TfidfTransformer(smooth_idf=True,use_idf=True)\n",
    "tfidf_transformer.fit(word_count_vector)\n",
    "tf_idf_vector=tfidf_transformer.transform(word_count_vector)"
   ]
  },
  {
   "cell_type": "code",
   "execution_count": 0,
   "metadata": {
    "colab": {
     "base_uri": "https://localhost:8080/",
     "height": 120
    },
    "colab_type": "code",
    "id": "QzsRCgEFjSzR",
    "outputId": "8ddc0381-b7b3-466b-f0ec-99281fdbda0f"
   },
   "outputs": [
    {
     "name": "stderr",
     "output_type": "stream",
     "text": [
      "/usr/local/lib/python3.6/dist-packages/sklearn/linear_model/logistic.py:432: FutureWarning: Default solver will be changed to 'lbfgs' in 0.22. Specify a solver to silence this warning.\n",
      "  FutureWarning)\n",
      "/usr/local/lib/python3.6/dist-packages/sklearn/utils/validation.py:724: DataConversionWarning: A column-vector y was passed when a 1d array was expected. Please change the shape of y to (n_samples, ), for example using ravel().\n",
      "  y = column_or_1d(y, warn=True)\n"
     ]
    },
    {
     "data": {
      "text/plain": [
       "0.7372881355932204"
      ]
     },
     "execution_count": 199,
     "metadata": {
      "tags": []
     },
     "output_type": "execute_result"
    }
   ],
   "source": [
    "from sklearn.model_selection import train_test_split\n",
    "from sklearn.linear_model import LogisticRegression\n",
    "X = tf_idf_vector\n",
    "y = regression[['engagement_binary']]\n",
    "\n",
    "x_train, x_test, y_train, y_test = train_test_split(X, y, test_size=0.25, random_state=0)\n",
    "log_reg = LogisticRegression()\n",
    "log_reg.fit(x_train, y_train)\n",
    "\n",
    "log_reg.score(x_test, y_test)"
   ]
  },
  {
   "cell_type": "code",
   "execution_count": 0,
   "metadata": {
    "colab": {
     "base_uri": "https://localhost:8080/",
     "height": 137
    },
    "colab_type": "code",
    "id": "snAADVtOj5W2",
    "outputId": "2d801d0b-ff71-49dc-fee5-7da187cd7a52"
   },
   "outputs": [
    {
     "data": {
      "text/html": [
       "<div>\n",
       "<style scoped>\n",
       "    .dataframe tbody tr th:only-of-type {\n",
       "        vertical-align: middle;\n",
       "    }\n",
       "\n",
       "    .dataframe tbody tr th {\n",
       "        vertical-align: top;\n",
       "    }\n",
       "\n",
       "    .dataframe thead th {\n",
       "        text-align: right;\n",
       "    }\n",
       "</style>\n",
       "<table border=\"1\" class=\"dataframe\">\n",
       "  <thead>\n",
       "    <tr style=\"text-align: right;\">\n",
       "      <th>predicted</th>\n",
       "      <th>0</th>\n",
       "      <th>1</th>\n",
       "    </tr>\n",
       "    <tr>\n",
       "      <th>actual</th>\n",
       "      <th></th>\n",
       "      <th></th>\n",
       "    </tr>\n",
       "  </thead>\n",
       "  <tbody>\n",
       "    <tr>\n",
       "      <th>0</th>\n",
       "      <td>45</td>\n",
       "      <td>17</td>\n",
       "    </tr>\n",
       "    <tr>\n",
       "      <th>1</th>\n",
       "      <td>14</td>\n",
       "      <td>42</td>\n",
       "    </tr>\n",
       "  </tbody>\n",
       "</table>\n",
       "</div>"
      ],
      "text/plain": [
       "predicted   0   1\n",
       "actual           \n",
       "0          45  17\n",
       "1          14  42"
      ]
     },
     "execution_count": 200,
     "metadata": {
      "tags": []
     },
     "output_type": "execute_result"
    }
   ],
   "source": [
    "predictions = log_reg.predict(x_test)\n",
    "\n",
    "confusion = pd.DataFrame(zip(y_test.engagement_binary, predictions), columns=['actual', 'predicted'])\n",
    "pd.crosstab(confusion.actual, confusion.predicted)"
   ]
  },
  {
   "cell_type": "code",
   "execution_count": 0,
   "metadata": {
    "colab": {},
    "colab_type": "code",
    "id": "HY4rSu2indGm"
   },
   "outputs": [],
   "source": [
    "label_string = pd.DataFrame(post_info.labels.map(lambda x: ' '.join(x)))\n",
    "label_string.labels = label_string.labels.str.lower()"
   ]
  },
  {
   "cell_type": "code",
   "execution_count": 0,
   "metadata": {
    "colab": {},
    "colab_type": "code",
    "id": "3sY4bQ4joQLT"
   },
   "outputs": [],
   "source": [
    "label_string['labels_replaced']=label_string['labels'].map(getLemma)"
   ]
  },
  {
   "cell_type": "code",
   "execution_count": 0,
   "metadata": {
    "colab": {},
    "colab_type": "code",
    "id": "q9jgzt-dooC0"
   },
   "outputs": [],
   "source": [
    "post_info['labels_replaced']=label_string['labels_replaced']\n",
    "post_info['labels']=label_string['labels']"
   ]
  },
  {
   "cell_type": "code",
   "execution_count": 0,
   "metadata": {
    "colab": {},
    "colab_type": "code",
    "id": "THFWdFzwo2fB"
   },
   "outputs": [],
   "source": [
    "cv=CountVectorizer(stop_words='english', max_features=1250)\n",
    "word_count_vector=cv.fit_transform(post_info.labels_replaced.values)\n",
    "tfidf_transformer=TfidfTransformer(smooth_idf=True,use_idf=True)\n",
    "tfidf_transformer.fit(word_count_vector)\n",
    "labels_tf_idf_vector=tfidf_transformer.transform(word_count_vector)"
   ]
  },
  {
   "cell_type": "code",
   "execution_count": 0,
   "metadata": {
    "colab": {
     "base_uri": "https://localhost:8080/",
     "height": 120
    },
    "colab_type": "code",
    "id": "3dBdgW-1o6Ex",
    "outputId": "a4b77f3c-8bb8-4c78-f63f-4f998146a332"
   },
   "outputs": [
    {
     "name": "stderr",
     "output_type": "stream",
     "text": [
      "/usr/local/lib/python3.6/dist-packages/sklearn/linear_model/logistic.py:432: FutureWarning: Default solver will be changed to 'lbfgs' in 0.22. Specify a solver to silence this warning.\n",
      "  FutureWarning)\n",
      "/usr/local/lib/python3.6/dist-packages/sklearn/utils/validation.py:724: DataConversionWarning: A column-vector y was passed when a 1d array was expected. Please change the shape of y to (n_samples, ), for example using ravel().\n",
      "  y = column_or_1d(y, warn=True)\n"
     ]
    },
    {
     "data": {
      "text/plain": [
       "0.6949152542372882"
      ]
     },
     "execution_count": 206,
     "metadata": {
      "tags": []
     },
     "output_type": "execute_result"
    }
   ],
   "source": [
    "from sklearn.model_selection import train_test_split\n",
    "from sklearn.linear_model import LogisticRegression\n",
    "X_labels = labels_tf_idf_vector\n",
    "y = regression[['engagement_binary']]\n",
    "\n",
    "x_train, x_test, y_train, y_test = train_test_split(X_labels, y, test_size=0.25, random_state=0)\n",
    "log_reg = LogisticRegression()\n",
    "log_reg.fit(x_train, y_train)\n",
    "\n",
    "log_reg.score(x_test, y_test)"
   ]
  },
  {
   "cell_type": "code",
   "execution_count": 0,
   "metadata": {
    "colab": {
     "base_uri": "https://localhost:8080/",
     "height": 137
    },
    "colab_type": "code",
    "id": "QBTgpZs2o_RR",
    "outputId": "7a55293f-51c5-4501-cf43-04f1c6fbf28e"
   },
   "outputs": [
    {
     "data": {
      "text/html": [
       "<div>\n",
       "<style scoped>\n",
       "    .dataframe tbody tr th:only-of-type {\n",
       "        vertical-align: middle;\n",
       "    }\n",
       "\n",
       "    .dataframe tbody tr th {\n",
       "        vertical-align: top;\n",
       "    }\n",
       "\n",
       "    .dataframe thead th {\n",
       "        text-align: right;\n",
       "    }\n",
       "</style>\n",
       "<table border=\"1\" class=\"dataframe\">\n",
       "  <thead>\n",
       "    <tr style=\"text-align: right;\">\n",
       "      <th>predicted</th>\n",
       "      <th>0</th>\n",
       "      <th>1</th>\n",
       "    </tr>\n",
       "    <tr>\n",
       "      <th>actual</th>\n",
       "      <th></th>\n",
       "      <th></th>\n",
       "    </tr>\n",
       "  </thead>\n",
       "  <tbody>\n",
       "    <tr>\n",
       "      <th>0</th>\n",
       "      <td>44</td>\n",
       "      <td>18</td>\n",
       "    </tr>\n",
       "    <tr>\n",
       "      <th>1</th>\n",
       "      <td>18</td>\n",
       "      <td>38</td>\n",
       "    </tr>\n",
       "  </tbody>\n",
       "</table>\n",
       "</div>"
      ],
      "text/plain": [
       "predicted   0   1\n",
       "actual           \n",
       "0          44  18\n",
       "1          18  38"
      ]
     },
     "execution_count": 207,
     "metadata": {
      "tags": []
     },
     "output_type": "execute_result"
    }
   ],
   "source": [
    "predictions = log_reg.predict(x_test)\n",
    "\n",
    "confusion = pd.DataFrame(zip(y_test.engagement_binary, predictions), columns=['actual', 'predicted'])\n",
    "pd.crosstab(confusion.actual, confusion.predicted)"
   ]
  },
  {
   "cell_type": "code",
   "execution_count": 0,
   "metadata": {
    "colab": {},
    "colab_type": "code",
    "id": "GFgGDvj_p1sN"
   },
   "outputs": [],
   "source": [
    "from scipy import sparse\n",
    "combined = sparse.hstack([tf_idf_vector, labels_tf_idf_vector])"
   ]
  },
  {
   "cell_type": "code",
   "execution_count": 0,
   "metadata": {
    "colab": {
     "base_uri": "https://localhost:8080/",
     "height": 120
    },
    "colab_type": "code",
    "id": "LQdkMnqgq0Ts",
    "outputId": "f94744d5-70a6-4bdf-d768-80d134baca77"
   },
   "outputs": [
    {
     "name": "stderr",
     "output_type": "stream",
     "text": [
      "/usr/local/lib/python3.6/dist-packages/sklearn/linear_model/logistic.py:432: FutureWarning: Default solver will be changed to 'lbfgs' in 0.22. Specify a solver to silence this warning.\n",
      "  FutureWarning)\n",
      "/usr/local/lib/python3.6/dist-packages/sklearn/utils/validation.py:724: DataConversionWarning: A column-vector y was passed when a 1d array was expected. Please change the shape of y to (n_samples, ), for example using ravel().\n",
      "  y = column_or_1d(y, warn=True)\n"
     ]
    },
    {
     "data": {
      "text/plain": [
       "0.7372881355932204"
      ]
     },
     "execution_count": 209,
     "metadata": {
      "tags": []
     },
     "output_type": "execute_result"
    }
   ],
   "source": [
    "X = combined\n",
    "\n",
    "x_train, x_test, y_train, y_test = train_test_split(X, y, test_size=0.25, random_state=0)\n",
    "log_reg = LogisticRegression()\n",
    "log_reg.fit(x_train, y_train)\n",
    "\n",
    "log_reg.score(x_test, y_test)"
   ]
  },
  {
   "cell_type": "code",
   "execution_count": 0,
   "metadata": {
    "colab": {
     "base_uri": "https://localhost:8080/",
     "height": 137
    },
    "colab_type": "code",
    "id": "S9c0quNbrDEO",
    "outputId": "af519c01-e56a-4bbc-d758-592d36a7cd3d"
   },
   "outputs": [
    {
     "data": {
      "text/html": [
       "<div>\n",
       "<style scoped>\n",
       "    .dataframe tbody tr th:only-of-type {\n",
       "        vertical-align: middle;\n",
       "    }\n",
       "\n",
       "    .dataframe tbody tr th {\n",
       "        vertical-align: top;\n",
       "    }\n",
       "\n",
       "    .dataframe thead th {\n",
       "        text-align: right;\n",
       "    }\n",
       "</style>\n",
       "<table border=\"1\" class=\"dataframe\">\n",
       "  <thead>\n",
       "    <tr style=\"text-align: right;\">\n",
       "      <th>predicted</th>\n",
       "      <th>0</th>\n",
       "      <th>1</th>\n",
       "    </tr>\n",
       "    <tr>\n",
       "      <th>actual</th>\n",
       "      <th></th>\n",
       "      <th></th>\n",
       "    </tr>\n",
       "  </thead>\n",
       "  <tbody>\n",
       "    <tr>\n",
       "      <th>0</th>\n",
       "      <td>48</td>\n",
       "      <td>14</td>\n",
       "    </tr>\n",
       "    <tr>\n",
       "      <th>1</th>\n",
       "      <td>17</td>\n",
       "      <td>39</td>\n",
       "    </tr>\n",
       "  </tbody>\n",
       "</table>\n",
       "</div>"
      ],
      "text/plain": [
       "predicted   0   1\n",
       "actual           \n",
       "0          48  14\n",
       "1          17  39"
      ]
     },
     "execution_count": 210,
     "metadata": {
      "tags": []
     },
     "output_type": "execute_result"
    }
   ],
   "source": [
    "predictions = log_reg.predict(x_test)\n",
    "\n",
    "confusion = pd.DataFrame(zip(y_test.engagement_binary, predictions), columns=['actual', 'predicted'])\n",
    "pd.crosstab(confusion.actual, confusion.predicted)"
   ]
  },
  {
   "cell_type": "code",
   "execution_count": 0,
   "metadata": {
    "colab": {
     "base_uri": "https://localhost:8080/",
     "height": 551
    },
    "colab_type": "code",
    "id": "BaFug40EuPNv",
    "outputId": "d9210c89-edbf-4476-94ac-72a3752c87f7"
   },
   "outputs": [
    {
     "data": {
      "text/html": [
       "<div>\n",
       "<style scoped>\n",
       "    .dataframe tbody tr th:only-of-type {\n",
       "        vertical-align: middle;\n",
       "    }\n",
       "\n",
       "    .dataframe tbody tr th {\n",
       "        vertical-align: top;\n",
       "    }\n",
       "\n",
       "    .dataframe thead th {\n",
       "        text-align: right;\n",
       "    }\n",
       "</style>\n",
       "<table border=\"1\" class=\"dataframe\">\n",
       "  <thead>\n",
       "    <tr style=\"text-align: right;\">\n",
       "      <th></th>\n",
       "      <th>display_url</th>\n",
       "      <th>caption</th>\n",
       "      <th>comments</th>\n",
       "      <th>likes</th>\n",
       "      <th>labels</th>\n",
       "      <th>likes_normalized</th>\n",
       "      <th>comments_normalized</th>\n",
       "      <th>engagement_score</th>\n",
       "      <th>engagement_binary</th>\n",
       "      <th>caption_replaced</th>\n",
       "      <th>tokenized_captions</th>\n",
       "      <th>labels_replaced</th>\n",
       "    </tr>\n",
       "  </thead>\n",
       "  <tbody>\n",
       "    <tr>\n",
       "      <th>0</th>\n",
       "      <td>https://scontent-hkg3-1.cdninstagram.com/vp/56...</td>\n",
       "      <td>Photo by @dina_litovsky | These are portraits ...</td>\n",
       "      <td>365</td>\n",
       "      <td>57910</td>\n",
       "      <td>lady beauty lip fashion photo shoot arm should...</td>\n",
       "      <td>0.035820</td>\n",
       "      <td>0.028027</td>\n",
       "      <td>0.031144</td>\n",
       "      <td>0</td>\n",
       "      <td>photo by @dina_litovsky | these be portrait of...</td>\n",
       "      <td>[photo, by, @, dina_litovsky, |, these, be, po...</td>\n",
       "      <td>lady beauty lip fashion photo shoot arm should...</td>\n",
       "    </tr>\n",
       "    <tr>\n",
       "      <th>1</th>\n",
       "      <td>https://scontent-hkg3-1.cdninstagram.com/vp/c3...</td>\n",
       "      <td>Photo by David Guttenfelder @dguttenfelder // ...</td>\n",
       "      <td>190</td>\n",
       "      <td>69265</td>\n",
       "      <td>visual effect lighting technology display devi...</td>\n",
       "      <td>0.042843</td>\n",
       "      <td>0.014590</td>\n",
       "      <td>0.025891</td>\n",
       "      <td>0</td>\n",
       "      <td>photo by David Guttenfelder @dguttenfelder // ...</td>\n",
       "      <td>[photo, by, David, Guttenfelder, @, dguttenfel...</td>\n",
       "      <td>visual effect lighting technology display devi...</td>\n",
       "    </tr>\n",
       "    <tr>\n",
       "      <th>2</th>\n",
       "      <td>https://scontent-hkg3-1.cdninstagram.com/vp/62...</td>\n",
       "      <td>Photo by @stevewinterphoto | Our new story, “T...</td>\n",
       "      <td>1482</td>\n",
       "      <td>421468</td>\n",
       "      <td>tiger wildlife vertebrate bengal tiger siberia...</td>\n",
       "      <td>0.260694</td>\n",
       "      <td>0.113799</td>\n",
       "      <td>0.172557</td>\n",
       "      <td>1</td>\n",
       "      <td>photo by @stevewinterphoto | -PRON- new story ...</td>\n",
       "      <td>[photo, by, @, stevewinterphoto, |, -PRON-, ne...</td>\n",
       "      <td>tiger wildlife vertebrate bengal tiger siberia...</td>\n",
       "    </tr>\n",
       "    <tr>\n",
       "      <th>3</th>\n",
       "      <td>https://scontent-hkg3-1.cdninstagram.com/vp/cc...</td>\n",
       "      <td>Photo by @davidalanharvey | Outer Banks, North...</td>\n",
       "      <td>341</td>\n",
       "      <td>160309</td>\n",
       "      <td>wave ocean surfing equipment surfing sea surfb...</td>\n",
       "      <td>0.099157</td>\n",
       "      <td>0.026184</td>\n",
       "      <td>0.055374</td>\n",
       "      <td>0</td>\n",
       "      <td>photo by @davidalanharvey | Outer Banks , Nort...</td>\n",
       "      <td>[photo, by, @, davidalanharvey, |, Outer, Bank...</td>\n",
       "      <td>wave ocean surf equipment surf sea surfboard c...</td>\n",
       "    </tr>\n",
       "    <tr>\n",
       "      <th>4</th>\n",
       "      <td>https://scontent-hkg3-1.cdninstagram.com/vp/d0...</td>\n",
       "      <td>Photo by Jimmy Chin @jimmychin | Alpine dreams...</td>\n",
       "      <td>551</td>\n",
       "      <td>314242</td>\n",
       "      <td>water nature black-and-white atmospheric pheno...</td>\n",
       "      <td>0.194371</td>\n",
       "      <td>0.042310</td>\n",
       "      <td>0.103134</td>\n",
       "      <td>0</td>\n",
       "      <td>photo by Jimmy Chin @jimmychin | Alpine dreams...</td>\n",
       "      <td>[photo, by, Jimmy, Chin, @, jimmychin, |, Alpi...</td>\n",
       "      <td>water nature black - and - white atmospheric p...</td>\n",
       "    </tr>\n",
       "  </tbody>\n",
       "</table>\n",
       "</div>"
      ],
      "text/plain": [
       "                                         display_url  ...                                    labels_replaced\n",
       "0  https://scontent-hkg3-1.cdninstagram.com/vp/56...  ...  lady beauty lip fashion photo shoot arm should...\n",
       "1  https://scontent-hkg3-1.cdninstagram.com/vp/c3...  ...  visual effect lighting technology display devi...\n",
       "2  https://scontent-hkg3-1.cdninstagram.com/vp/62...  ...  tiger wildlife vertebrate bengal tiger siberia...\n",
       "3  https://scontent-hkg3-1.cdninstagram.com/vp/cc...  ...  wave ocean surf equipment surf sea surfboard c...\n",
       "4  https://scontent-hkg3-1.cdninstagram.com/vp/d0...  ...  water nature black - and - white atmospheric p...\n",
       "\n",
       "[5 rows x 12 columns]"
      ]
     },
     "execution_count": 211,
     "metadata": {
      "tags": []
     },
     "output_type": "execute_result"
    }
   ],
   "source": [
    "post_info.head()"
   ]
  },
  {
   "cell_type": "code",
   "execution_count": 0,
   "metadata": {
    "colab": {},
    "colab_type": "code",
    "id": "GZ03qFhQ1jRD"
   },
   "outputs": [],
   "source": [
    "post_info['labels_list']=post_info['labels_replaced'].map(lambda x: nltk.word_tokenize(x))\n"
   ]
  },
  {
   "cell_type": "code",
   "execution_count": 0,
   "metadata": {
    "colab": {},
    "colab_type": "code",
    "id": "OfT7bgjWI6_I"
   },
   "outputs": [],
   "source": [
    "post_info.to_csv('post_info.csv')"
   ]
  },
  {
   "cell_type": "code",
   "execution_count": 0,
   "metadata": {
    "colab": {},
    "colab_type": "code",
    "id": "59fuUX_d3m0U"
   },
   "outputs": [],
   "source": [
    "labels_list=post_info['labels_list'].to_list()\n",
    "labels_list = [[ele for ele in sub if (ele != '-') & (ele!='and')] for sub in labels_list] "
   ]
  },
  {
   "cell_type": "code",
   "execution_count": 0,
   "metadata": {
    "colab": {},
    "colab_type": "code",
    "id": "BvM7Ssv5vDzz"
   },
   "outputs": [],
   "source": [
    "from gensim import corpora, models\n",
    "\n",
    "dictionary_LDA = corpora.Dictionary(labels_list)\n",
    "dictionary_LDA.filter_extremes(no_below=3)\n",
    "corpus = [dictionary_LDA.doc2bow(list_of_tokens) for list_of_tokens in labels_list]\n",
    "\n",
    "num_topics = 5\n",
    "lda_model = models.LdaModel(corpus, num_topics=num_topics, \\\n",
    "                                  id2word=dictionary_LDA)"
   ]
  },
  {
   "cell_type": "code",
   "execution_count": 0,
   "metadata": {
    "colab": {
     "base_uri": "https://localhost:8080/",
     "height": 120
    },
    "colab_type": "code",
    "id": "zN7CHTPE7vOb",
    "outputId": "06679c02-3563-4296-c4bd-b42dded4b0d0"
   },
   "outputs": [
    {
     "name": "stdout",
     "output_type": "stream",
     "text": [
      "(0, '0.033*\"photography\" + 0.031*\"sky\" + 0.021*\"wildlife\" + 0.020*\"mountain\" + 0.018*\"elephant\" + 0.017*\"water\" + 0.016*\"natural\" + 0.016*\"landscape\" + 0.016*\"bird\" + 0.015*\"landform\"')\n",
      "(1, '0.049*\"sky\" + 0.043*\"water\" + 0.036*\"sea\" + 0.027*\"landscape\" + 0.023*\"tree\" + 0.021*\"natural\" + 0.019*\"plant\" + 0.018*\"turtle\" + 0.017*\"blue\" + 0.017*\"nature\"')\n",
      "(2, '0.031*\"sky\" + 0.019*\"vertebrate\" + 0.019*\"animal\" + 0.016*\"wildlife\" + 0.015*\"mammal\" + 0.015*\"grassland\" + 0.014*\"dog\" + 0.013*\"carnivore\" + 0.013*\"event\" + 0.013*\"terrestrial\"')\n",
      "(3, '0.026*\"photography\" + 0.020*\"people\" + 0.019*\"adaptation\" + 0.019*\"tree\" + 0.017*\"nature\" + 0.017*\"smile\" + 0.016*\"temple\" + 0.016*\"landscape\" + 0.016*\"event\" + 0.016*\"military\"')\n",
      "(4, '0.036*\"fish\" + 0.032*\"shark\" + 0.030*\"photography\" + 0.028*\"white\" + 0.026*\"marine\" + 0.025*\"underwater\" + 0.022*\"biology\" + 0.019*\"sea\" + 0.017*\"organism\" + 0.016*\"art\"')\n"
     ]
    }
   ],
   "source": [
    "topics = lda_model.show_topics()\n",
    "for topic in topics:\n",
    "    print (topic)"
   ]
  },
  {
   "cell_type": "code",
   "execution_count": 0,
   "metadata": {
    "colab": {},
    "colab_type": "code",
    "id": "o4seuT-P29oW"
   },
   "outputs": [],
   "source": [
    "topic_list=[]\n",
    "for l in labels_list:\n",
    "  bow = dictionary_LDA.doc2bow(l)\n",
    "  topic_list.append(lda_model.get_document_topics(bow))\n"
   ]
  },
  {
   "cell_type": "code",
   "execution_count": 0,
   "metadata": {
    "colab": {
     "base_uri": "https://localhost:8080/",
     "height": 117
    },
    "colab_type": "code",
    "id": "VpyBFfbCn4-O",
    "outputId": "29e0017d-c25b-458f-a077-b229b045f266"
   },
   "outputs": [
    {
     "name": "stdout",
     "output_type": "stream",
     "text": [
      "0::['photography', 'sky', 'wildlife', 'mountain', 'elephant', 'water', 'natural', 'landscape', 'bird', 'landform']\n",
      "1::['sky', 'water', 'sea', 'landscape', 'tree', 'natural', 'plant', 'turtle', 'blue', 'nature']\n",
      "2::['sky', 'vertebrate', 'animal', 'wildlife', 'mammal', 'grassland', 'dog', 'carnivore', 'event', 'terrestrial']\n",
      "3::['photography', 'people', 'adaptation', 'tree', 'nature', 'smile', 'temple', 'landscape', 'event', 'military']\n",
      "4::['fish', 'shark', 'photography', 'white', 'marine', 'underwater', 'biology', 'sea', 'organism', 'art']\n",
      "\n"
     ]
    }
   ],
   "source": [
    "x=lda_model.show_topics(num_topics=5,formatted=False)\n",
    "topics_words = [(tp[0], [wd[0] for wd in tp[1]]) for tp in x]\n",
    "for topic,words in topics_words:\n",
    "    print(str(topic)+ \"::\"+ str(words))\n",
    "print()"
   ]
  },
  {
   "cell_type": "code",
   "execution_count": 0,
   "metadata": {
    "colab": {},
    "colab_type": "code",
    "id": "5yc-qV5to15b"
   },
   "outputs": [],
   "source": [
    "topics_words=pd.DataFrame(topics_words)\n",
    "topics_words.rename(columns={0:'Topic',1:'Words'},inplace=True)"
   ]
  },
  {
   "cell_type": "code",
   "execution_count": 0,
   "metadata": {
    "colab": {},
    "colab_type": "code",
    "id": "iQAFJheipEJe"
   },
   "outputs": [],
   "source": [
    "topics_words.to_csv('topics_words.csv')"
   ]
  },
  {
   "cell_type": "code",
   "execution_count": 0,
   "metadata": {
    "colab": {
     "base_uri": "https://localhost:8080/",
     "height": 196
    },
    "colab_type": "code",
    "id": "7b6NVbLks_FW",
    "outputId": "66c5de6c-5b38-41b5-f0ac-3927a0b673dd"
   },
   "outputs": [
    {
     "data": {
      "text/html": [
       "<div>\n",
       "<style scoped>\n",
       "    .dataframe tbody tr th:only-of-type {\n",
       "        vertical-align: middle;\n",
       "    }\n",
       "\n",
       "    .dataframe tbody tr th {\n",
       "        vertical-align: top;\n",
       "    }\n",
       "\n",
       "    .dataframe thead th {\n",
       "        text-align: right;\n",
       "    }\n",
       "</style>\n",
       "<table border=\"1\" class=\"dataframe\">\n",
       "  <thead>\n",
       "    <tr style=\"text-align: right;\">\n",
       "      <th></th>\n",
       "      <th>Topic1_Weight</th>\n",
       "      <th>Topic2_Weight</th>\n",
       "      <th>Topic3_Weight</th>\n",
       "      <th>Topic4_Weight</th>\n",
       "      <th>Topic5_Weight</th>\n",
       "    </tr>\n",
       "  </thead>\n",
       "  <tbody>\n",
       "    <tr>\n",
       "      <th>0</th>\n",
       "      <td>0.022874</td>\n",
       "      <td>0.909769</td>\n",
       "      <td>0.022272</td>\n",
       "      <td>0.022471</td>\n",
       "      <td>0.022615</td>\n",
       "    </tr>\n",
       "    <tr>\n",
       "      <th>1</th>\n",
       "      <td>0.050270</td>\n",
       "      <td>0.798441</td>\n",
       "      <td>0.050238</td>\n",
       "      <td>0.050337</td>\n",
       "      <td>0.050714</td>\n",
       "    </tr>\n",
       "    <tr>\n",
       "      <th>2</th>\n",
       "      <td>0.014444</td>\n",
       "      <td>0.405159</td>\n",
       "      <td>0.014613</td>\n",
       "      <td>0.014349</td>\n",
       "      <td>0.551435</td>\n",
       "    </tr>\n",
       "    <tr>\n",
       "      <th>3</th>\n",
       "      <td>0.025302</td>\n",
       "      <td>0.025185</td>\n",
       "      <td>0.025566</td>\n",
       "      <td>0.025314</td>\n",
       "      <td>0.898634</td>\n",
       "    </tr>\n",
       "    <tr>\n",
       "      <th>4</th>\n",
       "      <td>0.945718</td>\n",
       "      <td>0.013524</td>\n",
       "      <td>0.013601</td>\n",
       "      <td>0.013575</td>\n",
       "      <td>0.013583</td>\n",
       "    </tr>\n",
       "  </tbody>\n",
       "</table>\n",
       "</div>"
      ],
      "text/plain": [
       "   Topic1_Weight  Topic2_Weight  Topic3_Weight  Topic4_Weight  Topic5_Weight\n",
       "0       0.022874       0.909769       0.022272       0.022471       0.022615\n",
       "1       0.050270       0.798441       0.050238       0.050337       0.050714\n",
       "2       0.014444       0.405159       0.014613       0.014349       0.551435\n",
       "3       0.025302       0.025185       0.025566       0.025314       0.898634\n",
       "4       0.945718       0.013524       0.013601       0.013575       0.013583"
      ]
     },
     "execution_count": 221,
     "metadata": {
      "tags": []
     },
     "output_type": "execute_result"
    }
   ],
   "source": [
    "topic_df.head()"
   ]
  },
  {
   "cell_type": "code",
   "execution_count": 0,
   "metadata": {
    "colab": {},
    "colab_type": "code",
    "id": "bRFf2fOtsJC2"
   },
   "outputs": [],
   "source": [
    "topic_df=topic_df[['Topic1_Weight','Topic2_Weight','Topic3_Weight','Topic4_Weight','Topic5_Weight']]"
   ]
  },
  {
   "cell_type": "code",
   "execution_count": 0,
   "metadata": {
    "colab": {},
    "colab_type": "code",
    "id": "MOlWTzDJyFSX"
   },
   "outputs": [],
   "source": [
    "post_info=pd.read_csv('post_info.csv')"
   ]
  },
  {
   "cell_type": "code",
   "execution_count": 0,
   "metadata": {
    "colab": {},
    "colab_type": "code",
    "id": "iPKxRdrpsR3R"
   },
   "outputs": [],
   "source": [
    "post_info=pd.concat([post_info, topic_df], axis=1)"
   ]
  },
  {
   "cell_type": "code",
   "execution_count": 0,
   "metadata": {
    "colab": {},
    "colab_type": "code",
    "id": "LFLcrSWuxjFq"
   },
   "outputs": [],
   "source": [
    "post_info.to_csv('post_info.csv')"
   ]
  },
  {
   "cell_type": "code",
   "execution_count": 0,
   "metadata": {
    "colab": {},
    "colab_type": "code",
    "id": "wYglEQh8yVMP"
   },
   "outputs": [],
   "source": [
    "post_info['quartile'] = pd.qcut(post_info['engagement_score'], 4, labels=False)"
   ]
  },
  {
   "cell_type": "code",
   "execution_count": 0,
   "metadata": {
    "colab": {},
    "colab_type": "code",
    "id": "LPwrlTkpyrEx"
   },
   "outputs": [],
   "source": [
    "quartile_info=post_info.groupby(['quartile'])[['Topic1_Weight','Topic2_Weight','Topic3_Weight','Topic4_Weight','Topic5_Weight']].agg('mean')"
   ]
  },
  {
   "cell_type": "code",
   "execution_count": 0,
   "metadata": {
    "colab": {},
    "colab_type": "code",
    "id": "c_c-LDzU47aH"
   },
   "outputs": [],
   "source": [
    "topic_quartile=quartile_info.T.reset_index()"
   ]
  },
  {
   "cell_type": "code",
   "execution_count": 0,
   "metadata": {
    "colab": {},
    "colab_type": "code",
    "id": "SxP6m9ON0nNf"
   },
   "outputs": [],
   "source": [
    "topic_engagement=pd.concat([topic_quartile,topics_words],axis=1)"
   ]
  },
  {
   "cell_type": "code",
   "execution_count": 0,
   "metadata": {
    "colab": {},
    "colab_type": "code",
    "id": "jRumnZ6T4Qwj"
   },
   "outputs": [],
   "source": [
    "topic_engagement.drop(columns=['Topic'],inplace=True)\n",
    "topic_engagement.rename(columns={'index':'Topic',0:'Quartile1',1:'Quartile2',2:'Quartile3',3:'Quartile4'},inplace=True)"
   ]
  },
  {
   "cell_type": "code",
   "execution_count": 0,
   "metadata": {
    "colab": {},
    "colab_type": "code",
    "id": "BQ1y8dbs413i"
   },
   "outputs": [],
   "source": [
    "topic_engagement.to_csv('topic_engagement.csv')"
   ]
  }
 ],
 "metadata": {
  "accelerator": "GPU",
  "colab": {
   "collapsed_sections": [],
   "name": "Text Analytics Project 2_Tasks.ipynb",
   "provenance": []
  },
  "kernelspec": {
   "display_name": "Python 3",
   "language": "python",
   "name": "python3"
  },
  "language_info": {
   "codemirror_mode": {
    "name": "ipython",
    "version": 3
   },
   "file_extension": ".py",
   "mimetype": "text/x-python",
   "name": "python",
   "nbconvert_exporter": "python",
   "pygments_lexer": "ipython3",
   "version": "3.7.3"
  }
 },
 "nbformat": 4,
 "nbformat_minor": 1
}
