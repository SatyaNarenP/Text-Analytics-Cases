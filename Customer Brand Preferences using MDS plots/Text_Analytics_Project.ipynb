{
  "nbformat": 4,
  "nbformat_minor": 0,
  "metadata": {
    "colab": {
      "name": "Text_Analytics_Project.ipynb",
      "provenance": [],
      "collapsed_sections": []
    },
    "kernelspec": {
      "name": "python3",
      "display_name": "Python 3"
    },
    "accelerator": "GPU"
  },
  "cells": [
    {
      "cell_type": "markdown",
      "metadata": {
        "id": "TSJQebShdyNJ",
        "colab_type": "text"
      },
      "source": [
        "Using selenium to scrape data from the web page"
      ]
    },
    {
      "cell_type": "code",
      "metadata": {
        "id": "bUDolp8DEDzd",
        "colab_type": "code",
        "outputId": "5bbc8333-5b5a-4028-d705-06bee894a456",
        "colab": {
          "base_uri": "https://localhost:8080/",
          "height": 823
        }
      },
      "source": [
        "!pip install selenium\n",
        "!apt install -yq chromium-chromedriver\n",
        "!cp /usr/lib/chromium-browser/chromedriver /usr/bin\n",
        "from selenium import webdriver\n",
        "import pandas as pd\n",
        "import sys\n",
        "sys.path.insert(0,'/usr/lib/chromium-browser/chromedriver')"
      ],
      "execution_count": 1,
      "outputs": [
        {
          "output_type": "stream",
          "text": [
            "Collecting selenium\n",
            "\u001b[?25l  Downloading https://files.pythonhosted.org/packages/80/d6/4294f0b4bce4de0abf13e17190289f9d0613b0a44e5dd6a7f5ca98459853/selenium-3.141.0-py2.py3-none-any.whl (904kB)\n",
            "\u001b[K     |████████████████████████████████| 911kB 2.7MB/s \n",
            "\u001b[?25hRequirement already satisfied: urllib3 in /usr/local/lib/python3.6/dist-packages (from selenium) (1.24.3)\n",
            "Installing collected packages: selenium\n",
            "Successfully installed selenium-3.141.0\n",
            "Reading package lists...\n",
            "Building dependency tree...\n",
            "Reading state information...\n",
            "The following additional packages will be installed:\n",
            "  chromium-browser chromium-browser-l10n chromium-codecs-ffmpeg-extra\n",
            "Suggested packages:\n",
            "  webaccounts-chromium-extension unity-chromium-extension adobe-flashplugin\n",
            "The following NEW packages will be installed:\n",
            "  chromium-browser chromium-browser-l10n chromium-chromedriver\n",
            "  chromium-codecs-ffmpeg-extra\n",
            "0 upgraded, 4 newly installed, 0 to remove and 28 not upgraded.\n",
            "Need to get 70.8 MB of archives.\n",
            "After this operation, 254 MB of additional disk space will be used.\n",
            "Get:1 http://archive.ubuntu.com/ubuntu bionic-updates/universe amd64 chromium-codecs-ffmpeg-extra amd64 77.0.3865.90-0ubuntu0.18.04.1 [1,079 kB]\n",
            "Get:2 http://archive.ubuntu.com/ubuntu bionic-updates/universe amd64 chromium-browser amd64 77.0.3865.90-0ubuntu0.18.04.1 [62.3 MB]\n",
            "Get:3 http://archive.ubuntu.com/ubuntu bionic-updates/universe amd64 chromium-browser-l10n all 77.0.3865.90-0ubuntu0.18.04.1 [3,011 kB]\n",
            "Get:4 http://archive.ubuntu.com/ubuntu bionic-updates/universe amd64 chromium-chromedriver amd64 77.0.3865.90-0ubuntu0.18.04.1 [4,388 kB]\n",
            "Fetched 70.8 MB in 16s (4,563 kB/s)\n",
            "Selecting previously unselected package chromium-codecs-ffmpeg-extra.\n",
            "(Reading database ... 132681 files and directories currently installed.)\n",
            "Preparing to unpack .../chromium-codecs-ffmpeg-extra_77.0.3865.90-0ubuntu0.18.04.1_amd64.deb ...\n",
            "Unpacking chromium-codecs-ffmpeg-extra (77.0.3865.90-0ubuntu0.18.04.1) ...\n",
            "Selecting previously unselected package chromium-browser.\n",
            "Preparing to unpack .../chromium-browser_77.0.3865.90-0ubuntu0.18.04.1_amd64.deb ...\n",
            "Unpacking chromium-browser (77.0.3865.90-0ubuntu0.18.04.1) ...\n",
            "Selecting previously unselected package chromium-browser-l10n.\n",
            "Preparing to unpack .../chromium-browser-l10n_77.0.3865.90-0ubuntu0.18.04.1_all.deb ...\n",
            "Unpacking chromium-browser-l10n (77.0.3865.90-0ubuntu0.18.04.1) ...\n",
            "Selecting previously unselected package chromium-chromedriver.\n",
            "Preparing to unpack .../chromium-chromedriver_77.0.3865.90-0ubuntu0.18.04.1_amd64.deb ...\n",
            "Unpacking chromium-chromedriver (77.0.3865.90-0ubuntu0.18.04.1) ...\n",
            "Processing triggers for mime-support (3.60ubuntu1) ...\n",
            "Setting up chromium-codecs-ffmpeg-extra (77.0.3865.90-0ubuntu0.18.04.1) ...\n",
            "Processing triggers for man-db (2.8.3-2ubuntu0.1) ...\n",
            "Processing triggers for hicolor-icon-theme (0.17-2) ...\n",
            "Setting up chromium-browser (77.0.3865.90-0ubuntu0.18.04.1) ...\n",
            "update-alternatives: using /usr/bin/chromium-browser to provide /usr/bin/x-www-browser (x-www-browser) in auto mode\n",
            "update-alternatives: using /usr/bin/chromium-browser to provide /usr/bin/gnome-www-browser (gnome-www-browser) in auto mode\n",
            "Setting up chromium-chromedriver (77.0.3865.90-0ubuntu0.18.04.1) ...\n",
            "Setting up chromium-browser-l10n (77.0.3865.90-0ubuntu0.18.04.1) ...\n",
            "cp: '/usr/lib/chromium-browser/chromedriver' and '/usr/bin/chromedriver' are the same file\n"
          ],
          "name": "stdout"
        }
      ]
    },
    {
      "cell_type": "code",
      "metadata": {
        "id": "QdvWjxCkE517",
        "colab_type": "code",
        "colab": {}
      },
      "source": [
        "chrome_options = webdriver.ChromeOptions()\n",
        "chrome_options.add_argument('--headless')\n",
        "chrome_options.add_argument('--no-sandbox')\n",
        "chrome_options.add_argument('--disable-dev-shm-usage')"
      ],
      "execution_count": 0,
      "outputs": []
    },
    {
      "cell_type": "markdown",
      "metadata": {
        "id": "sT2wBxK2d5d_",
        "colab_type": "text"
      },
      "source": [
        "Accessing the edmunds forum over 99 pages and finding date, userid and comments fields from it. This data is then added to a dataframe named comments."
      ]
    },
    {
      "cell_type": "code",
      "metadata": {
        "id": "Nz3gIC2SEps2",
        "colab_type": "code",
        "colab": {}
      },
      "source": [
        "driver = webdriver.Chrome('chromedriver', options=chrome_options)\n",
        "comments = pd.DataFrame(columns = ['Date','user_id','comments']) \n",
        "for i in range(1,101):\n",
        "   url='https://forums.edmunds.com/discussion/2864/general/x/entry-level-luxury-performance-sedans/p'+str(i)\n",
        "   driver.get(url)\n",
        "   \n",
        "   ids = driver.find_elements_by_xpath(\"//*[contains(@id,'Comment_')]\")\n",
        "   comment_ids = []\n",
        "   for i in ids:\n",
        "      comment_ids.append(i.get_attribute('id'))\n",
        "\n",
        "   for x in comment_ids:\n",
        "      #Extract dates from for each user on a page\n",
        "      user_date = driver.find_elements_by_xpath('//*[@id=\"' + x +'\"]/div/div[2]/div[2]/span[1]/a/time')[0]\n",
        "      date = user_date.get_attribute('title')\n",
        "\n",
        "      #Extract user ids from each user on a page\n",
        "      userid_element = driver.find_elements_by_xpath('//*[@id=\"' + x +'\"]/div/div[2]/div[1]/span[1]/a[2]')[0]\n",
        "      userid = userid_element.text\n",
        "\n",
        "      #Extract Message for each user on a page\n",
        "      user_message = driver.find_elements_by_xpath('//*[@id=\"' + x +'\"]/div/div[3]/div/div[1]')[0]\n",
        "      comment = user_message.text\n",
        "                                    \n",
        "      #Adding date, userid and comment for each user in a dataframe    \n",
        "      comments.loc[len(comments)] = [date,userid,comment]\n"
      ],
      "execution_count": 0,
      "outputs": []
    },
    {
      "cell_type": "code",
      "metadata": {
        "id": "m9H7__HeFVbJ",
        "colab_type": "code",
        "outputId": "74f21511-9424-4ac3-b1b1-155d479255b4",
        "colab": {
          "base_uri": "https://localhost:8080/",
          "height": 196
        }
      },
      "source": [
        "comments.head()"
      ],
      "execution_count": 8,
      "outputs": [
        {
          "output_type": "execute_result",
          "data": {
            "text/html": [
              "<div>\n",
              "<style scoped>\n",
              "    .dataframe tbody tr th:only-of-type {\n",
              "        vertical-align: middle;\n",
              "    }\n",
              "\n",
              "    .dataframe tbody tr th {\n",
              "        vertical-align: top;\n",
              "    }\n",
              "\n",
              "    .dataframe thead th {\n",
              "        text-align: right;\n",
              "    }\n",
              "</style>\n",
              "<table border=\"1\" class=\"dataframe\">\n",
              "  <thead>\n",
              "    <tr style=\"text-align: right;\">\n",
              "      <th></th>\n",
              "      <th>Date</th>\n",
              "      <th>user_id</th>\n",
              "      <th>comments</th>\n",
              "    </tr>\n",
              "  </thead>\n",
              "  <tbody>\n",
              "    <tr>\n",
              "      <th>0</th>\n",
              "      <td>March 25, 2002 5:54AM</td>\n",
              "      <td>merc1</td>\n",
              "      <td>I personally think that with a few tweaks the ...</td>\n",
              "    </tr>\n",
              "    <tr>\n",
              "      <th>1</th>\n",
              "      <td>March 25, 2002 7:06AM</td>\n",
              "      <td>fredvh</td>\n",
              "      <td>I am debating a new purchase and these two are...</td>\n",
              "    </tr>\n",
              "    <tr>\n",
              "      <th>2</th>\n",
              "      <td>March 25, 2002 5:02PM</td>\n",
              "      <td>blueguydotcom</td>\n",
              "      <td>Great handling, RWD, excellent engine and the ...</td>\n",
              "    </tr>\n",
              "    <tr>\n",
              "      <th>3</th>\n",
              "      <td>March 25, 2002 11:04PM</td>\n",
              "      <td>hungrywhale</td>\n",
              "      <td>And no manual tranny. That may not matter to y...</td>\n",
              "    </tr>\n",
              "    <tr>\n",
              "      <th>4</th>\n",
              "      <td>March 26, 2002 12:44AM</td>\n",
              "      <td>riez</td>\n",
              "      <td>One beauty of BMW 3 Series is that there are s...</td>\n",
              "    </tr>\n",
              "  </tbody>\n",
              "</table>\n",
              "</div>"
            ],
            "text/plain": [
              "                     Date  ...                                           comments\n",
              "0   March 25, 2002 5:54AM  ...  I personally think that with a few tweaks the ...\n",
              "1   March 25, 2002 7:06AM  ...  I am debating a new purchase and these two are...\n",
              "2   March 25, 2002 5:02PM  ...  Great handling, RWD, excellent engine and the ...\n",
              "3  March 25, 2002 11:04PM  ...  And no manual tranny. That may not matter to y...\n",
              "4  March 26, 2002 12:44AM  ...  One beauty of BMW 3 Series is that there are s...\n",
              "\n",
              "[5 rows x 3 columns]"
            ]
          },
          "metadata": {
            "tags": []
          },
          "execution_count": 8
        }
      ]
    },
    {
      "cell_type": "markdown",
      "metadata": {
        "id": "i-k0oBNaec48",
        "colab_type": "text"
      },
      "source": [
        "Preprocess function defined to remove stopwords and punctuation in comments column"
      ]
    },
    {
      "cell_type": "code",
      "metadata": {
        "id": "g_E9ZeejU5Dk",
        "colab_type": "code",
        "outputId": "a4082a82-10ea-4b17-a76c-b844260524cd",
        "colab": {
          "base_uri": "https://localhost:8080/",
          "height": 84
        }
      },
      "source": [
        "import nltk\n",
        "nltk.download('stopwords')\n",
        "nltk.download('punkt')\n",
        "import string\n",
        "from nltk.tokenize import RegexpTokenizer\n",
        "from nltk.corpus import stopwords\n",
        "import re\n",
        "\n",
        "def preprocess(sentence):\n",
        "\tsentence = sentence.lower()\n",
        "\ttokenizer = RegexpTokenizer(r'\\w+')\n",
        "\ttokens = tokenizer.tokenize(sentence)\n",
        "\tfiltered_words = [w for w in tokens if not w in stopwords.words('english')]\n",
        "\treturn \" \".join(filtered_words)"
      ],
      "execution_count": 9,
      "outputs": [
        {
          "output_type": "stream",
          "text": [
            "[nltk_data] Downloading package stopwords to /root/nltk_data...\n",
            "[nltk_data]   Unzipping corpora/stopwords.zip.\n",
            "[nltk_data] Downloading package punkt to /root/nltk_data...\n",
            "[nltk_data]   Unzipping tokenizers/punkt.zip.\n"
          ],
          "name": "stdout"
        }
      ]
    },
    {
      "cell_type": "markdown",
      "metadata": {
        "id": "WizOAQ4oeoIX",
        "colab_type": "text"
      },
      "source": [
        "Creating a new column named filtered comments after removing punctuation and stopwords"
      ]
    },
    {
      "cell_type": "code",
      "metadata": {
        "id": "he6lbI8sVHzL",
        "colab_type": "code",
        "colab": {}
      },
      "source": [
        "comments['filtered comments']=comments['comments'].map(preprocess)"
      ],
      "execution_count": 0,
      "outputs": []
    },
    {
      "cell_type": "code",
      "metadata": {
        "id": "bSfDHlkIVfQ3",
        "colab_type": "code",
        "outputId": "52a4b3e7-ea09-4adc-d355-6f1f531d34b2",
        "colab": {
          "base_uri": "https://localhost:8080/",
          "height": 196
        }
      },
      "source": [
        "comments.head()"
      ],
      "execution_count": 11,
      "outputs": [
        {
          "output_type": "execute_result",
          "data": {
            "text/html": [
              "<div>\n",
              "<style scoped>\n",
              "    .dataframe tbody tr th:only-of-type {\n",
              "        vertical-align: middle;\n",
              "    }\n",
              "\n",
              "    .dataframe tbody tr th {\n",
              "        vertical-align: top;\n",
              "    }\n",
              "\n",
              "    .dataframe thead th {\n",
              "        text-align: right;\n",
              "    }\n",
              "</style>\n",
              "<table border=\"1\" class=\"dataframe\">\n",
              "  <thead>\n",
              "    <tr style=\"text-align: right;\">\n",
              "      <th></th>\n",
              "      <th>Date</th>\n",
              "      <th>user_id</th>\n",
              "      <th>comments</th>\n",
              "      <th>filtered comments</th>\n",
              "    </tr>\n",
              "  </thead>\n",
              "  <tbody>\n",
              "    <tr>\n",
              "      <th>0</th>\n",
              "      <td>March 25, 2002 5:54AM</td>\n",
              "      <td>merc1</td>\n",
              "      <td>I personally think that with a few tweaks the ...</td>\n",
              "      <td>personally think tweaks c320 could also sit to...</td>\n",
              "    </tr>\n",
              "    <tr>\n",
              "      <th>1</th>\n",
              "      <td>March 25, 2002 7:06AM</td>\n",
              "      <td>fredvh</td>\n",
              "      <td>I am debating a new purchase and these two are...</td>\n",
              "      <td>debating new purchase two top list price diffe...</td>\n",
              "    </tr>\n",
              "    <tr>\n",
              "      <th>2</th>\n",
              "      <td>March 25, 2002 5:02PM</td>\n",
              "      <td>blueguydotcom</td>\n",
              "      <td>Great handling, RWD, excellent engine and the ...</td>\n",
              "      <td>great handling rwd excellent engine best warra...</td>\n",
              "    </tr>\n",
              "    <tr>\n",
              "      <th>3</th>\n",
              "      <td>March 25, 2002 11:04PM</td>\n",
              "      <td>hungrywhale</td>\n",
              "      <td>And no manual tranny. That may not matter to y...</td>\n",
              "      <td>manual tranny may matter certainly matter many...</td>\n",
              "    </tr>\n",
              "    <tr>\n",
              "      <th>4</th>\n",
              "      <td>March 26, 2002 12:44AM</td>\n",
              "      <td>riez</td>\n",
              "      <td>One beauty of BMW 3 Series is that there are s...</td>\n",
              "      <td>one beauty bmw 3 series many models choose alm...</td>\n",
              "    </tr>\n",
              "  </tbody>\n",
              "</table>\n",
              "</div>"
            ],
            "text/plain": [
              "                     Date  ...                                  filtered comments\n",
              "0   March 25, 2002 5:54AM  ...  personally think tweaks c320 could also sit to...\n",
              "1   March 25, 2002 7:06AM  ...  debating new purchase two top list price diffe...\n",
              "2   March 25, 2002 5:02PM  ...  great handling rwd excellent engine best warra...\n",
              "3  March 25, 2002 11:04PM  ...  manual tranny may matter certainly matter many...\n",
              "4  March 26, 2002 12:44AM  ...  one beauty bmw 3 series many models choose alm...\n",
              "\n",
              "[5 rows x 4 columns]"
            ]
          },
          "metadata": {
            "tags": []
          },
          "execution_count": 11
        }
      ]
    },
    {
      "cell_type": "markdown",
      "metadata": {
        "id": "4Pv67Ss2ewny",
        "colab_type": "text"
      },
      "source": [
        "Copying the data to a csv file for easy access"
      ]
    },
    {
      "cell_type": "code",
      "metadata": {
        "id": "zeWIDCDPBbKR",
        "colab_type": "code",
        "colab": {}
      },
      "source": [
        "comments.to_csv('comments.csv')"
      ],
      "execution_count": 0,
      "outputs": []
    },
    {
      "cell_type": "markdown",
      "metadata": {
        "id": "4tTkc0Ege1vJ",
        "colab_type": "text"
      },
      "source": [
        "In order to simplify analysis, we will replace model names with their equivalent brand names. In order to do this, we will find the frequency distribution of words across all posts. This is then saved to wordcount.csv for easy access."
      ]
    },
    {
      "cell_type": "code",
      "metadata": {
        "id": "f9--kwmcVxZC",
        "colab_type": "code",
        "outputId": "da370a6c-ee9c-4fef-ebdd-5681868ae269",
        "colab": {
          "base_uri": "https://localhost:8080/",
          "height": 50
        }
      },
      "source": [
        "nltk.download('punkt')\n",
        "text = comments['filtered comments'].str.lower().str.cat(sep=' ')\n",
        "allWords = nltk.tokenize.word_tokenize(text)\n",
        "allWordsDist=nltk.FreqDist(allWords)\n",
        "text_df = pd.DataFrame.from_dict(allWordsDist, orient='index')\n",
        "text_df.columns = ['Frequency']\n",
        "text_df.index.name = 'Word'\n"
      ],
      "execution_count": 14,
      "outputs": [
        {
          "output_type": "stream",
          "text": [
            "[nltk_data] Downloading package punkt to /root/nltk_data...\n",
            "[nltk_data]   Package punkt is already up-to-date!\n"
          ],
          "name": "stdout"
        }
      ]
    },
    {
      "cell_type": "code",
      "metadata": {
        "id": "M_lFMjhoWGHX",
        "colab_type": "code",
        "colab": {}
      },
      "source": [
        "text_df.to_csv('wordcount.csv')"
      ],
      "execution_count": 0,
      "outputs": []
    },
    {
      "cell_type": "markdown",
      "metadata": {
        "id": "6BxDZOaekfXs",
        "colab_type": "text"
      },
      "source": [
        "Now we have 3 key datasets:\n",
        "1. Wordcount: This has every word across user_posts with the frequency\n",
        "2. Models: This has the mapping between every brand name to its different models\n",
        "3. Comments: This has the date, user id, comments and a new column named filtered comments created after removing stopwords and punctuation"
      ]
    },
    {
      "cell_type": "code",
      "metadata": {
        "id": "iQpdr5KW4Lbl",
        "colab_type": "code",
        "outputId": "71cfe952-dd68-46d4-9dd2-7e5b9305c4b7",
        "colab": {
          "base_uri": "https://localhost:8080/",
          "height": 120
        }
      },
      "source": [
        "#Mounting google drive to access the csv files created\n",
        "from google.colab import drive\n",
        "drive.mount(\"/content/drive\", force_remount=True)"
      ],
      "execution_count": 16,
      "outputs": [
        {
          "output_type": "stream",
          "text": [
            "Go to this URL in a browser: https://accounts.google.com/o/oauth2/auth?client_id=947318989803-6bn6qk8qdgf4n4g3pfee6491hc0brc4i.apps.googleusercontent.com&redirect_uri=urn%3Aietf%3Awg%3Aoauth%3A2.0%3Aoob&scope=email%20https%3A%2F%2Fwww.googleapis.com%2Fauth%2Fdocs.test%20https%3A%2F%2Fwww.googleapis.com%2Fauth%2Fdrive%20https%3A%2F%2Fwww.googleapis.com%2Fauth%2Fdrive.photos.readonly%20https%3A%2F%2Fwww.googleapis.com%2Fauth%2Fpeopleapi.readonly&response_type=code\n",
            "\n",
            "Enter your authorization code:\n",
            "··········\n",
            "Mounted at /content/drive\n"
          ],
          "name": "stdout"
        }
      ]
    },
    {
      "cell_type": "code",
      "metadata": {
        "id": "nvyS3xznftOI",
        "colab_type": "code",
        "colab": {}
      },
      "source": [
        "import pandas as pd\n",
        "comments=pd.read_csv('/content/drive/My Drive/Text Analytics Project/comments.csv')\n",
        "models=pd.read_csv('https://raw.githubusercontent.com/chenson2018/Text-Analysis-Class/master/Assignment%201/models%20(5)-Satya.csv', header=None)\n",
        "wordcount=pd.read_csv('/content/drive/My Drive/Text Analytics Project/wordcount.csv')"
      ],
      "execution_count": 0,
      "outputs": []
    },
    {
      "cell_type": "code",
      "metadata": {
        "id": "jN61lSLjgFqc",
        "colab_type": "code",
        "outputId": "ea40d878-fbdd-43bc-d160-c0a2b7f0f430",
        "colab": {
          "base_uri": "https://localhost:8080/",
          "height": 196
        }
      },
      "source": [
        "models.rename(columns={0:'brand',1:'model'},inplace=True)\n",
        "models.head()"
      ],
      "execution_count": 59,
      "outputs": [
        {
          "output_type": "execute_result",
          "data": {
            "text/html": [
              "<div>\n",
              "<style scoped>\n",
              "    .dataframe tbody tr th:only-of-type {\n",
              "        vertical-align: middle;\n",
              "    }\n",
              "\n",
              "    .dataframe tbody tr th {\n",
              "        vertical-align: top;\n",
              "    }\n",
              "\n",
              "    .dataframe thead th {\n",
              "        text-align: right;\n",
              "    }\n",
              "</style>\n",
              "<table border=\"1\" class=\"dataframe\">\n",
              "  <thead>\n",
              "    <tr style=\"text-align: right;\">\n",
              "      <th></th>\n",
              "      <th>brand</th>\n",
              "      <th>model</th>\n",
              "    </tr>\n",
              "  </thead>\n",
              "  <tbody>\n",
              "    <tr>\n",
              "      <th>0</th>\n",
              "      <td>acura</td>\n",
              "      <td>integra</td>\n",
              "    </tr>\n",
              "    <tr>\n",
              "      <th>1</th>\n",
              "      <td>acura</td>\n",
              "      <td>legend</td>\n",
              "    </tr>\n",
              "    <tr>\n",
              "      <th>2</th>\n",
              "      <td>acura</td>\n",
              "      <td>vigor</td>\n",
              "    </tr>\n",
              "    <tr>\n",
              "      <th>3</th>\n",
              "      <td>acura</td>\n",
              "      <td>rlx</td>\n",
              "    </tr>\n",
              "    <tr>\n",
              "      <th>4</th>\n",
              "      <td>acura</td>\n",
              "      <td>ilx</td>\n",
              "    </tr>\n",
              "  </tbody>\n",
              "</table>\n",
              "</div>"
            ],
            "text/plain": [
              "   brand    model\n",
              "0  acura  integra\n",
              "1  acura   legend\n",
              "2  acura    vigor\n",
              "3  acura      rlx\n",
              "4  acura      ilx"
            ]
          },
          "metadata": {
            "tags": []
          },
          "execution_count": 59
        }
      ]
    },
    {
      "cell_type": "code",
      "metadata": {
        "id": "QcTzEYsUgTmF",
        "colab_type": "code",
        "outputId": "34882182-41f7-48c8-f923-8fca99f54236",
        "colab": {
          "base_uri": "https://localhost:8080/",
          "height": 196
        }
      },
      "source": [
        "comments.head()"
      ],
      "execution_count": 60,
      "outputs": [
        {
          "output_type": "execute_result",
          "data": {
            "text/html": [
              "<div>\n",
              "<style scoped>\n",
              "    .dataframe tbody tr th:only-of-type {\n",
              "        vertical-align: middle;\n",
              "    }\n",
              "\n",
              "    .dataframe tbody tr th {\n",
              "        vertical-align: top;\n",
              "    }\n",
              "\n",
              "    .dataframe thead th {\n",
              "        text-align: right;\n",
              "    }\n",
              "</style>\n",
              "<table border=\"1\" class=\"dataframe\">\n",
              "  <thead>\n",
              "    <tr style=\"text-align: right;\">\n",
              "      <th></th>\n",
              "      <th>Unnamed: 0</th>\n",
              "      <th>Date</th>\n",
              "      <th>user_id</th>\n",
              "      <th>comments</th>\n",
              "      <th>filtered comments</th>\n",
              "    </tr>\n",
              "  </thead>\n",
              "  <tbody>\n",
              "    <tr>\n",
              "      <th>0</th>\n",
              "      <td>0</td>\n",
              "      <td>March 25, 2002 5:54AM</td>\n",
              "      <td>merc1</td>\n",
              "      <td>I personally think that with a few tweaks the ...</td>\n",
              "      <td>personally think tweaks c320 could also sit to...</td>\n",
              "    </tr>\n",
              "    <tr>\n",
              "      <th>1</th>\n",
              "      <td>1</td>\n",
              "      <td>March 25, 2002 7:06AM</td>\n",
              "      <td>fredvh</td>\n",
              "      <td>I am debating a new purchase and these two are...</td>\n",
              "      <td>debating new purchase two top list price diffe...</td>\n",
              "    </tr>\n",
              "    <tr>\n",
              "      <th>2</th>\n",
              "      <td>2</td>\n",
              "      <td>March 25, 2002 5:02PM</td>\n",
              "      <td>blueguydotcom</td>\n",
              "      <td>Great handling, RWD, excellent engine and the ...</td>\n",
              "      <td>great handling rwd excellent engine best warra...</td>\n",
              "    </tr>\n",
              "    <tr>\n",
              "      <th>3</th>\n",
              "      <td>3</td>\n",
              "      <td>March 25, 2002 11:04PM</td>\n",
              "      <td>hungrywhale</td>\n",
              "      <td>And no manual tranny. That may not matter to y...</td>\n",
              "      <td>manual tranny may matter certainly matter many...</td>\n",
              "    </tr>\n",
              "    <tr>\n",
              "      <th>4</th>\n",
              "      <td>4</td>\n",
              "      <td>March 26, 2002 12:44AM</td>\n",
              "      <td>riez</td>\n",
              "      <td>One beauty of BMW 3 Series is that there are s...</td>\n",
              "      <td>one beauty bmw 3 series many models choose alm...</td>\n",
              "    </tr>\n",
              "  </tbody>\n",
              "</table>\n",
              "</div>"
            ],
            "text/plain": [
              "   Unnamed: 0  ...                                  filtered comments\n",
              "0           0  ...  personally think tweaks c320 could also sit to...\n",
              "1           1  ...  debating new purchase two top list price diffe...\n",
              "2           2  ...  great handling rwd excellent engine best warra...\n",
              "3           3  ...  manual tranny may matter certainly matter many...\n",
              "4           4  ...  one beauty bmw 3 series many models choose alm...\n",
              "\n",
              "[5 rows x 5 columns]"
            ]
          },
          "metadata": {
            "tags": []
          },
          "execution_count": 60
        }
      ]
    },
    {
      "cell_type": "code",
      "metadata": {
        "id": "CuN8SML1nfbk",
        "colab_type": "code",
        "outputId": "8ffa6488-67e0-47c6-84c4-93de3e4376d8",
        "colab": {
          "base_uri": "https://localhost:8080/",
          "height": 33
        }
      },
      "source": [
        "len(models)"
      ],
      "execution_count": 61,
      "outputs": [
        {
          "output_type": "execute_result",
          "data": {
            "text/plain": [
              "536"
            ]
          },
          "metadata": {
            "tags": []
          },
          "execution_count": 61
        }
      ]
    },
    {
      "cell_type": "markdown",
      "metadata": {
        "id": "G8B5WoULnpPJ",
        "colab_type": "text"
      },
      "source": [
        "Appending models dataframe with the most frequently occurring model names in the posts"
      ]
    },
    {
      "cell_type": "markdown",
      "metadata": {
        "id": "4JPLlhNG0XP2",
        "colab_type": "text"
      },
      "source": [
        "Creating a dictionary with model names and brand names (This is the updated list which has the most frequently occurring brand names from all the posts)"
      ]
    },
    {
      "cell_type": "code",
      "metadata": {
        "id": "nebxLUcasuM6",
        "colab_type": "code",
        "colab": {}
      },
      "source": [
        "models_dict=dict(zip(models.model, models.brand))\n",
        "models_list=list(models['model'].unique())"
      ],
      "execution_count": 0,
      "outputs": []
    },
    {
      "cell_type": "markdown",
      "metadata": {
        "id": "n82sJ_wZMmvv",
        "colab_type": "text"
      },
      "source": [
        "Replace Models with Brand Names in filtered comments"
      ]
    },
    {
      "cell_type": "code",
      "metadata": {
        "id": "YNntqN2JL5Eq",
        "colab_type": "code",
        "colab": {}
      },
      "source": [
        "def replaceModelNames(filtered_comments): \n",
        "  return ' '.join([models_dict.get(i, i) for i in str(filtered_comments).split()])"
      ],
      "execution_count": 0,
      "outputs": []
    },
    {
      "cell_type": "code",
      "metadata": {
        "id": "2bbO-nvvM0E2",
        "colab_type": "code",
        "colab": {}
      },
      "source": [
        "comments['filtered comments']=comments['filtered comments'].map(replaceModelNames)"
      ],
      "execution_count": 0,
      "outputs": []
    },
    {
      "cell_type": "markdown",
      "metadata": {
        "id": "B4xjUnQ8osAi",
        "colab_type": "text"
      },
      "source": [
        "Create a list of words from the filtered comments column"
      ]
    },
    {
      "cell_type": "code",
      "metadata": {
        "id": "Gji6RD_TonZq",
        "colab_type": "code",
        "colab": {}
      },
      "source": [
        "from collections import OrderedDict \n",
        "def getUniqueWords(comment):\n",
        "  x=str(comment).split(\" \")\n",
        "  res = list(OrderedDict.fromkeys((x))) \n",
        "  return res"
      ],
      "execution_count": 0,
      "outputs": []
    },
    {
      "cell_type": "code",
      "metadata": {
        "id": "KckGPgvdqTQ2",
        "colab_type": "code",
        "outputId": "6deb243f-22c2-4200-dfbd-cc2ff2f94d1b",
        "colab": {
          "base_uri": "https://localhost:8080/",
          "height": 297
        }
      },
      "source": [
        "comments['word_list']=comments['filtered comments'].map(getUniqueWords)\n",
        "comments.head()"
      ],
      "execution_count": 67,
      "outputs": [
        {
          "output_type": "execute_result",
          "data": {
            "text/html": [
              "<div>\n",
              "<style scoped>\n",
              "    .dataframe tbody tr th:only-of-type {\n",
              "        vertical-align: middle;\n",
              "    }\n",
              "\n",
              "    .dataframe tbody tr th {\n",
              "        vertical-align: top;\n",
              "    }\n",
              "\n",
              "    .dataframe thead th {\n",
              "        text-align: right;\n",
              "    }\n",
              "</style>\n",
              "<table border=\"1\" class=\"dataframe\">\n",
              "  <thead>\n",
              "    <tr style=\"text-align: right;\">\n",
              "      <th></th>\n",
              "      <th>Unnamed: 0</th>\n",
              "      <th>Date</th>\n",
              "      <th>user_id</th>\n",
              "      <th>comments</th>\n",
              "      <th>filtered comments</th>\n",
              "      <th>word_list</th>\n",
              "    </tr>\n",
              "  </thead>\n",
              "  <tbody>\n",
              "    <tr>\n",
              "      <th>0</th>\n",
              "      <td>0</td>\n",
              "      <td>March 25, 2002 5:54AM</td>\n",
              "      <td>merc1</td>\n",
              "      <td>I personally think that with a few tweaks the ...</td>\n",
              "      <td>personally think tweaks mercedes could also si...</td>\n",
              "      <td>[personally, think, tweaks, mercedes, could, a...</td>\n",
              "    </tr>\n",
              "    <tr>\n",
              "      <th>1</th>\n",
              "      <td>1</td>\n",
              "      <td>March 25, 2002 7:06AM</td>\n",
              "      <td>fredvh</td>\n",
              "      <td>I am debating a new purchase and these two are...</td>\n",
              "      <td>debating new purchase two top list price diffe...</td>\n",
              "      <td>[debating, new, purchase, two, top, list, pric...</td>\n",
              "    </tr>\n",
              "    <tr>\n",
              "      <th>2</th>\n",
              "      <td>2</td>\n",
              "      <td>March 25, 2002 5:02PM</td>\n",
              "      <td>blueguydotcom</td>\n",
              "      <td>Great handling, RWD, excellent engine and the ...</td>\n",
              "      <td>great handling rwd excellent engine best warra...</td>\n",
              "      <td>[great, handling, rwd, excellent, engine, best...</td>\n",
              "    </tr>\n",
              "    <tr>\n",
              "      <th>3</th>\n",
              "      <td>3</td>\n",
              "      <td>March 25, 2002 11:04PM</td>\n",
              "      <td>hungrywhale</td>\n",
              "      <td>And no manual tranny. That may not matter to y...</td>\n",
              "      <td>manual tranny may matter certainly matter many...</td>\n",
              "      <td>[manual, tranny, may, matter, certainly, many,...</td>\n",
              "    </tr>\n",
              "    <tr>\n",
              "      <th>4</th>\n",
              "      <td>4</td>\n",
              "      <td>March 26, 2002 12:44AM</td>\n",
              "      <td>riez</td>\n",
              "      <td>One beauty of BMW 3 Series is that there are s...</td>\n",
              "      <td>one beauty bmw 3 series many models choose alm...</td>\n",
              "      <td>[one, beauty, bmw, 3, series, many, models, ch...</td>\n",
              "    </tr>\n",
              "  </tbody>\n",
              "</table>\n",
              "</div>"
            ],
            "text/plain": [
              "   Unnamed: 0  ...                                          word_list\n",
              "0           0  ...  [personally, think, tweaks, mercedes, could, a...\n",
              "1           1  ...  [debating, new, purchase, two, top, list, pric...\n",
              "2           2  ...  [great, handling, rwd, excellent, engine, best...\n",
              "3           3  ...  [manual, tranny, may, matter, certainly, many,...\n",
              "4           4  ...  [one, beauty, bmw, 3, series, many, models, ch...\n",
              "\n",
              "[5 rows x 6 columns]"
            ]
          },
          "metadata": {
            "tags": []
          },
          "execution_count": 67
        }
      ]
    },
    {
      "cell_type": "markdown",
      "metadata": {
        "id": "E8OoVYLU1tji",
        "colab_type": "text"
      },
      "source": [
        "Task 1: Identify top 10 brands by frequency\n",
        "\n",
        "Steps: \n",
        "1. Create a brands column in user_posts which contains the brands mentioned in each user_post. This is obtained by identifying unique brands from brands list. Set operation has been used to remove duplicates within each post.\n",
        "2. Create a frequency distribution of brand names across all posts and sort them in descending order. This will give the top 10 brand names\n",
        "3. Find co-mentions of each pair of brands in each user post\n",
        "4. Calculate lift for each brand pair as [(total number of user_posts)(number of co-mentions for each brand pair]/[(number of mentions of brand 1)(number of mentions of brand 2)]"
      ]
    },
    {
      "cell_type": "markdown",
      "metadata": {
        "id": "NrgdJs8qU9E9",
        "colab_type": "text"
      },
      "source": [
        "Creating list of unique brands"
      ]
    },
    {
      "cell_type": "code",
      "metadata": {
        "id": "OvhduB9h3Gx7",
        "colab_type": "code",
        "colab": {}
      },
      "source": [
        "brands_list=list(models['brand'].unique())\n"
      ],
      "execution_count": 0,
      "outputs": []
    },
    {
      "cell_type": "markdown",
      "metadata": {
        "id": "5I7VVhWSVASs",
        "colab_type": "text"
      },
      "source": [
        "getBrands function gets a word list as input and returns the unique brands within the word list(counted only once since we have used set function)"
      ]
    },
    {
      "cell_type": "code",
      "metadata": {
        "id": "UrydZ07d4Wg4",
        "colab_type": "code",
        "colab": {}
      },
      "source": [
        "def getBrands(word_list):\n",
        "  user_post_brands=[]\n",
        "  for word in word_list:\n",
        "    if word in brands_list:\n",
        "      user_post_brands.append(word)\n",
        "  return list(set(user_post_brands))"
      ],
      "execution_count": 0,
      "outputs": []
    },
    {
      "cell_type": "code",
      "metadata": {
        "id": "umvtedtu5v7-",
        "colab_type": "code",
        "colab": {}
      },
      "source": [
        "comments['brands']=comments['word_list'].map(getBrands)"
      ],
      "execution_count": 0,
      "outputs": []
    },
    {
      "cell_type": "markdown",
      "metadata": {
        "id": "Fr2sGLREVKnV",
        "colab_type": "text"
      },
      "source": [
        "Creating a list of brands across all user posts to compute total frequency of occurrence of brands across all posts (N)"
      ]
    },
    {
      "cell_type": "code",
      "metadata": {
        "id": "KQCJRJBY57gl",
        "colab_type": "code",
        "colab": {}
      },
      "source": [
        "total_brands=[]\n",
        "for i in range(len(comments)):\n",
        "  total_brands=total_brands+comments['brands'][i]"
      ],
      "execution_count": 0,
      "outputs": []
    },
    {
      "cell_type": "markdown",
      "metadata": {
        "id": "GT-cdZxGVR-_",
        "colab_type": "text"
      },
      "source": [
        "Count the frequency of each brand in total brands list and sort them in descending order. The top 10 is selected from this and then displayed. This represents the top 10 brands mentioned across 4950 user posts."
      ]
    },
    {
      "cell_type": "code",
      "metadata": {
        "id": "GDrzIMby598g",
        "colab_type": "code",
        "outputId": "e1f10445-b1b6-4492-99f4-d1de001bd771",
        "colab": {
          "base_uri": "https://localhost:8080/",
          "height": 345
        }
      },
      "source": [
        "from collections import Counter\n",
        "top_brands=pd.DataFrame(sorted(Counter(total_brands).items(), key=lambda x: x[1], reverse=True)[0:10])\n",
        "top_brands.rename(columns={0:'brand',1:'frequency'},inplace=True)\n",
        "top_brands.head(10)"
      ],
      "execution_count": 157,
      "outputs": [
        {
          "output_type": "execute_result",
          "data": {
            "text/html": [
              "<div>\n",
              "<style scoped>\n",
              "    .dataframe tbody tr th:only-of-type {\n",
              "        vertical-align: middle;\n",
              "    }\n",
              "\n",
              "    .dataframe tbody tr th {\n",
              "        vertical-align: top;\n",
              "    }\n",
              "\n",
              "    .dataframe thead th {\n",
              "        text-align: right;\n",
              "    }\n",
              "</style>\n",
              "<table border=\"1\" class=\"dataframe\">\n",
              "  <thead>\n",
              "    <tr style=\"text-align: right;\">\n",
              "      <th></th>\n",
              "      <th>brand</th>\n",
              "      <th>frequency</th>\n",
              "    </tr>\n",
              "  </thead>\n",
              "  <tbody>\n",
              "    <tr>\n",
              "      <th>0</th>\n",
              "      <td>bmw</td>\n",
              "      <td>1464</td>\n",
              "    </tr>\n",
              "    <tr>\n",
              "      <th>1</th>\n",
              "      <td>acura</td>\n",
              "      <td>1279</td>\n",
              "    </tr>\n",
              "    <tr>\n",
              "      <th>2</th>\n",
              "      <td>infiniti</td>\n",
              "      <td>1042</td>\n",
              "    </tr>\n",
              "    <tr>\n",
              "      <th>3</th>\n",
              "      <td>audi</td>\n",
              "      <td>806</td>\n",
              "    </tr>\n",
              "    <tr>\n",
              "      <th>4</th>\n",
              "      <td>toyota</td>\n",
              "      <td>657</td>\n",
              "    </tr>\n",
              "    <tr>\n",
              "      <th>5</th>\n",
              "      <td>honda</td>\n",
              "      <td>458</td>\n",
              "    </tr>\n",
              "    <tr>\n",
              "      <th>6</th>\n",
              "      <td>lexus</td>\n",
              "      <td>357</td>\n",
              "    </tr>\n",
              "    <tr>\n",
              "      <th>7</th>\n",
              "      <td>cadillac</td>\n",
              "      <td>342</td>\n",
              "    </tr>\n",
              "    <tr>\n",
              "      <th>8</th>\n",
              "      <td>nissan</td>\n",
              "      <td>320</td>\n",
              "    </tr>\n",
              "    <tr>\n",
              "      <th>9</th>\n",
              "      <td>subaru</td>\n",
              "      <td>214</td>\n",
              "    </tr>\n",
              "  </tbody>\n",
              "</table>\n",
              "</div>"
            ],
            "text/plain": [
              "      brand  frequency\n",
              "0       bmw       1464\n",
              "1     acura       1279\n",
              "2  infiniti       1042\n",
              "3      audi        806\n",
              "4    toyota        657\n",
              "5     honda        458\n",
              "6     lexus        357\n",
              "7  cadillac        342\n",
              "8    nissan        320\n",
              "9    subaru        214"
            ]
          },
          "metadata": {
            "tags": []
          },
          "execution_count": 157
        }
      ]
    },
    {
      "cell_type": "markdown",
      "metadata": {
        "id": "RRpj5V3nAiaP",
        "colab_type": "text"
      },
      "source": [
        "Top 10 brands in terms of frequency of mentions across 4950 posts:\n",
        "1. bmw\n",
        "2. acura\n",
        "3. infiniti\n",
        "4. audi\n",
        "5. toyota\n",
        "6. honda\n",
        "7. lexus\n",
        "8. cadillac\n",
        "9. nissan\n",
        "10. subaru"
      ]
    },
    {
      "cell_type": "code",
      "metadata": {
        "id": "HCV03hHy_BK8",
        "colab_type": "code",
        "outputId": "e28d2aea-834a-434a-d75f-e0cfb4e3ea64",
        "colab": {
          "base_uri": "https://localhost:8080/",
          "height": 297
        }
      },
      "source": [
        "comments.head()"
      ],
      "execution_count": 158,
      "outputs": [
        {
          "output_type": "execute_result",
          "data": {
            "text/html": [
              "<div>\n",
              "<style scoped>\n",
              "    .dataframe tbody tr th:only-of-type {\n",
              "        vertical-align: middle;\n",
              "    }\n",
              "\n",
              "    .dataframe tbody tr th {\n",
              "        vertical-align: top;\n",
              "    }\n",
              "\n",
              "    .dataframe thead th {\n",
              "        text-align: right;\n",
              "    }\n",
              "</style>\n",
              "<table border=\"1\" class=\"dataframe\">\n",
              "  <thead>\n",
              "    <tr style=\"text-align: right;\">\n",
              "      <th></th>\n",
              "      <th>Unnamed: 0</th>\n",
              "      <th>Date</th>\n",
              "      <th>user_id</th>\n",
              "      <th>comments</th>\n",
              "      <th>filtered comments</th>\n",
              "      <th>word_list</th>\n",
              "      <th>brands</th>\n",
              "    </tr>\n",
              "  </thead>\n",
              "  <tbody>\n",
              "    <tr>\n",
              "      <th>0</th>\n",
              "      <td>0</td>\n",
              "      <td>March 25, 2002 5:54AM</td>\n",
              "      <td>merc1</td>\n",
              "      <td>I personally think that with a few tweaks the ...</td>\n",
              "      <td>personally think tweaks mercedes could also si...</td>\n",
              "      <td>[personally, think, tweaks, mercedes, could, a...</td>\n",
              "      <td>[audi, buick, cadillac, mercedes, acura, infin...</td>\n",
              "    </tr>\n",
              "    <tr>\n",
              "      <th>1</th>\n",
              "      <td>1</td>\n",
              "      <td>March 25, 2002 7:06AM</td>\n",
              "      <td>fredvh</td>\n",
              "      <td>I am debating a new purchase and these two are...</td>\n",
              "      <td>debating new purchase two top list price diffe...</td>\n",
              "      <td>[debating, new, purchase, two, top, list, pric...</td>\n",
              "      <td>[lexus, acura, honda]</td>\n",
              "    </tr>\n",
              "    <tr>\n",
              "      <th>2</th>\n",
              "      <td>2</td>\n",
              "      <td>March 25, 2002 5:02PM</td>\n",
              "      <td>blueguydotcom</td>\n",
              "      <td>Great handling, RWD, excellent engine and the ...</td>\n",
              "      <td>great handling rwd excellent engine best warra...</td>\n",
              "      <td>[great, handling, rwd, excellent, engine, best...</td>\n",
              "      <td>[]</td>\n",
              "    </tr>\n",
              "    <tr>\n",
              "      <th>3</th>\n",
              "      <td>3</td>\n",
              "      <td>March 25, 2002 11:04PM</td>\n",
              "      <td>hungrywhale</td>\n",
              "      <td>And no manual tranny. That may not matter to y...</td>\n",
              "      <td>manual tranny may matter certainly matter many...</td>\n",
              "      <td>[manual, tranny, may, matter, certainly, many,...</td>\n",
              "      <td>[]</td>\n",
              "    </tr>\n",
              "    <tr>\n",
              "      <th>4</th>\n",
              "      <td>4</td>\n",
              "      <td>March 26, 2002 12:44AM</td>\n",
              "      <td>riez</td>\n",
              "      <td>One beauty of BMW 3 Series is that there are s...</td>\n",
              "      <td>one beauty bmw 3 series many models choose alm...</td>\n",
              "      <td>[one, beauty, bmw, 3, series, many, models, ch...</td>\n",
              "      <td>[bmw]</td>\n",
              "    </tr>\n",
              "  </tbody>\n",
              "</table>\n",
              "</div>"
            ],
            "text/plain": [
              "   Unnamed: 0  ...                                             brands\n",
              "0           0  ...  [audi, buick, cadillac, mercedes, acura, infin...\n",
              "1           1  ...                              [lexus, acura, honda]\n",
              "2           2  ...                                                 []\n",
              "3           3  ...                                                 []\n",
              "4           4  ...                                              [bmw]\n",
              "\n",
              "[5 rows x 7 columns]"
            ]
          },
          "metadata": {
            "tags": []
          },
          "execution_count": 158
        }
      ]
    },
    {
      "cell_type": "markdown",
      "metadata": {
        "id": "ieAX-3_QSaWt",
        "colab_type": "text"
      },
      "source": [
        "Lift Calculation\n",
        "\n",
        "Parameters:\n",
        "1. N: Total number of any brand mentions in all user_posts (can be found from from total_brands)\n",
        "2. N(brand A): Total number of mentions of brand A in all user_posts (can be found from top_brands dataframe)\n",
        "3. N(brand B): Total number of mentions of brand B in all user_posts (can be found from top_brands dataframe)\n",
        "4. N(brand A & brand B): Total number of times brand A and brand B were mentioned together in the same post"
      ]
    },
    {
      "cell_type": "code",
      "metadata": {
        "id": "JpBOu_4CBO3P",
        "colab_type": "code",
        "colab": {}
      },
      "source": [
        "def computeLift(brandA,brandB):\n",
        "  Lift_AB=0\n",
        "  N_AB=0\n",
        "  N=len(comments)\n",
        "  N_A=top_brands[top_brands['brand']==brandA]['frequency'].values\n",
        "  N_B=top_brands[top_brands['brand']==brandB]['frequency'].values\n",
        "  for i in range(len(comments)):\n",
        "    if((brandA in comments.iloc[i]['brands'])&(brandB in comments.iloc[i]['brands'])):\n",
        "      N_AB+=1\n",
        "  Lift_AB=(N*N_AB)/(N_A*N_B)\n",
        "  return(Lift_AB)\n"
      ],
      "execution_count": 0,
      "outputs": []
    },
    {
      "cell_type": "markdown",
      "metadata": {
        "id": "S45y8m_VgXW5",
        "colab_type": "text"
      },
      "source": [
        "Create pairs of brands from the list of top brands"
      ]
    },
    {
      "cell_type": "code",
      "metadata": {
        "id": "W4XMa5jDPXZ4",
        "colab_type": "code",
        "colab": {}
      },
      "source": [
        "import itertools\n",
        "top_brands_list=list(top_brands['brand'].unique())\n",
        "pairs_list=list(itertools.combinations(top_brands_list, 2))"
      ],
      "execution_count": 0,
      "outputs": []
    },
    {
      "cell_type": "markdown",
      "metadata": {
        "id": "xsFda_kTNv6r",
        "colab_type": "text"
      },
      "source": [
        "Compute lift for each pair of brands"
      ]
    },
    {
      "cell_type": "code",
      "metadata": {
        "id": "QdRQ5bXwbVNJ",
        "colab_type": "code",
        "colab": {}
      },
      "source": [
        "brands_Lift=[]\n",
        "for i in range(len(pairs_list)):\n",
        "  brands_Lift.append((pairs_list[i],computeLift(pairs_list[i][0],pairs_list[i][1])[0]))"
      ],
      "execution_count": 0,
      "outputs": []
    },
    {
      "cell_type": "markdown",
      "metadata": {
        "id": "fQR0etsRNzMj",
        "colab_type": "text"
      },
      "source": [
        "Create a lift_table which has the brand pairs with the computed lift. Add a column for inverse of lift, to create the MDS map. Display the sorted table in descending order of lift"
      ]
    },
    {
      "cell_type": "code",
      "metadata": {
        "id": "K7XsOZMKgIuN",
        "colab_type": "code",
        "outputId": "b1ecb22b-2bcb-450e-d989-0921df572fc0",
        "colab": {
          "base_uri": "https://localhost:8080/",
          "height": 345
        }
      },
      "source": [
        "lift_Table=pd.DataFrame(brands_Lift)\n",
        "lift_Table.rename(columns={0:'brand_pairs',1:'lift'},inplace=True)\n",
        "lift_Table['lift_inverse']=1.0/lift_Table['lift']\n",
        "lift_Table.sort_values(by='lift',ascending=False)[0:10]\n"
      ],
      "execution_count": 159,
      "outputs": [
        {
          "output_type": "execute_result",
          "data": {
            "text/html": [
              "<div>\n",
              "<style scoped>\n",
              "    .dataframe tbody tr th:only-of-type {\n",
              "        vertical-align: middle;\n",
              "    }\n",
              "\n",
              "    .dataframe tbody tr th {\n",
              "        vertical-align: top;\n",
              "    }\n",
              "\n",
              "    .dataframe thead th {\n",
              "        text-align: right;\n",
              "    }\n",
              "</style>\n",
              "<table border=\"1\" class=\"dataframe\">\n",
              "  <thead>\n",
              "    <tr style=\"text-align: right;\">\n",
              "      <th></th>\n",
              "      <th>brand_pairs</th>\n",
              "      <th>lift</th>\n",
              "      <th>lift_inverse</th>\n",
              "    </tr>\n",
              "  </thead>\n",
              "  <tbody>\n",
              "    <tr>\n",
              "      <th>37</th>\n",
              "      <td>(honda, nissan)</td>\n",
              "      <td>3.752729</td>\n",
              "      <td>0.266473</td>\n",
              "    </tr>\n",
              "    <tr>\n",
              "      <th>31</th>\n",
              "      <td>(toyota, lexus)</td>\n",
              "      <td>3.069721</td>\n",
              "      <td>0.325763</td>\n",
              "    </tr>\n",
              "    <tr>\n",
              "      <th>30</th>\n",
              "      <td>(toyota, honda)</td>\n",
              "      <td>2.558939</td>\n",
              "      <td>0.390787</td>\n",
              "    </tr>\n",
              "    <tr>\n",
              "      <th>33</th>\n",
              "      <td>(toyota, nissan)</td>\n",
              "      <td>2.473364</td>\n",
              "      <td>0.404308</td>\n",
              "    </tr>\n",
              "    <tr>\n",
              "      <th>39</th>\n",
              "      <td>(lexus, cadillac)</td>\n",
              "      <td>2.416171</td>\n",
              "      <td>0.413878</td>\n",
              "    </tr>\n",
              "    <tr>\n",
              "      <th>20</th>\n",
              "      <td>(infiniti, lexus)</td>\n",
              "      <td>2.244660</td>\n",
              "      <td>0.445502</td>\n",
              "    </tr>\n",
              "    <tr>\n",
              "      <th>26</th>\n",
              "      <td>(audi, lexus)</td>\n",
              "      <td>2.206838</td>\n",
              "      <td>0.453137</td>\n",
              "    </tr>\n",
              "    <tr>\n",
              "      <th>22</th>\n",
              "      <td>(infiniti, nissan)</td>\n",
              "      <td>2.099328</td>\n",
              "      <td>0.476343</td>\n",
              "    </tr>\n",
              "    <tr>\n",
              "      <th>5</th>\n",
              "      <td>(bmw, lexus)</td>\n",
              "      <td>2.075967</td>\n",
              "      <td>0.481703</td>\n",
              "    </tr>\n",
              "    <tr>\n",
              "      <th>12</th>\n",
              "      <td>(acura, honda)</td>\n",
              "      <td>1.954652</td>\n",
              "      <td>0.511600</td>\n",
              "    </tr>\n",
              "  </tbody>\n",
              "</table>\n",
              "</div>"
            ],
            "text/plain": [
              "           brand_pairs      lift  lift_inverse\n",
              "37     (honda, nissan)  3.752729      0.266473\n",
              "31     (toyota, lexus)  3.069721      0.325763\n",
              "30     (toyota, honda)  2.558939      0.390787\n",
              "33    (toyota, nissan)  2.473364      0.404308\n",
              "39   (lexus, cadillac)  2.416171      0.413878\n",
              "20   (infiniti, lexus)  2.244660      0.445502\n",
              "26       (audi, lexus)  2.206838      0.453137\n",
              "22  (infiniti, nissan)  2.099328      0.476343\n",
              "5         (bmw, lexus)  2.075967      0.481703\n",
              "12      (acura, honda)  1.954652      0.511600"
            ]
          },
          "metadata": {
            "tags": []
          },
          "execution_count": 159
        }
      ]
    },
    {
      "cell_type": "markdown",
      "metadata": {
        "id": "pD6UfpaQquF3",
        "colab_type": "text"
      },
      "source": [
        "Create an MDS map from lift values\n",
        "Steps:\n",
        "1. Create a 10*10 matrix of brands with 1/lift values:\n",
        " 1. Create a dataframe with each brand, its associated brand-pair and lift inverse as columns\n",
        " 2. Create a reverse dataframe for the above (since upper and lower diagonal of the matrix will have same values)\n",
        " 3. Create a dataframe with same brand for columns brandA and brandB and lift inverse 0 (creating the diagonal values)\n",
        " 4. Append all the dataframes together and create a pivot table between brand A and brand B with lift_inverse as values. This gives us the complete MDS matrix.\n",
        "2. Plot MDS map\n",
        "  1. MDS takes inputs as arrays. Hence, for each row of the MDS matrix, create an array of lift values. \n",
        "  2. Pass this input to the MDS function (scikit package). Use the brand names as labels on the plot."
      ]
    },
    {
      "cell_type": "code",
      "metadata": {
        "id": "VtcTiN3QAfUn",
        "colab_type": "code",
        "colab": {}
      },
      "source": [
        "split_brands=pd.DataFrame(lift_Table['brand_pairs'].values.tolist(), index=lift_Table.index)\n",
        "split_brands['lift_inverse']=lift_Table['lift_inverse']\n",
        "split_brands.rename(columns={0:'brandA',1:'brandB'},inplace=True)"
      ],
      "execution_count": 0,
      "outputs": []
    },
    {
      "cell_type": "code",
      "metadata": {
        "id": "gl-LKaHt80P3",
        "colab_type": "code",
        "colab": {}
      },
      "source": [
        "split_brands_B=split_brands[['brandB','brandA','lift_inverse']]\n",
        "split_brands_B.rename(columns={'brandB':'brandA','brandA':'brandB'},inplace=True)\n",
        "split_brands=split_brands.append(split_brands_B,ignore_index=True)"
      ],
      "execution_count": 0,
      "outputs": []
    },
    {
      "cell_type": "code",
      "metadata": {
        "id": "PmJc4r1rA0Nj",
        "colab_type": "code",
        "outputId": "717d87f3-746f-48ef-e5eb-551e2528d1d6",
        "colab": {
          "base_uri": "https://localhost:8080/",
          "height": 150
        }
      },
      "source": [
        "split_brands=split_brands.append(pd.DataFrame({\"brandA\":top_brands_list,\"brandB\":top_brands_list}),ignore_index=True)"
      ],
      "execution_count": 162,
      "outputs": [
        {
          "output_type": "stream",
          "text": [
            "/usr/local/lib/python3.6/dist-packages/pandas/core/frame.py:7138: FutureWarning: Sorting because non-concatenation axis is not aligned. A future version\n",
            "of pandas will change to not sort by default.\n",
            "\n",
            "To accept the future behavior, pass 'sort=False'.\n",
            "\n",
            "To retain the current behavior and silence the warning, pass 'sort=True'.\n",
            "\n",
            "  sort=sort,\n"
          ],
          "name": "stderr"
        }
      ]
    },
    {
      "cell_type": "code",
      "metadata": {
        "id": "NrX5zC1_BVhl",
        "colab_type": "code",
        "colab": {}
      },
      "source": [
        "split_brands.fillna(0,inplace=True)"
      ],
      "execution_count": 0,
      "outputs": []
    },
    {
      "cell_type": "code",
      "metadata": {
        "id": "k7NOrMft7jQN",
        "colab_type": "code",
        "colab": {}
      },
      "source": [
        "MDS_matrix=pd.pivot_table(split_brands,index=['brandA'],columns=['brandB'],values='lift_inverse')"
      ],
      "execution_count": 0,
      "outputs": []
    },
    {
      "cell_type": "code",
      "metadata": {
        "id": "eCnkn4nmBgSP",
        "colab_type": "code",
        "colab": {}
      },
      "source": [
        "MDS_matrix.reset_index(inplace=True)"
      ],
      "execution_count": 0,
      "outputs": []
    },
    {
      "cell_type": "code",
      "metadata": {
        "id": "1S6Dui7aFer7",
        "colab_type": "code",
        "outputId": "dfc54dfe-e3a3-4418-e97f-14b6938597fb",
        "colab": {
          "base_uri": "https://localhost:8080/",
          "height": 345
        }
      },
      "source": [
        "MDS_matrix"
      ],
      "execution_count": 166,
      "outputs": [
        {
          "output_type": "execute_result",
          "data": {
            "text/html": [
              "<div>\n",
              "<style scoped>\n",
              "    .dataframe tbody tr th:only-of-type {\n",
              "        vertical-align: middle;\n",
              "    }\n",
              "\n",
              "    .dataframe tbody tr th {\n",
              "        vertical-align: top;\n",
              "    }\n",
              "\n",
              "    .dataframe thead th {\n",
              "        text-align: right;\n",
              "    }\n",
              "</style>\n",
              "<table border=\"1\" class=\"dataframe\">\n",
              "  <thead>\n",
              "    <tr style=\"text-align: right;\">\n",
              "      <th>brandB</th>\n",
              "      <th>brandA</th>\n",
              "      <th>acura</th>\n",
              "      <th>audi</th>\n",
              "      <th>bmw</th>\n",
              "      <th>cadillac</th>\n",
              "      <th>honda</th>\n",
              "      <th>infiniti</th>\n",
              "      <th>lexus</th>\n",
              "      <th>nissan</th>\n",
              "      <th>subaru</th>\n",
              "      <th>toyota</th>\n",
              "    </tr>\n",
              "  </thead>\n",
              "  <tbody>\n",
              "    <tr>\n",
              "      <th>0</th>\n",
              "      <td>acura</td>\n",
              "      <td>0.000000</td>\n",
              "      <td>0.665080</td>\n",
              "      <td>0.781819</td>\n",
              "      <td>0.672951</td>\n",
              "      <td>0.511600</td>\n",
              "      <td>0.523661</td>\n",
              "      <td>0.577978</td>\n",
              "      <td>0.639500</td>\n",
              "      <td>0.760294</td>\n",
              "      <td>0.646387</td>\n",
              "    </tr>\n",
              "    <tr>\n",
              "      <th>1</th>\n",
              "      <td>audi</td>\n",
              "      <td>0.665080</td>\n",
              "      <td>0.000000</td>\n",
              "      <td>0.527957</td>\n",
              "      <td>0.545846</td>\n",
              "      <td>0.761130</td>\n",
              "      <td>0.550723</td>\n",
              "      <td>0.453137</td>\n",
              "      <td>0.736914</td>\n",
              "      <td>0.733974</td>\n",
              "      <td>0.572478</td>\n",
              "    </tr>\n",
              "    <tr>\n",
              "      <th>2</th>\n",
              "      <td>bmw</td>\n",
              "      <td>0.781819</td>\n",
              "      <td>0.527957</td>\n",
              "      <td>0.000000</td>\n",
              "      <td>0.606895</td>\n",
              "      <td>0.770703</td>\n",
              "      <td>0.625200</td>\n",
              "      <td>0.481703</td>\n",
              "      <td>0.814748</td>\n",
              "      <td>0.824463</td>\n",
              "      <td>0.604936</td>\n",
              "    </tr>\n",
              "    <tr>\n",
              "      <th>3</th>\n",
              "      <td>cadillac</td>\n",
              "      <td>0.672951</td>\n",
              "      <td>0.545846</td>\n",
              "      <td>0.606895</td>\n",
              "      <td>0.000000</td>\n",
              "      <td>1.044240</td>\n",
              "      <td>0.535886</td>\n",
              "      <td>0.413878</td>\n",
              "      <td>0.994909</td>\n",
              "      <td>0.609900</td>\n",
              "      <td>0.624150</td>\n",
              "    </tr>\n",
              "    <tr>\n",
              "      <th>4</th>\n",
              "      <td>honda</td>\n",
              "      <td>0.511600</td>\n",
              "      <td>0.761130</td>\n",
              "      <td>0.770703</td>\n",
              "      <td>1.044240</td>\n",
              "      <td>0.000000</td>\n",
              "      <td>0.712293</td>\n",
              "      <td>0.681275</td>\n",
              "      <td>0.266473</td>\n",
              "      <td>0.653413</td>\n",
              "      <td>0.390787</td>\n",
              "    </tr>\n",
              "    <tr>\n",
              "      <th>5</th>\n",
              "      <td>infiniti</td>\n",
              "      <td>0.523661</td>\n",
              "      <td>0.550723</td>\n",
              "      <td>0.625200</td>\n",
              "      <td>0.535886</td>\n",
              "      <td>0.712293</td>\n",
              "      <td>0.000000</td>\n",
              "      <td>0.445502</td>\n",
              "      <td>0.476343</td>\n",
              "      <td>0.743293</td>\n",
              "      <td>0.619542</td>\n",
              "    </tr>\n",
              "    <tr>\n",
              "      <th>6</th>\n",
              "      <td>lexus</td>\n",
              "      <td>0.577978</td>\n",
              "      <td>0.453137</td>\n",
              "      <td>0.481703</td>\n",
              "      <td>0.413878</td>\n",
              "      <td>0.681275</td>\n",
              "      <td>0.445502</td>\n",
              "      <td>0.000000</td>\n",
              "      <td>0.652800</td>\n",
              "      <td>0.611184</td>\n",
              "      <td>0.325763</td>\n",
              "    </tr>\n",
              "    <tr>\n",
              "      <th>7</th>\n",
              "      <td>nissan</td>\n",
              "      <td>0.639500</td>\n",
              "      <td>0.736914</td>\n",
              "      <td>0.814748</td>\n",
              "      <td>0.994909</td>\n",
              "      <td>0.266473</td>\n",
              "      <td>0.476343</td>\n",
              "      <td>0.652800</td>\n",
              "      <td>0.000000</td>\n",
              "      <td>0.595478</td>\n",
              "      <td>0.404308</td>\n",
              "    </tr>\n",
              "    <tr>\n",
              "      <th>8</th>\n",
              "      <td>subaru</td>\n",
              "      <td>0.760294</td>\n",
              "      <td>0.733974</td>\n",
              "      <td>0.824463</td>\n",
              "      <td>0.609900</td>\n",
              "      <td>0.653413</td>\n",
              "      <td>0.743293</td>\n",
              "      <td>0.611184</td>\n",
              "      <td>0.595478</td>\n",
              "      <td>0.000000</td>\n",
              "      <td>0.598289</td>\n",
              "    </tr>\n",
              "    <tr>\n",
              "      <th>9</th>\n",
              "      <td>toyota</td>\n",
              "      <td>0.646387</td>\n",
              "      <td>0.572478</td>\n",
              "      <td>0.604936</td>\n",
              "      <td>0.624150</td>\n",
              "      <td>0.390787</td>\n",
              "      <td>0.619542</td>\n",
              "      <td>0.325763</td>\n",
              "      <td>0.404308</td>\n",
              "      <td>0.598289</td>\n",
              "      <td>0.000000</td>\n",
              "    </tr>\n",
              "  </tbody>\n",
              "</table>\n",
              "</div>"
            ],
            "text/plain": [
              "brandB    brandA     acura      audi  ...    nissan    subaru    toyota\n",
              "0          acura  0.000000  0.665080  ...  0.639500  0.760294  0.646387\n",
              "1           audi  0.665080  0.000000  ...  0.736914  0.733974  0.572478\n",
              "2            bmw  0.781819  0.527957  ...  0.814748  0.824463  0.604936\n",
              "3       cadillac  0.672951  0.545846  ...  0.994909  0.609900  0.624150\n",
              "4          honda  0.511600  0.761130  ...  0.266473  0.653413  0.390787\n",
              "5       infiniti  0.523661  0.550723  ...  0.476343  0.743293  0.619542\n",
              "6          lexus  0.577978  0.453137  ...  0.652800  0.611184  0.325763\n",
              "7         nissan  0.639500  0.736914  ...  0.000000  0.595478  0.404308\n",
              "8         subaru  0.760294  0.733974  ...  0.595478  0.000000  0.598289\n",
              "9         toyota  0.646387  0.572478  ...  0.404308  0.598289  0.000000\n",
              "\n",
              "[10 rows x 11 columns]"
            ]
          },
          "metadata": {
            "tags": []
          },
          "execution_count": 166
        }
      ]
    },
    {
      "cell_type": "code",
      "metadata": {
        "id": "lhxhmKvEDWQ3",
        "colab_type": "code",
        "colab": {}
      },
      "source": [
        "import numpy as np\n",
        "import matplotlib.pyplot as plt\n",
        "from sklearn import manifold\n",
        "\n",
        "brands = []\n",
        "lift_inv = []\n",
        "for i in range(len(MDS_matrix)):\n",
        "    brands.append(MDS_matrix['brandA'][i])\n",
        "    lift_inv.append(MDS_matrix.iloc[i,1:].values)\n",
        "a_liftinv = np.array(lift_inv)"
      ],
      "execution_count": 0,
      "outputs": []
    },
    {
      "cell_type": "code",
      "metadata": {
        "id": "2gdOfZN6GCtt",
        "colab_type": "code",
        "outputId": "ff71ddd6-a6c6-4163-b0a0-5858f76d0769",
        "colab": {
          "base_uri": "https://localhost:8080/",
          "height": 289
        }
      },
      "source": [
        "mds = manifold.MDS(n_components=2, dissimilarity=\"precomputed\", random_state=6)\n",
        "results = mds.fit(a_liftinv)\n",
        "coords = results.embedding_\n",
        "plt.subplots_adjust(bottom = 0.1)\n",
        "plt.scatter(\n",
        "    coords[:, 0], coords[:, 1], marker = 'o'\n",
        "    )\n",
        "for label, x, y in zip(brands, coords[:, 0], coords[:, 1]):\n",
        "    plt.annotate(\n",
        "        label,\n",
        "        xy = (x, y), xytext = (-20, 20),\n",
        "        textcoords = 'offset points', ha = 'right', va = 'bottom',\n",
        "        bbox = dict(boxstyle = 'round,pad=0.5', fc = 'yellow', alpha = 0.5),\n",
        "        arrowprops = dict(arrowstyle = '->', connectionstyle = 'arc3,rad=0'))\n",
        "\n",
        "plt.show()"
      ],
      "execution_count": 168,
      "outputs": [
        {
          "output_type": "display_data",
          "data": {
            "image/png": "[encoded data removed]",
            "text/plain": [
              "<Figure size 432x288 with 1 Axes>"
            ]
          },
          "metadata": {
            "tags": []
          }
        }
      ]
    },
    {
      "cell_type": "markdown",
      "metadata": {
        "id": "NbGQIsA1QCBb",
        "colab_type": "text"
      },
      "source": [
        "From the MDS map, we observe the following:\n",
        "1. Subaru seems to be further away from the other luxury cars, showing that there are lesser chances of users discussing about Subaru, when discussing others. In other words, Subaru is considered more dissimilar to the other luxury cars.\n",
        "2. Honda and nissan seems to be the closest in the MDS map and highest on lift at 3.75, showing that if we observe honda being mentioned in a user post, there is a higher probabilty of observing nissan as a co-mention, than nissan being mentioned otherwise. It is also interesting that these two brands seem to have the highest lift in the luxury car segment.\n",
        "3. Since it is the luxury car segment, one would expect one of the highest associations between bmw and audi. However, we see that the lift value is comparitively lower for this pair at 1.89.\n",
        "4. We also see that there is high association between toyota and lexus with a lift value of 3.07,showing that more conversations seemed to include co-mentions of toyota and lexus."
      ]
    },
    {
      "cell_type": "markdown",
      "metadata": {
        "id": "X4zfDXMRHwfq",
        "colab_type": "text"
      },
      "source": [
        "Find top attributes for the brands:\n",
        "\n",
        "1. Find the top 5 most frequently mentioned attributes about a brand from wordcount dataframe. Remove brands and models from dataframe and then sort values in descending order to obtain the most commonly occurring attributes\n",
        "2. After sorting through the non brand/non model list of words, utilize the top most frequently occurring attributes to create the attributes list\n",
        "3. Identify which of these attributes are referred to in each post.\n",
        "4. Compute the total attribute mentions across all posts and identify the top5_attributes based on frequency of occurrence.\n",
        "3. Create top5_attribute_brand pairs between top5_brands and top5_attributes\n",
        "4. Compute lift between these pairs across all user posts\n",
        "  1. N: This is the total number of mentions of all brands and all attributes\n",
        "  2. N_A: This is the total number of mentions of a brand \n",
        "  3. N_B: This is the total number of mentions of an attribute\n",
        "  4. N_AB: This is the total number of co-mentions of brand and attribute"
      ]
    },
    {
      "cell_type": "code",
      "metadata": {
        "id": "-kYakTLTLVr3",
        "colab_type": "code",
        "colab": {}
      },
      "source": [
        "brands_list=list(models['brand'].unique())\n",
        "models_list=list(models['model'].unique())\n",
        "totalattributes_list=['performance','engine','power','luxury','price','suspension','transmission','torque','speed','acceleration','interior','quality','reliable','sport']"
      ],
      "execution_count": 0,
      "outputs": []
    },
    {
      "cell_type": "code",
      "metadata": {
        "id": "VDfY1GnML5mG",
        "colab_type": "code",
        "colab": {}
      },
      "source": [
        "\n",
        "def getAttributes(word_list):\n",
        "  user_post_non=[]\n",
        "  for word in word_list:\n",
        "    if (word  in totalattributes_list):\n",
        "      user_post_non.append(word)\n",
        "  return list(set(user_post_non))"
      ],
      "execution_count": 0,
      "outputs": []
    },
    {
      "cell_type": "code",
      "metadata": {
        "id": "N2sYkedfMHmq",
        "colab_type": "code",
        "colab": {}
      },
      "source": [
        "comments['attribute']=comments['word_list'].map(getAttributes)"
      ],
      "execution_count": 0,
      "outputs": []
    },
    {
      "cell_type": "code",
      "metadata": {
        "id": "S8julG7-MbrM",
        "colab_type": "code",
        "colab": {}
      },
      "source": [
        "total_attribute=[]\n",
        "for i in range(len(comments)):\n",
        "  total_attribute=total_attribute+comments['attribute'][i]"
      ],
      "execution_count": 0,
      "outputs": []
    },
    {
      "cell_type": "code",
      "metadata": {
        "id": "O2f1YBQ5M6ld",
        "colab_type": "code",
        "colab": {}
      },
      "source": [
        "pd.options.display.max_rows = 500\n",
        "from collections import Counter\n",
        "top_attributes=pd.DataFrame(sorted(Counter(total_attribute).items(), key=lambda x: x[1], reverse=True))\n",
        "top_attributes.rename(columns={0:'attribute',1:'frequency'},inplace=True)\n"
      ],
      "execution_count": 0,
      "outputs": []
    },
    {
      "cell_type": "code",
      "metadata": {
        "id": "RAqjerQdPhzq",
        "colab_type": "code",
        "colab": {}
      },
      "source": [
        "#attribute_list=['performance','engine','price','speed','interior','luxury','power']\n",
        "top5_attributes=top_attributes[top_attributes['attribute'].isin(totalattributes_list)][0:5]\n",
        "top5_attributes_list=list(top5_attributes['attribute'])"
      ],
      "execution_count": 0,
      "outputs": []
    },
    {
      "cell_type": "code",
      "metadata": {
        "id": "E2fPo7pcgZGY",
        "colab_type": "code",
        "outputId": "5ccce7f1-1807-4679-a618-ae64256bb899",
        "colab": {
          "base_uri": "https://localhost:8080/",
          "height": 196
        }
      },
      "source": [
        "top5_attributes"
      ],
      "execution_count": 175,
      "outputs": [
        {
          "output_type": "execute_result",
          "data": {
            "text/html": [
              "<div>\n",
              "<style scoped>\n",
              "    .dataframe tbody tr th:only-of-type {\n",
              "        vertical-align: middle;\n",
              "    }\n",
              "\n",
              "    .dataframe tbody tr th {\n",
              "        vertical-align: top;\n",
              "    }\n",
              "\n",
              "    .dataframe thead th {\n",
              "        text-align: right;\n",
              "    }\n",
              "</style>\n",
              "<table border=\"1\" class=\"dataframe\">\n",
              "  <thead>\n",
              "    <tr style=\"text-align: right;\">\n",
              "      <th></th>\n",
              "      <th>attribute</th>\n",
              "      <th>frequency</th>\n",
              "    </tr>\n",
              "  </thead>\n",
              "  <tbody>\n",
              "    <tr>\n",
              "      <th>0</th>\n",
              "      <td>performance</td>\n",
              "      <td>687</td>\n",
              "    </tr>\n",
              "    <tr>\n",
              "      <th>1</th>\n",
              "      <td>luxury</td>\n",
              "      <td>478</td>\n",
              "    </tr>\n",
              "    <tr>\n",
              "      <th>2</th>\n",
              "      <td>engine</td>\n",
              "      <td>443</td>\n",
              "    </tr>\n",
              "    <tr>\n",
              "      <th>3</th>\n",
              "      <td>price</td>\n",
              "      <td>437</td>\n",
              "    </tr>\n",
              "    <tr>\n",
              "      <th>4</th>\n",
              "      <td>power</td>\n",
              "      <td>387</td>\n",
              "    </tr>\n",
              "  </tbody>\n",
              "</table>\n",
              "</div>"
            ],
            "text/plain": [
              "     attribute  frequency\n",
              "0  performance        687\n",
              "1       luxury        478\n",
              "2       engine        443\n",
              "3        price        437\n",
              "4        power        387"
            ]
          },
          "metadata": {
            "tags": []
          },
          "execution_count": 175
        }
      ]
    },
    {
      "cell_type": "markdown",
      "metadata": {
        "id": "diqYuCk7U4Zo",
        "colab_type": "text"
      },
      "source": [
        "From our analysis, we observe that below are the top 5 attributes most commonly mentioned:\n",
        "1. Performance\n",
        "2. Luxury\n",
        "3. Engine\n",
        "4. Price\n",
        "5. Power"
      ]
    },
    {
      "cell_type": "code",
      "metadata": {
        "id": "BXKiHYoyNI_J",
        "colab_type": "code",
        "colab": {}
      },
      "source": [
        "top5_brands=top_brands[0:5]\n",
        "top5_brands_list=list(top5_brands['brand'])"
      ],
      "execution_count": 0,
      "outputs": []
    },
    {
      "cell_type": "code",
      "metadata": {
        "id": "30PUHUPuSMD9",
        "colab_type": "code",
        "colab": {}
      },
      "source": [
        "def computeLift(brandA,attributeB):\n",
        "  Lift_AB=0\n",
        "  N_AB=0\n",
        "  N=len(comments)\n",
        "  N_A=top5_brands[top5_brands['brand']==brandA]['frequency'].values\n",
        "  N_B=top5_attributes[top5_attributes['attribute']==attributeB]['frequency'].values\n",
        "  for i in range(len(comments)):\n",
        "    if((brandA in comments.iloc[i]['brands'])&(attributeB in comments.iloc[i]['attribute'])):\n",
        "      N_AB+=1\n",
        "  Lift_AB=(N*N_AB)/(N_A*N_B)\n",
        "  return(Lift_AB)\n"
      ],
      "execution_count": 0,
      "outputs": []
    },
    {
      "cell_type": "code",
      "metadata": {
        "id": "zdRXKQjiUquG",
        "colab_type": "code",
        "colab": {}
      },
      "source": [
        "top5_brands_total=[]\n",
        "top5_brands_total.extend(top5_brands_list*5)"
      ],
      "execution_count": 0,
      "outputs": []
    },
    {
      "cell_type": "code",
      "metadata": {
        "id": "fRl1vSxAaK4_",
        "colab_type": "code",
        "colab": {}
      },
      "source": [
        "top5_brands_total=sorted(top5_brands_total)"
      ],
      "execution_count": 0,
      "outputs": []
    },
    {
      "cell_type": "code",
      "metadata": {
        "id": "dnSgTdb7aSOe",
        "colab_type": "code",
        "colab": {}
      },
      "source": [
        "top5_attributes_tot=[]\n",
        "top5_attributes_tot.extend(top5_attributes_list*5)"
      ],
      "execution_count": 0,
      "outputs": []
    },
    {
      "cell_type": "code",
      "metadata": {
        "id": "9bCRf8w9ab02",
        "colab_type": "code",
        "colab": {}
      },
      "source": [
        "brand_attribute_pairs=list(zip(sorted(top5_brands_total), top5_attributes_tot))  "
      ],
      "execution_count": 0,
      "outputs": []
    },
    {
      "cell_type": "code",
      "metadata": {
        "id": "Bagb2OBAael1",
        "colab_type": "code",
        "colab": {}
      },
      "source": [
        "brand_att_Lift=[]\n",
        "for i in range(len(brand_attribute_pairs)):\n",
        "  brand_att_Lift.append((brand_attribute_pairs[i],computeLift(brand_attribute_pairs[i][0],brand_attribute_pairs[i][1])[0]))"
      ],
      "execution_count": 0,
      "outputs": []
    },
    {
      "cell_type": "code",
      "metadata": {
        "id": "Ql2JNURhccEX",
        "colab_type": "code",
        "outputId": "6d2fd094-9eeb-4b6f-a832-4fe9cebcd5dd",
        "colab": {
          "base_uri": "https://localhost:8080/",
          "height": 793
        }
      },
      "source": [
        "brand_att_table=pd.DataFrame(brand_att_Lift)\n",
        "brand_att_table.rename(columns={0:'brand_attribute_pairs',1:'lift'},inplace=True)\n",
        "brand_att_table.sort_values(by='lift',ascending=False)"
      ],
      "execution_count": 183,
      "outputs": [
        {
          "output_type": "execute_result",
          "data": {
            "text/html": [
              "<div>\n",
              "<style scoped>\n",
              "    .dataframe tbody tr th:only-of-type {\n",
              "        vertical-align: middle;\n",
              "    }\n",
              "\n",
              "    .dataframe tbody tr th {\n",
              "        vertical-align: top;\n",
              "    }\n",
              "\n",
              "    .dataframe thead th {\n",
              "        text-align: right;\n",
              "    }\n",
              "</style>\n",
              "<table border=\"1\" class=\"dataframe\">\n",
              "  <thead>\n",
              "    <tr style=\"text-align: right;\">\n",
              "      <th></th>\n",
              "      <th>brand_attribute_pairs</th>\n",
              "      <th>lift</th>\n",
              "    </tr>\n",
              "  </thead>\n",
              "  <tbody>\n",
              "    <tr>\n",
              "      <th>8</th>\n",
              "      <td>(audi, price)</td>\n",
              "      <td>2.200317</td>\n",
              "    </tr>\n",
              "    <tr>\n",
              "      <th>21</th>\n",
              "      <td>(toyota, luxury)</td>\n",
              "      <td>2.133445</td>\n",
              "    </tr>\n",
              "    <tr>\n",
              "      <th>23</th>\n",
              "      <td>(toyota, price)</td>\n",
              "      <td>2.054969</td>\n",
              "    </tr>\n",
              "    <tr>\n",
              "      <th>22</th>\n",
              "      <td>(toyota, engine)</td>\n",
              "      <td>1.803808</td>\n",
              "    </tr>\n",
              "    <tr>\n",
              "      <th>9</th>\n",
              "      <td>(audi, power)</td>\n",
              "      <td>1.795321</td>\n",
              "    </tr>\n",
              "    <tr>\n",
              "      <th>7</th>\n",
              "      <td>(audi, engine)</td>\n",
              "      <td>1.764419</td>\n",
              "    </tr>\n",
              "    <tr>\n",
              "      <th>20</th>\n",
              "      <td>(toyota, performance)</td>\n",
              "      <td>1.728114</td>\n",
              "    </tr>\n",
              "    <tr>\n",
              "      <th>18</th>\n",
              "      <td>(infiniti, price)</td>\n",
              "      <td>1.701973</td>\n",
              "    </tr>\n",
              "    <tr>\n",
              "      <th>24</th>\n",
              "      <td>(toyota, power)</td>\n",
              "      <td>1.651859</td>\n",
              "    </tr>\n",
              "    <tr>\n",
              "      <th>19</th>\n",
              "      <td>(infiniti, power)</td>\n",
              "      <td>1.636686</td>\n",
              "    </tr>\n",
              "    <tr>\n",
              "      <th>14</th>\n",
              "      <td>(bmw, power)</td>\n",
              "      <td>1.632637</td>\n",
              "    </tr>\n",
              "    <tr>\n",
              "      <th>5</th>\n",
              "      <td>(audi, performance)</td>\n",
              "      <td>1.616335</td>\n",
              "    </tr>\n",
              "    <tr>\n",
              "      <th>13</th>\n",
              "      <td>(bmw, price)</td>\n",
              "      <td>1.609959</td>\n",
              "    </tr>\n",
              "    <tr>\n",
              "      <th>3</th>\n",
              "      <td>(acura, price)</td>\n",
              "      <td>1.601294</td>\n",
              "    </tr>\n",
              "    <tr>\n",
              "      <th>12</th>\n",
              "      <td>(bmw, engine)</td>\n",
              "      <td>1.549606</td>\n",
              "    </tr>\n",
              "    <tr>\n",
              "      <th>1</th>\n",
              "      <td>(acura, luxury)</td>\n",
              "      <td>1.537551</td>\n",
              "    </tr>\n",
              "    <tr>\n",
              "      <th>10</th>\n",
              "      <td>(bmw, performance)</td>\n",
              "      <td>1.531168</td>\n",
              "    </tr>\n",
              "    <tr>\n",
              "      <th>4</th>\n",
              "      <td>(acura, power)</td>\n",
              "      <td>1.525336</td>\n",
              "    </tr>\n",
              "    <tr>\n",
              "      <th>6</th>\n",
              "      <td>(audi, luxury)</td>\n",
              "      <td>1.505446</td>\n",
              "    </tr>\n",
              "    <tr>\n",
              "      <th>15</th>\n",
              "      <td>(infiniti, performance)</td>\n",
              "      <td>1.480749</td>\n",
              "    </tr>\n",
              "    <tr>\n",
              "      <th>17</th>\n",
              "      <td>(infiniti, engine)</td>\n",
              "      <td>1.462286</td>\n",
              "    </tr>\n",
              "    <tr>\n",
              "      <th>11</th>\n",
              "      <td>(bmw, luxury)</td>\n",
              "      <td>1.400416</td>\n",
              "    </tr>\n",
              "    <tr>\n",
              "      <th>0</th>\n",
              "      <td>(acura, performance)</td>\n",
              "      <td>1.377077</td>\n",
              "    </tr>\n",
              "    <tr>\n",
              "      <th>16</th>\n",
              "      <td>(infiniti, luxury)</td>\n",
              "      <td>1.375292</td>\n",
              "    </tr>\n",
              "    <tr>\n",
              "      <th>2</th>\n",
              "      <td>(acura, engine)</td>\n",
              "      <td>1.297218</td>\n",
              "    </tr>\n",
              "  </tbody>\n",
              "</table>\n",
              "</div>"
            ],
            "text/plain": [
              "      brand_attribute_pairs      lift\n",
              "8             (audi, price)  2.200317\n",
              "21         (toyota, luxury)  2.133445\n",
              "23          (toyota, price)  2.054969\n",
              "22         (toyota, engine)  1.803808\n",
              "9             (audi, power)  1.795321\n",
              "7            (audi, engine)  1.764419\n",
              "20    (toyota, performance)  1.728114\n",
              "18        (infiniti, price)  1.701973\n",
              "24          (toyota, power)  1.651859\n",
              "19        (infiniti, power)  1.636686\n",
              "14             (bmw, power)  1.632637\n",
              "5       (audi, performance)  1.616335\n",
              "13             (bmw, price)  1.609959\n",
              "3            (acura, price)  1.601294\n",
              "12            (bmw, engine)  1.549606\n",
              "1           (acura, luxury)  1.537551\n",
              "10       (bmw, performance)  1.531168\n",
              "4            (acura, power)  1.525336\n",
              "6            (audi, luxury)  1.505446\n",
              "15  (infiniti, performance)  1.480749\n",
              "17       (infiniti, engine)  1.462286\n",
              "11            (bmw, luxury)  1.400416\n",
              "0      (acura, performance)  1.377077\n",
              "16       (infiniti, luxury)  1.375292\n",
              "2           (acura, engine)  1.297218"
            ]
          },
          "metadata": {
            "tags": []
          },
          "execution_count": 183
        }
      ]
    },
    {
      "cell_type": "markdown",
      "metadata": {
        "id": "SOpz0r-rfcJb",
        "colab_type": "text"
      },
      "source": [
        "From the above table, we can see that below are the strongest associations for each brand to an attribute:\n",
        "1. Audi & Price\n",
        "2. Toyota & Luxury\n",
        "3. Infiniti & Price\n",
        "4. BMW & Power\n",
        "5. Acura & Price\n",
        "\n",
        "Interestingly, we see that Toyota and luxury have a higher lift value or association than other luxury brands. It should also be noted that users typically associate Audi with price. (this could mean a positive or negative sentiment; users could be referring to the high price). Given BMW's tagline of 'The Ultimate Driving Machine', we can see reasoning for BMW having the highest association with power."
      ]
    },
    {
      "cell_type": "markdown",
      "metadata": {
        "id": "gt3xNi_4VMry",
        "colab_type": "text"
      },
      "source": [
        "From tha above analysis, below would be a few recommendations (assuming user sentiments are positive towards the attributes):\n",
        "1. Toyota is typically not known as a luxury brand. However, it can be seen that users associate Toyota in the luxury car segment, more than the others. For that reason, an advertising/marketing manager might want to consider channelling this to their brand communication.\n",
        "2. Given BMW's tagline of 'The Ultimate Driving Machine' and the high association between BMW and power, it looks like the users are resounding with the brand's value.\n",
        "3. Interestingly, brands like audi and bmw, which are perceived as luxury cars, do not seem to show the highest association with luxury. This might be something to consider in terms of how to advertise/market these attributes of the brand better.\n",
        "4. With audi, acura and infiniti, the primary association with an attribute seems to be price. Since customer's have a positive sentiment towards price with respect to these brands, including price parameters in their communication could add additional value."
      ]
    },
    {
      "cell_type": "code",
      "metadata": {
        "id": "2HjVe8UThAAi",
        "colab_type": "code",
        "colab": {}
      },
      "source": [
        "brands_attributes_table=pd.DataFrame(brand_att_table['brand_attribute_pairs'].values.tolist(), index=brand_att_table.index)\n",
        "brands_attributes_table['lift']=brand_att_table['lift']\n",
        "brands_attributes_table.rename(columns={0:'brandA',1:'attributeB'},inplace=True)"
      ],
      "execution_count": 0,
      "outputs": []
    },
    {
      "cell_type": "code",
      "metadata": {
        "id": "aBpU1JTTi6Nz",
        "colab_type": "code",
        "outputId": "323cdeae-b47f-4cf3-b8e4-eb20c794c753",
        "colab": {
          "base_uri": "https://localhost:8080/",
          "height": 793
        }
      },
      "source": [
        "brands_attributes_table"
      ],
      "execution_count": 185,
      "outputs": [
        {
          "output_type": "execute_result",
          "data": {
            "text/html": [
              "<div>\n",
              "<style scoped>\n",
              "    .dataframe tbody tr th:only-of-type {\n",
              "        vertical-align: middle;\n",
              "    }\n",
              "\n",
              "    .dataframe tbody tr th {\n",
              "        vertical-align: top;\n",
              "    }\n",
              "\n",
              "    .dataframe thead th {\n",
              "        text-align: right;\n",
              "    }\n",
              "</style>\n",
              "<table border=\"1\" class=\"dataframe\">\n",
              "  <thead>\n",
              "    <tr style=\"text-align: right;\">\n",
              "      <th></th>\n",
              "      <th>brandA</th>\n",
              "      <th>attributeB</th>\n",
              "      <th>lift</th>\n",
              "    </tr>\n",
              "  </thead>\n",
              "  <tbody>\n",
              "    <tr>\n",
              "      <th>0</th>\n",
              "      <td>acura</td>\n",
              "      <td>performance</td>\n",
              "      <td>1.377077</td>\n",
              "    </tr>\n",
              "    <tr>\n",
              "      <th>1</th>\n",
              "      <td>acura</td>\n",
              "      <td>luxury</td>\n",
              "      <td>1.537551</td>\n",
              "    </tr>\n",
              "    <tr>\n",
              "      <th>2</th>\n",
              "      <td>acura</td>\n",
              "      <td>engine</td>\n",
              "      <td>1.297218</td>\n",
              "    </tr>\n",
              "    <tr>\n",
              "      <th>3</th>\n",
              "      <td>acura</td>\n",
              "      <td>price</td>\n",
              "      <td>1.601294</td>\n",
              "    </tr>\n",
              "    <tr>\n",
              "      <th>4</th>\n",
              "      <td>acura</td>\n",
              "      <td>power</td>\n",
              "      <td>1.525336</td>\n",
              "    </tr>\n",
              "    <tr>\n",
              "      <th>5</th>\n",
              "      <td>audi</td>\n",
              "      <td>performance</td>\n",
              "      <td>1.616335</td>\n",
              "    </tr>\n",
              "    <tr>\n",
              "      <th>6</th>\n",
              "      <td>audi</td>\n",
              "      <td>luxury</td>\n",
              "      <td>1.505446</td>\n",
              "    </tr>\n",
              "    <tr>\n",
              "      <th>7</th>\n",
              "      <td>audi</td>\n",
              "      <td>engine</td>\n",
              "      <td>1.764419</td>\n",
              "    </tr>\n",
              "    <tr>\n",
              "      <th>8</th>\n",
              "      <td>audi</td>\n",
              "      <td>price</td>\n",
              "      <td>2.200317</td>\n",
              "    </tr>\n",
              "    <tr>\n",
              "      <th>9</th>\n",
              "      <td>audi</td>\n",
              "      <td>power</td>\n",
              "      <td>1.795321</td>\n",
              "    </tr>\n",
              "    <tr>\n",
              "      <th>10</th>\n",
              "      <td>bmw</td>\n",
              "      <td>performance</td>\n",
              "      <td>1.531168</td>\n",
              "    </tr>\n",
              "    <tr>\n",
              "      <th>11</th>\n",
              "      <td>bmw</td>\n",
              "      <td>luxury</td>\n",
              "      <td>1.400416</td>\n",
              "    </tr>\n",
              "    <tr>\n",
              "      <th>12</th>\n",
              "      <td>bmw</td>\n",
              "      <td>engine</td>\n",
              "      <td>1.549606</td>\n",
              "    </tr>\n",
              "    <tr>\n",
              "      <th>13</th>\n",
              "      <td>bmw</td>\n",
              "      <td>price</td>\n",
              "      <td>1.609959</td>\n",
              "    </tr>\n",
              "    <tr>\n",
              "      <th>14</th>\n",
              "      <td>bmw</td>\n",
              "      <td>power</td>\n",
              "      <td>1.632637</td>\n",
              "    </tr>\n",
              "    <tr>\n",
              "      <th>15</th>\n",
              "      <td>infiniti</td>\n",
              "      <td>performance</td>\n",
              "      <td>1.480749</td>\n",
              "    </tr>\n",
              "    <tr>\n",
              "      <th>16</th>\n",
              "      <td>infiniti</td>\n",
              "      <td>luxury</td>\n",
              "      <td>1.375292</td>\n",
              "    </tr>\n",
              "    <tr>\n",
              "      <th>17</th>\n",
              "      <td>infiniti</td>\n",
              "      <td>engine</td>\n",
              "      <td>1.462286</td>\n",
              "    </tr>\n",
              "    <tr>\n",
              "      <th>18</th>\n",
              "      <td>infiniti</td>\n",
              "      <td>price</td>\n",
              "      <td>1.701973</td>\n",
              "    </tr>\n",
              "    <tr>\n",
              "      <th>19</th>\n",
              "      <td>infiniti</td>\n",
              "      <td>power</td>\n",
              "      <td>1.636686</td>\n",
              "    </tr>\n",
              "    <tr>\n",
              "      <th>20</th>\n",
              "      <td>toyota</td>\n",
              "      <td>performance</td>\n",
              "      <td>1.728114</td>\n",
              "    </tr>\n",
              "    <tr>\n",
              "      <th>21</th>\n",
              "      <td>toyota</td>\n",
              "      <td>luxury</td>\n",
              "      <td>2.133445</td>\n",
              "    </tr>\n",
              "    <tr>\n",
              "      <th>22</th>\n",
              "      <td>toyota</td>\n",
              "      <td>engine</td>\n",
              "      <td>1.803808</td>\n",
              "    </tr>\n",
              "    <tr>\n",
              "      <th>23</th>\n",
              "      <td>toyota</td>\n",
              "      <td>price</td>\n",
              "      <td>2.054969</td>\n",
              "    </tr>\n",
              "    <tr>\n",
              "      <th>24</th>\n",
              "      <td>toyota</td>\n",
              "      <td>power</td>\n",
              "      <td>1.651859</td>\n",
              "    </tr>\n",
              "  </tbody>\n",
              "</table>\n",
              "</div>"
            ],
            "text/plain": [
              "      brandA   attributeB      lift\n",
              "0      acura  performance  1.377077\n",
              "1      acura       luxury  1.537551\n",
              "2      acura       engine  1.297218\n",
              "3      acura        price  1.601294\n",
              "4      acura        power  1.525336\n",
              "5       audi  performance  1.616335\n",
              "6       audi       luxury  1.505446\n",
              "7       audi       engine  1.764419\n",
              "8       audi        price  2.200317\n",
              "9       audi        power  1.795321\n",
              "10       bmw  performance  1.531168\n",
              "11       bmw       luxury  1.400416\n",
              "12       bmw       engine  1.549606\n",
              "13       bmw        price  1.609959\n",
              "14       bmw        power  1.632637\n",
              "15  infiniti  performance  1.480749\n",
              "16  infiniti       luxury  1.375292\n",
              "17  infiniti       engine  1.462286\n",
              "18  infiniti        price  1.701973\n",
              "19  infiniti        power  1.636686\n",
              "20    toyota  performance  1.728114\n",
              "21    toyota       luxury  2.133445\n",
              "22    toyota       engine  1.803808\n",
              "23    toyota        price  2.054969\n",
              "24    toyota        power  1.651859"
            ]
          },
          "metadata": {
            "tags": []
          },
          "execution_count": 185
        }
      ]
    },
    {
      "cell_type": "code",
      "metadata": {
        "id": "2OfxtK1cjCoA",
        "colab_type": "code",
        "outputId": "39ff4da9-64b0-4b49-9e63-c03697c5a465",
        "colab": {
          "base_uri": "https://localhost:8080/",
          "height": 196
        }
      },
      "source": [
        "brands_attributes_table[brands_attributes_table['attributeB']=='performance'].sort_values(by='lift',ascending=False)"
      ],
      "execution_count": 186,
      "outputs": [
        {
          "output_type": "execute_result",
          "data": {
            "text/html": [
              "<div>\n",
              "<style scoped>\n",
              "    .dataframe tbody tr th:only-of-type {\n",
              "        vertical-align: middle;\n",
              "    }\n",
              "\n",
              "    .dataframe tbody tr th {\n",
              "        vertical-align: top;\n",
              "    }\n",
              "\n",
              "    .dataframe thead th {\n",
              "        text-align: right;\n",
              "    }\n",
              "</style>\n",
              "<table border=\"1\" class=\"dataframe\">\n",
              "  <thead>\n",
              "    <tr style=\"text-align: right;\">\n",
              "      <th></th>\n",
              "      <th>brandA</th>\n",
              "      <th>attributeB</th>\n",
              "      <th>lift</th>\n",
              "    </tr>\n",
              "  </thead>\n",
              "  <tbody>\n",
              "    <tr>\n",
              "      <th>20</th>\n",
              "      <td>toyota</td>\n",
              "      <td>performance</td>\n",
              "      <td>1.728114</td>\n",
              "    </tr>\n",
              "    <tr>\n",
              "      <th>5</th>\n",
              "      <td>audi</td>\n",
              "      <td>performance</td>\n",
              "      <td>1.616335</td>\n",
              "    </tr>\n",
              "    <tr>\n",
              "      <th>10</th>\n",
              "      <td>bmw</td>\n",
              "      <td>performance</td>\n",
              "      <td>1.531168</td>\n",
              "    </tr>\n",
              "    <tr>\n",
              "      <th>15</th>\n",
              "      <td>infiniti</td>\n",
              "      <td>performance</td>\n",
              "      <td>1.480749</td>\n",
              "    </tr>\n",
              "    <tr>\n",
              "      <th>0</th>\n",
              "      <td>acura</td>\n",
              "      <td>performance</td>\n",
              "      <td>1.377077</td>\n",
              "    </tr>\n",
              "  </tbody>\n",
              "</table>\n",
              "</div>"
            ],
            "text/plain": [
              "      brandA   attributeB      lift\n",
              "20    toyota  performance  1.728114\n",
              "5       audi  performance  1.616335\n",
              "10       bmw  performance  1.531168\n",
              "15  infiniti  performance  1.480749\n",
              "0      acura  performance  1.377077"
            ]
          },
          "metadata": {
            "tags": []
          },
          "execution_count": 186
        }
      ]
    },
    {
      "cell_type": "code",
      "metadata": {
        "id": "5cTL6rTmjYBQ",
        "colab_type": "code",
        "outputId": "ec12605a-9d94-4e20-94ea-1be2e012e1ac",
        "colab": {
          "base_uri": "https://localhost:8080/",
          "height": 196
        }
      },
      "source": [
        "brands_attributes_table[brands_attributes_table['attributeB']=='luxury'].sort_values(by='lift',ascending=False)"
      ],
      "execution_count": 187,
      "outputs": [
        {
          "output_type": "execute_result",
          "data": {
            "text/html": [
              "<div>\n",
              "<style scoped>\n",
              "    .dataframe tbody tr th:only-of-type {\n",
              "        vertical-align: middle;\n",
              "    }\n",
              "\n",
              "    .dataframe tbody tr th {\n",
              "        vertical-align: top;\n",
              "    }\n",
              "\n",
              "    .dataframe thead th {\n",
              "        text-align: right;\n",
              "    }\n",
              "</style>\n",
              "<table border=\"1\" class=\"dataframe\">\n",
              "  <thead>\n",
              "    <tr style=\"text-align: right;\">\n",
              "      <th></th>\n",
              "      <th>brandA</th>\n",
              "      <th>attributeB</th>\n",
              "      <th>lift</th>\n",
              "    </tr>\n",
              "  </thead>\n",
              "  <tbody>\n",
              "    <tr>\n",
              "      <th>21</th>\n",
              "      <td>toyota</td>\n",
              "      <td>luxury</td>\n",
              "      <td>2.133445</td>\n",
              "    </tr>\n",
              "    <tr>\n",
              "      <th>1</th>\n",
              "      <td>acura</td>\n",
              "      <td>luxury</td>\n",
              "      <td>1.537551</td>\n",
              "    </tr>\n",
              "    <tr>\n",
              "      <th>6</th>\n",
              "      <td>audi</td>\n",
              "      <td>luxury</td>\n",
              "      <td>1.505446</td>\n",
              "    </tr>\n",
              "    <tr>\n",
              "      <th>11</th>\n",
              "      <td>bmw</td>\n",
              "      <td>luxury</td>\n",
              "      <td>1.400416</td>\n",
              "    </tr>\n",
              "    <tr>\n",
              "      <th>16</th>\n",
              "      <td>infiniti</td>\n",
              "      <td>luxury</td>\n",
              "      <td>1.375292</td>\n",
              "    </tr>\n",
              "  </tbody>\n",
              "</table>\n",
              "</div>"
            ],
            "text/plain": [
              "      brandA attributeB      lift\n",
              "21    toyota     luxury  2.133445\n",
              "1      acura     luxury  1.537551\n",
              "6       audi     luxury  1.505446\n",
              "11       bmw     luxury  1.400416\n",
              "16  infiniti     luxury  1.375292"
            ]
          },
          "metadata": {
            "tags": []
          },
          "execution_count": 187
        }
      ]
    },
    {
      "cell_type": "code",
      "metadata": {
        "id": "CYr1RvfOjnbE",
        "colab_type": "code",
        "outputId": "156c100f-11dd-4d2d-9e84-792f758a01cd",
        "colab": {
          "base_uri": "https://localhost:8080/",
          "height": 196
        }
      },
      "source": [
        "brands_attributes_table[brands_attributes_table['attributeB']=='price'].sort_values(by='lift',ascending=False)"
      ],
      "execution_count": 188,
      "outputs": [
        {
          "output_type": "execute_result",
          "data": {
            "text/html": [
              "<div>\n",
              "<style scoped>\n",
              "    .dataframe tbody tr th:only-of-type {\n",
              "        vertical-align: middle;\n",
              "    }\n",
              "\n",
              "    .dataframe tbody tr th {\n",
              "        vertical-align: top;\n",
              "    }\n",
              "\n",
              "    .dataframe thead th {\n",
              "        text-align: right;\n",
              "    }\n",
              "</style>\n",
              "<table border=\"1\" class=\"dataframe\">\n",
              "  <thead>\n",
              "    <tr style=\"text-align: right;\">\n",
              "      <th></th>\n",
              "      <th>brandA</th>\n",
              "      <th>attributeB</th>\n",
              "      <th>lift</th>\n",
              "    </tr>\n",
              "  </thead>\n",
              "  <tbody>\n",
              "    <tr>\n",
              "      <th>8</th>\n",
              "      <td>audi</td>\n",
              "      <td>price</td>\n",
              "      <td>2.200317</td>\n",
              "    </tr>\n",
              "    <tr>\n",
              "      <th>23</th>\n",
              "      <td>toyota</td>\n",
              "      <td>price</td>\n",
              "      <td>2.054969</td>\n",
              "    </tr>\n",
              "    <tr>\n",
              "      <th>18</th>\n",
              "      <td>infiniti</td>\n",
              "      <td>price</td>\n",
              "      <td>1.701973</td>\n",
              "    </tr>\n",
              "    <tr>\n",
              "      <th>13</th>\n",
              "      <td>bmw</td>\n",
              "      <td>price</td>\n",
              "      <td>1.609959</td>\n",
              "    </tr>\n",
              "    <tr>\n",
              "      <th>3</th>\n",
              "      <td>acura</td>\n",
              "      <td>price</td>\n",
              "      <td>1.601294</td>\n",
              "    </tr>\n",
              "  </tbody>\n",
              "</table>\n",
              "</div>"
            ],
            "text/plain": [
              "      brandA attributeB      lift\n",
              "8       audi      price  2.200317\n",
              "23    toyota      price  2.054969\n",
              "18  infiniti      price  1.701973\n",
              "13       bmw      price  1.609959\n",
              "3      acura      price  1.601294"
            ]
          },
          "metadata": {
            "tags": []
          },
          "execution_count": 188
        }
      ]
    },
    {
      "cell_type": "code",
      "metadata": {
        "id": "IcOgaD__jqtj",
        "colab_type": "code",
        "outputId": "a42959e0-a766-4b8d-baf7-6058073ad377",
        "colab": {
          "base_uri": "https://localhost:8080/",
          "height": 196
        }
      },
      "source": [
        "brands_attributes_table[brands_attributes_table['attributeB']=='engine'].sort_values(by='lift',ascending=False)"
      ],
      "execution_count": 189,
      "outputs": [
        {
          "output_type": "execute_result",
          "data": {
            "text/html": [
              "<div>\n",
              "<style scoped>\n",
              "    .dataframe tbody tr th:only-of-type {\n",
              "        vertical-align: middle;\n",
              "    }\n",
              "\n",
              "    .dataframe tbody tr th {\n",
              "        vertical-align: top;\n",
              "    }\n",
              "\n",
              "    .dataframe thead th {\n",
              "        text-align: right;\n",
              "    }\n",
              "</style>\n",
              "<table border=\"1\" class=\"dataframe\">\n",
              "  <thead>\n",
              "    <tr style=\"text-align: right;\">\n",
              "      <th></th>\n",
              "      <th>brandA</th>\n",
              "      <th>attributeB</th>\n",
              "      <th>lift</th>\n",
              "    </tr>\n",
              "  </thead>\n",
              "  <tbody>\n",
              "    <tr>\n",
              "      <th>22</th>\n",
              "      <td>toyota</td>\n",
              "      <td>engine</td>\n",
              "      <td>1.803808</td>\n",
              "    </tr>\n",
              "    <tr>\n",
              "      <th>7</th>\n",
              "      <td>audi</td>\n",
              "      <td>engine</td>\n",
              "      <td>1.764419</td>\n",
              "    </tr>\n",
              "    <tr>\n",
              "      <th>12</th>\n",
              "      <td>bmw</td>\n",
              "      <td>engine</td>\n",
              "      <td>1.549606</td>\n",
              "    </tr>\n",
              "    <tr>\n",
              "      <th>17</th>\n",
              "      <td>infiniti</td>\n",
              "      <td>engine</td>\n",
              "      <td>1.462286</td>\n",
              "    </tr>\n",
              "    <tr>\n",
              "      <th>2</th>\n",
              "      <td>acura</td>\n",
              "      <td>engine</td>\n",
              "      <td>1.297218</td>\n",
              "    </tr>\n",
              "  </tbody>\n",
              "</table>\n",
              "</div>"
            ],
            "text/plain": [
              "      brandA attributeB      lift\n",
              "22    toyota     engine  1.803808\n",
              "7       audi     engine  1.764419\n",
              "12       bmw     engine  1.549606\n",
              "17  infiniti     engine  1.462286\n",
              "2      acura     engine  1.297218"
            ]
          },
          "metadata": {
            "tags": []
          },
          "execution_count": 189
        }
      ]
    },
    {
      "cell_type": "code",
      "metadata": {
        "id": "L79tBfhOjtJD",
        "colab_type": "code",
        "outputId": "68c12cee-62f5-4f9e-db80-0d55937480f4",
        "colab": {
          "base_uri": "https://localhost:8080/",
          "height": 196
        }
      },
      "source": [
        "brands_attributes_table[brands_attributes_table['attributeB']=='power'].sort_values(by='lift',ascending=False)"
      ],
      "execution_count": 190,
      "outputs": [
        {
          "output_type": "execute_result",
          "data": {
            "text/html": [
              "<div>\n",
              "<style scoped>\n",
              "    .dataframe tbody tr th:only-of-type {\n",
              "        vertical-align: middle;\n",
              "    }\n",
              "\n",
              "    .dataframe tbody tr th {\n",
              "        vertical-align: top;\n",
              "    }\n",
              "\n",
              "    .dataframe thead th {\n",
              "        text-align: right;\n",
              "    }\n",
              "</style>\n",
              "<table border=\"1\" class=\"dataframe\">\n",
              "  <thead>\n",
              "    <tr style=\"text-align: right;\">\n",
              "      <th></th>\n",
              "      <th>brandA</th>\n",
              "      <th>attributeB</th>\n",
              "      <th>lift</th>\n",
              "    </tr>\n",
              "  </thead>\n",
              "  <tbody>\n",
              "    <tr>\n",
              "      <th>9</th>\n",
              "      <td>audi</td>\n",
              "      <td>power</td>\n",
              "      <td>1.795321</td>\n",
              "    </tr>\n",
              "    <tr>\n",
              "      <th>24</th>\n",
              "      <td>toyota</td>\n",
              "      <td>power</td>\n",
              "      <td>1.651859</td>\n",
              "    </tr>\n",
              "    <tr>\n",
              "      <th>19</th>\n",
              "      <td>infiniti</td>\n",
              "      <td>power</td>\n",
              "      <td>1.636686</td>\n",
              "    </tr>\n",
              "    <tr>\n",
              "      <th>14</th>\n",
              "      <td>bmw</td>\n",
              "      <td>power</td>\n",
              "      <td>1.632637</td>\n",
              "    </tr>\n",
              "    <tr>\n",
              "      <th>4</th>\n",
              "      <td>acura</td>\n",
              "      <td>power</td>\n",
              "      <td>1.525336</td>\n",
              "    </tr>\n",
              "  </tbody>\n",
              "</table>\n",
              "</div>"
            ],
            "text/plain": [
              "      brandA attributeB      lift\n",
              "9       audi      power  1.795321\n",
              "24    toyota      power  1.651859\n",
              "19  infiniti      power  1.636686\n",
              "14       bmw      power  1.632637\n",
              "4      acura      power  1.525336"
            ]
          },
          "metadata": {
            "tags": []
          },
          "execution_count": 190
        }
      ]
    },
    {
      "cell_type": "code",
      "metadata": {
        "id": "dWE6o7p7Z7-i",
        "colab_type": "code",
        "outputId": "aecf4074-cf5f-48e4-e49a-ac3aec0dce72",
        "colab": {
          "base_uri": "https://localhost:8080/",
          "height": 134
        }
      },
      "source": [
        "brands_attributes_table.groupby('brandA')['lift'].agg(sum)"
      ],
      "execution_count": 191,
      "outputs": [
        {
          "output_type": "execute_result",
          "data": {
            "text/plain": [
              "brandA\n",
              "acura       7.338475\n",
              "audi        8.881837\n",
              "bmw         7.723786\n",
              "infiniti    7.656985\n",
              "toyota      9.372195\n",
              "Name: lift, dtype: float64"
            ]
          },
          "metadata": {
            "tags": []
          },
          "execution_count": 191
        }
      ]
    },
    {
      "cell_type": "markdown",
      "metadata": {
        "id": "Llb4dv5uj70g",
        "colab_type": "text"
      },
      "source": [
        "An aspirational brand would be that which has the highest association with the attributes which are most frequently talked about. In this dataset, these attributes are performance, luxury, power, engine and price. The most aspirational brand would have the best combination of the top 5 attributes. \n",
        "\n",
        "We observe that Toyota has the highest combination of lift values across the top 5 attributes, thereby making it the most aspirational brand."
      ]
    },
    {
      "cell_type": "code",
      "metadata": {
        "id": "TjBB57aNAFQc",
        "colab_type": "code",
        "colab": {
          "base_uri": "https://localhost:8080/",
          "height": 313
        },
        "outputId": "4e0107c3-a929-4600-ee6f-e7186a747bbf"
      },
      "source": [
        "comments.head()"
      ],
      "execution_count": 192,
      "outputs": [
        {
          "output_type": "execute_result",
          "data": {
            "text/html": [
              "<div>\n",
              "<style scoped>\n",
              "    .dataframe tbody tr th:only-of-type {\n",
              "        vertical-align: middle;\n",
              "    }\n",
              "\n",
              "    .dataframe tbody tr th {\n",
              "        vertical-align: top;\n",
              "    }\n",
              "\n",
              "    .dataframe thead th {\n",
              "        text-align: right;\n",
              "    }\n",
              "</style>\n",
              "<table border=\"1\" class=\"dataframe\">\n",
              "  <thead>\n",
              "    <tr style=\"text-align: right;\">\n",
              "      <th></th>\n",
              "      <th>Unnamed: 0</th>\n",
              "      <th>Date</th>\n",
              "      <th>user_id</th>\n",
              "      <th>comments</th>\n",
              "      <th>filtered comments</th>\n",
              "      <th>word_list</th>\n",
              "      <th>brands</th>\n",
              "      <th>attribute</th>\n",
              "    </tr>\n",
              "  </thead>\n",
              "  <tbody>\n",
              "    <tr>\n",
              "      <th>0</th>\n",
              "      <td>0</td>\n",
              "      <td>March 25, 2002 5:54AM</td>\n",
              "      <td>merc1</td>\n",
              "      <td>I personally think that with a few tweaks the ...</td>\n",
              "      <td>personally think tweaks mercedes could also si...</td>\n",
              "      <td>[personally, think, tweaks, mercedes, could, a...</td>\n",
              "      <td>[audi, buick, cadillac, mercedes, acura, infin...</td>\n",
              "      <td>[luxury, power, price, speed, interior, transm...</td>\n",
              "    </tr>\n",
              "    <tr>\n",
              "      <th>1</th>\n",
              "      <td>1</td>\n",
              "      <td>March 25, 2002 7:06AM</td>\n",
              "      <td>fredvh</td>\n",
              "      <td>I am debating a new purchase and these two are...</td>\n",
              "      <td>debating new purchase two top list price diffe...</td>\n",
              "      <td>[debating, new, purchase, two, top, list, pric...</td>\n",
              "      <td>[lexus, acura, honda]</td>\n",
              "      <td>[quality, price]</td>\n",
              "    </tr>\n",
              "    <tr>\n",
              "      <th>2</th>\n",
              "      <td>2</td>\n",
              "      <td>March 25, 2002 5:02PM</td>\n",
              "      <td>blueguydotcom</td>\n",
              "      <td>Great handling, RWD, excellent engine and the ...</td>\n",
              "      <td>great handling rwd excellent engine best warra...</td>\n",
              "      <td>[great, handling, rwd, excellent, engine, best...</td>\n",
              "      <td>[]</td>\n",
              "      <td>[engine]</td>\n",
              "    </tr>\n",
              "    <tr>\n",
              "      <th>3</th>\n",
              "      <td>3</td>\n",
              "      <td>March 25, 2002 11:04PM</td>\n",
              "      <td>hungrywhale</td>\n",
              "      <td>And no manual tranny. That may not matter to y...</td>\n",
              "      <td>manual tranny may matter certainly matter many...</td>\n",
              "      <td>[manual, tranny, may, matter, certainly, many,...</td>\n",
              "      <td>[]</td>\n",
              "      <td>[]</td>\n",
              "    </tr>\n",
              "    <tr>\n",
              "      <th>4</th>\n",
              "      <td>4</td>\n",
              "      <td>March 26, 2002 12:44AM</td>\n",
              "      <td>riez</td>\n",
              "      <td>One beauty of BMW 3 Series is that there are s...</td>\n",
              "      <td>one beauty bmw 3 series many models choose alm...</td>\n",
              "      <td>[one, beauty, bmw, 3, series, many, models, ch...</td>\n",
              "      <td>[bmw]</td>\n",
              "      <td>[engine, transmission, performance]</td>\n",
              "    </tr>\n",
              "  </tbody>\n",
              "</table>\n",
              "</div>"
            ],
            "text/plain": [
              "   Unnamed: 0  ...                                          attribute\n",
              "0           0  ...  [luxury, power, price, speed, interior, transm...\n",
              "1           1  ...                                   [quality, price]\n",
              "2           2  ...                                           [engine]\n",
              "3           3  ...                                                 []\n",
              "4           4  ...                [engine, transmission, performance]\n",
              "\n",
              "[5 rows x 8 columns]"
            ]
          },
          "metadata": {
            "tags": []
          },
          "execution_count": 192
        }
      ]
    },
    {
      "cell_type": "code",
      "metadata": {
        "id": "B0jZFNFjAMXp",
        "colab_type": "code",
        "colab": {}
      },
      "source": [
        "comments.to_csv('updated_datafile.csv')"
      ],
      "execution_count": 0,
      "outputs": []
    },
    {
      "cell_type": "code",
      "metadata": {
        "id": "iCRyAlhFD567",
        "colab_type": "code",
        "colab": {}
      },
      "source": [
        ""
      ],
      "execution_count": 0,
      "outputs": []
    },
    {
      "cell_type": "code",
      "metadata": {
        "id": "bbN-yi9nEauP",
        "colab_type": "code",
        "colab": {}
      },
      "source": [
        ""
      ],
      "execution_count": 0,
      "outputs": []
    }
  ]
}